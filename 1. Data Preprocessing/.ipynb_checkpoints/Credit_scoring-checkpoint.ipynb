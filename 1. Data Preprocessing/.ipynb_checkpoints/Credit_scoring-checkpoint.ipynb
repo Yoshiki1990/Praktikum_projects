{
 "cells": [
  {
   "cell_type": "markdown",
   "metadata": {},
   "source": [
    "## Исследование надёжности заёмщиков\n",
    "\n",
    "Заказчик — кредитный отдел банка. Нужно разобраться, влияет ли семейное положение и количество детей клиента на факт погашения кредита в срок. Входные данные от банка — статистика о платёжеспособности клиентов.\n",
    "\n",
    "Результаты исследования будут учтены при построении модели **кредитного скоринга** — специальной системы, которая оценивает способность потенциального заёмщика вернуть кредит банку."
   ]
  },
  {
   "cell_type": "markdown",
   "metadata": {},
   "source": [
    "<nav class=\"toc\">\n",
    "  <h1>Содержание:</h1>\n",
    "  <ul>\n",
    "    <li><a href=\"#step1\">Шаг 1.  Откройте файл с данными и изучите общую информацию</a>\n",
    "  </ul>\n",
    "    <ul>\n",
    "    <li><a href=\"#step2\">Шаг 2.  Предобработка данных</a>\n",
    "        <ul>\n",
    "        <li><a href=\"#step2_1\">Обработка пропусков</a>\n",
    "        <li><a href=\"#step2_2\">Замена типа данных</a>\n",
    "        <li><a href=\"#step2_3\">Обработка дубликатов</a>\n",
    "        <li><a href=\"#step2_4\">Лемматизация</a>\n",
    "        <li><a href=\"#step2_5\">Категоризация данных</a>    \n",
    "        </ul>    \n",
    "  </ul>\n",
    "  <ul>\n",
    "  <li><a href=\"#step3\">Шаг 3. Ответьте на вопросы</a>\n",
    "  </ul>\n",
    "  <ul>    \n",
    "  <li><a href=\"#step4\">Шаг 4. Вывод</a>\n",
    "  </ul>\n",
    "</nav>"
   ]
  },
  {
   "cell_type": "markdown",
   "metadata": {},
   "source": [
    "### Шаг 1.  Откройте файл с данными и изучите общую информацию <a id='step1'></a>"
   ]
  },
  {
   "cell_type": "code",
   "execution_count": 1,
   "metadata": {
    "scrolled": false
   },
   "outputs": [
    {
     "name": "stdout",
     "output_type": "stream",
     "text": [
      "<class 'pandas.core.frame.DataFrame'>\n",
      "RangeIndex: 21525 entries, 0 to 21524\n",
      "Data columns (total 12 columns):\n",
      "children            21525 non-null int64\n",
      "days_employed       19351 non-null float64\n",
      "dob_years           21525 non-null int64\n",
      "education           21525 non-null object\n",
      "education_id        21525 non-null int64\n",
      "family_status       21525 non-null object\n",
      "family_status_id    21525 non-null int64\n",
      "gender              21525 non-null object\n",
      "income_type         21525 non-null object\n",
      "debt                21525 non-null int64\n",
      "total_income        19351 non-null float64\n",
      "purpose             21525 non-null object\n",
      "dtypes: float64(2), int64(5), object(5)\n",
      "memory usage: 2.0+ MB\n"
     ]
    }
   ],
   "source": [
    "import pandas as pd\n",
    "data = pd.read_csv('/datasets/data.csv')\n",
    "#посмотрим общие данные о датафрейме\n",
    "data.info()"
   ]
  },
  {
   "cell_type": "code",
   "execution_count": 2,
   "metadata": {},
   "outputs": [
    {
     "data": {
      "text/html": [
       "<div>\n",
       "<style scoped>\n",
       "    .dataframe tbody tr th:only-of-type {\n",
       "        vertical-align: middle;\n",
       "    }\n",
       "\n",
       "    .dataframe tbody tr th {\n",
       "        vertical-align: top;\n",
       "    }\n",
       "\n",
       "    .dataframe thead th {\n",
       "        text-align: right;\n",
       "    }\n",
       "</style>\n",
       "<table border=\"1\" class=\"dataframe\">\n",
       "  <thead>\n",
       "    <tr style=\"text-align: right;\">\n",
       "      <th></th>\n",
       "      <th>children</th>\n",
       "      <th>days_employed</th>\n",
       "      <th>dob_years</th>\n",
       "      <th>education</th>\n",
       "      <th>education_id</th>\n",
       "      <th>family_status</th>\n",
       "      <th>family_status_id</th>\n",
       "      <th>gender</th>\n",
       "      <th>income_type</th>\n",
       "      <th>debt</th>\n",
       "      <th>total_income</th>\n",
       "      <th>purpose</th>\n",
       "    </tr>\n",
       "  </thead>\n",
       "  <tbody>\n",
       "    <tr>\n",
       "      <td>0</td>\n",
       "      <td>1</td>\n",
       "      <td>-8437.673028</td>\n",
       "      <td>42</td>\n",
       "      <td>высшее</td>\n",
       "      <td>0</td>\n",
       "      <td>женат / замужем</td>\n",
       "      <td>0</td>\n",
       "      <td>F</td>\n",
       "      <td>сотрудник</td>\n",
       "      <td>0</td>\n",
       "      <td>253875.639453</td>\n",
       "      <td>покупка жилья</td>\n",
       "    </tr>\n",
       "    <tr>\n",
       "      <td>1</td>\n",
       "      <td>1</td>\n",
       "      <td>-4024.803754</td>\n",
       "      <td>36</td>\n",
       "      <td>среднее</td>\n",
       "      <td>1</td>\n",
       "      <td>женат / замужем</td>\n",
       "      <td>0</td>\n",
       "      <td>F</td>\n",
       "      <td>сотрудник</td>\n",
       "      <td>0</td>\n",
       "      <td>112080.014102</td>\n",
       "      <td>приобретение автомобиля</td>\n",
       "    </tr>\n",
       "    <tr>\n",
       "      <td>2</td>\n",
       "      <td>0</td>\n",
       "      <td>-5623.422610</td>\n",
       "      <td>33</td>\n",
       "      <td>Среднее</td>\n",
       "      <td>1</td>\n",
       "      <td>женат / замужем</td>\n",
       "      <td>0</td>\n",
       "      <td>M</td>\n",
       "      <td>сотрудник</td>\n",
       "      <td>0</td>\n",
       "      <td>145885.952297</td>\n",
       "      <td>покупка жилья</td>\n",
       "    </tr>\n",
       "    <tr>\n",
       "      <td>3</td>\n",
       "      <td>3</td>\n",
       "      <td>-4124.747207</td>\n",
       "      <td>32</td>\n",
       "      <td>среднее</td>\n",
       "      <td>1</td>\n",
       "      <td>женат / замужем</td>\n",
       "      <td>0</td>\n",
       "      <td>M</td>\n",
       "      <td>сотрудник</td>\n",
       "      <td>0</td>\n",
       "      <td>267628.550329</td>\n",
       "      <td>дополнительное образование</td>\n",
       "    </tr>\n",
       "    <tr>\n",
       "      <td>4</td>\n",
       "      <td>0</td>\n",
       "      <td>340266.072047</td>\n",
       "      <td>53</td>\n",
       "      <td>среднее</td>\n",
       "      <td>1</td>\n",
       "      <td>гражданский брак</td>\n",
       "      <td>1</td>\n",
       "      <td>F</td>\n",
       "      <td>пенсионер</td>\n",
       "      <td>0</td>\n",
       "      <td>158616.077870</td>\n",
       "      <td>сыграть свадьбу</td>\n",
       "    </tr>\n",
       "  </tbody>\n",
       "</table>\n",
       "</div>"
      ],
      "text/plain": [
       "   children  days_employed  dob_years education  education_id  \\\n",
       "0         1   -8437.673028         42    высшее             0   \n",
       "1         1   -4024.803754         36   среднее             1   \n",
       "2         0   -5623.422610         33   Среднее             1   \n",
       "3         3   -4124.747207         32   среднее             1   \n",
       "4         0  340266.072047         53   среднее             1   \n",
       "\n",
       "      family_status  family_status_id gender income_type  debt   total_income  \\\n",
       "0   женат / замужем                 0      F   сотрудник     0  253875.639453   \n",
       "1   женат / замужем                 0      F   сотрудник     0  112080.014102   \n",
       "2   женат / замужем                 0      M   сотрудник     0  145885.952297   \n",
       "3   женат / замужем                 0      M   сотрудник     0  267628.550329   \n",
       "4  гражданский брак                 1      F   пенсионер     0  158616.077870   \n",
       "\n",
       "                      purpose  \n",
       "0               покупка жилья  \n",
       "1     приобретение автомобиля  \n",
       "2               покупка жилья  \n",
       "3  дополнительное образование  \n",
       "4             сыграть свадьбу  "
      ]
     },
     "execution_count": 2,
     "metadata": {},
     "output_type": "execute_result"
    }
   ],
   "source": [
    "#выведем первые 5 строк табоицы на экран\n",
    "data.head()"
   ]
  },
  {
   "cell_type": "markdown",
   "metadata": {},
   "source": [
    "В столбцах датафрейма заключены следующие признаки:\n",
    "- children — количество детей в семье\n",
    "- days_employed — общий трудовой стаж в днях\n",
    "- dob_years — возраст клиента в годах\n",
    "- education — уровень образования клиента\n",
    "- education_id — идентификатор уровня образования\n",
    "- family_status — семейное положение\n",
    "- family_status_id — идентификатор семейного положения\n",
    "- gender — пол клиента\n",
    "- income_type — тип занятости\n",
    "- debt — имел ли задолженность по возврату кредитов\n",
    "- total_income — ежемесячный доход\n",
    "- purpose — цель получения кредита"
   ]
  },
  {
   "cell_type": "markdown",
   "metadata": {},
   "source": [
    "### Вывод"
   ]
  },
  {
   "cell_type": "markdown",
   "metadata": {},
   "source": [
    "<i> В загруженной таблице 21525 записей о заемщиках. В столбцах струдовым стажем и доходами есть пропущенные значения, а в столбце с трудовым стажем еще и артефакты (отрицательное количество дней и неадекватно высокие значения). В таблице 12 столбцов, 5 содержащих строковый тип данных, 5 - целочисленный данные и 2 - вещественные числа. В дальнейшем есть смыл перевести эти 2 столбца в целое число, так как высокой точности вычислений в данном проекте не требуется.  </i>"
   ]
  },
  {
   "cell_type": "markdown",
   "metadata": {},
   "source": [
    "### Шаг 2. Предобработка данных <a id='step2'></a>"
   ]
  },
  {
   "cell_type": "code",
   "execution_count": 3,
   "metadata": {},
   "outputs": [
    {
     "data": {
      "text/plain": [
       "Index(['children', 'days_employed', 'dob_years', 'education', 'education_id',\n",
       "       'family_status', 'family_status_id', 'gender', 'income_type', 'debt',\n",
       "       'total_income', 'purpose'],\n",
       "      dtype='object')"
      ]
     },
     "execution_count": 3,
     "metadata": {},
     "output_type": "execute_result"
    }
   ],
   "source": [
    "#выведем список названий всех столбцов\n",
    "data.columns "
   ]
  },
  {
   "cell_type": "code",
   "execution_count": 4,
   "metadata": {},
   "outputs": [
    {
     "data": {
      "text/plain": [
       "Index(['children', 'days_employed', 'age', 'education', 'education_id',\n",
       "       'family_status', 'family_status_id', 'gender', 'income_type', 'debt',\n",
       "       'total_income', 'purpose'],\n",
       "      dtype='object')"
      ]
     },
     "execution_count": 4,
     "metadata": {},
     "output_type": "execute_result"
    }
   ],
   "source": [
    "#для наглядности заменим название столбца с возрастом заемщика\n",
    "data.set_axis(['children', 'days_employed', 'age', 'education', 'education_id',\n",
    "       'family_status', 'family_status_id', 'gender', 'income_type', 'debt',\n",
    "       'total_income', 'purpose'], axis = 'columns', inplace = True)\n",
    "data.columns"
   ]
  },
  {
   "cell_type": "markdown",
   "metadata": {},
   "source": [
    "### Обработка пропусков <a id='step2_1'></a>"
   ]
  },
  {
   "cell_type": "markdown",
   "metadata": {},
   "source": [
    "Для начала проверим количество пропусков в таблице по признакам:"
   ]
  },
  {
   "cell_type": "code",
   "execution_count": 5,
   "metadata": {},
   "outputs": [
    {
     "data": {
      "text/html": [
       "<div>\n",
       "<style scoped>\n",
       "    .dataframe tbody tr th:only-of-type {\n",
       "        vertical-align: middle;\n",
       "    }\n",
       "\n",
       "    .dataframe tbody tr th {\n",
       "        vertical-align: top;\n",
       "    }\n",
       "\n",
       "    .dataframe thead th {\n",
       "        text-align: right;\n",
       "    }\n",
       "</style>\n",
       "<table border=\"1\" class=\"dataframe\">\n",
       "  <thead>\n",
       "    <tr style=\"text-align: right;\">\n",
       "      <th></th>\n",
       "      <th>Total missing values</th>\n",
       "      <th>Percent %</th>\n",
       "      <th>dtype</th>\n",
       "    </tr>\n",
       "  </thead>\n",
       "  <tbody>\n",
       "    <tr>\n",
       "      <td>total_income</td>\n",
       "      <td>2174</td>\n",
       "      <td>10.099884</td>\n",
       "      <td>float64</td>\n",
       "    </tr>\n",
       "    <tr>\n",
       "      <td>days_employed</td>\n",
       "      <td>2174</td>\n",
       "      <td>10.099884</td>\n",
       "      <td>float64</td>\n",
       "    </tr>\n",
       "    <tr>\n",
       "      <td>purpose</td>\n",
       "      <td>0</td>\n",
       "      <td>0.000000</td>\n",
       "      <td>object</td>\n",
       "    </tr>\n",
       "    <tr>\n",
       "      <td>debt</td>\n",
       "      <td>0</td>\n",
       "      <td>0.000000</td>\n",
       "      <td>int64</td>\n",
       "    </tr>\n",
       "    <tr>\n",
       "      <td>income_type</td>\n",
       "      <td>0</td>\n",
       "      <td>0.000000</td>\n",
       "      <td>object</td>\n",
       "    </tr>\n",
       "    <tr>\n",
       "      <td>gender</td>\n",
       "      <td>0</td>\n",
       "      <td>0.000000</td>\n",
       "      <td>object</td>\n",
       "    </tr>\n",
       "    <tr>\n",
       "      <td>family_status_id</td>\n",
       "      <td>0</td>\n",
       "      <td>0.000000</td>\n",
       "      <td>int64</td>\n",
       "    </tr>\n",
       "    <tr>\n",
       "      <td>family_status</td>\n",
       "      <td>0</td>\n",
       "      <td>0.000000</td>\n",
       "      <td>object</td>\n",
       "    </tr>\n",
       "    <tr>\n",
       "      <td>education_id</td>\n",
       "      <td>0</td>\n",
       "      <td>0.000000</td>\n",
       "      <td>int64</td>\n",
       "    </tr>\n",
       "    <tr>\n",
       "      <td>education</td>\n",
       "      <td>0</td>\n",
       "      <td>0.000000</td>\n",
       "      <td>object</td>\n",
       "    </tr>\n",
       "    <tr>\n",
       "      <td>age</td>\n",
       "      <td>0</td>\n",
       "      <td>0.000000</td>\n",
       "      <td>int64</td>\n",
       "    </tr>\n",
       "    <tr>\n",
       "      <td>children</td>\n",
       "      <td>0</td>\n",
       "      <td>0.000000</td>\n",
       "      <td>int64</td>\n",
       "    </tr>\n",
       "  </tbody>\n",
       "</table>\n",
       "</div>"
      ],
      "text/plain": [
       "                  Total missing values  Percent %    dtype\n",
       "total_income                      2174  10.099884  float64\n",
       "days_employed                     2174  10.099884  float64\n",
       "purpose                              0   0.000000   object\n",
       "debt                                 0   0.000000    int64\n",
       "income_type                          0   0.000000   object\n",
       "gender                               0   0.000000   object\n",
       "family_status_id                     0   0.000000    int64\n",
       "family_status                        0   0.000000   object\n",
       "education_id                         0   0.000000    int64\n",
       "education                            0   0.000000   object\n",
       "age                                  0   0.000000    int64\n",
       "children                             0   0.000000    int64"
      ]
     },
     "execution_count": 5,
     "metadata": {},
     "output_type": "execute_result"
    }
   ],
   "source": [
    "#переменная, содержащая в себе количество пропусков по каждому признаку, значения отсортированы по убыванию\n",
    "total = data.isnull().sum().sort_values(ascending = False)\n",
    "#процент пропусков от общего количества записей в признаке\n",
    "percent = ((data.isnull().sum() / data.isnull().count()).sort_values(ascending=False)) * 100\n",
    "#объединяем в одну табличку и дадим название столбцам\n",
    "missing_data = pd.concat([total, percent], axis = 1, keys = ['Total missing values', 'Percent %'])\n",
    "#добавим столбец с типом данных каждого признака\n",
    "missing_data['dtype'] = data.dtypes\n",
    "missing_data"
   ]
  },
  {
   "cell_type": "markdown",
   "metadata": {},
   "source": [
    "Пропуски обнаружены в двух столбцах: 'total_income' и 'days_employed'. Процент пропусков достаточно высок. Судя по одинакому количеству пропусков в двух столбцах, пропуски допущены в одинаковых строках, возможно это произошло при обработке заявлений банком или при их подаче заемщиками."
   ]
  },
  {
   "cell_type": "code",
   "execution_count": 6,
   "metadata": {},
   "outputs": [
    {
     "data": {
      "text/plain": [
       "16335   -18388.949901\n",
       "4299    -17615.563266\n",
       "7329    -16593.472817\n",
       "17838   -16264.699501\n",
       "16825   -16119.687737\n",
       "3974    -15835.725775\n",
       "1539    -15785.678893\n",
       "4321    -15773.061335\n",
       "7731    -15618.063786\n",
       "15675   -15410.040779\n",
       "Name: days_employed, dtype: float64"
      ]
     },
     "execution_count": 6,
     "metadata": {},
     "output_type": "execute_result"
    }
   ],
   "source": [
    "#выведем значения дней трудового стажа, отсортированные по возрастанию\n",
    "#данный столбец, судя по условиям задания, нам не пригодится, но я решил привести его в порядок, возможно он будет востребован\n",
    "#для дальнейших исследований\n",
    "data['days_employed'].sort_values().head(10)"
   ]
  },
  {
   "cell_type": "markdown",
   "metadata": {},
   "source": [
    "Наблюдаем множество отрицательных значений, от этих артефактов нужно избавиться."
   ]
  },
  {
   "cell_type": "code",
   "execution_count": 7,
   "metadata": {},
   "outputs": [
    {
     "data": {
      "text/plain": [
       "6954     401755.400475\n",
       "10006    401715.811749\n",
       "7664     401675.093434\n",
       "2156     401674.466633\n",
       "7794     401663.850046\n",
       "4697     401635.032697\n",
       "13420    401619.633298\n",
       "17823    401614.475622\n",
       "10991    401591.828457\n",
       "8369     401590.452231\n",
       "Name: days_employed, dtype: float64"
      ]
     },
     "execution_count": 7,
     "metadata": {},
     "output_type": "execute_result"
    }
   ],
   "source": [
    "data['days_employed'].sort_values(ascending=False).head(10)"
   ]
  },
  {
   "cell_type": "markdown",
   "metadata": {},
   "source": [
    "Аналогично и с положительными, плюс чрезвыйчайно высокие значения, скорее всего связанные с ранее проводившимся подсчетом стажа в часах. Можно было вывести информацию через describe(), но я решил посмотреть, много ли неестественно высоких значений стажа, и понять закономерность их появления."
   ]
  },
  {
   "cell_type": "code",
   "execution_count": 8,
   "metadata": {
    "scrolled": true
   },
   "outputs": [],
   "source": [
    "#переведем все значения в столбце 'days_employed' в положительные\n",
    "data['days_employed'] = data['days_employed'].abs() \n",
    "\n",
    "#для людей в возрасте больше 55-60 лет в трудовом стаже записаны очень высокие значения, возможно, раньше трудовой стаж\n",
    "#расчитывали в часах\n",
    "def days_recovered(row):\n",
    "    \"\"\"\n",
    "    функция переводит значения стажа в часах в дни\n",
    "    \"\"\"\n",
    "    if row['days_employed'] / 365 > row['age']:\n",
    "        return row['days_employed'] / 24\n",
    "    return row['days_employed'] \n",
    "\n",
    "#применим функцию к столбцу с трудовым стажем\n",
    "data['days_employed'] = data.apply(days_recovered, axis = 1)\n",
    "days_mean = data['days_employed'].mean()\n",
    "#заполняем пропуски средним значением\n",
    "data['days_employed'] = data['days_employed'].fillna(value = days_mean)\n"
   ]
  },
  {
   "cell_type": "code",
   "execution_count": 9,
   "metadata": {},
   "outputs": [
    {
     "data": {
      "text/plain": [
       "count    21525.000000\n",
       "mean        43.293380\n",
       "std         12.574584\n",
       "min          0.000000\n",
       "25%         33.000000\n",
       "50%         42.000000\n",
       "75%         53.000000\n",
       "max         75.000000\n",
       "Name: age, dtype: float64"
      ]
     },
     "execution_count": 9,
     "metadata": {},
     "output_type": "execute_result"
    }
   ],
   "source": [
    "#просмотрим статистику столбца 'age'\n",
    "data['age'].describe()"
   ]
  },
  {
   "cell_type": "markdown",
   "metadata": {},
   "source": [
    "В столбце с возрастом заемщиков есть нулевые значения. Возможно они возникли при внесении данных операторами банка. Найдем количество этих значений."
   ]
  },
  {
   "cell_type": "code",
   "execution_count": 10,
   "metadata": {},
   "outputs": [
    {
     "data": {
      "text/plain": [
       "children            101\n",
       "days_employed       101\n",
       "age                 101\n",
       "education           101\n",
       "education_id        101\n",
       "family_status       101\n",
       "family_status_id    101\n",
       "gender              101\n",
       "income_type         101\n",
       "debt                101\n",
       "total_income         91\n",
       "purpose             101\n",
       "dtype: int64"
      ]
     },
     "execution_count": 10,
     "metadata": {},
     "output_type": "execute_result"
    }
   ],
   "source": [
    "data[data['age'] == 0].count()"
   ]
  },
  {
   "cell_type": "markdown",
   "metadata": {},
   "source": [
    "Заменить нулевые значения в данном случае можно как на медиану, так и на среднее значение, они близки, и при дальнейшей категоризации столбца на группы это нивелируется."
   ]
  },
  {
   "cell_type": "code",
   "execution_count": 11,
   "metadata": {},
   "outputs": [],
   "source": [
    "#заменим нулевые значения столбца 'age' на среднее значение\n",
    "data.loc[data['age'] == 0, 'age'] = int(data['age'].mean())"
   ]
  },
  {
   "cell_type": "code",
   "execution_count": 12,
   "metadata": {},
   "outputs": [
    {
     "data": {
      "text/plain": [
       "count    21525.000000\n",
       "mean        43.495145\n",
       "std         12.218213\n",
       "min         19.000000\n",
       "25%         34.000000\n",
       "50%         43.000000\n",
       "75%         53.000000\n",
       "max         75.000000\n",
       "Name: age, dtype: float64"
      ]
     },
     "execution_count": 12,
     "metadata": {},
     "output_type": "execute_result"
    }
   ],
   "source": [
    "#проверим результат\n",
    "data['age'].describe()"
   ]
  },
  {
   "cell_type": "markdown",
   "metadata": {},
   "source": [
    "Проверим зависимость изменения дохода заемщика от его возраста.\n",
    "Разобьем заемщиков на группы по возрастному признаку:\n",
    "- от 18 до 30 - молодежь\n",
    "- от 30 до 55 - зрелые\n",
    "- старше 55 - пожилые"
   ]
  },
  {
   "cell_type": "code",
   "execution_count": 13,
   "metadata": {},
   "outputs": [
    {
     "data": {
      "text/plain": [
       "зрелые      12990\n",
       "пожилые      4812\n",
       "молодежь     3723\n",
       "Name: age_rate, dtype: int64"
      ]
     },
     "execution_count": 13,
     "metadata": {},
     "output_type": "execute_result"
    }
   ],
   "source": [
    "def age_rating(row):\n",
    "    \n",
    "    \"\"\"\n",
    "    функция, разбивающая заемщиков на категории по возрасту \n",
    "    \n",
    "    \"\"\"\n",
    "    if row <= 30:\n",
    "        return 'молодежь'\n",
    "    if row >= 55:\n",
    "        return 'пожилые'\n",
    "    return 'зрелые'\n",
    "\n",
    "#применяем функцию income_rating к столбцу 'age'\n",
    "data['age_rate'] = data['age'].apply(age_rating) \n",
    "#проверяем результат действия функции\n",
    "data['age_rate'].value_counts() "
   ]
  },
  {
   "cell_type": "code",
   "execution_count": 14,
   "metadata": {},
   "outputs": [
    {
     "data": {
      "text/html": [
       "<div>\n",
       "<style scoped>\n",
       "    .dataframe tbody tr th:only-of-type {\n",
       "        vertical-align: middle;\n",
       "    }\n",
       "\n",
       "    .dataframe tbody tr th {\n",
       "        vertical-align: top;\n",
       "    }\n",
       "\n",
       "    .dataframe thead th {\n",
       "        text-align: right;\n",
       "    }\n",
       "</style>\n",
       "<table border=\"1\" class=\"dataframe\">\n",
       "  <thead>\n",
       "    <tr style=\"text-align: right;\">\n",
       "      <th></th>\n",
       "      <th>Медиана</th>\n",
       "      <th>Среднее</th>\n",
       "      <th>Кол-во пропусков</th>\n",
       "      <th>Заемщиков в группе</th>\n",
       "      <th>Процент, %</th>\n",
       "    </tr>\n",
       "    <tr>\n",
       "      <th>age_rate</th>\n",
       "      <th></th>\n",
       "      <th></th>\n",
       "      <th></th>\n",
       "      <th></th>\n",
       "      <th></th>\n",
       "    </tr>\n",
       "  </thead>\n",
       "  <tbody>\n",
       "    <tr>\n",
       "      <td>зрелые</td>\n",
       "      <td>151966</td>\n",
       "      <td>175537</td>\n",
       "      <td>1307</td>\n",
       "      <td>12990</td>\n",
       "      <td>10.1</td>\n",
       "    </tr>\n",
       "    <tr>\n",
       "      <td>молодежь</td>\n",
       "      <td>143482</td>\n",
       "      <td>161360</td>\n",
       "      <td>357</td>\n",
       "      <td>3723</td>\n",
       "      <td>9.6</td>\n",
       "    </tr>\n",
       "    <tr>\n",
       "      <td>пожилые</td>\n",
       "      <td>129818</td>\n",
       "      <td>150125</td>\n",
       "      <td>510</td>\n",
       "      <td>4812</td>\n",
       "      <td>10.6</td>\n",
       "    </tr>\n",
       "  </tbody>\n",
       "</table>\n",
       "</div>"
      ],
      "text/plain": [
       "          Медиана  Среднее  Кол-во пропусков  Заемщиков в группе  Процент, %\n",
       "age_rate                                                                    \n",
       "зрелые     151966   175537              1307               12990        10.1\n",
       "молодежь   143482   161360               357                3723         9.6\n",
       "пожилые    129818   150125               510                4812        10.6"
      ]
     },
     "execution_count": 14,
     "metadata": {},
     "output_type": "execute_result"
    }
   ],
   "source": [
    "#выведем свобную таблицу \n",
    "age_med = data.groupby('age_rate').agg({'total_income': 'median'}).astype('int')\n",
    "age_mean = data.groupby('age_rate').agg({'total_income': 'mean'}).astype('int')\n",
    "age_miss = data.groupby('age_rate')['total_income'].apply(lambda x: x.isnull().sum())\n",
    "age_count = data.groupby('age_rate').agg({'age': 'count'}).astype('int') \n",
    "age_grouped = pd.concat([age_med, age_mean, age_miss, age_count], axis = 1)\n",
    "\n",
    "#переименум столбцы (хотел переименовать путем .rename, но столбец с пропусками почему-то не переименовывает,\n",
    "#присваивает '0' вместо нового имени)\n",
    "age_grouped.set_axis(['Медиана', 'Среднее', 'Кол-во пропусков', 'Заемщиков в группе'], axis = 'columns', inplace = True)\n",
    "#добавим столбец с процентным количеством пропусков\n",
    "age_grouped['Процент, %'] = ((age_grouped['Кол-во пропусков'] / age_grouped['Заемщиков в группе']) * 100).round(1)\n",
    "age_grouped"
   ]
  },
  {
   "cell_type": "markdown",
   "metadata": {},
   "source": [
    "Как видно из таблицы, значение среднего дохода по медиане практически не зависит от возрастной группы заемщика. Среднее значение по группам отличается, но, скорее всего - это показатель неравномерности доходов внутри группы, есть заемщики, доход которых превышает доходы основной части группы. \n",
    "Проведем аналогичную проверку исходя из образования заемщика."
   ]
  },
  {
   "cell_type": "code",
   "execution_count": 15,
   "metadata": {},
   "outputs": [
    {
     "data": {
      "text/plain": [
       "среднее                13750\n",
       "высшее                  4718\n",
       "СРЕДНЕЕ                  772\n",
       "Среднее                  711\n",
       "неоконченное высшее      668\n",
       "ВЫСШЕЕ                   274\n",
       "Высшее                   268\n",
       "начальное                250\n",
       "Неоконченное высшее       47\n",
       "НЕОКОНЧЕННОЕ ВЫСШЕЕ       29\n",
       "НАЧАЛЬНОЕ                 17\n",
       "Начальное                 15\n",
       "ученая степень             4\n",
       "Ученая степень             1\n",
       "УЧЕНАЯ СТЕПЕНЬ             1\n",
       "Name: education, dtype: int64"
      ]
     },
     "execution_count": 15,
     "metadata": {},
     "output_type": "execute_result"
    }
   ],
   "source": [
    "#просмотрим статистику столбца 'education'\n",
    "data['education'].value_counts() "
   ]
  },
  {
   "cell_type": "code",
   "execution_count": 16,
   "metadata": {},
   "outputs": [
    {
     "name": "stdout",
     "output_type": "stream",
     "text": [
      "среднее                15233\n",
      "высшее                  5260\n",
      "неоконченное высшее      744\n",
      "начальное                282\n",
      "ученая степень             6\n",
      "Name: education, dtype: int64\n"
     ]
    }
   ],
   "source": [
    "#избавимся от дубликатов изменением регистра \n",
    "data['education'] = data['education'].str.lower() \n",
    "#проверим результат\n",
    "print(data['education'].value_counts()) #проверим результат"
   ]
  },
  {
   "cell_type": "code",
   "execution_count": 17,
   "metadata": {},
   "outputs": [
    {
     "data": {
      "text/html": [
       "<div>\n",
       "<style scoped>\n",
       "    .dataframe tbody tr th:only-of-type {\n",
       "        vertical-align: middle;\n",
       "    }\n",
       "\n",
       "    .dataframe tbody tr th {\n",
       "        vertical-align: top;\n",
       "    }\n",
       "\n",
       "    .dataframe thead th {\n",
       "        text-align: right;\n",
       "    }\n",
       "</style>\n",
       "<table border=\"1\" class=\"dataframe\">\n",
       "  <thead>\n",
       "    <tr style=\"text-align: right;\">\n",
       "      <th></th>\n",
       "      <th>Медиана</th>\n",
       "      <th>Среднее</th>\n",
       "      <th>Кол-во пропусков</th>\n",
       "      <th>Заемщиков в группе</th>\n",
       "      <th>Процент, %</th>\n",
       "    </tr>\n",
       "    <tr>\n",
       "      <th>education</th>\n",
       "      <th></th>\n",
       "      <th></th>\n",
       "      <th></th>\n",
       "      <th></th>\n",
       "      <th></th>\n",
       "    </tr>\n",
       "  </thead>\n",
       "  <tbody>\n",
       "    <tr>\n",
       "      <td>высшее</td>\n",
       "      <td>175340</td>\n",
       "      <td>207142</td>\n",
       "      <td>544</td>\n",
       "      <td>5260</td>\n",
       "      <td>10.3</td>\n",
       "    </tr>\n",
       "    <tr>\n",
       "      <td>начальное</td>\n",
       "      <td>117137</td>\n",
       "      <td>132155</td>\n",
       "      <td>21</td>\n",
       "      <td>282</td>\n",
       "      <td>7.4</td>\n",
       "    </tr>\n",
       "    <tr>\n",
       "      <td>неоконченное высшее</td>\n",
       "      <td>160115</td>\n",
       "      <td>181534</td>\n",
       "      <td>69</td>\n",
       "      <td>744</td>\n",
       "      <td>9.3</td>\n",
       "    </tr>\n",
       "    <tr>\n",
       "      <td>среднее</td>\n",
       "      <td>136478</td>\n",
       "      <td>153715</td>\n",
       "      <td>1540</td>\n",
       "      <td>15233</td>\n",
       "      <td>10.1</td>\n",
       "    </tr>\n",
       "    <tr>\n",
       "      <td>ученая степень</td>\n",
       "      <td>157259</td>\n",
       "      <td>174750</td>\n",
       "      <td>0</td>\n",
       "      <td>6</td>\n",
       "      <td>0.0</td>\n",
       "    </tr>\n",
       "  </tbody>\n",
       "</table>\n",
       "</div>"
      ],
      "text/plain": [
       "                     Медиана  Среднее  Кол-во пропусков  Заемщиков в группе  \\\n",
       "education                                                                     \n",
       "высшее                175340   207142               544                5260   \n",
       "начальное             117137   132155                21                 282   \n",
       "неоконченное высшее   160115   181534                69                 744   \n",
       "среднее               136478   153715              1540               15233   \n",
       "ученая степень        157259   174750                 0                   6   \n",
       "\n",
       "                     Процент, %  \n",
       "education                        \n",
       "высшее                     10.3  \n",
       "начальное                   7.4  \n",
       "неоконченное высшее         9.3  \n",
       "среднее                    10.1  \n",
       "ученая степень              0.0  "
      ]
     },
     "execution_count": 17,
     "metadata": {},
     "output_type": "execute_result"
    }
   ],
   "source": [
    "#выведем свобную таблицу \n",
    "edu_med = data.groupby('education').agg({'total_income': 'median'}).astype('int')\n",
    "edu_mean = data.groupby('education').agg({'total_income': 'mean'}).astype('int')\n",
    "edu_miss = data.groupby('education')['total_income'].apply(lambda x: x.isnull().sum())\n",
    "edu_count = data.groupby('education').agg({'age': 'count'}).astype('int') \n",
    "edu_grouped = pd.concat([edu_med, edu_mean, edu_miss, edu_count], axis = 1)\n",
    "\n",
    "#переименум столбцы (хотел переименовать путем .rename, но столбец с пропусками почему-то не переименовывает,\n",
    "#присваивает '0' вместо нового имени)\n",
    "edu_grouped.set_axis(['Медиана', 'Среднее', 'Кол-во пропусков', 'Заемщиков в группе'], axis = 'columns', inplace = True)\n",
    "#добавим столбец с процентным количеством пропусков\n",
    "edu_grouped['Процент, %'] = ((edu_grouped['Кол-во пропусков'] / edu_grouped['Заемщиков в группе']) * 100).round(1)\n",
    "edu_grouped"
   ]
  },
  {
   "cell_type": "markdown",
   "metadata": {},
   "source": [
    "По данной выборке ясно, что основная доля пропусков в двух группах - среднее и высшее образование. Большая часть пропусков у группы со средним образованием. "
   ]
  },
  {
   "cell_type": "markdown",
   "metadata": {},
   "source": [
    "Можно проверить распределение доходов в зависимости от рода занятости."
   ]
  },
  {
   "cell_type": "code",
   "execution_count": 18,
   "metadata": {},
   "outputs": [
    {
     "name": "stdout",
     "output_type": "stream",
     "text": [
      "сотрудник          11119\n",
      "компаньон           5085\n",
      "пенсионер           3856\n",
      "госслужащий         1459\n",
      "безработный            2\n",
      "предприниматель        2\n",
      "студент                1\n",
      "в декрете              1\n",
      "Name: income_type, dtype: int64\n"
     ]
    }
   ],
   "source": [
    "#ищем уникальные значения занятости заемщиков\n",
    "print(data['income_type'].value_counts())"
   ]
  },
  {
   "cell_type": "code",
   "execution_count": 19,
   "metadata": {},
   "outputs": [
    {
     "data": {
      "text/html": [
       "<div>\n",
       "<style scoped>\n",
       "    .dataframe tbody tr th:only-of-type {\n",
       "        vertical-align: middle;\n",
       "    }\n",
       "\n",
       "    .dataframe tbody tr th {\n",
       "        vertical-align: top;\n",
       "    }\n",
       "\n",
       "    .dataframe thead th {\n",
       "        text-align: right;\n",
       "    }\n",
       "</style>\n",
       "<table border=\"1\" class=\"dataframe\">\n",
       "  <thead>\n",
       "    <tr style=\"text-align: right;\">\n",
       "      <th></th>\n",
       "      <th>Медиана</th>\n",
       "      <th>Среднее</th>\n",
       "      <th>Кол-во пропусков</th>\n",
       "      <th>Заемщиков в группе</th>\n",
       "      <th>Процент, %</th>\n",
       "    </tr>\n",
       "    <tr>\n",
       "      <th>income_type</th>\n",
       "      <th></th>\n",
       "      <th></th>\n",
       "      <th></th>\n",
       "      <th></th>\n",
       "      <th></th>\n",
       "    </tr>\n",
       "  </thead>\n",
       "  <tbody>\n",
       "    <tr>\n",
       "      <td>безработный</td>\n",
       "      <td>131339</td>\n",
       "      <td>131339</td>\n",
       "      <td>0</td>\n",
       "      <td>2</td>\n",
       "      <td>0.0</td>\n",
       "    </tr>\n",
       "    <tr>\n",
       "      <td>в декрете</td>\n",
       "      <td>53829</td>\n",
       "      <td>53829</td>\n",
       "      <td>0</td>\n",
       "      <td>1</td>\n",
       "      <td>0.0</td>\n",
       "    </tr>\n",
       "    <tr>\n",
       "      <td>госслужащий</td>\n",
       "      <td>150447</td>\n",
       "      <td>170898</td>\n",
       "      <td>147</td>\n",
       "      <td>1459</td>\n",
       "      <td>10.1</td>\n",
       "    </tr>\n",
       "    <tr>\n",
       "      <td>компаньон</td>\n",
       "      <td>172357</td>\n",
       "      <td>202417</td>\n",
       "      <td>508</td>\n",
       "      <td>5085</td>\n",
       "      <td>10.0</td>\n",
       "    </tr>\n",
       "    <tr>\n",
       "      <td>пенсионер</td>\n",
       "      <td>118514</td>\n",
       "      <td>137127</td>\n",
       "      <td>413</td>\n",
       "      <td>3856</td>\n",
       "      <td>10.7</td>\n",
       "    </tr>\n",
       "    <tr>\n",
       "      <td>предприниматель</td>\n",
       "      <td>499163</td>\n",
       "      <td>499163</td>\n",
       "      <td>1</td>\n",
       "      <td>2</td>\n",
       "      <td>50.0</td>\n",
       "    </tr>\n",
       "    <tr>\n",
       "      <td>сотрудник</td>\n",
       "      <td>142594</td>\n",
       "      <td>161380</td>\n",
       "      <td>1105</td>\n",
       "      <td>11119</td>\n",
       "      <td>9.9</td>\n",
       "    </tr>\n",
       "    <tr>\n",
       "      <td>студент</td>\n",
       "      <td>98201</td>\n",
       "      <td>98201</td>\n",
       "      <td>0</td>\n",
       "      <td>1</td>\n",
       "      <td>0.0</td>\n",
       "    </tr>\n",
       "  </tbody>\n",
       "</table>\n",
       "</div>"
      ],
      "text/plain": [
       "                 Медиана  Среднее  Кол-во пропусков  Заемщиков в группе  \\\n",
       "income_type                                                               \n",
       "безработный       131339   131339                 0                   2   \n",
       "в декрете          53829    53829                 0                   1   \n",
       "госслужащий       150447   170898               147                1459   \n",
       "компаньон         172357   202417               508                5085   \n",
       "пенсионер         118514   137127               413                3856   \n",
       "предприниматель   499163   499163                 1                   2   \n",
       "сотрудник         142594   161380              1105               11119   \n",
       "студент            98201    98201                 0                   1   \n",
       "\n",
       "                 Процент, %  \n",
       "income_type                  \n",
       "безработный             0.0  \n",
       "в декрете               0.0  \n",
       "госслужащий            10.1  \n",
       "компаньон              10.0  \n",
       "пенсионер              10.7  \n",
       "предприниматель        50.0  \n",
       "сотрудник               9.9  \n",
       "студент                 0.0  "
      ]
     },
     "execution_count": 19,
     "metadata": {},
     "output_type": "execute_result"
    }
   ],
   "source": [
    "#выведем свобную таблицу \n",
    "work_med = data.groupby('income_type').agg({'total_income': 'median'}).astype('int')\n",
    "work_mean = data.groupby('income_type').agg({'total_income': 'mean'}).astype('int')\n",
    "work_miss = data.groupby('income_type')['total_income'].apply(lambda x: x.isnull().sum())\n",
    "work_count = data.groupby('income_type').agg({'age': 'count'}).astype('int') \n",
    "work_grouped = pd.concat([work_med, work_mean, work_miss, work_count], axis = 1)\n",
    "\n",
    "#переименум столбцы (хотел переименовать путем .rename, но столбец с пропусками почему-то не переименовывает,\n",
    "#присваивает '0' вместо нового имени)\n",
    "work_grouped.set_axis(['Медиана', 'Среднее', 'Кол-во пропусков', 'Заемщиков в группе'], axis = 'columns', inplace = True)\n",
    "work_grouped['Процент, %'] = ((work_grouped['Кол-во пропусков'] / work_grouped['Заемщиков в группе']) * 100).round(1)\n",
    "work_grouped"
   ]
  },
  {
   "cell_type": "markdown",
   "metadata": {},
   "source": [
    "Ситуация аналогична выборке по возрастным группам. Основная доля пропусков в трех группах - сотрудник, компаньон и пенсионер. "
   ]
  },
  {
   "cell_type": "code",
   "execution_count": 20,
   "metadata": {},
   "outputs": [
    {
     "data": {
      "text/plain": [
       "count      19351.0\n",
       "mean      167422.0\n",
       "std       102972.0\n",
       "min        20667.0\n",
       "25%       103053.0\n",
       "50%       145018.0\n",
       "75%       203435.0\n",
       "max      2265604.0\n",
       "Name: total_income, dtype: float64"
      ]
     },
     "execution_count": 20,
     "metadata": {},
     "output_type": "execute_result"
    }
   ],
   "source": [
    "#проверим информацию о столбце, максимальное и минимальное значение и медиану\n",
    "data['total_income'].describe().round(0)"
   ]
  },
  {
   "cell_type": "markdown",
   "metadata": {},
   "source": [
    "В целом, наблюдается разброс при категоризации по признакам 'доход' и 'образование', в то время как признак 'возраст' в меньшей степени влияет на изменение доходов среди заемщиков. По-моему мнению, заполнение пропущенных значений медианой по определенному признаку может дать большую точность при анализе платежеспособности заемщиков по данному признаку, но настолько же исказить результаты по другим признакам. Поэтому считаю допустимым заполнение пропусков значение медианы по всему столбцу. Выбрано медианное, а не среднее значение, т.к. оно лучше отражает то, сколько зарабатывает средний заемщик, не учитывая искажения от немногочисленных высоких зарплат."
   ]
  },
  {
   "cell_type": "code",
   "execution_count": 21,
   "metadata": {
    "scrolled": true
   },
   "outputs": [
    {
     "data": {
      "text/plain": [
       "145017"
      ]
     },
     "execution_count": 21,
     "metadata": {},
     "output_type": "execute_result"
    }
   ],
   "source": [
    "#выбираем в качестве заменяющего значения медианное как меньшее\n",
    "income_med = int(data['total_income'].median())\n",
    "income_med"
   ]
  },
  {
   "cell_type": "code",
   "execution_count": 22,
   "metadata": {},
   "outputs": [
    {
     "name": "stdout",
     "output_type": "stream",
     "text": [
      "<class 'pandas.core.frame.DataFrame'>\n",
      "RangeIndex: 21525 entries, 0 to 21524\n",
      "Data columns (total 13 columns):\n",
      "children            21525 non-null int64\n",
      "days_employed       21525 non-null float64\n",
      "age                 21525 non-null int64\n",
      "education           21525 non-null object\n",
      "education_id        21525 non-null int64\n",
      "family_status       21525 non-null object\n",
      "family_status_id    21525 non-null int64\n",
      "gender              21525 non-null object\n",
      "income_type         21525 non-null object\n",
      "debt                21525 non-null int64\n",
      "total_income        21525 non-null float64\n",
      "purpose             21525 non-null object\n",
      "age_rate            21525 non-null object\n",
      "dtypes: float64(2), int64(5), object(6)\n",
      "memory usage: 2.1+ MB\n"
     ]
    }
   ],
   "source": [
    "#заполняем пропуски в столбце с доходом медианой\n",
    "data['total_income'] = data['total_income'].fillna(value = income_med)\n",
    "#выводим информацию о датафрейме\n",
    "data.info() "
   ]
  },
  {
   "cell_type": "markdown",
   "metadata": {},
   "source": [
    "Далее проверим данные по столбцу 'children'."
   ]
  },
  {
   "cell_type": "code",
   "execution_count": 23,
   "metadata": {},
   "outputs": [
    {
     "data": {
      "text/plain": [
       " 0     14149\n",
       " 1      4818\n",
       " 2      2055\n",
       " 3       330\n",
       " 20       76\n",
       "-1        47\n",
       " 4        41\n",
       " 5         9\n",
       "Name: children, dtype: int64"
      ]
     },
     "execution_count": 23,
     "metadata": {},
     "output_type": "execute_result"
    }
   ],
   "source": [
    "#проверим значения количества детей в столбце 'children'\n",
    "data['children'].value_counts() "
   ]
  },
  {
   "cell_type": "code",
   "execution_count": 24,
   "metadata": {},
   "outputs": [
    {
     "data": {
      "text/plain": [
       "0    14149\n",
       "1     4865\n",
       "2     2131\n",
       "3      330\n",
       "4       41\n",
       "5        9\n",
       "Name: children, dtype: int64"
      ]
     },
     "execution_count": 24,
     "metadata": {},
     "output_type": "execute_result"
    }
   ],
   "source": [
    "#переводим отрицательные значения количества детей в положительные\n",
    "data['children'] = data['children'].abs() \n",
    "\n",
    "#очевидно, что значение 20 - ошибочное, скорее всего - это ошибка при вводе данных \n",
    "#(клавиши 2 и 0 на цифровом блоке расположены рядом)\n",
    "#заменим число 20 на 2, так как 2 расположено на блоке выше 0\n",
    "data['children'] = data['children'].replace(20, 2) \n",
    "\n",
    "data['children'].value_counts()"
   ]
  },
  {
   "cell_type": "markdown",
   "metadata": {},
   "source": [
    "Так как количество аномальных значений по данному признаку очень мало, можно было удалить строки с этими значениями, но я решил их сохранить."
   ]
  },
  {
   "cell_type": "markdown",
   "metadata": {},
   "source": [
    "### Вывод"
   ]
  },
  {
   "cell_type": "markdown",
   "metadata": {},
   "source": [
    "<i> Были заполнены пропуски в столбце 'days_employed'(возможно, это было излишним) на среднее значение. Столбец 'days_employed'также был избавлен от артефактов (отрицательные значение - метод .abs() и слишком высокие значения - написана функция для перевода часов в дни). Пропуски в столбце 'total_income' заменил на медиану по этому столбцу, так как она лучше отражает разброс дохода среди заемщиков. \n",
    "Столбец 'children' избавил от ошибок при вводе (отрицательные значения количества детей - метод .abs(), высокие значения - вручную на наиболее логично подходящее). </i>"
   ]
  },
  {
   "cell_type": "markdown",
   "metadata": {},
   "source": [
    "### Замена типа данных <a id='step2_2'></a>"
   ]
  },
  {
   "cell_type": "code",
   "execution_count": 25,
   "metadata": {},
   "outputs": [
    {
     "name": "stdout",
     "output_type": "stream",
     "text": [
      "<class 'pandas.core.frame.DataFrame'>\n",
      "RangeIndex: 21525 entries, 0 to 21524\n",
      "Data columns (total 13 columns):\n",
      "children            21525 non-null int64\n",
      "days_employed       21525 non-null int64\n",
      "age                 21525 non-null int64\n",
      "education           21525 non-null object\n",
      "education_id        21525 non-null int64\n",
      "family_status       21525 non-null object\n",
      "family_status_id    21525 non-null int64\n",
      "gender              21525 non-null object\n",
      "income_type         21525 non-null object\n",
      "debt                21525 non-null int64\n",
      "total_income        21525 non-null int64\n",
      "purpose             21525 non-null object\n",
      "age_rate            21525 non-null object\n",
      "dtypes: int64(7), object(6)\n",
      "memory usage: 2.1+ MB\n"
     ]
    },
    {
     "data": {
      "text/html": [
       "<div>\n",
       "<style scoped>\n",
       "    .dataframe tbody tr th:only-of-type {\n",
       "        vertical-align: middle;\n",
       "    }\n",
       "\n",
       "    .dataframe tbody tr th {\n",
       "        vertical-align: top;\n",
       "    }\n",
       "\n",
       "    .dataframe thead th {\n",
       "        text-align: right;\n",
       "    }\n",
       "</style>\n",
       "<table border=\"1\" class=\"dataframe\">\n",
       "  <thead>\n",
       "    <tr style=\"text-align: right;\">\n",
       "      <th></th>\n",
       "      <th>children</th>\n",
       "      <th>days_employed</th>\n",
       "      <th>age</th>\n",
       "      <th>education</th>\n",
       "      <th>education_id</th>\n",
       "      <th>family_status</th>\n",
       "      <th>family_status_id</th>\n",
       "      <th>gender</th>\n",
       "      <th>income_type</th>\n",
       "      <th>debt</th>\n",
       "      <th>total_income</th>\n",
       "      <th>purpose</th>\n",
       "      <th>age_rate</th>\n",
       "    </tr>\n",
       "  </thead>\n",
       "  <tbody>\n",
       "    <tr>\n",
       "      <td>0</td>\n",
       "      <td>1</td>\n",
       "      <td>8437</td>\n",
       "      <td>42</td>\n",
       "      <td>высшее</td>\n",
       "      <td>0</td>\n",
       "      <td>женат / замужем</td>\n",
       "      <td>0</td>\n",
       "      <td>F</td>\n",
       "      <td>сотрудник</td>\n",
       "      <td>0</td>\n",
       "      <td>253875</td>\n",
       "      <td>покупка жилья</td>\n",
       "      <td>зрелые</td>\n",
       "    </tr>\n",
       "    <tr>\n",
       "      <td>1</td>\n",
       "      <td>1</td>\n",
       "      <td>4024</td>\n",
       "      <td>36</td>\n",
       "      <td>среднее</td>\n",
       "      <td>1</td>\n",
       "      <td>женат / замужем</td>\n",
       "      <td>0</td>\n",
       "      <td>F</td>\n",
       "      <td>сотрудник</td>\n",
       "      <td>0</td>\n",
       "      <td>112080</td>\n",
       "      <td>приобретение автомобиля</td>\n",
       "      <td>зрелые</td>\n",
       "    </tr>\n",
       "    <tr>\n",
       "      <td>2</td>\n",
       "      <td>0</td>\n",
       "      <td>5623</td>\n",
       "      <td>33</td>\n",
       "      <td>среднее</td>\n",
       "      <td>1</td>\n",
       "      <td>женат / замужем</td>\n",
       "      <td>0</td>\n",
       "      <td>M</td>\n",
       "      <td>сотрудник</td>\n",
       "      <td>0</td>\n",
       "      <td>145885</td>\n",
       "      <td>покупка жилья</td>\n",
       "      <td>зрелые</td>\n",
       "    </tr>\n",
       "    <tr>\n",
       "      <td>3</td>\n",
       "      <td>3</td>\n",
       "      <td>4124</td>\n",
       "      <td>32</td>\n",
       "      <td>среднее</td>\n",
       "      <td>1</td>\n",
       "      <td>женат / замужем</td>\n",
       "      <td>0</td>\n",
       "      <td>M</td>\n",
       "      <td>сотрудник</td>\n",
       "      <td>0</td>\n",
       "      <td>267628</td>\n",
       "      <td>дополнительное образование</td>\n",
       "      <td>зрелые</td>\n",
       "    </tr>\n",
       "    <tr>\n",
       "      <td>4</td>\n",
       "      <td>0</td>\n",
       "      <td>14177</td>\n",
       "      <td>53</td>\n",
       "      <td>среднее</td>\n",
       "      <td>1</td>\n",
       "      <td>гражданский брак</td>\n",
       "      <td>1</td>\n",
       "      <td>F</td>\n",
       "      <td>пенсионер</td>\n",
       "      <td>0</td>\n",
       "      <td>158616</td>\n",
       "      <td>сыграть свадьбу</td>\n",
       "      <td>зрелые</td>\n",
       "    </tr>\n",
       "  </tbody>\n",
       "</table>\n",
       "</div>"
      ],
      "text/plain": [
       "   children  days_employed  age education  education_id     family_status  \\\n",
       "0         1           8437   42    высшее             0   женат / замужем   \n",
       "1         1           4024   36   среднее             1   женат / замужем   \n",
       "2         0           5623   33   среднее             1   женат / замужем   \n",
       "3         3           4124   32   среднее             1   женат / замужем   \n",
       "4         0          14177   53   среднее             1  гражданский брак   \n",
       "\n",
       "   family_status_id gender income_type  debt  total_income  \\\n",
       "0                 0      F   сотрудник     0        253875   \n",
       "1                 0      F   сотрудник     0        112080   \n",
       "2                 0      M   сотрудник     0        145885   \n",
       "3                 0      M   сотрудник     0        267628   \n",
       "4                 1      F   пенсионер     0        158616   \n",
       "\n",
       "                      purpose age_rate  \n",
       "0               покупка жилья   зрелые  \n",
       "1     приобретение автомобиля   зрелые  \n",
       "2               покупка жилья   зрелые  \n",
       "3  дополнительное образование   зрелые  \n",
       "4             сыграть свадьбу   зрелые  "
      ]
     },
     "execution_count": 25,
     "metadata": {},
     "output_type": "execute_result"
    }
   ],
   "source": [
    "#заменяем вещественные тип чисел на целое\n",
    "data['days_employed'] = data['days_employed'].astype('int') \n",
    "data['total_income'] = data['total_income'].astype('int') \n",
    "#проверяем результат замены типа данных\n",
    "data.info() \n",
    "data.head()"
   ]
  },
  {
   "cell_type": "markdown",
   "metadata": {},
   "source": [
    "### Вывод"
   ]
  },
  {
   "cell_type": "markdown",
   "metadata": {},
   "source": [
    "<i> Мной был заменен тип данных в столбцах 'total_income' и 'days_employed' на целочисленные методом .astype(), так как высокая точность данных (знаки после запятой в данном проекте не нужна), плюс, это облегчает читаемость данных. </i>"
   ]
  },
  {
   "cell_type": "markdown",
   "metadata": {},
   "source": [
    "### Обработка дубликатов <a id='step2_3'></a>"
   ]
  },
  {
   "cell_type": "markdown",
   "metadata": {},
   "source": [
    "При заполнении пропусков уже была проведена частичная работа по обработке дубликатов, продолжим ее здесь."
   ]
  },
  {
   "cell_type": "code",
   "execution_count": 26,
   "metadata": {},
   "outputs": [
    {
     "data": {
      "text/plain": [
       "71"
      ]
     },
     "execution_count": 26,
     "metadata": {},
     "output_type": "execute_result"
    }
   ],
   "source": [
    "#найдем количество дубликатов в таблице\n",
    "data.duplicated().sum()"
   ]
  },
  {
   "cell_type": "code",
   "execution_count": 27,
   "metadata": {},
   "outputs": [
    {
     "name": "stdout",
     "output_type": "stream",
     "text": [
      "женат / замужем          12380\n",
      "гражданский брак          4177\n",
      "Не женат / не замужем     2813\n",
      "в разводе                 1195\n",
      "вдовец / вдова             960\n",
      "Name: family_status, dtype: int64\n"
     ]
    }
   ],
   "source": [
    "#ищем уникальные значения образования семейного положения\n",
    "print(data['family_status'].value_counts()) "
   ]
  },
  {
   "cell_type": "code",
   "execution_count": 28,
   "metadata": {},
   "outputs": [
    {
     "name": "stdout",
     "output_type": "stream",
     "text": [
      "женат / замужем          12380\n",
      "гражданский брак          4177\n",
      "не женат / не замужем     2813\n",
      "в разводе                 1195\n",
      "вдовец / вдова             960\n",
      "Name: family_status, dtype: int64\n"
     ]
    }
   ],
   "source": [
    "#вроде все нормально, но можно привести к общему виду изменением регистра\n",
    "data['family_status'] = data['family_status'].str.lower() \n",
    "print(data['family_status'].value_counts())"
   ]
  },
  {
   "cell_type": "markdown",
   "metadata": {},
   "source": [
    "С этим столбцом все хорошо. В столбцах 'education' и 'income_type' удаление дубликатов было произведено ранее. Теперь можно удалить дубликаты строк из таблицы."
   ]
  },
  {
   "cell_type": "code",
   "execution_count": 29,
   "metadata": {},
   "outputs": [
    {
     "name": "stdout",
     "output_type": "stream",
     "text": [
      "<class 'pandas.core.frame.DataFrame'>\n",
      "RangeIndex: 21454 entries, 0 to 21453\n",
      "Data columns (total 13 columns):\n",
      "children            21454 non-null int64\n",
      "days_employed       21454 non-null int64\n",
      "age                 21454 non-null int64\n",
      "education           21454 non-null object\n",
      "education_id        21454 non-null int64\n",
      "family_status       21454 non-null object\n",
      "family_status_id    21454 non-null int64\n",
      "gender              21454 non-null object\n",
      "income_type         21454 non-null object\n",
      "debt                21454 non-null int64\n",
      "total_income        21454 non-null int64\n",
      "purpose             21454 non-null object\n",
      "age_rate            21454 non-null object\n",
      "dtypes: int64(7), object(6)\n",
      "memory usage: 2.1+ MB\n"
     ]
    }
   ],
   "source": [
    "#удаляем полные дубликаты строк из таблицы\n",
    "data = data.drop_duplicates().reset_index(drop = True) \n",
    "data.info()"
   ]
  },
  {
   "cell_type": "code",
   "execution_count": 30,
   "metadata": {},
   "outputs": [
    {
     "data": {
      "text/html": [
       "<div>\n",
       "<style scoped>\n",
       "    .dataframe tbody tr th:only-of-type {\n",
       "        vertical-align: middle;\n",
       "    }\n",
       "\n",
       "    .dataframe tbody tr th {\n",
       "        vertical-align: top;\n",
       "    }\n",
       "\n",
       "    .dataframe thead th {\n",
       "        text-align: right;\n",
       "    }\n",
       "</style>\n",
       "<table border=\"1\" class=\"dataframe\">\n",
       "  <thead>\n",
       "    <tr style=\"text-align: right;\">\n",
       "      <th></th>\n",
       "      <th>children</th>\n",
       "      <th>days_employed</th>\n",
       "      <th>age</th>\n",
       "      <th>education</th>\n",
       "      <th>education_id</th>\n",
       "      <th>family_status</th>\n",
       "      <th>family_status_id</th>\n",
       "      <th>gender</th>\n",
       "      <th>income_type</th>\n",
       "      <th>debt</th>\n",
       "      <th>total_income</th>\n",
       "      <th>purpose</th>\n",
       "      <th>age_rate</th>\n",
       "    </tr>\n",
       "  </thead>\n",
       "  <tbody>\n",
       "    <tr>\n",
       "      <td>0</td>\n",
       "      <td>1</td>\n",
       "      <td>8437</td>\n",
       "      <td>42</td>\n",
       "      <td>высшее</td>\n",
       "      <td>0</td>\n",
       "      <td>женат / замужем</td>\n",
       "      <td>0</td>\n",
       "      <td>F</td>\n",
       "      <td>сотрудник</td>\n",
       "      <td>0</td>\n",
       "      <td>253875</td>\n",
       "      <td>покупка жилья</td>\n",
       "      <td>зрелые</td>\n",
       "    </tr>\n",
       "    <tr>\n",
       "      <td>1</td>\n",
       "      <td>1</td>\n",
       "      <td>4024</td>\n",
       "      <td>36</td>\n",
       "      <td>среднее</td>\n",
       "      <td>1</td>\n",
       "      <td>женат / замужем</td>\n",
       "      <td>0</td>\n",
       "      <td>F</td>\n",
       "      <td>сотрудник</td>\n",
       "      <td>0</td>\n",
       "      <td>112080</td>\n",
       "      <td>приобретение автомобиля</td>\n",
       "      <td>зрелые</td>\n",
       "    </tr>\n",
       "    <tr>\n",
       "      <td>2</td>\n",
       "      <td>0</td>\n",
       "      <td>5623</td>\n",
       "      <td>33</td>\n",
       "      <td>среднее</td>\n",
       "      <td>1</td>\n",
       "      <td>женат / замужем</td>\n",
       "      <td>0</td>\n",
       "      <td>M</td>\n",
       "      <td>сотрудник</td>\n",
       "      <td>0</td>\n",
       "      <td>145885</td>\n",
       "      <td>покупка жилья</td>\n",
       "      <td>зрелые</td>\n",
       "    </tr>\n",
       "    <tr>\n",
       "      <td>3</td>\n",
       "      <td>3</td>\n",
       "      <td>4124</td>\n",
       "      <td>32</td>\n",
       "      <td>среднее</td>\n",
       "      <td>1</td>\n",
       "      <td>женат / замужем</td>\n",
       "      <td>0</td>\n",
       "      <td>M</td>\n",
       "      <td>сотрудник</td>\n",
       "      <td>0</td>\n",
       "      <td>267628</td>\n",
       "      <td>дополнительное образование</td>\n",
       "      <td>зрелые</td>\n",
       "    </tr>\n",
       "    <tr>\n",
       "      <td>4</td>\n",
       "      <td>0</td>\n",
       "      <td>14177</td>\n",
       "      <td>53</td>\n",
       "      <td>среднее</td>\n",
       "      <td>1</td>\n",
       "      <td>гражданский брак</td>\n",
       "      <td>1</td>\n",
       "      <td>F</td>\n",
       "      <td>пенсионер</td>\n",
       "      <td>0</td>\n",
       "      <td>158616</td>\n",
       "      <td>сыграть свадьбу</td>\n",
       "      <td>зрелые</td>\n",
       "    </tr>\n",
       "  </tbody>\n",
       "</table>\n",
       "</div>"
      ],
      "text/plain": [
       "   children  days_employed  age education  education_id     family_status  \\\n",
       "0         1           8437   42    высшее             0   женат / замужем   \n",
       "1         1           4024   36   среднее             1   женат / замужем   \n",
       "2         0           5623   33   среднее             1   женат / замужем   \n",
       "3         3           4124   32   среднее             1   женат / замужем   \n",
       "4         0          14177   53   среднее             1  гражданский брак   \n",
       "\n",
       "   family_status_id gender income_type  debt  total_income  \\\n",
       "0                 0      F   сотрудник     0        253875   \n",
       "1                 0      F   сотрудник     0        112080   \n",
       "2                 0      M   сотрудник     0        145885   \n",
       "3                 0      M   сотрудник     0        267628   \n",
       "4                 1      F   пенсионер     0        158616   \n",
       "\n",
       "                      purpose age_rate  \n",
       "0               покупка жилья   зрелые  \n",
       "1     приобретение автомобиля   зрелые  \n",
       "2               покупка жилья   зрелые  \n",
       "3  дополнительное образование   зрелые  \n",
       "4             сыграть свадьбу   зрелые  "
      ]
     },
     "execution_count": 30,
     "metadata": {},
     "output_type": "execute_result"
    }
   ],
   "source": [
    "#проверяем результат манипуляций\n",
    "data.head()"
   ]
  },
  {
   "cell_type": "markdown",
   "metadata": {},
   "source": [
    "### Вывод"
   ]
  },
  {
   "cell_type": "markdown",
   "metadata": {},
   "source": [
    "<i> Мной было вычислено количество дубликатов в таблице методом .duplicated().sum(). Так как в таблице нет уникальных категориальных переменных (таких как email, ФИО, телефон), сделал вывод, что дубликатом может быть только полная строка. Полное совпадение строки для двух заемщиков кажется мне практически невероятнымю. Далее были найдены уникальные значения в столбце образования заемщиков ('education') и приведены к общему регистру. Количество дубликатов строк после этого увеличилось. Так же были проведены подобные проверки по другим столбцам. После были удалены дубликаты строк в датафрейме методом drop_duplicates() с последующим .reset_index() для перерасчета индексов из-за возникших пробелов. </i>\n"
   ]
  },
  {
   "cell_type": "markdown",
   "metadata": {},
   "source": [
    "### Лемматизация <a id='step2_4'></a>"
   ]
  },
  {
   "cell_type": "code",
   "execution_count": 137,
   "metadata": {},
   "outputs": [
    {
     "name": "stdout",
     "output_type": "stream",
     "text": [
      "Counter({' ': 59, '\\n': 38, 'покупка': 10, 'недвижимость': 10, 'автомобиль': 9, 'образование': 9, 'жилье': 7, 'с': 5, 'операция': 4, 'на': 4, 'свой': 4, 'свадьба': 3, 'строительство': 3, 'получение': 3, 'высокий': 3, 'дополнительный': 2, 'для': 2, 'коммерческий': 2, 'жилой': 2, 'заниматься': 2, 'сделка': 2, 'приобретение': 1, 'сыграть': 1, 'проведение': 1, 'семья': 1, 'собственный': 1, 'подержать': 1, 'со': 1, 'подержанный': 1, 'профильный': 1, 'сдача': 1, 'ремонт': 1})\n"
     ]
    }
   ],
   "source": [
    "from pymystem3 import Mystem\n",
    "from collections import Counter\n",
    "m = Mystem()\n",
    "unique_purpose = data['purpose'].unique()\n",
    "\n",
    "lemmas_list = []\n",
    "m = Mystem()\n",
    "for purpose in unique_purpose:\n",
    "    lemmas = ''.join(m.lemmatize(purpose)).strip()\n",
    "    lemmas_list.append(lemmas)\n",
    "print(Counter(lemms))"
   ]
  },
  {
   "cell_type": "code",
   "execution_count": 138,
   "metadata": {},
   "outputs": [
    {
     "data": {
      "text/plain": [
       "недвижимость    10811\n",
       "автомобиль       4306\n",
       "образование      4013\n",
       "свадьба          2324\n",
       "Name: purpose_category, dtype: int64"
      ]
     },
     "execution_count": 138,
     "metadata": {},
     "output_type": "execute_result"
    }
   ],
   "source": [
    "#на основании словаря со счетчиком количества повторений, составим 'словарь' с целями кредитов\n",
    "purposes_dict = ['автомобиль', 'жилье', 'недвижимость', 'свадьба', 'образование']\n",
    "def purpose_type(row):\n",
    "    \n",
    "    '''\n",
    "    функция для поиска совпадений слов из ячейки после лемматищации со словами в словаре\n",
    "    \n",
    "    '''\n",
    "    try:\n",
    "        lemmas = m.lemmatize(row)\n",
    "        for word in lemmas:\n",
    "            if word in purposes_dict:\n",
    "                if word == 'жилье': #объединяем цели 'жилье' и 'недвижимость'\n",
    "                    return 'недвижимость'\n",
    "                return word \n",
    "    except:\n",
    "        return 'без категории' #возращаем значение 'без категории' в случае отсутствия совпадения\n",
    "    \n",
    "#применяем функцию purpose_type к столбцу 'purpose'\n",
    "data['purpose_category'] = data['purpose'].apply(purpose_type) \n",
    "#проверяем результат действия функции\n",
    "data['purpose_category'].value_counts() "
   ]
  },
  {
   "cell_type": "code",
   "execution_count": 139,
   "metadata": {},
   "outputs": [
    {
     "name": "stdout",
     "output_type": "stream",
     "text": [
      "   children  days_employed  age education  education_id     family_status  \\\n",
      "0         1           8437   42    высшее             0   женат / замужем   \n",
      "1         1           4024   36   среднее             1   женат / замужем   \n",
      "2         0           5623   33   среднее             1   женат / замужем   \n",
      "3         3           4124   32   среднее             1   женат / замужем   \n",
      "4         0          14177   53   среднее             1  гражданский брак   \n",
      "5         0            926   27    высшее             0  гражданский брак   \n",
      "6         0           2879   43    высшее             0   женат / замужем   \n",
      "7         0            152   50   среднее             1   женат / замужем   \n",
      "8         2           6929   35    высшее             0  гражданский брак   \n",
      "9         0           2188   41   среднее             1   женат / замужем   \n",
      "\n",
      "   family_status_id gender income_type  debt  total_income  \\\n",
      "0                 0      F   сотрудник     0        253875   \n",
      "1                 0      F   сотрудник     0        112080   \n",
      "2                 0      M   сотрудник     0        145885   \n",
      "3                 0      M   сотрудник     0        267628   \n",
      "4                 1      F   пенсионер     0        158616   \n",
      "5                 1      M   компаньон     0        255763   \n",
      "6                 0      F   компаньон     0        240525   \n",
      "7                 0      M   сотрудник     0        135823   \n",
      "8                 1      F   сотрудник     0         95856   \n",
      "9                 0      M   сотрудник     0        144425   \n",
      "\n",
      "                      purpose  age_rate purpose_category  \n",
      "0               покупка жилья    зрелые     недвижимость  \n",
      "1     приобретение автомобиля    зрелые       автомобиль  \n",
      "2               покупка жилья    зрелые     недвижимость  \n",
      "3  дополнительное образование    зрелые      образование  \n",
      "4             сыграть свадьбу    зрелые          свадьба  \n",
      "5               покупка жилья  молодежь     недвижимость  \n",
      "6           операции с жильем    зрелые     недвижимость  \n",
      "7                 образование    зрелые      образование  \n",
      "8       на проведение свадьбы    зрелые          свадьба  \n",
      "9     покупка жилья для семьи    зрелые     недвижимость  \n"
     ]
    }
   ],
   "source": [
    "#проверяем результаты манипуляций\n",
    "print(data.head(10)) "
   ]
  },
  {
   "cell_type": "markdown",
   "metadata": {},
   "source": [
    "### Вывод"
   ]
  },
  {
   "cell_type": "markdown",
   "metadata": {},
   "source": [
    "<i> В столбце 'purpose' с целью категоризации данных была создана функция проводящая лемматизацию ячейки с последующим сравнением со 'словарем' возможных категорий, и возвращающая совпадающее значение. Словарь, в свою очередь, был создан вручную из наиболее часто встречающихся значений цели, полученных лемматизачией уникальных значений из столбца 'purpose'. Был также применен метод try-except, в случае отсутствия совпадений возвращающий значение 'без категории'. </i>"
   ]
  },
  {
   "cell_type": "markdown",
   "metadata": {},
   "source": [
    "---"
   ]
  },
  {
   "cell_type": "markdown",
   "metadata": {},
   "source": [
    "### Категоризация данных <a id='step2_5'></a>"
   ]
  },
  {
   "cell_type": "code",
   "execution_count": 140,
   "metadata": {},
   "outputs": [
    {
     "data": {
      "text/plain": [
       "бездетный      14091\n",
       "малодетный      6983\n",
       "многодетный      380\n",
       "Name: child_status, dtype: int64"
      ]
     },
     "execution_count": 140,
     "metadata": {},
     "output_type": "execute_result"
    }
   ],
   "source": [
    "def child_cat(row):\n",
    "    '''\n",
    "    функция разбивает заемщиков на категории в зависимости от количества детей\n",
    "    \n",
    "    '''\n",
    "    if row == 0:\n",
    "        return 'бездетный'\n",
    "    if row == 1 or row == 2:\n",
    "        return 'малодетный'\n",
    "    return 'многодетный'\n",
    "\n",
    "data['child_status'] = data['children'].apply(child_cat) #применим функцию child_cat к столбцу 'children'\n",
    "data['child_status'].value_counts() #проверим результат действия функции"
   ]
  },
  {
   "cell_type": "code",
   "execution_count": 141,
   "metadata": {
    "scrolled": true
   },
   "outputs": [
    {
     "data": {
      "text/html": [
       "<div>\n",
       "<style scoped>\n",
       "    .dataframe tbody tr th:only-of-type {\n",
       "        vertical-align: middle;\n",
       "    }\n",
       "\n",
       "    .dataframe tbody tr th {\n",
       "        vertical-align: top;\n",
       "    }\n",
       "\n",
       "    .dataframe thead th {\n",
       "        text-align: right;\n",
       "    }\n",
       "</style>\n",
       "<table border=\"1\" class=\"dataframe\">\n",
       "  <thead>\n",
       "    <tr style=\"text-align: right;\">\n",
       "      <th></th>\n",
       "      <th>Заемщики в группе</th>\n",
       "    </tr>\n",
       "    <tr>\n",
       "      <th>family_status</th>\n",
       "      <th></th>\n",
       "    </tr>\n",
       "  </thead>\n",
       "  <tbody>\n",
       "    <tr>\n",
       "      <td>женат / замужем</td>\n",
       "      <td>12339</td>\n",
       "    </tr>\n",
       "    <tr>\n",
       "      <td>гражданский брак</td>\n",
       "      <td>4151</td>\n",
       "    </tr>\n",
       "    <tr>\n",
       "      <td>не женат / не замужем</td>\n",
       "      <td>2810</td>\n",
       "    </tr>\n",
       "    <tr>\n",
       "      <td>в разводе</td>\n",
       "      <td>1195</td>\n",
       "    </tr>\n",
       "    <tr>\n",
       "      <td>вдовец / вдова</td>\n",
       "      <td>959</td>\n",
       "    </tr>\n",
       "  </tbody>\n",
       "</table>\n",
       "</div>"
      ],
      "text/plain": [
       "                       Заемщики в группе\n",
       "family_status                           \n",
       "женат / замужем                    12339\n",
       "гражданский брак                    4151\n",
       "не женат / не замужем               2810\n",
       "в разводе                           1195\n",
       "вдовец / вдова                       959"
      ]
     },
     "execution_count": 141,
     "metadata": {},
     "output_type": "execute_result"
    }
   ],
   "source": [
    "family_grouped = data.groupby('family_status').agg({'children': 'count'}).rename(columns = {'children': 'Заемщики в группе'}).sort_values(by = 'Заемщики в группе', ascending = False)\n",
    "family_grouped\n",
    "#группируем данные по семейному статусу и считаем количество заемщиков в группах"
   ]
  },
  {
   "cell_type": "code",
   "execution_count": 142,
   "metadata": {},
   "outputs": [
    {
     "data": {
      "text/plain": [
       "count      21454\n",
       "mean      165225\n",
       "std        98021\n",
       "min        20667\n",
       "25%       107623\n",
       "50%       145017\n",
       "75%       195813\n",
       "max      2265604\n",
       "Name: total_income, dtype: int64"
      ]
     },
     "execution_count": 142,
     "metadata": {},
     "output_type": "execute_result"
    }
   ],
   "source": [
    "#просмотрим информацию о столбце доходов заемщиков\n",
    "data['total_income'].describe().astype('int')"
   ]
  },
  {
   "cell_type": "markdown",
   "metadata": {},
   "source": [
    "Разобьем заемщиков на группы по доходу:\n",
    "- до 90к - низкий\n",
    "- от 90к до 150к - средний\n",
    "- от 150к до 200к - выше среднего\n",
    "- от 200к до 300к - высокий\n",
    "- свыше 300к - очень высокий"
   ]
  },
  {
   "cell_type": "markdown",
   "metadata": {},
   "source": [
    "\"\"\"\n",
    "def income_rating(row):\n",
    "    \n",
    "    \n",
    "    #функция, разбивающая заемщиков на категории по уровню их дохода \n",
    "    #(переменная income_med была вычислена при обработке пропусков)\n",
    "    \n",
    "    if row < income_med * 0.6:\n",
    "        return 'низкий'\n",
    "    if row > income_med * 2.25:\n",
    "        return 'высокий'\n",
    "    return 'средний'\n",
    "#применяем функцию income_rating к столбцу 'total_income'\n",
    "data['income_rate'] = data['total_income'].apply(income_rating)\n",
    "#проверяем результат действия функции\n",
    "data['income_rate'].value_counts() \n",
    "\"\"\""
   ]
  },
  {
   "cell_type": "code",
   "execution_count": 143,
   "metadata": {},
   "outputs": [
    {
     "data": {
      "text/plain": [
       "средний          7807\n",
       "выше среднего    6372\n",
       "низкий           4463\n",
       "высокий          1954\n",
       "очень высокий     858\n",
       "Name: income_rate, dtype: int64"
      ]
     },
     "execution_count": 143,
     "metadata": {},
     "output_type": "execute_result"
    }
   ],
   "source": [
    "def income_rating(row):\n",
    "    \n",
    "    \"\"\"\n",
    "    функция, разбивающая заемщиков на категории по уровню их дохода \n",
    "    (переменная income_med была вычислена при обработке пропусков)\n",
    "    \"\"\"\n",
    "    if row < 100000:\n",
    "        return 'низкий'\n",
    "    if row >= 100000 and row < 150000:\n",
    "        return 'средний'\n",
    "    if row >= 150000 and row < 250000:\n",
    "        return 'выше среднего'\n",
    "    if row >= 250000 and row < 350000:\n",
    "        return 'высокий'\n",
    "    return 'очень высокий'\n",
    "#применяем функцию income_rating к столбцу 'total_income'\n",
    "data['income_rate'] = data['total_income'].apply(income_rating)\n",
    "#проверяем результат действия функции\n",
    "data['income_rate'].value_counts() "
   ]
  },
  {
   "cell_type": "markdown",
   "metadata": {},
   "source": [
    "### Вывод"
   ]
  },
  {
   "cell_type": "markdown",
   "metadata": {},
   "source": [
    "<i> Данные в датафрейме были разбиты на категории по различным признакам (уровень дохода, количество детей, семейный статус  и цель кредита (выделение в категорию было проведено при лемматизации). В зависимости от количества детей категоризация была проведена путем применения функции child_cat, в зависимости от количества детей, возвращающей значение бездетной, малодетной или многодетной семьи (согласно оффициальной классификации). Категоризация по семейному статусу уже была включена в исходную таблицу. Категоризация по уровню дохода была проведена с применением функции income_rating, возвращающей значение исходя из отношения дохода заемщика к медиане. Классификация уровня дохода так же была взята из открытых источников. Подавляющее большинство заемщиков попало в категорию со средним уровнем дохода, наименьшее - с высоким. </i>"
   ]
  },
  {
   "cell_type": "markdown",
   "metadata": {},
   "source": [
    "### Шаг 3. Ответьте на вопросы <a id='step3'></a>"
   ]
  },
  {
   "cell_type": "markdown",
   "metadata": {},
   "source": [
    "- Есть ли зависимость между наличием детей и возвратом кредита в срок?"
   ]
  },
  {
   "cell_type": "code",
   "execution_count": 144,
   "metadata": {},
   "outputs": [
    {
     "data": {
      "text/html": [
       "<div>\n",
       "<style scoped>\n",
       "    .dataframe tbody tr th:only-of-type {\n",
       "        vertical-align: middle;\n",
       "    }\n",
       "\n",
       "    .dataframe tbody tr th {\n",
       "        vertical-align: top;\n",
       "    }\n",
       "\n",
       "    .dataframe thead th {\n",
       "        text-align: right;\n",
       "    }\n",
       "</style>\n",
       "<table border=\"1\" class=\"dataframe\">\n",
       "  <thead>\n",
       "    <tr style=\"text-align: right;\">\n",
       "      <th>debt</th>\n",
       "      <th>0</th>\n",
       "      <th>1</th>\n",
       "    </tr>\n",
       "    <tr>\n",
       "      <th>child_status</th>\n",
       "      <th></th>\n",
       "      <th></th>\n",
       "    </tr>\n",
       "  </thead>\n",
       "  <tbody>\n",
       "    <tr>\n",
       "      <td>бездетный</td>\n",
       "      <td>13028</td>\n",
       "      <td>1063</td>\n",
       "    </tr>\n",
       "    <tr>\n",
       "      <td>малодетный</td>\n",
       "      <td>6336</td>\n",
       "      <td>647</td>\n",
       "    </tr>\n",
       "    <tr>\n",
       "      <td>многодетный</td>\n",
       "      <td>349</td>\n",
       "      <td>31</td>\n",
       "    </tr>\n",
       "  </tbody>\n",
       "</table>\n",
       "</div>"
      ],
      "text/plain": [
       "debt              0     1\n",
       "child_status             \n",
       "бездетный     13028  1063\n",
       "малодетный     6336   647\n",
       "многодетный     349    31"
      ]
     },
     "execution_count": 144,
     "metadata": {},
     "output_type": "execute_result"
    }
   ],
   "source": [
    "#создадим сводную таблицу зависимости наличия просрочек по кредиту в зависимости от наличия детей\n",
    "data_child_pivot = data.pivot_table(index=['child_status'], columns = 'debt', values='age', aggfunc='count')\n",
    "#выведем таблицу на экран\n",
    "data_child_pivot "
   ]
  },
  {
   "cell_type": "code",
   "execution_count": 145,
   "metadata": {},
   "outputs": [
    {
     "data": {
      "text/html": [
       "<div>\n",
       "<style scoped>\n",
       "    .dataframe tbody tr th:only-of-type {\n",
       "        vertical-align: middle;\n",
       "    }\n",
       "\n",
       "    .dataframe tbody tr th {\n",
       "        vertical-align: top;\n",
       "    }\n",
       "\n",
       "    .dataframe thead th {\n",
       "        text-align: right;\n",
       "    }\n",
       "</style>\n",
       "<table border=\"1\" class=\"dataframe\">\n",
       "  <thead>\n",
       "    <tr style=\"text-align: right;\">\n",
       "      <th>просрочка</th>\n",
       "      <th>нет</th>\n",
       "      <th>есть</th>\n",
       "      <th>ratio, %</th>\n",
       "    </tr>\n",
       "    <tr>\n",
       "      <th>цель</th>\n",
       "      <th></th>\n",
       "      <th></th>\n",
       "      <th></th>\n",
       "    </tr>\n",
       "  </thead>\n",
       "  <tbody>\n",
       "    <tr>\n",
       "      <td>бездетный</td>\n",
       "      <td>13028</td>\n",
       "      <td>1063</td>\n",
       "      <td>7.5</td>\n",
       "    </tr>\n",
       "    <tr>\n",
       "      <td>многодетный</td>\n",
       "      <td>349</td>\n",
       "      <td>31</td>\n",
       "      <td>8.2</td>\n",
       "    </tr>\n",
       "    <tr>\n",
       "      <td>малодетный</td>\n",
       "      <td>6336</td>\n",
       "      <td>647</td>\n",
       "      <td>9.3</td>\n",
       "    </tr>\n",
       "  </tbody>\n",
       "</table>\n",
       "</div>"
      ],
      "text/plain": [
       "просрочка      нет  есть  ratio, %\n",
       "цель                              \n",
       "бездетный    13028  1063       7.5\n",
       "многодетный    349    31       8.2\n",
       "малодетный    6336   647       9.3"
      ]
     },
     "execution_count": 145,
     "metadata": {},
     "output_type": "execute_result"
    }
   ],
   "source": [
    "#добавим столбец с процентом просрочивших платеж в категории\n",
    "data_child_pivot['ratio, %'] = ((data_child_pivot[1] / (data_child_pivot[0] + data_child_pivot[1])) * 100).round(1)\n",
    "#переименуем названия столбцов и индексов, а также сами столбцы\n",
    "data_child_pivot.index.names = ['цель']\n",
    "data_child_pivot.columns.names = ['просрочка']\n",
    "data_child_pivot.rename(columns={0: 'нет', 1: 'есть'}, inplace=True)\n",
    "#выведем таблицу на экран\n",
    "data_child_pivot.sort_values(by = 'ratio, %')"
   ]
  },
  {
   "cell_type": "markdown",
   "metadata": {},
   "source": [
    "### Вывод"
   ]
  },
  {
   "cell_type": "markdown",
   "metadata": {},
   "source": [
    "<i> По результатам исследования можно сделать вывод, что бездетные семьи реже просрачивают выплату кредитов, по моему мнению, из-за меньшего количества источников расходов (содержание детей, их лечение, оплата учебы, во многих случаях источники дохода уменьшаются из-за того, что второй супруг не работает, а занят воспитанием детей). Так же многодетные семьи реже просрочивают выплату, чем малодетные, возможно, из-за большего опыта воспитания детей и распределения расходов. В целом, разница между категориями не так велика, выборка многодетных семей довольно невелика, может быть непоказательной. </i>"
   ]
  },
  {
   "cell_type": "markdown",
   "metadata": {},
   "source": [
    "- Есть ли зависимость между семейным положением и возвратом кредита в срок?"
   ]
  },
  {
   "cell_type": "code",
   "execution_count": 146,
   "metadata": {},
   "outputs": [
    {
     "data": {
      "text/html": [
       "<div>\n",
       "<style scoped>\n",
       "    .dataframe tbody tr th:only-of-type {\n",
       "        vertical-align: middle;\n",
       "    }\n",
       "\n",
       "    .dataframe tbody tr th {\n",
       "        vertical-align: top;\n",
       "    }\n",
       "\n",
       "    .dataframe thead th {\n",
       "        text-align: right;\n",
       "    }\n",
       "</style>\n",
       "<table border=\"1\" class=\"dataframe\">\n",
       "  <thead>\n",
       "    <tr style=\"text-align: right;\">\n",
       "      <th>debt</th>\n",
       "      <th>0</th>\n",
       "      <th>1</th>\n",
       "    </tr>\n",
       "    <tr>\n",
       "      <th>family_status</th>\n",
       "      <th></th>\n",
       "      <th></th>\n",
       "    </tr>\n",
       "  </thead>\n",
       "  <tbody>\n",
       "    <tr>\n",
       "      <td>в разводе</td>\n",
       "      <td>1110</td>\n",
       "      <td>85</td>\n",
       "    </tr>\n",
       "    <tr>\n",
       "      <td>вдовец / вдова</td>\n",
       "      <td>896</td>\n",
       "      <td>63</td>\n",
       "    </tr>\n",
       "    <tr>\n",
       "      <td>гражданский брак</td>\n",
       "      <td>3763</td>\n",
       "      <td>388</td>\n",
       "    </tr>\n",
       "    <tr>\n",
       "      <td>женат / замужем</td>\n",
       "      <td>11408</td>\n",
       "      <td>931</td>\n",
       "    </tr>\n",
       "    <tr>\n",
       "      <td>не женат / не замужем</td>\n",
       "      <td>2536</td>\n",
       "      <td>274</td>\n",
       "    </tr>\n",
       "  </tbody>\n",
       "</table>\n",
       "</div>"
      ],
      "text/plain": [
       "debt                       0    1\n",
       "family_status                    \n",
       "в разводе               1110   85\n",
       "вдовец / вдова           896   63\n",
       "гражданский брак        3763  388\n",
       "женат / замужем        11408  931\n",
       "не женат / не замужем   2536  274"
      ]
     },
     "execution_count": 146,
     "metadata": {},
     "output_type": "execute_result"
    }
   ],
   "source": [
    "#создадим сводную таблицу зависимости наличия просрочек по кредиту в зависимости от семейного положения\n",
    "data_family_pivot = data.pivot_table(index=['family_status'], columns = 'debt', values='age', aggfunc='count')\n",
    "#выведем таблицу на экран\n",
    "data_family_pivot "
   ]
  },
  {
   "cell_type": "code",
   "execution_count": 147,
   "metadata": {},
   "outputs": [
    {
     "data": {
      "text/html": [
       "<div>\n",
       "<style scoped>\n",
       "    .dataframe tbody tr th:only-of-type {\n",
       "        vertical-align: middle;\n",
       "    }\n",
       "\n",
       "    .dataframe tbody tr th {\n",
       "        vertical-align: top;\n",
       "    }\n",
       "\n",
       "    .dataframe thead th {\n",
       "        text-align: right;\n",
       "    }\n",
       "</style>\n",
       "<table border=\"1\" class=\"dataframe\">\n",
       "  <thead>\n",
       "    <tr style=\"text-align: right;\">\n",
       "      <th>просрочка</th>\n",
       "      <th>нет</th>\n",
       "      <th>есть</th>\n",
       "      <th>ratio, %</th>\n",
       "    </tr>\n",
       "    <tr>\n",
       "      <th>цель</th>\n",
       "      <th></th>\n",
       "      <th></th>\n",
       "      <th></th>\n",
       "    </tr>\n",
       "  </thead>\n",
       "  <tbody>\n",
       "    <tr>\n",
       "      <td>вдовец / вдова</td>\n",
       "      <td>896</td>\n",
       "      <td>63</td>\n",
       "      <td>6.6</td>\n",
       "    </tr>\n",
       "    <tr>\n",
       "      <td>в разводе</td>\n",
       "      <td>1110</td>\n",
       "      <td>85</td>\n",
       "      <td>7.1</td>\n",
       "    </tr>\n",
       "    <tr>\n",
       "      <td>женат / замужем</td>\n",
       "      <td>11408</td>\n",
       "      <td>931</td>\n",
       "      <td>7.5</td>\n",
       "    </tr>\n",
       "    <tr>\n",
       "      <td>гражданский брак</td>\n",
       "      <td>3763</td>\n",
       "      <td>388</td>\n",
       "      <td>9.3</td>\n",
       "    </tr>\n",
       "    <tr>\n",
       "      <td>не женат / не замужем</td>\n",
       "      <td>2536</td>\n",
       "      <td>274</td>\n",
       "      <td>9.8</td>\n",
       "    </tr>\n",
       "  </tbody>\n",
       "</table>\n",
       "</div>"
      ],
      "text/plain": [
       "просрочка                нет  есть  ratio, %\n",
       "цель                                        \n",
       "вдовец / вдова           896    63       6.6\n",
       "в разводе               1110    85       7.1\n",
       "женат / замужем        11408   931       7.5\n",
       "гражданский брак        3763   388       9.3\n",
       "не женат / не замужем   2536   274       9.8"
      ]
     },
     "execution_count": 147,
     "metadata": {},
     "output_type": "execute_result"
    }
   ],
   "source": [
    "#добавим столбец с процентом просрочивших платеж в категории\n",
    "data_family_pivot['ratio, %'] = ((data_family_pivot[1] / (data_family_pivot[0] + data_family_pivot[1])) * 100).round(1)\n",
    "#переименуем названия столбцов и индексов, а также сами столбцы\n",
    "data_family_pivot.index.names = ['цель']\n",
    "data_family_pivot.columns.names = ['просрочка']\n",
    "data_family_pivot.rename(columns={0: 'нет', 1: 'есть'}, inplace=True)\n",
    "#выведем отсортированную по проценту просрочивших таблицу на экран\n",
    "data_family_pivot.sort_values(by = 'ratio, %') "
   ]
  },
  {
   "cell_type": "markdown",
   "metadata": {},
   "source": [
    "### Вывод"
   ]
  },
  {
   "cell_type": "markdown",
   "metadata": {},
   "source": [
    "<i> Была создана сводная таблица зависимости просрочки платежа по кредиту от семейного положения заемщика. Согласно результатам, заемщики, не состоящие или никогда не бывшие в браке, чаще допускают просрочки по кредитам. По моему мнению, это может быть связано с образом жизни, включающим в себя меньше обязательств, а так же с ведением более активной личной жизни, и, как следствие, большими тратами. </i>"
   ]
  },
  {
   "cell_type": "markdown",
   "metadata": {},
   "source": [
    "- Есть ли зависимость между уровнем дохода и возвратом кредита в срок?"
   ]
  },
  {
   "cell_type": "code",
   "execution_count": 148,
   "metadata": {},
   "outputs": [
    {
     "data": {
      "text/html": [
       "<div>\n",
       "<style scoped>\n",
       "    .dataframe tbody tr th:only-of-type {\n",
       "        vertical-align: middle;\n",
       "    }\n",
       "\n",
       "    .dataframe tbody tr th {\n",
       "        vertical-align: top;\n",
       "    }\n",
       "\n",
       "    .dataframe thead th {\n",
       "        text-align: right;\n",
       "    }\n",
       "</style>\n",
       "<table border=\"1\" class=\"dataframe\">\n",
       "  <thead>\n",
       "    <tr style=\"text-align: right;\">\n",
       "      <th>debt</th>\n",
       "      <th>0</th>\n",
       "      <th>1</th>\n",
       "    </tr>\n",
       "    <tr>\n",
       "      <th>income_rate</th>\n",
       "      <th></th>\n",
       "      <th></th>\n",
       "    </tr>\n",
       "  </thead>\n",
       "  <tbody>\n",
       "    <tr>\n",
       "      <td>высокий</td>\n",
       "      <td>1815</td>\n",
       "      <td>139</td>\n",
       "    </tr>\n",
       "    <tr>\n",
       "      <td>выше среднего</td>\n",
       "      <td>5840</td>\n",
       "      <td>532</td>\n",
       "    </tr>\n",
       "    <tr>\n",
       "      <td>низкий</td>\n",
       "      <td>4109</td>\n",
       "      <td>354</td>\n",
       "    </tr>\n",
       "    <tr>\n",
       "      <td>очень высокий</td>\n",
       "      <td>803</td>\n",
       "      <td>55</td>\n",
       "    </tr>\n",
       "    <tr>\n",
       "      <td>средний</td>\n",
       "      <td>7146</td>\n",
       "      <td>661</td>\n",
       "    </tr>\n",
       "  </tbody>\n",
       "</table>\n",
       "</div>"
      ],
      "text/plain": [
       "debt              0    1\n",
       "income_rate             \n",
       "высокий        1815  139\n",
       "выше среднего  5840  532\n",
       "низкий         4109  354\n",
       "очень высокий   803   55\n",
       "средний        7146  661"
      ]
     },
     "execution_count": 148,
     "metadata": {},
     "output_type": "execute_result"
    }
   ],
   "source": [
    "#создадим сводную таблицу зависимости наличия просрочек по кредиту в зависимости от уровня дохода\n",
    "data_income_pivot = data.pivot_table(index=['income_rate'], columns = 'debt', values='age', aggfunc='count')\n",
    "#выведем таблицу на экран\n",
    "data_income_pivot "
   ]
  },
  {
   "cell_type": "code",
   "execution_count": 149,
   "metadata": {},
   "outputs": [
    {
     "data": {
      "text/html": [
       "<div>\n",
       "<style scoped>\n",
       "    .dataframe tbody tr th:only-of-type {\n",
       "        vertical-align: middle;\n",
       "    }\n",
       "\n",
       "    .dataframe tbody tr th {\n",
       "        vertical-align: top;\n",
       "    }\n",
       "\n",
       "    .dataframe thead th {\n",
       "        text-align: right;\n",
       "    }\n",
       "</style>\n",
       "<table border=\"1\" class=\"dataframe\">\n",
       "  <thead>\n",
       "    <tr style=\"text-align: right;\">\n",
       "      <th>просрочка</th>\n",
       "      <th>нет</th>\n",
       "      <th>есть</th>\n",
       "      <th>ratio, %</th>\n",
       "    </tr>\n",
       "    <tr>\n",
       "      <th>цель</th>\n",
       "      <th></th>\n",
       "      <th></th>\n",
       "      <th></th>\n",
       "    </tr>\n",
       "  </thead>\n",
       "  <tbody>\n",
       "    <tr>\n",
       "      <td>очень высокий</td>\n",
       "      <td>803</td>\n",
       "      <td>55</td>\n",
       "      <td>6.4</td>\n",
       "    </tr>\n",
       "    <tr>\n",
       "      <td>высокий</td>\n",
       "      <td>1815</td>\n",
       "      <td>139</td>\n",
       "      <td>7.1</td>\n",
       "    </tr>\n",
       "    <tr>\n",
       "      <td>низкий</td>\n",
       "      <td>4109</td>\n",
       "      <td>354</td>\n",
       "      <td>7.9</td>\n",
       "    </tr>\n",
       "    <tr>\n",
       "      <td>выше среднего</td>\n",
       "      <td>5840</td>\n",
       "      <td>532</td>\n",
       "      <td>8.3</td>\n",
       "    </tr>\n",
       "    <tr>\n",
       "      <td>средний</td>\n",
       "      <td>7146</td>\n",
       "      <td>661</td>\n",
       "      <td>8.5</td>\n",
       "    </tr>\n",
       "  </tbody>\n",
       "</table>\n",
       "</div>"
      ],
      "text/plain": [
       "просрочка       нет  есть  ratio, %\n",
       "цель                               \n",
       "очень высокий   803    55       6.4\n",
       "высокий        1815   139       7.1\n",
       "низкий         4109   354       7.9\n",
       "выше среднего  5840   532       8.3\n",
       "средний        7146   661       8.5"
      ]
     },
     "execution_count": 149,
     "metadata": {},
     "output_type": "execute_result"
    }
   ],
   "source": [
    "#добавим столбец с процентом просрочивших платеж в категории\n",
    "data_income_pivot['ratio, %'] = ((data_income_pivot[1] / (data_income_pivot[0] + data_income_pivot[1])) * 100).round(1)\n",
    "data_income_pivot.index.names = ['цель']\n",
    "data_income_pivot.columns.names = ['просрочка']\n",
    "data_income_pivot.rename(columns={0: 'нет', 1: 'есть'}, inplace=True)\n",
    "#выведем отсортированную по проценту просрочивших таблицу на экран\n",
    "data_income_pivot.sort_values(by = 'ratio, %') "
   ]
  },
  {
   "cell_type": "markdown",
   "metadata": {},
   "source": [
    "### Вывод"
   ]
  },
  {
   "cell_type": "markdown",
   "metadata": {},
   "source": [
    "<i> Используя pivot_table создана сводная таблица зависимости просрочки платежа по кредиту от уровня дохода заемщика. Как и ожидалось, заемщики с высоким уровнем дохода реже пропускают платежи по кредитам. В то же время, заемщики с низким уровнем дохода реже допускают просрочки по кредитам, чем заемщики со средним уровнем. Это может быть связано с большей приспособленностью людей с низким доходом распределять свои расходы и планировать бюджет из-за частого недостатка средств. </i>"
   ]
  },
  {
   "cell_type": "markdown",
   "metadata": {},
   "source": [
    "- Как разные цели кредита влияют на его возврат в срок?"
   ]
  },
  {
   "cell_type": "code",
   "execution_count": 150,
   "metadata": {},
   "outputs": [
    {
     "data": {
      "text/html": [
       "<div>\n",
       "<style scoped>\n",
       "    .dataframe tbody tr th:only-of-type {\n",
       "        vertical-align: middle;\n",
       "    }\n",
       "\n",
       "    .dataframe tbody tr th {\n",
       "        vertical-align: top;\n",
       "    }\n",
       "\n",
       "    .dataframe thead th {\n",
       "        text-align: right;\n",
       "    }\n",
       "</style>\n",
       "<table border=\"1\" class=\"dataframe\">\n",
       "  <thead>\n",
       "    <tr style=\"text-align: right;\">\n",
       "      <th>debt</th>\n",
       "      <th>0</th>\n",
       "      <th>1</th>\n",
       "    </tr>\n",
       "    <tr>\n",
       "      <th>purpose_category</th>\n",
       "      <th></th>\n",
       "      <th></th>\n",
       "    </tr>\n",
       "  </thead>\n",
       "  <tbody>\n",
       "    <tr>\n",
       "      <td>автомобиль</td>\n",
       "      <td>3903</td>\n",
       "      <td>403</td>\n",
       "    </tr>\n",
       "    <tr>\n",
       "      <td>недвижимость</td>\n",
       "      <td>10029</td>\n",
       "      <td>782</td>\n",
       "    </tr>\n",
       "    <tr>\n",
       "      <td>образование</td>\n",
       "      <td>3643</td>\n",
       "      <td>370</td>\n",
       "    </tr>\n",
       "    <tr>\n",
       "      <td>свадьба</td>\n",
       "      <td>2138</td>\n",
       "      <td>186</td>\n",
       "    </tr>\n",
       "  </tbody>\n",
       "</table>\n",
       "</div>"
      ],
      "text/plain": [
       "debt                  0    1\n",
       "purpose_category            \n",
       "автомобиль         3903  403\n",
       "недвижимость      10029  782\n",
       "образование        3643  370\n",
       "свадьба            2138  186"
      ]
     },
     "execution_count": 150,
     "metadata": {},
     "output_type": "execute_result"
    }
   ],
   "source": [
    "#создадим сводную таблицу зависимости наличия просрочек по кредиту в зависимости от цели кредитования\n",
    "data_purpose_pivot = data.pivot_table(index=['purpose_category'], columns='debt', values='age', aggfunc='count')\n",
    "#выведем таблицу на экран\n",
    "data_purpose_pivot "
   ]
  },
  {
   "cell_type": "code",
   "execution_count": 151,
   "metadata": {},
   "outputs": [
    {
     "data": {
      "text/html": [
       "<div>\n",
       "<style scoped>\n",
       "    .dataframe tbody tr th:only-of-type {\n",
       "        vertical-align: middle;\n",
       "    }\n",
       "\n",
       "    .dataframe tbody tr th {\n",
       "        vertical-align: top;\n",
       "    }\n",
       "\n",
       "    .dataframe thead th {\n",
       "        text-align: right;\n",
       "    }\n",
       "</style>\n",
       "<table border=\"1\" class=\"dataframe\">\n",
       "  <thead>\n",
       "    <tr style=\"text-align: right;\">\n",
       "      <th>просрочка</th>\n",
       "      <th>нет</th>\n",
       "      <th>есть</th>\n",
       "      <th>ratio, %</th>\n",
       "    </tr>\n",
       "    <tr>\n",
       "      <th>цель</th>\n",
       "      <th></th>\n",
       "      <th></th>\n",
       "      <th></th>\n",
       "    </tr>\n",
       "  </thead>\n",
       "  <tbody>\n",
       "    <tr>\n",
       "      <td>недвижимость</td>\n",
       "      <td>10029</td>\n",
       "      <td>782</td>\n",
       "      <td>7.2</td>\n",
       "    </tr>\n",
       "    <tr>\n",
       "      <td>свадьба</td>\n",
       "      <td>2138</td>\n",
       "      <td>186</td>\n",
       "      <td>8.0</td>\n",
       "    </tr>\n",
       "    <tr>\n",
       "      <td>образование</td>\n",
       "      <td>3643</td>\n",
       "      <td>370</td>\n",
       "      <td>9.2</td>\n",
       "    </tr>\n",
       "    <tr>\n",
       "      <td>автомобиль</td>\n",
       "      <td>3903</td>\n",
       "      <td>403</td>\n",
       "      <td>9.4</td>\n",
       "    </tr>\n",
       "  </tbody>\n",
       "</table>\n",
       "</div>"
      ],
      "text/plain": [
       "просрочка       нет  есть  ratio, %\n",
       "цель                               \n",
       "недвижимость  10029   782       7.2\n",
       "свадьба        2138   186       8.0\n",
       "образование    3643   370       9.2\n",
       "автомобиль     3903   403       9.4"
      ]
     },
     "execution_count": 151,
     "metadata": {},
     "output_type": "execute_result"
    }
   ],
   "source": [
    "#добавим столбец с процентом просрочивших платеж в категории\n",
    "data_purpose_pivot['ratio, %'] = ((data_purpose_pivot[1] / (data_purpose_pivot[0] + data_purpose_pivot[1])) * 100).round(1)\n",
    "data_purpose_pivot.index.names = ['цель']\n",
    "data_purpose_pivot.columns.names = ['просрочка']\n",
    "data_purpose_pivot.rename(columns={0: 'нет', 1: 'есть'}, inplace=True)\n",
    "#выведем отсортированную по проценту просрочивших таблицу на экран\n",
    "data_purpose_pivot.sort_values(by = 'ratio, %') "
   ]
  },
  {
   "cell_type": "markdown",
   "metadata": {},
   "source": [
    "### Вывод"
   ]
  },
  {
   "cell_type": "markdown",
   "metadata": {},
   "source": [
    "<i> Как видно из сводной таблицы, меньше всего просрочек по кредитам на недвижимость, так как это самая доростоящая из целей и лишиться ее наиболее неприятно и затратно. Более высокий процент просрочек по автокредитам может быть обусловлен тем, что в России автомобиль - не только средство передвижения, но и статуса, что зачастую приводит к непосильно взятым кредитам.</i>"
   ]
  },
  {
   "cell_type": "markdown",
   "metadata": {},
   "source": [
    "Добавим исследование по еще одному признаку:\n",
    "- Есть ли зависимость между обзразованием заемщика и возвратом кредита в срок?"
   ]
  },
  {
   "cell_type": "code",
   "execution_count": 152,
   "metadata": {},
   "outputs": [
    {
     "data": {
      "text/html": [
       "<div>\n",
       "<style scoped>\n",
       "    .dataframe tbody tr th:only-of-type {\n",
       "        vertical-align: middle;\n",
       "    }\n",
       "\n",
       "    .dataframe tbody tr th {\n",
       "        vertical-align: top;\n",
       "    }\n",
       "\n",
       "    .dataframe thead th {\n",
       "        text-align: right;\n",
       "    }\n",
       "</style>\n",
       "<table border=\"1\" class=\"dataframe\">\n",
       "  <thead>\n",
       "    <tr style=\"text-align: right;\">\n",
       "      <th>debt</th>\n",
       "      <th>0</th>\n",
       "      <th>1</th>\n",
       "    </tr>\n",
       "    <tr>\n",
       "      <th>education</th>\n",
       "      <th></th>\n",
       "      <th></th>\n",
       "    </tr>\n",
       "  </thead>\n",
       "  <tbody>\n",
       "    <tr>\n",
       "      <td>высшее</td>\n",
       "      <td>4972.0</td>\n",
       "      <td>278.0</td>\n",
       "    </tr>\n",
       "    <tr>\n",
       "      <td>начальное</td>\n",
       "      <td>251.0</td>\n",
       "      <td>31.0</td>\n",
       "    </tr>\n",
       "    <tr>\n",
       "      <td>неоконченное высшее</td>\n",
       "      <td>676.0</td>\n",
       "      <td>68.0</td>\n",
       "    </tr>\n",
       "    <tr>\n",
       "      <td>среднее</td>\n",
       "      <td>13808.0</td>\n",
       "      <td>1364.0</td>\n",
       "    </tr>\n",
       "    <tr>\n",
       "      <td>ученая степень</td>\n",
       "      <td>6.0</td>\n",
       "      <td>NaN</td>\n",
       "    </tr>\n",
       "  </tbody>\n",
       "</table>\n",
       "</div>"
      ],
      "text/plain": [
       "debt                       0       1\n",
       "education                           \n",
       "высшее                4972.0   278.0\n",
       "начальное              251.0    31.0\n",
       "неоконченное высшее    676.0    68.0\n",
       "среднее              13808.0  1364.0\n",
       "ученая степень           6.0     NaN"
      ]
     },
     "execution_count": 152,
     "metadata": {},
     "output_type": "execute_result"
    }
   ],
   "source": [
    "#создадим сводную таблицу зависимости наличия просрочек по кредиту в зависимости от образования заемщика\n",
    "data_education_pivot = data.pivot_table(index=['education'], columns='debt', values='age', aggfunc='count')\n",
    "#выведем таблицу на экран\n",
    "data_education_pivot "
   ]
  },
  {
   "cell_type": "code",
   "execution_count": 153,
   "metadata": {},
   "outputs": [
    {
     "data": {
      "text/html": [
       "<div>\n",
       "<style scoped>\n",
       "    .dataframe tbody tr th:only-of-type {\n",
       "        vertical-align: middle;\n",
       "    }\n",
       "\n",
       "    .dataframe tbody tr th {\n",
       "        vertical-align: top;\n",
       "    }\n",
       "\n",
       "    .dataframe thead th {\n",
       "        text-align: right;\n",
       "    }\n",
       "</style>\n",
       "<table border=\"1\" class=\"dataframe\">\n",
       "  <thead>\n",
       "    <tr style=\"text-align: right;\">\n",
       "      <th>просрочка</th>\n",
       "      <th>нет</th>\n",
       "      <th>есть</th>\n",
       "      <th>ratio, %</th>\n",
       "    </tr>\n",
       "    <tr>\n",
       "      <th>цель</th>\n",
       "      <th></th>\n",
       "      <th></th>\n",
       "      <th></th>\n",
       "    </tr>\n",
       "  </thead>\n",
       "  <tbody>\n",
       "    <tr>\n",
       "      <td>высшее</td>\n",
       "      <td>4972.0</td>\n",
       "      <td>278.0</td>\n",
       "      <td>5.3</td>\n",
       "    </tr>\n",
       "    <tr>\n",
       "      <td>среднее</td>\n",
       "      <td>13808.0</td>\n",
       "      <td>1364.0</td>\n",
       "      <td>9.0</td>\n",
       "    </tr>\n",
       "    <tr>\n",
       "      <td>неоконченное высшее</td>\n",
       "      <td>676.0</td>\n",
       "      <td>68.0</td>\n",
       "      <td>9.1</td>\n",
       "    </tr>\n",
       "    <tr>\n",
       "      <td>начальное</td>\n",
       "      <td>251.0</td>\n",
       "      <td>31.0</td>\n",
       "      <td>11.0</td>\n",
       "    </tr>\n",
       "    <tr>\n",
       "      <td>ученая степень</td>\n",
       "      <td>6.0</td>\n",
       "      <td>NaN</td>\n",
       "      <td>NaN</td>\n",
       "    </tr>\n",
       "  </tbody>\n",
       "</table>\n",
       "</div>"
      ],
      "text/plain": [
       "просрочка                нет    есть  ratio, %\n",
       "цель                                          \n",
       "высшее                4972.0   278.0       5.3\n",
       "среднее              13808.0  1364.0       9.0\n",
       "неоконченное высшее    676.0    68.0       9.1\n",
       "начальное              251.0    31.0      11.0\n",
       "ученая степень           6.0     NaN       NaN"
      ]
     },
     "execution_count": 153,
     "metadata": {},
     "output_type": "execute_result"
    }
   ],
   "source": [
    "#добавим столбец с процентом просрочивших платеж в категории\n",
    "data_education_pivot['ratio, %'] = ((data_education_pivot[1] / (data_education_pivot[0] + data_education_pivot[1])) * 100).round(1)\n",
    "data_education_pivot.index.names = ['цель']\n",
    "data_education_pivot.columns.names = ['просрочка']\n",
    "data_education_pivot.rename(columns={0: 'нет', 1: 'есть'}, inplace=True)\n",
    "#выведем отсортированную по проценту просрочивших таблицу на экран\n",
    "data_education_pivot.sort_values(by = 'ratio, %') "
   ]
  },
  {
   "cell_type": "markdown",
   "metadata": {},
   "source": [
    "Очень интересные результаты получились при проверке зависимости просрочки выплат кредитов от образования замещика. Как мы видим, с ростом образования процент просрочек понижается, исключений нет. Вероятно образование дает не только глубокие профессиональные знания, но и развивает навыки, полезные в повседневной жизни."
   ]
  },
  {
   "cell_type": "markdown",
   "metadata": {},
   "source": [
    "### Шаг 4. Общий вывод <a id='step4'></a>"
   ]
  },
  {
   "cell_type": "markdown",
   "metadata": {},
   "source": [
    "Мной была проведена работа по исследованию надежности заемщиков. Она состояла из следующих этапов:\n",
    "<h4> Открытие файла </h4> \n",
    "Был произведен импорт библиотеки pandas и загрузка файла при помощи read_csv() и дальнейший вывод информации о датафрейме.\n",
    "<h4> Обработка пропусков </h4> \n",
    "Были заменены пропуски в столбцах 'days_employed' и 'total_income' на средние и медианные значения, рассчитаны медианные значения в зависимости от категорий заемщиков, убраны отрицательные значения методом .abs()\n",
    "<h4> Замена типа данных </h4>\n",
    "Тип данных в столбцах 'days_employed' и 'total_income' был заменен на целочисленный методом .astype(), так как высокая точность числовых значений в данном исследовании не так важна.\n",
    "<h4> Обработка дубликатов </h4>\n",
    "Рассчитал количество дубликатов строк в таблице. Значения в столбце 'education' и 'family_status' были приведены к одному регистру методом .str.lower(). Увеличившееся количество дубликатов было удалено методом .drop_duplicates() совместно с .reset_index()\n",
    "<h4> Лемматизация </h4>\n",
    "Произведена лемматизация по столбцу 'purpose' с последующим применением Counter для поиска наиболее часто встречабщихся целей и составления 'словаря' с ними. Далее написал функцию, сравнивающую слова в ячейке после лемматизации со словами из словаря, при совпадении возвращающая совпавшее значение. Применил функцию к датафрейму, получив новый столбец с категорией цели кредита.\n",
    "<h4> Категоризация данных </h4>\n",
    "Данные были категоризированы по 4 признакам:\n",
    "1. Количество детей у заемщика\n",
    "2. Семейное положение\n",
    "3. Доход\n",
    "4. Цель кредита\n",
    "Была написана функция child_cat, получающая на вход количество детей и возвращающая значение ('бездетный', 'малодетный' или 'многодетный') согласно общепринятой классфикации, функция была применена к датафрейму data.\n",
    "Аналогично с уровнем дохода заемщика, функция, возвращающая значение ('высокий', 'средний', 'низкий').\n",
    "Категоризация по семейному положению и цели кредита уже существовала в таблице.\n",
    "<h4> Ответы на вопросы </h4>\n",
    "По каждой из категорий была выведена сводная таблица зависимости наличия долга по кредиту от отношения заемщика к определенной категории.\n",
    "Исследование показало не очень высокую зависимость наличия долга от категории, к которой относится заемщик.\n",
    "Реже всего просрачивают кредиты бездетные заемщики, вдовы и вдовцы, люди с высоким доходом, а также заемщики, берущие кредиты на жилье.\n",
    "Чаще всего долги по кредитам возникают у людей не состоящих в браке, и никогда в нем не состоявших, заемщиков со средним доходом, малодетных семей и берущих автокредиты, а также заемщиков с низким уровнем образования."
   ]
  }
 ],
 "metadata": {
  "kernelspec": {
   "display_name": "Python 3",
   "language": "python",
   "name": "python3"
  },
  "language_info": {
   "codemirror_mode": {
    "name": "ipython",
    "version": 3
   },
   "file_extension": ".py",
   "mimetype": "text/x-python",
   "name": "python",
   "nbconvert_exporter": "python",
   "pygments_lexer": "ipython3",
   "version": "3.7.6"
  }
 },
 "nbformat": 4,
 "nbformat_minor": 2
}
