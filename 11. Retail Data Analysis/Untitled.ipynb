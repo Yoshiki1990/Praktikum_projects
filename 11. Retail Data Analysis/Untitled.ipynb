{
 "cells": [
  {
   "cell_type": "code",
   "execution_count": 1,
   "id": "second-presentation",
   "metadata": {},
   "outputs": [],
   "source": [
    "from math import factorial as fac\n",
    "from fractions import Fraction as drob\n",
    "\n",
    "def C(k,n):\n",
    "    return drob(fac(n), fac(k)*fac(n-k))"
   ]
  },
  {
   "cell_type": "code",
   "execution_count": 2,
   "id": "controlling-expression",
   "metadata": {},
   "outputs": [
    {
     "data": {
      "text/plain": [
       "Fraction(286, 1)"
      ]
     },
     "execution_count": 2,
     "metadata": {},
     "output_type": "execute_result"
    }
   ],
   "source": [
    "C(3, 13)"
   ]
  },
  {
   "cell_type": "code",
   "execution_count": 3,
   "id": "overhead-drawing",
   "metadata": {},
   "outputs": [
    {
     "data": {
      "text/plain": [
       "Fraction(6, 1)"
      ]
     },
     "execution_count": 3,
     "metadata": {},
     "output_type": "execute_result"
    }
   ],
   "source": [
    "C(2, 4)"
   ]
  },
  {
   "cell_type": "code",
   "execution_count": 4,
   "id": "oriented-nurse",
   "metadata": {},
   "outputs": [
    {
     "data": {
      "text/plain": [
       "Fraction(20358520, 1)"
      ]
     },
     "execution_count": 4,
     "metadata": {},
     "output_type": "execute_result"
    }
   ],
   "source": [
    "C(6, 52)"
   ]
  },
  {
   "cell_type": "code",
   "execution_count": 5,
   "id": "western-blond",
   "metadata": {},
   "outputs": [
    {
     "data": {
      "text/plain": [
       "Fraction(575757, 1)"
      ]
     },
     "execution_count": 5,
     "metadata": {},
     "output_type": "execute_result"
    }
   ],
   "source": [
    "C(5, 39)"
   ]
  },
  {
   "cell_type": "code",
   "execution_count": 6,
   "id": "through-campbell",
   "metadata": {},
   "outputs": [
    {
     "data": {
      "text/plain": [
       "Fraction(44909046, 1)"
      ]
     },
     "execution_count": 6,
     "metadata": {},
     "output_type": "execute_result"
    }
   ],
   "source": [
    "C(2, 13) * C(5, 39)"
   ]
  },
  {
   "cell_type": "code",
   "execution_count": 9,
   "id": "cheap-security",
   "metadata": {},
   "outputs": [
    {
     "data": {
      "text/plain": [
       "Fraction(4719, 195755)"
      ]
     },
     "execution_count": 9,
     "metadata": {},
     "output_type": "execute_result"
    }
   ],
   "source": [
    "(C(3, 13) * C(3, 13) * C(2, 4)) / C(6, 52)"
   ]
  },
  {
   "cell_type": "code",
   "execution_count": 12,
   "id": "cardiovascular-simpson",
   "metadata": {},
   "outputs": [
    {
     "data": {
      "text/plain": [
       "Fraction(660117, 783020)"
      ]
     },
     "execution_count": 12,
     "metadata": {},
     "output_type": "execute_result"
    }
   ],
   "source": [
    "(C(1, 13) * C(5, 39) + C(2, 13) * C(4, 39) + C(6, 39)) / C(6, 52)"
   ]
  },
  {
   "cell_type": "code",
   "execution_count": 188,
   "id": "indie-frank",
   "metadata": {},
   "outputs": [],
   "source": [
    "r = (5, 4, 3, 2)\n",
    "s = (12, 20, 7, 11)\n",
    "lst = []\n",
    "for i in range (0, len(r)):\n",
    "    lst.append([r[i] for x in range(s[i])])"
   ]
  },
  {
   "cell_type": "code",
   "execution_count": 191,
   "id": "pointed-summary",
   "metadata": {},
   "outputs": [
    {
     "data": {
      "text/plain": [
       "[[5, 5, 5, 5, 5, 5, 5, 5, 5, 5, 5, 5],\n",
       " [4, 4, 4, 4, 4, 4, 4, 4, 4, 4, 4, 4, 4, 4, 4, 4, 4, 4, 4, 4],\n",
       " [3, 3, 3, 3, 3, 3, 3],\n",
       " [2, 2, 2, 2, 2, 2, 2, 2, 2, 2, 2]]"
      ]
     },
     "execution_count": 191,
     "metadata": {},
     "output_type": "execute_result"
    }
   ],
   "source": [
    "lst"
   ]
  },
  {
   "cell_type": "code",
   "execution_count": 166,
   "id": "fabulous-yeast",
   "metadata": {},
   "outputs": [],
   "source": [
    "import pandas as pd\n",
    "import numpy as np\n",
    "import statistics\n",
    "from statistics import median"
   ]
  },
  {
   "cell_type": "code",
   "execution_count": 167,
   "id": "collective-lemon",
   "metadata": {},
   "outputs": [],
   "source": [
    "newlist = [int(str) for sublist in lst for str in sublist]"
   ]
  },
  {
   "cell_type": "code",
   "execution_count": 168,
   "id": "aggressive-training",
   "metadata": {},
   "outputs": [
    {
     "data": {
      "text/plain": [
       "[5,\n",
       " 5,\n",
       " 5,\n",
       " 5,\n",
       " 5,\n",
       " 5,\n",
       " 5,\n",
       " 5,\n",
       " 5,\n",
       " 5,\n",
       " 5,\n",
       " 5,\n",
       " 4,\n",
       " 4,\n",
       " 4,\n",
       " 4,\n",
       " 4,\n",
       " 4,\n",
       " 4,\n",
       " 4,\n",
       " 4,\n",
       " 4,\n",
       " 4,\n",
       " 4,\n",
       " 4,\n",
       " 4,\n",
       " 4,\n",
       " 4,\n",
       " 4,\n",
       " 4,\n",
       " 4,\n",
       " 4,\n",
       " 3,\n",
       " 3,\n",
       " 3,\n",
       " 3,\n",
       " 3,\n",
       " 3,\n",
       " 3,\n",
       " 2,\n",
       " 2,\n",
       " 2,\n",
       " 2,\n",
       " 2,\n",
       " 2,\n",
       " 2,\n",
       " 2,\n",
       " 2,\n",
       " 2,\n",
       " 2]"
      ]
     },
     "execution_count": 168,
     "metadata": {},
     "output_type": "execute_result"
    }
   ],
   "source": [
    "newlist"
   ]
  },
  {
   "cell_type": "code",
   "execution_count": 170,
   "id": "blond-composite",
   "metadata": {},
   "outputs": [
    {
     "data": {
      "text/plain": [
       "4.0"
      ]
     },
     "execution_count": 170,
     "metadata": {},
     "output_type": "execute_result"
    }
   ],
   "source": [
    "np.median(newlist)"
   ]
  },
  {
   "cell_type": "code",
   "execution_count": null,
   "id": "minute-significance",
   "metadata": {},
   "outputs": [],
   "source": []
  }
 ],
 "metadata": {
  "kernelspec": {
   "display_name": "Python 3",
   "language": "python",
   "name": "python3"
  },
  "language_info": {
   "codemirror_mode": {
    "name": "ipython",
    "version": 3
   },
   "file_extension": ".py",
   "mimetype": "text/x-python",
   "name": "python",
   "nbconvert_exporter": "python",
   "pygments_lexer": "ipython3",
   "version": "3.7.6"
  }
 },
 "nbformat": 4,
 "nbformat_minor": 5
}
