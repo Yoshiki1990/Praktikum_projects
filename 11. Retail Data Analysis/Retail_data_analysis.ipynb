{
 "cells": [
  {
   "cell_type": "markdown",
   "metadata": {},
   "source": [
    "**Привет!**\n",
    "\n",
    "Меня зовут Матушевич Ольга, и я буду проверять твой проект. Предлагаю общаться на «ты» :) Но если это не удобно - дай знать, и мы перейдем на \"вы\". \n",
    "\n",
    "Моя основная цель — не указать на совершенные тобою ошибки, а поделиться своим опытом и помочь тебе стать аналитиком данных. Ты уже проделал большую работу над проектом, но давай сделаем его еще лучше. Ниже ты найдешь мои комментарии - пожалуйста, не перемещай, не изменяй и не удаляй их. Я буду использовать цветовую разметку:\n",
    "\n",
    "<div class=\"alert alert-danger\">\n",
    "<b>Комментарий тимлида:</b> Так выделены самые важные замечания. Без их отработки проект не будет принят. </div>\n",
    "\n",
    "<div class=\"alert alert-warning\">\n",
    "<b>Комментарий тимлида:</b> Так выделены небольшие замечания. Одна-два таких замечания в проекте допустимы, но если их будет больше - тебе будет необходимо внести исправления. Это как тестовое задание при приеме на работу: очень много мелких ошибок могут стать причиной отказа кандидату. \n",
    "\n",
    "</div>\n",
    "\n",
    "<div class=\"alert alert-success\">\n",
    "<b>Комментарий тимлида:</b> Так я выделяю все остальные комментарии.</div>\n",
    "\n",
    "Давай работать над проектом в диалоге: если ты что-то меняешь в проекте или отвечаешь на мои комменатри — пиши об этом. Мне будет легче отследить изменения, если ты выделишь свои комментарии:\n",
    "<div class=\"alert alert-info\"> <b>Комментарий студента:</b> Например, вот так.</div>\n",
    "\n",
    "Всё это поможет выполнить повторную проверку твоего проекта оперативнее. "
   ]
  },
  {
   "cell_type": "markdown",
   "metadata": {},
   "source": [
    "### Описание проекта\n",
    "\n",
    "#### Задача:\n",
    "\n",
    "Оцените эффективность магазинов сети.\n",
    "\n",
    "- Проведите исследовательский анализ данных;\n",
    "- Оцените эффективность;\n",
    "- Сформулируйте и проверьте статистические гипотезы."
   ]
  },
  {
   "cell_type": "markdown",
   "metadata": {},
   "source": [
    "### Содержание <a id='contents'></a>\n",
    "\n",
    "1. [Шаг 1. Загрузка и предобработка данных](#step1)\n",
    "    * [Загрузка данных и вывод общей информации о датафреймах](#step1.1)\n",
    "    * [Переименование признаков](#step1.2)\n",
    "    * [Исследование и замена пропущенных значений](#step1.3)\n",
    "    * [Исследование типов данных на соответствие и их замена](#step1.4)\n",
    "    * [Поиск и удаление дубликатов](#step1.5)<br>\n",
    "    <br>    \n",
    "2. [Шаг 2. Исследовательский анализ данных (EDA)](#step2)\n",
    "    * [Работа с выбросами](#step2.1)\n",
    "    * [Рассчитать выручку по магазинам, найти Топ 10 магазинов по выручке, построить графики](#step2.2)\n",
    "    * [Рассчитать средний чек по магазинам, найти Топ 10 магазинов по среднему чеку, построить графики](#step2.3)\n",
    "    * [Рассчитать среднее кол-во товаров (SKU) в чеке по магазинам, построить графики](#step2.4)\n",
    "    * [Рассчитать среднее кол-во возвратов по магазинам, построить графики](#step2.5)\n",
    "    * [Общие выводы по ключевым показателям](#step2.6)<br>\n",
    "    <br>\n",
    "3. [Шаг 3. Проверка гипотез влияния участия в программе лояльности на ключевые показатели](#step3)\n",
    "    * [Разделить все магазины на две группы (по участию в программе лояльности)](#step3.1)\n",
    "    * [Определить, есть ли различие в среднем чеке для каждой группы](#step3.2)\n",
    "    * [Определить, есть ли различие в кол-ве SKU в чеке для каждой группы](#step3.3)\n",
    "    * [Определить, если ли различие в среднем кол-ве покупок для групп](#step3.4)\n",
    "    * [Сделать выводы: как программа лояльности влияет на эффективность магазинов](#step3.5)<br>\n",
    "    <br>\n",
    "4. [Шаг 4. Общие выводы по работе](#step4)\n",
    "5. [Презентация](https://yadi.sk/d/IZ0Zy6audDDx2A) \n",
    "6. [Дашборд:](https://public.tableau.com/profile/denis5469#!/vizhome/Retail_dash/Dashboard1?publish=yes) "
   ]
  },
  {
   "cell_type": "markdown",
   "metadata": {},
   "source": [
    "<div class=\"alert alert-success\">\n",
    "<b>Комментарий тимлида v2:</b> Хорошая минималистичная презентация. Дашборд соотвествует всем требованиям, но дни без продаж отображены не очень удачно: в идеале на их месте должны быть столбики нулевой высоты, а у тебя просто удалены эти даты. Это не идеальное, но допустимое решение.\n",
    "\n",
    "</div>"
   ]
  },
  {
   "cell_type": "markdown",
   "metadata": {},
   "source": [
    "### Шаг 1. Загрузка и предобработка данных <a id='step1'></a>\n",
    "[К содержанию](#contents)\n",
    "\n",
    "#### Загрузка данных и вывод общей информации о датафреймах <a id='step1.1'></a>"
   ]
  },
  {
   "cell_type": "markdown",
   "metadata": {},
   "source": [
    "Импортируем необходимые библиотеки и настройки:"
   ]
  },
  {
   "cell_type": "code",
   "execution_count": 1,
   "metadata": {},
   "outputs": [],
   "source": [
    "import pandas as pd\n",
    "import numpy as np\n",
    "import matplotlib.pyplot as plt\n",
    "import seaborn as sns\n",
    "import math as mth\n",
    "sns.set(rc = {'figure.figsize':(15, 8)}) #размеры графика для seaborn\n",
    "import warnings\n",
    "warnings.filterwarnings('ignore') #отключим вывод предупреждений python\n",
    "from scipy import stats as st\n",
    "from termcolor import colored"
   ]
  },
  {
   "cell_type": "code",
   "execution_count": 2,
   "metadata": {},
   "outputs": [],
   "source": [
    "#округление чисел float до двух знаков после запятой\n",
    "pd.options.display.float_format = '{:.2f}'.format"
   ]
  },
  {
   "cell_type": "markdown",
   "metadata": {},
   "source": [
    "Загрузим исходные данные:"
   ]
  },
  {
   "cell_type": "code",
   "execution_count": 3,
   "metadata": {},
   "outputs": [],
   "source": [
    "retail = pd.read_csv('/datasets/retail_dataset.csv')\n",
    "codes = pd.read_csv('/datasets/product_codes.csv')"
   ]
  },
  {
   "cell_type": "markdown",
   "metadata": {},
   "source": [
    "Ознакомимся с датафреймами и выведем общую информацию о них:"
   ]
  },
  {
   "cell_type": "code",
   "execution_count": 4,
   "metadata": {
    "scrolled": false
   },
   "outputs": [
    {
     "data": {
      "text/html": [
       "<div>\n",
       "<style scoped>\n",
       "    .dataframe tbody tr th:only-of-type {\n",
       "        vertical-align: middle;\n",
       "    }\n",
       "\n",
       "    .dataframe tbody tr th {\n",
       "        vertical-align: top;\n",
       "    }\n",
       "\n",
       "    .dataframe thead th {\n",
       "        text-align: right;\n",
       "    }\n",
       "</style>\n",
       "<table border=\"1\" class=\"dataframe\">\n",
       "  <thead>\n",
       "    <tr style=\"text-align: right;\">\n",
       "      <th></th>\n",
       "      <th>purchaseid</th>\n",
       "      <th>item_ID</th>\n",
       "      <th>Quantity</th>\n",
       "      <th>purchasedate</th>\n",
       "      <th>CustomerID</th>\n",
       "      <th>ShopID</th>\n",
       "      <th>loyalty_program</th>\n",
       "    </tr>\n",
       "  </thead>\n",
       "  <tbody>\n",
       "    <tr>\n",
       "      <td>0</td>\n",
       "      <td>538280</td>\n",
       "      <td>21873</td>\n",
       "      <td>11</td>\n",
       "      <td>2016-12-10 12:50:00</td>\n",
       "      <td>18427.00</td>\n",
       "      <td>Shop 0</td>\n",
       "      <td>0.00</td>\n",
       "    </tr>\n",
       "    <tr>\n",
       "      <td>1</td>\n",
       "      <td>538862</td>\n",
       "      <td>22195</td>\n",
       "      <td>0</td>\n",
       "      <td>2016-12-14 14:11:00</td>\n",
       "      <td>22389.00</td>\n",
       "      <td>Shop 0</td>\n",
       "      <td>1.00</td>\n",
       "    </tr>\n",
       "    <tr>\n",
       "      <td>2</td>\n",
       "      <td>538855</td>\n",
       "      <td>21239</td>\n",
       "      <td>7</td>\n",
       "      <td>2016-12-14 13:50:00</td>\n",
       "      <td>22182.00</td>\n",
       "      <td>Shop 0</td>\n",
       "      <td>1.00</td>\n",
       "    </tr>\n",
       "    <tr>\n",
       "      <td>3</td>\n",
       "      <td>543543</td>\n",
       "      <td>22271</td>\n",
       "      <td>0</td>\n",
       "      <td>2017-02-09 15:33:00</td>\n",
       "      <td>23522.00</td>\n",
       "      <td>Shop 0</td>\n",
       "      <td>1.00</td>\n",
       "    </tr>\n",
       "    <tr>\n",
       "      <td>4</td>\n",
       "      <td>543812</td>\n",
       "      <td>79321</td>\n",
       "      <td>0</td>\n",
       "      <td>2017-02-13 14:40:00</td>\n",
       "      <td>23151.00</td>\n",
       "      <td>Shop 0</td>\n",
       "      <td>1.00</td>\n",
       "    </tr>\n",
       "  </tbody>\n",
       "</table>\n",
       "</div>"
      ],
      "text/plain": [
       "  purchaseid item_ID  Quantity         purchasedate  CustomerID  ShopID  \\\n",
       "0     538280   21873        11  2016-12-10 12:50:00    18427.00  Shop 0   \n",
       "1     538862   22195         0  2016-12-14 14:11:00    22389.00  Shop 0   \n",
       "2     538855   21239         7  2016-12-14 13:50:00    22182.00  Shop 0   \n",
       "3     543543   22271         0  2017-02-09 15:33:00    23522.00  Shop 0   \n",
       "4     543812   79321         0  2017-02-13 14:40:00    23151.00  Shop 0   \n",
       "\n",
       "   loyalty_program  \n",
       "0             0.00  \n",
       "1             1.00  \n",
       "2             1.00  \n",
       "3             1.00  \n",
       "4             1.00  "
      ]
     },
     "metadata": {},
     "output_type": "display_data"
    },
    {
     "name": "stdout",
     "output_type": "stream",
     "text": [
      "<class 'pandas.core.frame.DataFrame'>\n",
      "RangeIndex: 105335 entries, 0 to 105334\n",
      "Data columns (total 7 columns):\n",
      "purchaseid         105335 non-null object\n",
      "item_ID            105335 non-null object\n",
      "Quantity           105335 non-null int64\n",
      "purchasedate       105335 non-null object\n",
      "CustomerID         69125 non-null float64\n",
      "ShopID             105335 non-null object\n",
      "loyalty_program    105335 non-null float64\n",
      "dtypes: float64(2), int64(1), object(4)\n",
      "memory usage: 5.6+ MB\n"
     ]
    },
    {
     "data": {
      "text/plain": [
       "None"
      ]
     },
     "metadata": {},
     "output_type": "display_data"
    }
   ],
   "source": [
    "display(retail.head())\n",
    "display(retail.info())"
   ]
  },
  {
   "cell_type": "markdown",
   "metadata": {},
   "source": [
    "Датасет содержит следующие признаки:\n",
    "\n",
    "- `purchaseId` — id чека;\n",
    "- `item_ID` — id товара;\n",
    "- `purchasedate` — дата покупки;\n",
    "- `Quantity` — количество товара;\n",
    "- `CustomerID` — id покупателя;\n",
    "- `ShopID` — id магазина;\n",
    "- `loyalty_program` — участвует ли покупатель в программе лояльности;"
   ]
  },
  {
   "cell_type": "code",
   "execution_count": 5,
   "metadata": {},
   "outputs": [
    {
     "data": {
      "text/html": [
       "<div>\n",
       "<style scoped>\n",
       "    .dataframe tbody tr th:only-of-type {\n",
       "        vertical-align: middle;\n",
       "    }\n",
       "\n",
       "    .dataframe tbody tr th {\n",
       "        vertical-align: top;\n",
       "    }\n",
       "\n",
       "    .dataframe thead th {\n",
       "        text-align: right;\n",
       "    }\n",
       "</style>\n",
       "<table border=\"1\" class=\"dataframe\">\n",
       "  <thead>\n",
       "    <tr style=\"text-align: right;\">\n",
       "      <th></th>\n",
       "      <th>productID</th>\n",
       "      <th>price_per_one</th>\n",
       "    </tr>\n",
       "  </thead>\n",
       "  <tbody>\n",
       "    <tr>\n",
       "      <td>0</td>\n",
       "      <td>85123A</td>\n",
       "      <td>2.55</td>\n",
       "    </tr>\n",
       "    <tr>\n",
       "      <td>1</td>\n",
       "      <td>71053</td>\n",
       "      <td>3.39</td>\n",
       "    </tr>\n",
       "    <tr>\n",
       "      <td>2</td>\n",
       "      <td>84406B</td>\n",
       "      <td>2.75</td>\n",
       "    </tr>\n",
       "    <tr>\n",
       "      <td>3</td>\n",
       "      <td>84029G</td>\n",
       "      <td>3.39</td>\n",
       "    </tr>\n",
       "    <tr>\n",
       "      <td>4</td>\n",
       "      <td>84029E</td>\n",
       "      <td>3.39</td>\n",
       "    </tr>\n",
       "  </tbody>\n",
       "</table>\n",
       "</div>"
      ],
      "text/plain": [
       "  productID  price_per_one\n",
       "0    85123A           2.55\n",
       "1     71053           3.39\n",
       "2    84406B           2.75\n",
       "3    84029G           3.39\n",
       "4    84029E           3.39"
      ]
     },
     "metadata": {},
     "output_type": "display_data"
    },
    {
     "name": "stdout",
     "output_type": "stream",
     "text": [
      "<class 'pandas.core.frame.DataFrame'>\n",
      "RangeIndex: 9969 entries, 0 to 9968\n",
      "Data columns (total 2 columns):\n",
      "productID        9969 non-null object\n",
      "price_per_one    9969 non-null float64\n",
      "dtypes: float64(1), object(1)\n",
      "memory usage: 155.9+ KB\n"
     ]
    },
    {
     "data": {
      "text/plain": [
       "None"
      ]
     },
     "metadata": {},
     "output_type": "display_data"
    }
   ],
   "source": [
    "display(codes.head())\n",
    "display(codes.info())"
   ]
  },
  {
   "cell_type": "markdown",
   "metadata": {},
   "source": [
    "В датасете находится следующая информация:\n",
    "\n",
    "- `productID` — id товара;\n",
    "- `price_per_one` — стоимость одной единицы товара;"
   ]
  },
  {
   "cell_type": "markdown",
   "metadata": {},
   "source": [
    "#### Переименование признаков <a id='step1.2'></a>\n",
    "\n",
    "Для удобства дальнейшей работы переименуем признаки в датафреймах. Приведем их к нижнему регистру, добавим нижние подчеркивания, уберем пробелы."
   ]
  },
  {
   "cell_type": "code",
   "execution_count": 6,
   "metadata": {},
   "outputs": [
    {
     "data": {
      "text/plain": [
       "Index(['purchaseid', 'item_ID', 'Quantity', 'purchasedate', 'CustomerID',\n",
       "       'ShopID', 'loyalty_program'],\n",
       "      dtype='object')"
      ]
     },
     "execution_count": 6,
     "metadata": {},
     "output_type": "execute_result"
    }
   ],
   "source": [
    "retail.columns"
   ]
  },
  {
   "cell_type": "markdown",
   "metadata": {},
   "source": [
    "Смысла пользоваться различными методами не вижу (например, str.lower), все равно вручную добавлять подчеркивания. Признак 'item_id' переименуем в 'product_id' для удобства дальнейшего объединения таблиц."
   ]
  },
  {
   "cell_type": "code",
   "execution_count": 7,
   "metadata": {},
   "outputs": [
    {
     "data": {
      "text/html": [
       "<div>\n",
       "<style scoped>\n",
       "    .dataframe tbody tr th:only-of-type {\n",
       "        vertical-align: middle;\n",
       "    }\n",
       "\n",
       "    .dataframe tbody tr th {\n",
       "        vertical-align: top;\n",
       "    }\n",
       "\n",
       "    .dataframe thead th {\n",
       "        text-align: right;\n",
       "    }\n",
       "</style>\n",
       "<table border=\"1\" class=\"dataframe\">\n",
       "  <thead>\n",
       "    <tr style=\"text-align: right;\">\n",
       "      <th></th>\n",
       "      <th>purchase_id</th>\n",
       "      <th>product_id</th>\n",
       "      <th>quantity</th>\n",
       "      <th>purchase_date</th>\n",
       "      <th>customer_id</th>\n",
       "      <th>shop_id</th>\n",
       "      <th>loyalty_program</th>\n",
       "    </tr>\n",
       "  </thead>\n",
       "  <tbody>\n",
       "    <tr>\n",
       "      <td>0</td>\n",
       "      <td>538280</td>\n",
       "      <td>21873</td>\n",
       "      <td>11</td>\n",
       "      <td>2016-12-10 12:50:00</td>\n",
       "      <td>18427.00</td>\n",
       "      <td>Shop 0</td>\n",
       "      <td>0.00</td>\n",
       "    </tr>\n",
       "    <tr>\n",
       "      <td>1</td>\n",
       "      <td>538862</td>\n",
       "      <td>22195</td>\n",
       "      <td>0</td>\n",
       "      <td>2016-12-14 14:11:00</td>\n",
       "      <td>22389.00</td>\n",
       "      <td>Shop 0</td>\n",
       "      <td>1.00</td>\n",
       "    </tr>\n",
       "    <tr>\n",
       "      <td>2</td>\n",
       "      <td>538855</td>\n",
       "      <td>21239</td>\n",
       "      <td>7</td>\n",
       "      <td>2016-12-14 13:50:00</td>\n",
       "      <td>22182.00</td>\n",
       "      <td>Shop 0</td>\n",
       "      <td>1.00</td>\n",
       "    </tr>\n",
       "    <tr>\n",
       "      <td>3</td>\n",
       "      <td>543543</td>\n",
       "      <td>22271</td>\n",
       "      <td>0</td>\n",
       "      <td>2017-02-09 15:33:00</td>\n",
       "      <td>23522.00</td>\n",
       "      <td>Shop 0</td>\n",
       "      <td>1.00</td>\n",
       "    </tr>\n",
       "    <tr>\n",
       "      <td>4</td>\n",
       "      <td>543812</td>\n",
       "      <td>79321</td>\n",
       "      <td>0</td>\n",
       "      <td>2017-02-13 14:40:00</td>\n",
       "      <td>23151.00</td>\n",
       "      <td>Shop 0</td>\n",
       "      <td>1.00</td>\n",
       "    </tr>\n",
       "  </tbody>\n",
       "</table>\n",
       "</div>"
      ],
      "text/plain": [
       "  purchase_id product_id  quantity        purchase_date  customer_id shop_id  \\\n",
       "0      538280      21873        11  2016-12-10 12:50:00     18427.00  Shop 0   \n",
       "1      538862      22195         0  2016-12-14 14:11:00     22389.00  Shop 0   \n",
       "2      538855      21239         7  2016-12-14 13:50:00     22182.00  Shop 0   \n",
       "3      543543      22271         0  2017-02-09 15:33:00     23522.00  Shop 0   \n",
       "4      543812      79321         0  2017-02-13 14:40:00     23151.00  Shop 0   \n",
       "\n",
       "   loyalty_program  \n",
       "0             0.00  \n",
       "1             1.00  \n",
       "2             1.00  \n",
       "3             1.00  \n",
       "4             1.00  "
      ]
     },
     "execution_count": 7,
     "metadata": {},
     "output_type": "execute_result"
    }
   ],
   "source": [
    "#воспользуемся самым быстрым методом, так как список колонок у нас уже есть\n",
    "retail.columns = ['purchase_id', 'product_id', 'quantity', 'purchase_date', 'customer_id',\n",
    "       'shop_id', 'loyalty_program']\n",
    "retail.head()"
   ]
  },
  {
   "cell_type": "code",
   "execution_count": 8,
   "metadata": {},
   "outputs": [
    {
     "data": {
      "text/plain": [
       "Index(['productID', 'price_per_one'], dtype='object')"
      ]
     },
     "execution_count": 8,
     "metadata": {},
     "output_type": "execute_result"
    }
   ],
   "source": [
    "codes.columns"
   ]
  },
  {
   "cell_type": "code",
   "execution_count": 9,
   "metadata": {},
   "outputs": [
    {
     "data": {
      "text/html": [
       "<div>\n",
       "<style scoped>\n",
       "    .dataframe tbody tr th:only-of-type {\n",
       "        vertical-align: middle;\n",
       "    }\n",
       "\n",
       "    .dataframe tbody tr th {\n",
       "        vertical-align: top;\n",
       "    }\n",
       "\n",
       "    .dataframe thead th {\n",
       "        text-align: right;\n",
       "    }\n",
       "</style>\n",
       "<table border=\"1\" class=\"dataframe\">\n",
       "  <thead>\n",
       "    <tr style=\"text-align: right;\">\n",
       "      <th></th>\n",
       "      <th>product_id</th>\n",
       "      <th>price_per_one</th>\n",
       "    </tr>\n",
       "  </thead>\n",
       "  <tbody>\n",
       "    <tr>\n",
       "      <td>0</td>\n",
       "      <td>85123A</td>\n",
       "      <td>2.55</td>\n",
       "    </tr>\n",
       "    <tr>\n",
       "      <td>1</td>\n",
       "      <td>71053</td>\n",
       "      <td>3.39</td>\n",
       "    </tr>\n",
       "    <tr>\n",
       "      <td>2</td>\n",
       "      <td>84406B</td>\n",
       "      <td>2.75</td>\n",
       "    </tr>\n",
       "    <tr>\n",
       "      <td>3</td>\n",
       "      <td>84029G</td>\n",
       "      <td>3.39</td>\n",
       "    </tr>\n",
       "    <tr>\n",
       "      <td>4</td>\n",
       "      <td>84029E</td>\n",
       "      <td>3.39</td>\n",
       "    </tr>\n",
       "  </tbody>\n",
       "</table>\n",
       "</div>"
      ],
      "text/plain": [
       "  product_id  price_per_one\n",
       "0     85123A           2.55\n",
       "1      71053           3.39\n",
       "2     84406B           2.75\n",
       "3     84029G           3.39\n",
       "4     84029E           3.39"
      ]
     },
     "execution_count": 9,
     "metadata": {},
     "output_type": "execute_result"
    }
   ],
   "source": [
    "codes.columns = ['product_id', 'price_per_one']\n",
    "codes.head()"
   ]
  },
  {
   "cell_type": "markdown",
   "metadata": {},
   "source": [
    "<div class=\"alert alert-danger\">\n",
    "<b>Комментарий тимлида:</b> Я не вижу проверку на дубликаты - стоит ее сделать. </div>"
   ]
  },
  {
   "cell_type": "markdown",
   "metadata": {},
   "source": [
    "#### Исследование и замена пропущенных значений <a id='step1.3'></a>"
   ]
  },
  {
   "cell_type": "markdown",
   "metadata": {},
   "source": [
    "Воспользуемся функцией для вывода пропущенных значений по признакам и их процентного отношения. Заодно взглянем на типы данных:"
   ]
  },
  {
   "cell_type": "code",
   "execution_count": 10,
   "metadata": {},
   "outputs": [
    {
     "data": {
      "text/html": [
       "<div>\n",
       "<style scoped>\n",
       "    .dataframe tbody tr th:only-of-type {\n",
       "        vertical-align: middle;\n",
       "    }\n",
       "\n",
       "    .dataframe tbody tr th {\n",
       "        vertical-align: top;\n",
       "    }\n",
       "\n",
       "    .dataframe thead th {\n",
       "        text-align: right;\n",
       "    }\n",
       "</style>\n",
       "<table border=\"1\" class=\"dataframe\">\n",
       "  <thead>\n",
       "    <tr style=\"text-align: right;\">\n",
       "      <th></th>\n",
       "      <th>total missing values</th>\n",
       "      <th>percent %</th>\n",
       "      <th>dtype</th>\n",
       "    </tr>\n",
       "  </thead>\n",
       "  <tbody>\n",
       "    <tr>\n",
       "      <td>customer_id</td>\n",
       "      <td>36210</td>\n",
       "      <td>34.38</td>\n",
       "      <td>float64</td>\n",
       "    </tr>\n",
       "    <tr>\n",
       "      <td>loyalty_program</td>\n",
       "      <td>0</td>\n",
       "      <td>0.00</td>\n",
       "      <td>float64</td>\n",
       "    </tr>\n",
       "    <tr>\n",
       "      <td>shop_id</td>\n",
       "      <td>0</td>\n",
       "      <td>0.00</td>\n",
       "      <td>object</td>\n",
       "    </tr>\n",
       "    <tr>\n",
       "      <td>purchase_date</td>\n",
       "      <td>0</td>\n",
       "      <td>0.00</td>\n",
       "      <td>object</td>\n",
       "    </tr>\n",
       "    <tr>\n",
       "      <td>quantity</td>\n",
       "      <td>0</td>\n",
       "      <td>0.00</td>\n",
       "      <td>int64</td>\n",
       "    </tr>\n",
       "    <tr>\n",
       "      <td>product_id</td>\n",
       "      <td>0</td>\n",
       "      <td>0.00</td>\n",
       "      <td>object</td>\n",
       "    </tr>\n",
       "    <tr>\n",
       "      <td>purchase_id</td>\n",
       "      <td>0</td>\n",
       "      <td>0.00</td>\n",
       "      <td>object</td>\n",
       "    </tr>\n",
       "  </tbody>\n",
       "</table>\n",
       "</div>"
      ],
      "text/plain": [
       "                 total missing values  percent %    dtype\n",
       "customer_id                     36210      34.38  float64\n",
       "loyalty_program                     0       0.00  float64\n",
       "shop_id                             0       0.00   object\n",
       "purchase_date                       0       0.00   object\n",
       "quantity                            0       0.00    int64\n",
       "product_id                          0       0.00   object\n",
       "purchase_id                         0       0.00   object"
      ]
     },
     "metadata": {},
     "output_type": "display_data"
    },
    {
     "data": {
      "text/html": [
       "<div>\n",
       "<style scoped>\n",
       "    .dataframe tbody tr th:only-of-type {\n",
       "        vertical-align: middle;\n",
       "    }\n",
       "\n",
       "    .dataframe tbody tr th {\n",
       "        vertical-align: top;\n",
       "    }\n",
       "\n",
       "    .dataframe thead th {\n",
       "        text-align: right;\n",
       "    }\n",
       "</style>\n",
       "<table border=\"1\" class=\"dataframe\">\n",
       "  <thead>\n",
       "    <tr style=\"text-align: right;\">\n",
       "      <th></th>\n",
       "      <th>total missing values</th>\n",
       "      <th>percent %</th>\n",
       "      <th>dtype</th>\n",
       "    </tr>\n",
       "  </thead>\n",
       "  <tbody>\n",
       "    <tr>\n",
       "      <td>price_per_one</td>\n",
       "      <td>0</td>\n",
       "      <td>0.00</td>\n",
       "      <td>float64</td>\n",
       "    </tr>\n",
       "    <tr>\n",
       "      <td>product_id</td>\n",
       "      <td>0</td>\n",
       "      <td>0.00</td>\n",
       "      <td>object</td>\n",
       "    </tr>\n",
       "  </tbody>\n",
       "</table>\n",
       "</div>"
      ],
      "text/plain": [
       "               total missing values  percent %    dtype\n",
       "price_per_one                     0       0.00  float64\n",
       "product_id                        0       0.00   object"
      ]
     },
     "metadata": {},
     "output_type": "display_data"
    }
   ],
   "source": [
    "def missing_info(data):\n",
    "    \"\"\"\n",
    "    функция, выводящая информацию о количестве пропусков по признакам, их процентном соотношении и типах данных по признакам\n",
    "    \n",
    "    \"\"\"\n",
    "    #переменная, содержащая в себе количество пропусков по каждому признаку, значения отсортированы по убыванию\n",
    "    total = data.isnull().sum().sort_values(ascending = False)\n",
    "    #процент пропусков от общего количества записей в признаке\n",
    "    percent = ((data.isnull().sum() / data.isnull().count()).sort_values(ascending=False)) * 100\n",
    "    #объединяем в одну табличку и дадим название столбцам\n",
    "    missing_data = pd.concat([total, percent], axis = 1, keys = ['total missing values', 'percent %'])\n",
    "    #добавим столбец с типом данных каждого признака\n",
    "    missing_data['dtype'] = data.dtypes\n",
    "    return missing_data\n",
    "\n",
    "display(missing_info(retail))\n",
    "display(missing_info(codes))"
   ]
  },
  {
   "cell_type": "markdown",
   "metadata": {},
   "source": [
    "<div class=\"alert alert-success\">\n",
    "<b>Комментарий тимлида:</b> Отличная функция.</div>"
   ]
  },
  {
   "cell_type": "markdown",
   "metadata": {},
   "source": [
    "Пропущенные значения присутствуют только в признаке 'customer_id' с id покупателя датафрейма retail. Возможно, что в некоторых чеках указан 'customer_id' для первой покупки, тогда можно будет заполнить многие NaN. Проверим это.\n",
    "\n",
    "Ознакомимся с записями, где есть пропущенные 'customer_id':"
   ]
  },
  {
   "cell_type": "code",
   "execution_count": 11,
   "metadata": {},
   "outputs": [
    {
     "data": {
      "text/html": [
       "<div>\n",
       "<style scoped>\n",
       "    .dataframe tbody tr th:only-of-type {\n",
       "        vertical-align: middle;\n",
       "    }\n",
       "\n",
       "    .dataframe tbody tr th {\n",
       "        vertical-align: top;\n",
       "    }\n",
       "\n",
       "    .dataframe thead th {\n",
       "        text-align: right;\n",
       "    }\n",
       "</style>\n",
       "<table border=\"1\" class=\"dataframe\">\n",
       "  <thead>\n",
       "    <tr style=\"text-align: right;\">\n",
       "      <th></th>\n",
       "      <th>purchase_id</th>\n",
       "      <th>product_id</th>\n",
       "      <th>quantity</th>\n",
       "      <th>purchase_date</th>\n",
       "      <th>customer_id</th>\n",
       "      <th>shop_id</th>\n",
       "      <th>loyalty_program</th>\n",
       "    </tr>\n",
       "  </thead>\n",
       "  <tbody>\n",
       "    <tr>\n",
       "      <td>6</td>\n",
       "      <td>540468</td>\n",
       "      <td>22189</td>\n",
       "      <td>0</td>\n",
       "      <td>2017-01-07 13:55:00</td>\n",
       "      <td>nan</td>\n",
       "      <td>Shop 0</td>\n",
       "      <td>0.00</td>\n",
       "    </tr>\n",
       "    <tr>\n",
       "      <td>7</td>\n",
       "      <td>541424</td>\n",
       "      <td>79321</td>\n",
       "      <td>1</td>\n",
       "      <td>2017-01-17 17:57:00</td>\n",
       "      <td>nan</td>\n",
       "      <td>Shop 0</td>\n",
       "      <td>0.00</td>\n",
       "    </tr>\n",
       "    <tr>\n",
       "      <td>8</td>\n",
       "      <td>538883</td>\n",
       "      <td>22891</td>\n",
       "      <td>0</td>\n",
       "      <td>2016-12-14 15:56:00</td>\n",
       "      <td>nan</td>\n",
       "      <td>Shop 0</td>\n",
       "      <td>0.00</td>\n",
       "    </tr>\n",
       "    <tr>\n",
       "      <td>11</td>\n",
       "      <td>541696</td>\n",
       "      <td>22197</td>\n",
       "      <td>4</td>\n",
       "      <td>2017-01-20 18:08:00</td>\n",
       "      <td>nan</td>\n",
       "      <td>Shop 0</td>\n",
       "      <td>0.00</td>\n",
       "    </tr>\n",
       "    <tr>\n",
       "      <td>16</td>\n",
       "      <td>539744</td>\n",
       "      <td>22300</td>\n",
       "      <td>5</td>\n",
       "      <td>2016-12-21 15:21:00</td>\n",
       "      <td>nan</td>\n",
       "      <td>Shop 0</td>\n",
       "      <td>0.00</td>\n",
       "    </tr>\n",
       "    <tr>\n",
       "      <td>...</td>\n",
       "      <td>...</td>\n",
       "      <td>...</td>\n",
       "      <td>...</td>\n",
       "      <td>...</td>\n",
       "      <td>...</td>\n",
       "      <td>...</td>\n",
       "      <td>...</td>\n",
       "    </tr>\n",
       "    <tr>\n",
       "      <td>105325</td>\n",
       "      <td>536982</td>\n",
       "      <td>20719</td>\n",
       "      <td>69</td>\n",
       "      <td>2016-12-03 14:27:00</td>\n",
       "      <td>nan</td>\n",
       "      <td>Shop 0</td>\n",
       "      <td>0.00</td>\n",
       "    </tr>\n",
       "    <tr>\n",
       "      <td>105326</td>\n",
       "      <td>540681</td>\n",
       "      <td>22227</td>\n",
       "      <td>1</td>\n",
       "      <td>2017-01-10 16:25:00</td>\n",
       "      <td>nan</td>\n",
       "      <td>Shop 0</td>\n",
       "      <td>0.00</td>\n",
       "    </tr>\n",
       "    <tr>\n",
       "      <td>105327</td>\n",
       "      <td>538349</td>\n",
       "      <td>22625</td>\n",
       "      <td>0</td>\n",
       "      <td>2016-12-10 14:59:00</td>\n",
       "      <td>nan</td>\n",
       "      <td>Shop 0</td>\n",
       "      <td>0.00</td>\n",
       "    </tr>\n",
       "    <tr>\n",
       "      <td>105329</td>\n",
       "      <td>540154</td>\n",
       "      <td>22134</td>\n",
       "      <td>3</td>\n",
       "      <td>2017-01-05 11:30:00</td>\n",
       "      <td>nan</td>\n",
       "      <td>Shop 0</td>\n",
       "      <td>0.00</td>\n",
       "    </tr>\n",
       "    <tr>\n",
       "      <td>105330</td>\n",
       "      <td>538566</td>\n",
       "      <td>21826</td>\n",
       "      <td>1</td>\n",
       "      <td>2016-12-13 11:21:00</td>\n",
       "      <td>nan</td>\n",
       "      <td>Shop 0</td>\n",
       "      <td>0.00</td>\n",
       "    </tr>\n",
       "  </tbody>\n",
       "</table>\n",
       "<p>36210 rows × 7 columns</p>\n",
       "</div>"
      ],
      "text/plain": [
       "       purchase_id product_id  quantity        purchase_date  customer_id  \\\n",
       "6           540468      22189         0  2017-01-07 13:55:00          nan   \n",
       "7           541424      79321         1  2017-01-17 17:57:00          nan   \n",
       "8           538883      22891         0  2016-12-14 15:56:00          nan   \n",
       "11          541696      22197         4  2017-01-20 18:08:00          nan   \n",
       "16          539744      22300         5  2016-12-21 15:21:00          nan   \n",
       "...            ...        ...       ...                  ...          ...   \n",
       "105325      536982      20719        69  2016-12-03 14:27:00          nan   \n",
       "105326      540681      22227         1  2017-01-10 16:25:00          nan   \n",
       "105327      538349      22625         0  2016-12-10 14:59:00          nan   \n",
       "105329      540154      22134         3  2017-01-05 11:30:00          nan   \n",
       "105330      538566      21826         1  2016-12-13 11:21:00          nan   \n",
       "\n",
       "       shop_id  loyalty_program  \n",
       "6       Shop 0             0.00  \n",
       "7       Shop 0             0.00  \n",
       "8       Shop 0             0.00  \n",
       "11      Shop 0             0.00  \n",
       "16      Shop 0             0.00  \n",
       "...        ...              ...  \n",
       "105325  Shop 0             0.00  \n",
       "105326  Shop 0             0.00  \n",
       "105327  Shop 0             0.00  \n",
       "105329  Shop 0             0.00  \n",
       "105330  Shop 0             0.00  \n",
       "\n",
       "[36210 rows x 7 columns]"
      ]
     },
     "execution_count": 11,
     "metadata": {},
     "output_type": "execute_result"
    }
   ],
   "source": [
    "retail.loc[retail['customer_id'].isnull()]"
   ]
  },
  {
   "cell_type": "markdown",
   "metadata": {},
   "source": [
    "Проверим, сколько уникальных id чеков содержится в выборке:"
   ]
  },
  {
   "cell_type": "code",
   "execution_count": 12,
   "metadata": {},
   "outputs": [
    {
     "name": "stdout",
     "output_type": "stream",
     "text": [
      "Уникальных чеков: 748\n"
     ]
    }
   ],
   "source": [
    "print('Уникальных чеков:', retail.loc[retail['customer_id'].isnull()]['purchase_id'].nunique())"
   ]
  },
  {
   "cell_type": "markdown",
   "metadata": {},
   "source": [
    "Составим список чеков ('purchase_id') с пропущенными значениями 'customer_id':"
   ]
  },
  {
   "cell_type": "code",
   "execution_count": 13,
   "metadata": {},
   "outputs": [],
   "source": [
    "purchase_list = retail.loc[retail['customer_id'].isnull()]['purchase_id']"
   ]
  },
  {
   "cell_type": "markdown",
   "metadata": {},
   "source": [
    "Проверим, сколько записей с данными чеками содержатся в датафрейме:"
   ]
  },
  {
   "cell_type": "code",
   "execution_count": 14,
   "metadata": {},
   "outputs": [
    {
     "data": {
      "text/html": [
       "<div>\n",
       "<style scoped>\n",
       "    .dataframe tbody tr th:only-of-type {\n",
       "        vertical-align: middle;\n",
       "    }\n",
       "\n",
       "    .dataframe tbody tr th {\n",
       "        vertical-align: top;\n",
       "    }\n",
       "\n",
       "    .dataframe thead th {\n",
       "        text-align: right;\n",
       "    }\n",
       "</style>\n",
       "<table border=\"1\" class=\"dataframe\">\n",
       "  <thead>\n",
       "    <tr style=\"text-align: right;\">\n",
       "      <th></th>\n",
       "      <th>purchase_id</th>\n",
       "      <th>product_id</th>\n",
       "      <th>quantity</th>\n",
       "      <th>purchase_date</th>\n",
       "      <th>customer_id</th>\n",
       "      <th>shop_id</th>\n",
       "      <th>loyalty_program</th>\n",
       "    </tr>\n",
       "  </thead>\n",
       "  <tbody>\n",
       "    <tr>\n",
       "      <td>6</td>\n",
       "      <td>540468</td>\n",
       "      <td>22189</td>\n",
       "      <td>0</td>\n",
       "      <td>2017-01-07 13:55:00</td>\n",
       "      <td>nan</td>\n",
       "      <td>Shop 0</td>\n",
       "      <td>0.00</td>\n",
       "    </tr>\n",
       "    <tr>\n",
       "      <td>7</td>\n",
       "      <td>541424</td>\n",
       "      <td>79321</td>\n",
       "      <td>1</td>\n",
       "      <td>2017-01-17 17:57:00</td>\n",
       "      <td>nan</td>\n",
       "      <td>Shop 0</td>\n",
       "      <td>0.00</td>\n",
       "    </tr>\n",
       "    <tr>\n",
       "      <td>8</td>\n",
       "      <td>538883</td>\n",
       "      <td>22891</td>\n",
       "      <td>0</td>\n",
       "      <td>2016-12-14 15:56:00</td>\n",
       "      <td>nan</td>\n",
       "      <td>Shop 0</td>\n",
       "      <td>0.00</td>\n",
       "    </tr>\n",
       "    <tr>\n",
       "      <td>11</td>\n",
       "      <td>541696</td>\n",
       "      <td>22197</td>\n",
       "      <td>4</td>\n",
       "      <td>2017-01-20 18:08:00</td>\n",
       "      <td>nan</td>\n",
       "      <td>Shop 0</td>\n",
       "      <td>0.00</td>\n",
       "    </tr>\n",
       "    <tr>\n",
       "      <td>16</td>\n",
       "      <td>539744</td>\n",
       "      <td>22300</td>\n",
       "      <td>5</td>\n",
       "      <td>2016-12-21 15:21:00</td>\n",
       "      <td>nan</td>\n",
       "      <td>Shop 0</td>\n",
       "      <td>0.00</td>\n",
       "    </tr>\n",
       "    <tr>\n",
       "      <td>...</td>\n",
       "      <td>...</td>\n",
       "      <td>...</td>\n",
       "      <td>...</td>\n",
       "      <td>...</td>\n",
       "      <td>...</td>\n",
       "      <td>...</td>\n",
       "      <td>...</td>\n",
       "    </tr>\n",
       "    <tr>\n",
       "      <td>105325</td>\n",
       "      <td>536982</td>\n",
       "      <td>20719</td>\n",
       "      <td>69</td>\n",
       "      <td>2016-12-03 14:27:00</td>\n",
       "      <td>nan</td>\n",
       "      <td>Shop 0</td>\n",
       "      <td>0.00</td>\n",
       "    </tr>\n",
       "    <tr>\n",
       "      <td>105326</td>\n",
       "      <td>540681</td>\n",
       "      <td>22227</td>\n",
       "      <td>1</td>\n",
       "      <td>2017-01-10 16:25:00</td>\n",
       "      <td>nan</td>\n",
       "      <td>Shop 0</td>\n",
       "      <td>0.00</td>\n",
       "    </tr>\n",
       "    <tr>\n",
       "      <td>105327</td>\n",
       "      <td>538349</td>\n",
       "      <td>22625</td>\n",
       "      <td>0</td>\n",
       "      <td>2016-12-10 14:59:00</td>\n",
       "      <td>nan</td>\n",
       "      <td>Shop 0</td>\n",
       "      <td>0.00</td>\n",
       "    </tr>\n",
       "    <tr>\n",
       "      <td>105329</td>\n",
       "      <td>540154</td>\n",
       "      <td>22134</td>\n",
       "      <td>3</td>\n",
       "      <td>2017-01-05 11:30:00</td>\n",
       "      <td>nan</td>\n",
       "      <td>Shop 0</td>\n",
       "      <td>0.00</td>\n",
       "    </tr>\n",
       "    <tr>\n",
       "      <td>105330</td>\n",
       "      <td>538566</td>\n",
       "      <td>21826</td>\n",
       "      <td>1</td>\n",
       "      <td>2016-12-13 11:21:00</td>\n",
       "      <td>nan</td>\n",
       "      <td>Shop 0</td>\n",
       "      <td>0.00</td>\n",
       "    </tr>\n",
       "  </tbody>\n",
       "</table>\n",
       "<p>36210 rows × 7 columns</p>\n",
       "</div>"
      ],
      "text/plain": [
       "       purchase_id product_id  quantity        purchase_date  customer_id  \\\n",
       "6           540468      22189         0  2017-01-07 13:55:00          nan   \n",
       "7           541424      79321         1  2017-01-17 17:57:00          nan   \n",
       "8           538883      22891         0  2016-12-14 15:56:00          nan   \n",
       "11          541696      22197         4  2017-01-20 18:08:00          nan   \n",
       "16          539744      22300         5  2016-12-21 15:21:00          nan   \n",
       "...            ...        ...       ...                  ...          ...   \n",
       "105325      536982      20719        69  2016-12-03 14:27:00          nan   \n",
       "105326      540681      22227         1  2017-01-10 16:25:00          nan   \n",
       "105327      538349      22625         0  2016-12-10 14:59:00          nan   \n",
       "105329      540154      22134         3  2017-01-05 11:30:00          nan   \n",
       "105330      538566      21826         1  2016-12-13 11:21:00          nan   \n",
       "\n",
       "       shop_id  loyalty_program  \n",
       "6       Shop 0             0.00  \n",
       "7       Shop 0             0.00  \n",
       "8       Shop 0             0.00  \n",
       "11      Shop 0             0.00  \n",
       "16      Shop 0             0.00  \n",
       "...        ...              ...  \n",
       "105325  Shop 0             0.00  \n",
       "105326  Shop 0             0.00  \n",
       "105327  Shop 0             0.00  \n",
       "105329  Shop 0             0.00  \n",
       "105330  Shop 0             0.00  \n",
       "\n",
       "[36210 rows x 7 columns]"
      ]
     },
     "execution_count": 14,
     "metadata": {},
     "output_type": "execute_result"
    }
   ],
   "source": [
    "retail.loc[retail['purchase_id'].isin(purchase_list)]"
   ]
  },
  {
   "cell_type": "markdown",
   "metadata": {},
   "source": [
    "Получили все те же 36210 записей. Предположение оказалось неверным. В приниципе, для нашего исследования эти пропуски не столь важны, удалять записи с ними очень нежелательно, поэтому заменим пропущенные id покупателей на единицы."
   ]
  },
  {
   "cell_type": "markdown",
   "metadata": {},
   "source": [
    "<div class=\"alert alert-success\">\n",
    "<b>Комментарий тимлида:</b> Очень хорошо, что ты проверяешь свои предположения на данных. </div>"
   ]
  },
  {
   "cell_type": "code",
   "execution_count": 15,
   "metadata": {},
   "outputs": [
    {
     "data": {
      "text/plain": [
       "1.00        36210\n",
       "18427.00      796\n",
       "23520.00      757\n",
       "20285.00      751\n",
       "20990.00      718\n",
       "            ...  \n",
       "22444.00        1\n",
       "23872.00        1\n",
       "19769.00        1\n",
       "22986.00        1\n",
       "21432.00        1\n",
       "Name: customer_id, Length: 1750, dtype: int64"
      ]
     },
     "execution_count": 15,
     "metadata": {},
     "output_type": "execute_result"
    }
   ],
   "source": [
    "#заполним пропущенные значения методом fillna с аргументом 1\n",
    "retail['customer_id'] = retail['customer_id'].fillna(1)\n",
    "retail['customer_id'].value_counts()"
   ]
  },
  {
   "cell_type": "markdown",
   "metadata": {},
   "source": [
    "#### Исследование типов данных на соответствие и их замена <a id='step1.4'></a>"
   ]
  },
  {
   "cell_type": "markdown",
   "metadata": {},
   "source": [
    "Еще раз вызовем функцию missing_info:"
   ]
  },
  {
   "cell_type": "code",
   "execution_count": 16,
   "metadata": {},
   "outputs": [
    {
     "data": {
      "text/html": [
       "<div>\n",
       "<style scoped>\n",
       "    .dataframe tbody tr th:only-of-type {\n",
       "        vertical-align: middle;\n",
       "    }\n",
       "\n",
       "    .dataframe tbody tr th {\n",
       "        vertical-align: top;\n",
       "    }\n",
       "\n",
       "    .dataframe thead th {\n",
       "        text-align: right;\n",
       "    }\n",
       "</style>\n",
       "<table border=\"1\" class=\"dataframe\">\n",
       "  <thead>\n",
       "    <tr style=\"text-align: right;\">\n",
       "      <th></th>\n",
       "      <th>total missing values</th>\n",
       "      <th>percent %</th>\n",
       "      <th>dtype</th>\n",
       "    </tr>\n",
       "  </thead>\n",
       "  <tbody>\n",
       "    <tr>\n",
       "      <td>loyalty_program</td>\n",
       "      <td>0</td>\n",
       "      <td>0.00</td>\n",
       "      <td>float64</td>\n",
       "    </tr>\n",
       "    <tr>\n",
       "      <td>shop_id</td>\n",
       "      <td>0</td>\n",
       "      <td>0.00</td>\n",
       "      <td>object</td>\n",
       "    </tr>\n",
       "    <tr>\n",
       "      <td>customer_id</td>\n",
       "      <td>0</td>\n",
       "      <td>0.00</td>\n",
       "      <td>float64</td>\n",
       "    </tr>\n",
       "    <tr>\n",
       "      <td>purchase_date</td>\n",
       "      <td>0</td>\n",
       "      <td>0.00</td>\n",
       "      <td>object</td>\n",
       "    </tr>\n",
       "    <tr>\n",
       "      <td>quantity</td>\n",
       "      <td>0</td>\n",
       "      <td>0.00</td>\n",
       "      <td>int64</td>\n",
       "    </tr>\n",
       "    <tr>\n",
       "      <td>product_id</td>\n",
       "      <td>0</td>\n",
       "      <td>0.00</td>\n",
       "      <td>object</td>\n",
       "    </tr>\n",
       "    <tr>\n",
       "      <td>purchase_id</td>\n",
       "      <td>0</td>\n",
       "      <td>0.00</td>\n",
       "      <td>object</td>\n",
       "    </tr>\n",
       "  </tbody>\n",
       "</table>\n",
       "</div>"
      ],
      "text/plain": [
       "                 total missing values  percent %    dtype\n",
       "loyalty_program                     0       0.00  float64\n",
       "shop_id                             0       0.00   object\n",
       "customer_id                         0       0.00  float64\n",
       "purchase_date                       0       0.00   object\n",
       "quantity                            0       0.00    int64\n",
       "product_id                          0       0.00   object\n",
       "purchase_id                         0       0.00   object"
      ]
     },
     "metadata": {},
     "output_type": "display_data"
    }
   ],
   "source": [
    "display(missing_info(retail))"
   ]
  },
  {
   "cell_type": "markdown",
   "metadata": {},
   "source": [
    "Пропущенные значения исчезли.\n",
    "\n",
    "По типам данным много неточностей. Стоит заменить типы в столбцах:\n",
    "- 'loyalty_program' на int\n",
    "- 'customer_id' на int\n",
    "- 'purchase_date' на datetime\n",
    "- 'item_id' на int (стоит проверить, возможно ли это)\n",
    "- 'purchase_id' на int (аналогично требует проверки)"
   ]
  },
  {
   "cell_type": "code",
   "execution_count": 17,
   "metadata": {},
   "outputs": [],
   "source": [
    "#применим метод astype()\n",
    "retail['loyalty_program'] = retail['loyalty_program'].astype('int')\n",
    "retail['customer_id'] = retail['customer_id'].astype('int')\n",
    "#применим функцию pd.to_datetime для замены типа данных на дату\n",
    "retail['purchase_date'] = pd.to_datetime(retail['purchase_date'], format = '%Y-%m-%d %H:%M:%S')"
   ]
  },
  {
   "cell_type": "markdown",
   "metadata": {},
   "source": [
    "Проверим значения столбца 'item_id':"
   ]
  },
  {
   "cell_type": "code",
   "execution_count": 18,
   "metadata": {},
   "outputs": [
    {
     "data": {
      "text/plain": [
       "85123A    565\n",
       "22423     499\n",
       "22469     414\n",
       "22720     377\n",
       "85099B    372\n",
       "         ... \n",
       "20906       1\n",
       "35609A      1\n",
       "84691       1\n",
       "20666       1\n",
       "84968d      1\n",
       "Name: product_id, Length: 3159, dtype: int64"
      ]
     },
     "execution_count": 18,
     "metadata": {},
     "output_type": "execute_result"
    }
   ],
   "source": [
    "#используем метод value_counts на датафрейме\n",
    "retail['product_id'].value_counts()"
   ]
  },
  {
   "cell_type": "markdown",
   "metadata": {},
   "source": [
    "Много значений id покупки с буквенными индексами. Скорее всего, это составляющие части каких-то комплектов изделий. Оставим, как есть.\n",
    "\n",
    "Аналогично проверим 'purchase_id':"
   ]
  },
  {
   "cell_type": "code",
   "execution_count": 19,
   "metadata": {},
   "outputs": [
    {
     "data": {
      "text/plain": [
       "32942     536365\n",
       "69816     536365\n",
       "54945     536365\n",
       "32454     536365\n",
       "15498     536365\n",
       "          ...   \n",
       "18394    C545033\n",
       "8998     C545033\n",
       "88377    C545040\n",
       "84684    C545068\n",
       "15479    C545189\n",
       "Name: purchase_id, Length: 105335, dtype: object"
      ]
     },
     "execution_count": 19,
     "metadata": {},
     "output_type": "execute_result"
    }
   ],
   "source": [
    "retail['purchase_id'].sort_values()"
   ]
  },
  {
   "cell_type": "markdown",
   "metadata": {},
   "source": [
    "Посмотрим на значения с префиксом 'C' в номере чека:"
   ]
  },
  {
   "cell_type": "code",
   "execution_count": 20,
   "metadata": {
    "scrolled": true
   },
   "outputs": [
    {
     "data": {
      "text/html": [
       "<div>\n",
       "<style scoped>\n",
       "    .dataframe tbody tr th:only-of-type {\n",
       "        vertical-align: middle;\n",
       "    }\n",
       "\n",
       "    .dataframe tbody tr th {\n",
       "        vertical-align: top;\n",
       "    }\n",
       "\n",
       "    .dataframe thead th {\n",
       "        text-align: right;\n",
       "    }\n",
       "</style>\n",
       "<table border=\"1\" class=\"dataframe\">\n",
       "  <thead>\n",
       "    <tr style=\"text-align: right;\">\n",
       "      <th></th>\n",
       "      <th>purchase_id</th>\n",
       "      <th>product_id</th>\n",
       "      <th>quantity</th>\n",
       "      <th>purchase_date</th>\n",
       "      <th>customer_id</th>\n",
       "      <th>shop_id</th>\n",
       "      <th>loyalty_program</th>\n",
       "    </tr>\n",
       "  </thead>\n",
       "  <tbody>\n",
       "    <tr>\n",
       "      <td>15479</td>\n",
       "      <td>C545189</td>\n",
       "      <td>47594B</td>\n",
       "      <td>-2</td>\n",
       "      <td>2017-02-28 15:19:00</td>\n",
       "      <td>23520</td>\n",
       "      <td>Shop 0</td>\n",
       "      <td>1</td>\n",
       "    </tr>\n",
       "    <tr>\n",
       "      <td>84684</td>\n",
       "      <td>C545068</td>\n",
       "      <td>84247K</td>\n",
       "      <td>-12</td>\n",
       "      <td>2017-02-27 15:07:00</td>\n",
       "      <td>19836</td>\n",
       "      <td>Shop 0</td>\n",
       "      <td>0</td>\n",
       "    </tr>\n",
       "    <tr>\n",
       "      <td>88377</td>\n",
       "      <td>C545040</td>\n",
       "      <td>22183</td>\n",
       "      <td>-2</td>\n",
       "      <td>2017-02-27 10:25:00</td>\n",
       "      <td>19363</td>\n",
       "      <td>Shop 0</td>\n",
       "      <td>0</td>\n",
       "    </tr>\n",
       "    <tr>\n",
       "      <td>8998</td>\n",
       "      <td>C545033</td>\n",
       "      <td>22838</td>\n",
       "      <td>-97</td>\n",
       "      <td>2017-02-25 16:26:00</td>\n",
       "      <td>19835</td>\n",
       "      <td>Shop 6</td>\n",
       "      <td>0</td>\n",
       "    </tr>\n",
       "    <tr>\n",
       "      <td>11484</td>\n",
       "      <td>C545033</td>\n",
       "      <td>22936</td>\n",
       "      <td>-73</td>\n",
       "      <td>2017-02-25 16:26:00</td>\n",
       "      <td>19835</td>\n",
       "      <td>Shop 6</td>\n",
       "      <td>0</td>\n",
       "    </tr>\n",
       "  </tbody>\n",
       "</table>\n",
       "</div>"
      ],
      "text/plain": [
       "      purchase_id product_id  quantity       purchase_date  customer_id  \\\n",
       "15479     C545189     47594B        -2 2017-02-28 15:19:00        23520   \n",
       "84684     C545068     84247K       -12 2017-02-27 15:07:00        19836   \n",
       "88377     C545040      22183        -2 2017-02-27 10:25:00        19363   \n",
       "8998      C545033      22838       -97 2017-02-25 16:26:00        19835   \n",
       "11484     C545033      22936       -73 2017-02-25 16:26:00        19835   \n",
       "\n",
       "      shop_id  loyalty_program  \n",
       "15479  Shop 0                1  \n",
       "84684  Shop 0                0  \n",
       "88377  Shop 0                0  \n",
       "8998   Shop 6                0  \n",
       "11484  Shop 6                0  "
      ]
     },
     "execution_count": 20,
     "metadata": {},
     "output_type": "execute_result"
    }
   ],
   "source": [
    "retail.sort_values(by = 'purchase_id', ascending = False).head()"
   ]
  },
  {
   "cell_type": "markdown",
   "metadata": {},
   "source": [
    "Судя по всему, префикс 'C' в номере чека означает, что это возврат. Удостоверимся, что кроме буквы 'С' другие буквы не используются:"
   ]
  },
  {
   "cell_type": "markdown",
   "metadata": {},
   "source": [
    "<div class=\"alert alert-success\">\n",
    "<b>Комментарий тимлида:</b> Да, это вполне возможно.</div>"
   ]
  },
  {
   "cell_type": "code",
   "execution_count": 21,
   "metadata": {},
   "outputs": [
    {
     "data": {
      "text/html": [
       "<div>\n",
       "<style scoped>\n",
       "    .dataframe tbody tr th:only-of-type {\n",
       "        vertical-align: middle;\n",
       "    }\n",
       "\n",
       "    .dataframe tbody tr th {\n",
       "        vertical-align: top;\n",
       "    }\n",
       "\n",
       "    .dataframe thead th {\n",
       "        text-align: right;\n",
       "    }\n",
       "</style>\n",
       "<table border=\"1\" class=\"dataframe\">\n",
       "  <thead>\n",
       "    <tr style=\"text-align: right;\">\n",
       "      <th></th>\n",
       "      <th>purchase_id</th>\n",
       "      <th>product_id</th>\n",
       "      <th>quantity</th>\n",
       "      <th>purchase_date</th>\n",
       "      <th>customer_id</th>\n",
       "      <th>shop_id</th>\n",
       "      <th>loyalty_program</th>\n",
       "    </tr>\n",
       "  </thead>\n",
       "  <tbody>\n",
       "    <tr>\n",
       "      <td>64</td>\n",
       "      <td>C539944</td>\n",
       "      <td>22776</td>\n",
       "      <td>-2</td>\n",
       "      <td>2016-12-23 11:38:00</td>\n",
       "      <td>20239</td>\n",
       "      <td>Shop 0</td>\n",
       "      <td>0</td>\n",
       "    </tr>\n",
       "    <tr>\n",
       "      <td>109</td>\n",
       "      <td>C542910</td>\n",
       "      <td>20726</td>\n",
       "      <td>-2</td>\n",
       "      <td>2017-02-01 15:38:00</td>\n",
       "      <td>23190</td>\n",
       "      <td>Shop 0</td>\n",
       "      <td>1</td>\n",
       "    </tr>\n",
       "    <tr>\n",
       "      <td>112</td>\n",
       "      <td>C542426</td>\n",
       "      <td>22418</td>\n",
       "      <td>-25</td>\n",
       "      <td>2017-01-28 09:32:00</td>\n",
       "      <td>19825</td>\n",
       "      <td>Shop 0</td>\n",
       "      <td>0</td>\n",
       "    </tr>\n",
       "    <tr>\n",
       "      <td>253</td>\n",
       "      <td>C539726</td>\n",
       "      <td>22791</td>\n",
       "      <td>-11</td>\n",
       "      <td>2016-12-21 14:24:00</td>\n",
       "      <td>22686</td>\n",
       "      <td>Shop 0</td>\n",
       "      <td>1</td>\n",
       "    </tr>\n",
       "    <tr>\n",
       "      <td>344</td>\n",
       "      <td>C544034</td>\n",
       "      <td>21878</td>\n",
       "      <td>-2</td>\n",
       "      <td>2017-02-15 11:28:00</td>\n",
       "      <td>20380</td>\n",
       "      <td>Shop 0</td>\n",
       "      <td>0</td>\n",
       "    </tr>\n",
       "    <tr>\n",
       "      <td>...</td>\n",
       "      <td>...</td>\n",
       "      <td>...</td>\n",
       "      <td>...</td>\n",
       "      <td>...</td>\n",
       "      <td>...</td>\n",
       "      <td>...</td>\n",
       "      <td>...</td>\n",
       "    </tr>\n",
       "    <tr>\n",
       "      <td>105160</td>\n",
       "      <td>C541650</td>\n",
       "      <td>M</td>\n",
       "      <td>-2</td>\n",
       "      <td>2017-01-20 11:44:00</td>\n",
       "      <td>1</td>\n",
       "      <td>Shop 0</td>\n",
       "      <td>0</td>\n",
       "    </tr>\n",
       "    <tr>\n",
       "      <td>105172</td>\n",
       "      <td>C540246</td>\n",
       "      <td>79320</td>\n",
       "      <td>-2</td>\n",
       "      <td>2017-01-05 15:43:00</td>\n",
       "      <td>18760</td>\n",
       "      <td>Shop 0</td>\n",
       "      <td>0</td>\n",
       "    </tr>\n",
       "    <tr>\n",
       "      <td>105211</td>\n",
       "      <td>C539467</td>\n",
       "      <td>22801</td>\n",
       "      <td>-2</td>\n",
       "      <td>2016-12-19 12:46:00</td>\n",
       "      <td>20723</td>\n",
       "      <td>Shop 0</td>\n",
       "      <td>0</td>\n",
       "    </tr>\n",
       "    <tr>\n",
       "      <td>105250</td>\n",
       "      <td>C540847</td>\n",
       "      <td>22197</td>\n",
       "      <td>-3</td>\n",
       "      <td>2017-01-11 17:35:00</td>\n",
       "      <td>19137</td>\n",
       "      <td>Shop 0</td>\n",
       "      <td>0</td>\n",
       "    </tr>\n",
       "    <tr>\n",
       "      <td>105300</td>\n",
       "      <td>C540164</td>\n",
       "      <td>21144</td>\n",
       "      <td>-13</td>\n",
       "      <td>2017-01-05 12:02:00</td>\n",
       "      <td>20590</td>\n",
       "      <td>Shop 6</td>\n",
       "      <td>0</td>\n",
       "    </tr>\n",
       "  </tbody>\n",
       "</table>\n",
       "<p>1904 rows × 7 columns</p>\n",
       "</div>"
      ],
      "text/plain": [
       "       purchase_id product_id  quantity       purchase_date  customer_id  \\\n",
       "64         C539944      22776        -2 2016-12-23 11:38:00        20239   \n",
       "109        C542910      20726        -2 2017-02-01 15:38:00        23190   \n",
       "112        C542426      22418       -25 2017-01-28 09:32:00        19825   \n",
       "253        C539726      22791       -11 2016-12-21 14:24:00        22686   \n",
       "344        C544034      21878        -2 2017-02-15 11:28:00        20380   \n",
       "...            ...        ...       ...                 ...          ...   \n",
       "105160     C541650          M        -2 2017-01-20 11:44:00            1   \n",
       "105172     C540246      79320        -2 2017-01-05 15:43:00        18760   \n",
       "105211     C539467      22801        -2 2016-12-19 12:46:00        20723   \n",
       "105250     C540847      22197        -3 2017-01-11 17:35:00        19137   \n",
       "105300     C540164      21144       -13 2017-01-05 12:02:00        20590   \n",
       "\n",
       "       shop_id  loyalty_program  \n",
       "64      Shop 0                0  \n",
       "109     Shop 0                1  \n",
       "112     Shop 0                0  \n",
       "253     Shop 0                1  \n",
       "344     Shop 0                0  \n",
       "...        ...              ...  \n",
       "105160  Shop 0                0  \n",
       "105172  Shop 0                0  \n",
       "105211  Shop 0                0  \n",
       "105250  Shop 0                0  \n",
       "105300  Shop 6                0  \n",
       "\n",
       "[1904 rows x 7 columns]"
      ]
     },
     "execution_count": 21,
     "metadata": {},
     "output_type": "execute_result"
    }
   ],
   "source": [
    "retail.loc[retail['purchase_id'].str.contains('[A-Z]+'), :]"
   ]
  },
  {
   "cell_type": "markdown",
   "metadata": {},
   "source": [
    "Проверим, не дублируются ли id возвратов с id покупок без префикса 'C':"
   ]
  },
  {
   "cell_type": "code",
   "execution_count": 22,
   "metadata": {},
   "outputs": [
    {
     "data": {
      "text/plain": [
       "64     539944\n",
       "109    542910\n",
       "112    542426\n",
       "253    539726\n",
       "344    544034\n",
       "Name: purchase_id, dtype: object"
      ]
     },
     "execution_count": 22,
     "metadata": {},
     "output_type": "execute_result"
    }
   ],
   "source": [
    "#применим функцию lambda для удаления префикса С во всех строках датафрейма\n",
    "return_list = retail.loc[retail['purchase_id'].str.contains('[A-Z]+'), :]['purchase_id'].apply(lambda x: x.strip('C'))\n",
    "return_list.head()"
   ]
  },
  {
   "cell_type": "code",
   "execution_count": 23,
   "metadata": {},
   "outputs": [
    {
     "data": {
      "text/html": [
       "<div>\n",
       "<style scoped>\n",
       "    .dataframe tbody tr th:only-of-type {\n",
       "        vertical-align: middle;\n",
       "    }\n",
       "\n",
       "    .dataframe tbody tr th {\n",
       "        vertical-align: top;\n",
       "    }\n",
       "\n",
       "    .dataframe thead th {\n",
       "        text-align: right;\n",
       "    }\n",
       "</style>\n",
       "<table border=\"1\" class=\"dataframe\">\n",
       "  <thead>\n",
       "    <tr style=\"text-align: right;\">\n",
       "      <th></th>\n",
       "      <th>purchase_id</th>\n",
       "      <th>product_id</th>\n",
       "      <th>quantity</th>\n",
       "      <th>purchase_date</th>\n",
       "      <th>customer_id</th>\n",
       "      <th>shop_id</th>\n",
       "      <th>loyalty_program</th>\n",
       "    </tr>\n",
       "  </thead>\n",
       "  <tbody>\n",
       "  </tbody>\n",
       "</table>\n",
       "</div>"
      ],
      "text/plain": [
       "Empty DataFrame\n",
       "Columns: [purchase_id, product_id, quantity, purchase_date, customer_id, shop_id, loyalty_program]\n",
       "Index: []"
      ]
     },
     "execution_count": 23,
     "metadata": {},
     "output_type": "execute_result"
    }
   ],
   "source": [
    "retail[retail['purchase_id'].isin(return_list)]"
   ]
  },
  {
   "cell_type": "markdown",
   "metadata": {},
   "source": [
    "Пустой список, индексы не дублируются, можно удалить префиксы и изменить тип данных. Смысла в индексах не вижу, для фильтрации возвратов проще использовать логическую индексацию или срезы. Возможно, изменение типа данных, это будет удобно в дальнейшем. Но не факт, что пригодится."
   ]
  },
  {
   "cell_type": "code",
   "execution_count": 24,
   "metadata": {},
   "outputs": [],
   "source": [
    "retail['purchase_id'] = retail['purchase_id'].apply(lambda x: x.strip('C'))\n",
    "retail['purchase_id'] = retail['purchase_id'].astype('int')"
   ]
  },
  {
   "cell_type": "markdown",
   "metadata": {},
   "source": [
    "#### Поиск и удаление дубликатов <a id='step1.5'></a>"
   ]
  },
  {
   "cell_type": "markdown",
   "metadata": {},
   "source": [
    "Найдем кол-во дубликатов в датафрейме:"
   ]
  },
  {
   "cell_type": "code",
   "execution_count": 25,
   "metadata": {
    "scrolled": true
   },
   "outputs": [
    {
     "data": {
      "text/plain": [
       "1033"
      ]
     },
     "execution_count": 25,
     "metadata": {},
     "output_type": "execute_result"
    }
   ],
   "source": [
    "#воспользуемся методом sum()\n",
    "retail.duplicated().sum()"
   ]
  },
  {
   "cell_type": "markdown",
   "metadata": {},
   "source": [
    "<div class=\"alert alert-success\">\n",
    "<b>Комментарий тимлида:</b> Ага, вот оно. Претензия выше снимается.</div>"
   ]
  },
  {
   "cell_type": "markdown",
   "metadata": {},
   "source": [
    "Посмотрим на эти строки:"
   ]
  },
  {
   "cell_type": "code",
   "execution_count": 26,
   "metadata": {
    "scrolled": false
   },
   "outputs": [
    {
     "data": {
      "text/html": [
       "<div>\n",
       "<style scoped>\n",
       "    .dataframe tbody tr th:only-of-type {\n",
       "        vertical-align: middle;\n",
       "    }\n",
       "\n",
       "    .dataframe tbody tr th {\n",
       "        vertical-align: top;\n",
       "    }\n",
       "\n",
       "    .dataframe thead th {\n",
       "        text-align: right;\n",
       "    }\n",
       "</style>\n",
       "<table border=\"1\" class=\"dataframe\">\n",
       "  <thead>\n",
       "    <tr style=\"text-align: right;\">\n",
       "      <th></th>\n",
       "      <th>purchase_id</th>\n",
       "      <th>product_id</th>\n",
       "      <th>quantity</th>\n",
       "      <th>purchase_date</th>\n",
       "      <th>customer_id</th>\n",
       "      <th>shop_id</th>\n",
       "      <th>loyalty_program</th>\n",
       "    </tr>\n",
       "  </thead>\n",
       "  <tbody>\n",
       "    <tr>\n",
       "      <td>5345</td>\n",
       "      <td>537265</td>\n",
       "      <td>21499</td>\n",
       "      <td>24</td>\n",
       "      <td>2016-12-06 11:26:00</td>\n",
       "      <td>21598</td>\n",
       "      <td>Shop 0</td>\n",
       "      <td>0</td>\n",
       "    </tr>\n",
       "    <tr>\n",
       "      <td>5863</td>\n",
       "      <td>540803</td>\n",
       "      <td>21485</td>\n",
       "      <td>0</td>\n",
       "      <td>2017-01-11 12:30:00</td>\n",
       "      <td>20348</td>\n",
       "      <td>Shop 0</td>\n",
       "      <td>0</td>\n",
       "    </tr>\n",
       "    <tr>\n",
       "      <td>6893</td>\n",
       "      <td>540524</td>\n",
       "      <td>21326</td>\n",
       "      <td>11</td>\n",
       "      <td>2017-01-09 12:53:00</td>\n",
       "      <td>22414</td>\n",
       "      <td>Shop 0</td>\n",
       "      <td>1</td>\n",
       "    </tr>\n",
       "    <tr>\n",
       "      <td>7821</td>\n",
       "      <td>537192</td>\n",
       "      <td>22585</td>\n",
       "      <td>0</td>\n",
       "      <td>2016-12-05 13:42:00</td>\n",
       "      <td>22081</td>\n",
       "      <td>Shop 0</td>\n",
       "      <td>1</td>\n",
       "    </tr>\n",
       "    <tr>\n",
       "      <td>10806</td>\n",
       "      <td>537772</td>\n",
       "      <td>22080</td>\n",
       "      <td>4</td>\n",
       "      <td>2016-12-08 12:35:00</td>\n",
       "      <td>23722</td>\n",
       "      <td>Shop 0</td>\n",
       "      <td>1</td>\n",
       "    </tr>\n",
       "    <tr>\n",
       "      <td>...</td>\n",
       "      <td>...</td>\n",
       "      <td>...</td>\n",
       "      <td>...</td>\n",
       "      <td>...</td>\n",
       "      <td>...</td>\n",
       "      <td>...</td>\n",
       "      <td>...</td>\n",
       "    </tr>\n",
       "    <tr>\n",
       "      <td>105164</td>\n",
       "      <td>542224</td>\n",
       "      <td>22178</td>\n",
       "      <td>5</td>\n",
       "      <td>2017-01-26 12:45:00</td>\n",
       "      <td>23567</td>\n",
       "      <td>Shop 0</td>\n",
       "      <td>1</td>\n",
       "    </tr>\n",
       "    <tr>\n",
       "      <td>105173</td>\n",
       "      <td>544153</td>\n",
       "      <td>82552</td>\n",
       "      <td>1</td>\n",
       "      <td>2017-02-16 12:11:00</td>\n",
       "      <td>21035</td>\n",
       "      <td>Shop 0</td>\n",
       "      <td>0</td>\n",
       "    </tr>\n",
       "    <tr>\n",
       "      <td>105178</td>\n",
       "      <td>540839</td>\n",
       "      <td>21123</td>\n",
       "      <td>0</td>\n",
       "      <td>2017-01-11 15:42:00</td>\n",
       "      <td>22470</td>\n",
       "      <td>Shop 0</td>\n",
       "      <td>1</td>\n",
       "    </tr>\n",
       "    <tr>\n",
       "      <td>105229</td>\n",
       "      <td>543277</td>\n",
       "      <td>21533</td>\n",
       "      <td>0</td>\n",
       "      <td>2017-02-06 14:33:00</td>\n",
       "      <td>21487</td>\n",
       "      <td>Shop 0</td>\n",
       "      <td>0</td>\n",
       "    </tr>\n",
       "    <tr>\n",
       "      <td>105233</td>\n",
       "      <td>538313</td>\n",
       "      <td>22725</td>\n",
       "      <td>0</td>\n",
       "      <td>2016-12-10 13:50:00</td>\n",
       "      <td>21193</td>\n",
       "      <td>Shop 0</td>\n",
       "      <td>0</td>\n",
       "    </tr>\n",
       "  </tbody>\n",
       "</table>\n",
       "<p>1033 rows × 7 columns</p>\n",
       "</div>"
      ],
      "text/plain": [
       "        purchase_id product_id  quantity       purchase_date  customer_id  \\\n",
       "5345         537265      21499        24 2016-12-06 11:26:00        21598   \n",
       "5863         540803      21485         0 2017-01-11 12:30:00        20348   \n",
       "6893         540524      21326        11 2017-01-09 12:53:00        22414   \n",
       "7821         537192      22585         0 2016-12-05 13:42:00        22081   \n",
       "10806        537772      22080         4 2016-12-08 12:35:00        23722   \n",
       "...             ...        ...       ...                 ...          ...   \n",
       "105164       542224      22178         5 2017-01-26 12:45:00        23567   \n",
       "105173       544153      82552         1 2017-02-16 12:11:00        21035   \n",
       "105178       540839      21123         0 2017-01-11 15:42:00        22470   \n",
       "105229       543277      21533         0 2017-02-06 14:33:00        21487   \n",
       "105233       538313      22725         0 2016-12-10 13:50:00        21193   \n",
       "\n",
       "       shop_id  loyalty_program  \n",
       "5345    Shop 0                0  \n",
       "5863    Shop 0                0  \n",
       "6893    Shop 0                1  \n",
       "7821    Shop 0                1  \n",
       "10806   Shop 0                1  \n",
       "...        ...              ...  \n",
       "105164  Shop 0                1  \n",
       "105173  Shop 0                0  \n",
       "105178  Shop 0                1  \n",
       "105229  Shop 0                0  \n",
       "105233  Shop 0                0  \n",
       "\n",
       "[1033 rows x 7 columns]"
      ]
     },
     "execution_count": 26,
     "metadata": {},
     "output_type": "execute_result"
    }
   ],
   "source": [
    "retail.loc[retail.duplicated(), :]"
   ]
  },
  {
   "cell_type": "markdown",
   "metadata": {},
   "source": [
    "Дубликаты стоит удалить, крайне сомнительно, что в одном чеке товары в одним 'item_id' оказались несгруппированы. Да еще и кол-во дважды совпало."
   ]
  },
  {
   "cell_type": "code",
   "execution_count": 27,
   "metadata": {},
   "outputs": [
    {
     "name": "stdout",
     "output_type": "stream",
     "text": [
      "<class 'pandas.core.frame.DataFrame'>\n",
      "Int64Index: 104302 entries, 0 to 105334\n",
      "Data columns (total 7 columns):\n",
      "purchase_id        104302 non-null int64\n",
      "product_id         104302 non-null object\n",
      "quantity           104302 non-null int64\n",
      "purchase_date      104302 non-null datetime64[ns]\n",
      "customer_id        104302 non-null int64\n",
      "shop_id            104302 non-null object\n",
      "loyalty_program    104302 non-null int64\n",
      "dtypes: datetime64[ns](1), int64(4), object(2)\n",
      "memory usage: 6.4+ MB\n"
     ]
    }
   ],
   "source": [
    "retail.drop_duplicates(inplace = True)\n",
    "retail.info()"
   ]
  },
  {
   "cell_type": "markdown",
   "metadata": {},
   "source": [
    "Заодно добавим дату покупки, это должно быть удобнее, чем использовать дату со временем:"
   ]
  },
  {
   "cell_type": "code",
   "execution_count": 28,
   "metadata": {},
   "outputs": [],
   "source": [
    "retail['date'] = retail['purchase_date'].values.astype('datetime64[D]')"
   ]
  },
  {
   "cell_type": "markdown",
   "metadata": {},
   "source": [
    "Сбросим индекс у датафрейма retail и проверим получившийся результат:"
   ]
  },
  {
   "cell_type": "code",
   "execution_count": 29,
   "metadata": {
    "scrolled": false
   },
   "outputs": [
    {
     "data": {
      "text/html": [
       "<div>\n",
       "<style scoped>\n",
       "    .dataframe tbody tr th:only-of-type {\n",
       "        vertical-align: middle;\n",
       "    }\n",
       "\n",
       "    .dataframe tbody tr th {\n",
       "        vertical-align: top;\n",
       "    }\n",
       "\n",
       "    .dataframe thead th {\n",
       "        text-align: right;\n",
       "    }\n",
       "</style>\n",
       "<table border=\"1\" class=\"dataframe\">\n",
       "  <thead>\n",
       "    <tr style=\"text-align: right;\">\n",
       "      <th></th>\n",
       "      <th>purchase_id</th>\n",
       "      <th>product_id</th>\n",
       "      <th>quantity</th>\n",
       "      <th>purchase_date</th>\n",
       "      <th>customer_id</th>\n",
       "      <th>shop_id</th>\n",
       "      <th>loyalty_program</th>\n",
       "      <th>date</th>\n",
       "    </tr>\n",
       "  </thead>\n",
       "  <tbody>\n",
       "    <tr>\n",
       "      <td>0</td>\n",
       "      <td>538280</td>\n",
       "      <td>21873</td>\n",
       "      <td>11</td>\n",
       "      <td>2016-12-10 12:50:00</td>\n",
       "      <td>18427</td>\n",
       "      <td>Shop 0</td>\n",
       "      <td>0</td>\n",
       "      <td>2016-12-10</td>\n",
       "    </tr>\n",
       "    <tr>\n",
       "      <td>1</td>\n",
       "      <td>538862</td>\n",
       "      <td>22195</td>\n",
       "      <td>0</td>\n",
       "      <td>2016-12-14 14:11:00</td>\n",
       "      <td>22389</td>\n",
       "      <td>Shop 0</td>\n",
       "      <td>1</td>\n",
       "      <td>2016-12-14</td>\n",
       "    </tr>\n",
       "    <tr>\n",
       "      <td>2</td>\n",
       "      <td>538855</td>\n",
       "      <td>21239</td>\n",
       "      <td>7</td>\n",
       "      <td>2016-12-14 13:50:00</td>\n",
       "      <td>22182</td>\n",
       "      <td>Shop 0</td>\n",
       "      <td>1</td>\n",
       "      <td>2016-12-14</td>\n",
       "    </tr>\n",
       "    <tr>\n",
       "      <td>3</td>\n",
       "      <td>543543</td>\n",
       "      <td>22271</td>\n",
       "      <td>0</td>\n",
       "      <td>2017-02-09 15:33:00</td>\n",
       "      <td>23522</td>\n",
       "      <td>Shop 0</td>\n",
       "      <td>1</td>\n",
       "      <td>2017-02-09</td>\n",
       "    </tr>\n",
       "    <tr>\n",
       "      <td>4</td>\n",
       "      <td>543812</td>\n",
       "      <td>79321</td>\n",
       "      <td>0</td>\n",
       "      <td>2017-02-13 14:40:00</td>\n",
       "      <td>23151</td>\n",
       "      <td>Shop 0</td>\n",
       "      <td>1</td>\n",
       "      <td>2017-02-13</td>\n",
       "    </tr>\n",
       "    <tr>\n",
       "      <td>...</td>\n",
       "      <td>...</td>\n",
       "      <td>...</td>\n",
       "      <td>...</td>\n",
       "      <td>...</td>\n",
       "      <td>...</td>\n",
       "      <td>...</td>\n",
       "      <td>...</td>\n",
       "      <td>...</td>\n",
       "    </tr>\n",
       "    <tr>\n",
       "      <td>104297</td>\n",
       "      <td>538566</td>\n",
       "      <td>21826</td>\n",
       "      <td>1</td>\n",
       "      <td>2016-12-13 11:21:00</td>\n",
       "      <td>1</td>\n",
       "      <td>Shop 0</td>\n",
       "      <td>0</td>\n",
       "      <td>2016-12-13</td>\n",
       "    </tr>\n",
       "    <tr>\n",
       "      <td>104298</td>\n",
       "      <td>540247</td>\n",
       "      <td>21742</td>\n",
       "      <td>0</td>\n",
       "      <td>2017-01-05 15:56:00</td>\n",
       "      <td>21143</td>\n",
       "      <td>Shop 0</td>\n",
       "      <td>0</td>\n",
       "      <td>2017-01-05</td>\n",
       "    </tr>\n",
       "    <tr>\n",
       "      <td>104299</td>\n",
       "      <td>538068</td>\n",
       "      <td>85048</td>\n",
       "      <td>1</td>\n",
       "      <td>2016-12-09 14:05:00</td>\n",
       "      <td>23657</td>\n",
       "      <td>Shop 0</td>\n",
       "      <td>1</td>\n",
       "      <td>2016-12-09</td>\n",
       "    </tr>\n",
       "    <tr>\n",
       "      <td>104300</td>\n",
       "      <td>538207</td>\n",
       "      <td>22818</td>\n",
       "      <td>11</td>\n",
       "      <td>2016-12-10 11:33:00</td>\n",
       "      <td>18427</td>\n",
       "      <td>Shop 0</td>\n",
       "      <td>0</td>\n",
       "      <td>2016-12-10</td>\n",
       "    </tr>\n",
       "    <tr>\n",
       "      <td>104301</td>\n",
       "      <td>543977</td>\n",
       "      <td>22384</td>\n",
       "      <td>9</td>\n",
       "      <td>2017-02-14 15:35:00</td>\n",
       "      <td>21294</td>\n",
       "      <td>Shop 0</td>\n",
       "      <td>0</td>\n",
       "      <td>2017-02-14</td>\n",
       "    </tr>\n",
       "  </tbody>\n",
       "</table>\n",
       "<p>104302 rows × 8 columns</p>\n",
       "</div>"
      ],
      "text/plain": [
       "        purchase_id product_id  quantity       purchase_date  customer_id  \\\n",
       "0            538280      21873        11 2016-12-10 12:50:00        18427   \n",
       "1            538862      22195         0 2016-12-14 14:11:00        22389   \n",
       "2            538855      21239         7 2016-12-14 13:50:00        22182   \n",
       "3            543543      22271         0 2017-02-09 15:33:00        23522   \n",
       "4            543812      79321         0 2017-02-13 14:40:00        23151   \n",
       "...             ...        ...       ...                 ...          ...   \n",
       "104297       538566      21826         1 2016-12-13 11:21:00            1   \n",
       "104298       540247      21742         0 2017-01-05 15:56:00        21143   \n",
       "104299       538068      85048         1 2016-12-09 14:05:00        23657   \n",
       "104300       538207      22818        11 2016-12-10 11:33:00        18427   \n",
       "104301       543977      22384         9 2017-02-14 15:35:00        21294   \n",
       "\n",
       "       shop_id  loyalty_program       date  \n",
       "0       Shop 0                0 2016-12-10  \n",
       "1       Shop 0                1 2016-12-14  \n",
       "2       Shop 0                1 2016-12-14  \n",
       "3       Shop 0                1 2017-02-09  \n",
       "4       Shop 0                1 2017-02-13  \n",
       "...        ...              ...        ...  \n",
       "104297  Shop 0                0 2016-12-13  \n",
       "104298  Shop 0                0 2017-01-05  \n",
       "104299  Shop 0                1 2016-12-09  \n",
       "104300  Shop 0                0 2016-12-10  \n",
       "104301  Shop 0                0 2017-02-14  \n",
       "\n",
       "[104302 rows x 8 columns]"
      ]
     },
     "execution_count": 29,
     "metadata": {},
     "output_type": "execute_result"
    }
   ],
   "source": [
    "retail.reset_index(drop = True, inplace = True)\n",
    "retail"
   ]
  },
  {
   "cell_type": "markdown",
   "metadata": {},
   "source": [
    "Проверим датафрейм codes:"
   ]
  },
  {
   "cell_type": "code",
   "execution_count": 30,
   "metadata": {},
   "outputs": [
    {
     "data": {
      "text/plain": [
       "0"
      ]
     },
     "execution_count": 30,
     "metadata": {},
     "output_type": "execute_result"
    }
   ],
   "source": [
    "codes.duplicated().sum()"
   ]
  },
  {
   "cell_type": "markdown",
   "metadata": {},
   "source": [
    "Дубликатов нет, пропущенных значений, как выяснили ранее, тоже. Типы данных изначально корректны."
   ]
  },
  {
   "cell_type": "markdown",
   "metadata": {},
   "source": [
    "### Вывод"
   ]
  },
  {
   "cell_type": "markdown",
   "metadata": {},
   "source": [
    "#### Шаг 2. Исследовательский анализ данных (EDA) <a id='step2'></a>\n",
    "[К содержанию](#contents)\n",
    "\n",
    "#### Работа с выбросами <a id = 'step2.1'></a>"
   ]
  },
  {
   "cell_type": "markdown",
   "metadata": {},
   "source": [
    "Ознакомимся с данными датафрейма retail при помощи метода describe. На самом деле, нас интересует только столбец 'quantity' с кол-вом проданного товара в чеке, описание id клиентов, товаров и чеков в данном случае неинформативны:"
   ]
  },
  {
   "cell_type": "code",
   "execution_count": 31,
   "metadata": {},
   "outputs": [
    {
     "data": {
      "text/plain": [
       "count   104302.00\n",
       "mean         7.88\n",
       "std        329.57\n",
       "min     -74216.00\n",
       "25%          0.00\n",
       "50%          2.00\n",
       "75%          7.00\n",
       "max      74214.00\n",
       "Name: quantity, dtype: float64"
      ]
     },
     "execution_count": 31,
     "metadata": {},
     "output_type": "execute_result"
    }
   ],
   "source": [
    "#использвуем метод describe()\n",
    "retail['quantity'].describe()"
   ]
  },
  {
   "cell_type": "markdown",
   "metadata": {},
   "source": [
    "Получили неадекватно высокое и низкое минимальное и макимальное кол-во товаров (похоже кто-то купил огромное кол-во гвоздей и вернул их). Странно, что существует такое количество штучного товара, обычно мелкий товар продается в упаковках или на развес.\n",
    "\n",
    "Напишем функцию для автоматизации построения гистограммы и диаграммы размаха для различных признаков:"
   ]
  },
  {
   "cell_type": "markdown",
   "metadata": {},
   "source": [
    "<div class=\"alert alert-success\">\n",
    "<b>Комментарий тимлида:</b> Да, скорее всего был быстрый возврат после неудачной покупки.</div>"
   ]
  },
  {
   "cell_type": "code",
   "execution_count": 32,
   "metadata": {},
   "outputs": [
    {
     "data": {
      "text/plain": [
       " 0       32362\n",
       " 1       16137\n",
       " 11      10265\n",
       " 5        7931\n",
       " 2        7444\n",
       "         ...  \n",
       "-32          1\n",
       " 1823        1\n",
       " 1055        1\n",
       " 1151        1\n",
       " 863         1\n",
       "Name: quantity, Length: 301, dtype: int64"
      ]
     },
     "execution_count": 32,
     "metadata": {},
     "output_type": "execute_result"
    }
   ],
   "source": [
    "retail['quantity'].value_counts()"
   ]
  },
  {
   "cell_type": "markdown",
   "metadata": {},
   "source": [
    "Построим диаграмму размаха:"
   ]
  },
  {
   "cell_type": "code",
   "execution_count": 33,
   "metadata": {
    "scrolled": false
   },
   "outputs": [
    {
     "data": {
      "image/png": "[encoded data removed]",
      "text/plain": [
       "<Figure size 1080x576 with 1 Axes>"
      ]
     },
     "metadata": {},
     "output_type": "display_data"
    }
   ],
   "source": [
    "#диаграмма размаха из библиотеки seaborn\n",
    "ax = sns.boxplot(retail['quantity'])\n",
    "ax.set(xlim = (-20, 40)) #установим диапазон отображаемых значений по оси x\n",
    "ax.set_title('Распределение кол-ва товара одной единицы sku в чеке', fontsize = 16)\n",
    "plt.xlabel('Кол-во товара одной единицы sku в чеке', fontsize = 14);"
   ]
  },
  {
   "cell_type": "markdown",
   "metadata": {},
   "source": [
    "Найдем первый и третий квартили и межквартильный размах:"
   ]
  },
  {
   "cell_type": "code",
   "execution_count": 34,
   "metadata": {},
   "outputs": [
    {
     "name": "stdout",
     "output_type": "stream",
     "text": [
      "Первый квартиль: 0\n",
      "Третий квартиль: 7\n",
      "Межквартильный размах: 7\n"
     ]
    }
   ],
   "source": [
    "Q1 = retail['quantity'].quantile(0.25)\n",
    "Q3 = retail['quantity'].quantile(0.75)\n",
    "IQR = Q3 - Q1\n",
    "print('Первый квартиль: {:.0f}'.format(Q1))\n",
    "print('Третий квартиль: {:.0f}'.format(Q3))\n",
    "print('Межквартильный размах: {:.0f}'.format(IQR))"
   ]
  },
  {
   "cell_type": "markdown",
   "metadata": {},
   "source": [
    "Очень большое число \"нулевых\" количеств товаров. Это могут быть и акции (товар в подарок), разбивка в чеке товаров на комплектующие, просто ошибки системы. Эти товары стоит оставить, при удалении изменится кол-во sku в чеке.\n",
    "\n",
    "Так как хвосты у распределений длинные, примем за выбросы наблюдения, выходящие за 3 IQR от Q1 и Q3:"
   ]
  },
  {
   "cell_type": "code",
   "execution_count": 35,
   "metadata": {},
   "outputs": [
    {
     "name": "stdout",
     "output_type": "stream",
     "text": [
      "Верхний порог: 28 единиц\n"
     ]
    }
   ],
   "source": [
    "print('Верхний порог: {:.0f} единиц'.format(Q3 + 3*IQR))"
   ]
  },
  {
   "cell_type": "markdown",
   "metadata": {},
   "source": [
    "За нижний порог логично взять верхний с отрицательным знаком - вернули-то те же купленные товары, что мы отбросим.\n",
    "Примем эти пороги равными 30 и -30 единицам:"
   ]
  },
  {
   "cell_type": "code",
   "execution_count": 36,
   "metadata": {},
   "outputs": [
    {
     "data": {
      "text/html": [
       "<div>\n",
       "<style scoped>\n",
       "    .dataframe tbody tr th:only-of-type {\n",
       "        vertical-align: middle;\n",
       "    }\n",
       "\n",
       "    .dataframe tbody tr th {\n",
       "        vertical-align: top;\n",
       "    }\n",
       "\n",
       "    .dataframe thead th {\n",
       "        text-align: right;\n",
       "    }\n",
       "</style>\n",
       "<table border=\"1\" class=\"dataframe\">\n",
       "  <thead>\n",
       "    <tr style=\"text-align: right;\">\n",
       "      <th></th>\n",
       "      <th>purchase_id</th>\n",
       "      <th>product_id</th>\n",
       "      <th>quantity</th>\n",
       "      <th>purchase_date</th>\n",
       "      <th>customer_id</th>\n",
       "      <th>shop_id</th>\n",
       "      <th>loyalty_program</th>\n",
       "      <th>date</th>\n",
       "    </tr>\n",
       "  </thead>\n",
       "  <tbody>\n",
       "    <tr>\n",
       "      <td>0</td>\n",
       "      <td>538280</td>\n",
       "      <td>21873</td>\n",
       "      <td>11</td>\n",
       "      <td>2016-12-10 12:50:00</td>\n",
       "      <td>18427</td>\n",
       "      <td>Shop 0</td>\n",
       "      <td>0</td>\n",
       "      <td>2016-12-10</td>\n",
       "    </tr>\n",
       "    <tr>\n",
       "      <td>1</td>\n",
       "      <td>538862</td>\n",
       "      <td>22195</td>\n",
       "      <td>0</td>\n",
       "      <td>2016-12-14 14:11:00</td>\n",
       "      <td>22389</td>\n",
       "      <td>Shop 0</td>\n",
       "      <td>1</td>\n",
       "      <td>2016-12-14</td>\n",
       "    </tr>\n",
       "    <tr>\n",
       "      <td>2</td>\n",
       "      <td>538855</td>\n",
       "      <td>21239</td>\n",
       "      <td>7</td>\n",
       "      <td>2016-12-14 13:50:00</td>\n",
       "      <td>22182</td>\n",
       "      <td>Shop 0</td>\n",
       "      <td>1</td>\n",
       "      <td>2016-12-14</td>\n",
       "    </tr>\n",
       "    <tr>\n",
       "      <td>3</td>\n",
       "      <td>543543</td>\n",
       "      <td>22271</td>\n",
       "      <td>0</td>\n",
       "      <td>2017-02-09 15:33:00</td>\n",
       "      <td>23522</td>\n",
       "      <td>Shop 0</td>\n",
       "      <td>1</td>\n",
       "      <td>2017-02-09</td>\n",
       "    </tr>\n",
       "    <tr>\n",
       "      <td>4</td>\n",
       "      <td>543812</td>\n",
       "      <td>79321</td>\n",
       "      <td>0</td>\n",
       "      <td>2017-02-13 14:40:00</td>\n",
       "      <td>23151</td>\n",
       "      <td>Shop 0</td>\n",
       "      <td>1</td>\n",
       "      <td>2017-02-13</td>\n",
       "    </tr>\n",
       "    <tr>\n",
       "      <td>...</td>\n",
       "      <td>...</td>\n",
       "      <td>...</td>\n",
       "      <td>...</td>\n",
       "      <td>...</td>\n",
       "      <td>...</td>\n",
       "      <td>...</td>\n",
       "      <td>...</td>\n",
       "      <td>...</td>\n",
       "    </tr>\n",
       "    <tr>\n",
       "      <td>104297</td>\n",
       "      <td>538566</td>\n",
       "      <td>21826</td>\n",
       "      <td>1</td>\n",
       "      <td>2016-12-13 11:21:00</td>\n",
       "      <td>1</td>\n",
       "      <td>Shop 0</td>\n",
       "      <td>0</td>\n",
       "      <td>2016-12-13</td>\n",
       "    </tr>\n",
       "    <tr>\n",
       "      <td>104298</td>\n",
       "      <td>540247</td>\n",
       "      <td>21742</td>\n",
       "      <td>0</td>\n",
       "      <td>2017-01-05 15:56:00</td>\n",
       "      <td>21143</td>\n",
       "      <td>Shop 0</td>\n",
       "      <td>0</td>\n",
       "      <td>2017-01-05</td>\n",
       "    </tr>\n",
       "    <tr>\n",
       "      <td>104299</td>\n",
       "      <td>538068</td>\n",
       "      <td>85048</td>\n",
       "      <td>1</td>\n",
       "      <td>2016-12-09 14:05:00</td>\n",
       "      <td>23657</td>\n",
       "      <td>Shop 0</td>\n",
       "      <td>1</td>\n",
       "      <td>2016-12-09</td>\n",
       "    </tr>\n",
       "    <tr>\n",
       "      <td>104300</td>\n",
       "      <td>538207</td>\n",
       "      <td>22818</td>\n",
       "      <td>11</td>\n",
       "      <td>2016-12-10 11:33:00</td>\n",
       "      <td>18427</td>\n",
       "      <td>Shop 0</td>\n",
       "      <td>0</td>\n",
       "      <td>2016-12-10</td>\n",
       "    </tr>\n",
       "    <tr>\n",
       "      <td>104301</td>\n",
       "      <td>543977</td>\n",
       "      <td>22384</td>\n",
       "      <td>9</td>\n",
       "      <td>2017-02-14 15:35:00</td>\n",
       "      <td>21294</td>\n",
       "      <td>Shop 0</td>\n",
       "      <td>0</td>\n",
       "      <td>2017-02-14</td>\n",
       "    </tr>\n",
       "  </tbody>\n",
       "</table>\n",
       "<p>99630 rows × 8 columns</p>\n",
       "</div>"
      ],
      "text/plain": [
       "        purchase_id product_id  quantity       purchase_date  customer_id  \\\n",
       "0            538280      21873        11 2016-12-10 12:50:00        18427   \n",
       "1            538862      22195         0 2016-12-14 14:11:00        22389   \n",
       "2            538855      21239         7 2016-12-14 13:50:00        22182   \n",
       "3            543543      22271         0 2017-02-09 15:33:00        23522   \n",
       "4            543812      79321         0 2017-02-13 14:40:00        23151   \n",
       "...             ...        ...       ...                 ...          ...   \n",
       "104297       538566      21826         1 2016-12-13 11:21:00            1   \n",
       "104298       540247      21742         0 2017-01-05 15:56:00        21143   \n",
       "104299       538068      85048         1 2016-12-09 14:05:00        23657   \n",
       "104300       538207      22818        11 2016-12-10 11:33:00        18427   \n",
       "104301       543977      22384         9 2017-02-14 15:35:00        21294   \n",
       "\n",
       "       shop_id  loyalty_program       date  \n",
       "0       Shop 0                0 2016-12-10  \n",
       "1       Shop 0                1 2016-12-14  \n",
       "2       Shop 0                1 2016-12-14  \n",
       "3       Shop 0                1 2017-02-09  \n",
       "4       Shop 0                1 2017-02-13  \n",
       "...        ...              ...        ...  \n",
       "104297  Shop 0                0 2016-12-13  \n",
       "104298  Shop 0                0 2017-01-05  \n",
       "104299  Shop 0                1 2016-12-09  \n",
       "104300  Shop 0                0 2016-12-10  \n",
       "104301  Shop 0                0 2017-02-14  \n",
       "\n",
       "[99630 rows x 8 columns]"
      ]
     },
     "execution_count": 36,
     "metadata": {},
     "output_type": "execute_result"
    }
   ],
   "source": [
    "retail_filtered = retail.query('quantity > -30 & quantity < 30')\n",
    "retail_filtered"
   ]
  },
  {
   "cell_type": "markdown",
   "metadata": {},
   "source": [
    "Удалили около 5% записей, это достаточно много. Дальнейшую работу исследовательского анализа продолжим по исходному датафрейму. \"Очищенный\" будем использовать при статистической проверке гипотез."
   ]
  },
  {
   "cell_type": "markdown",
   "metadata": {},
   "source": [
    "<div class=\"alert alert-warning\">\n",
    "<b>Комментарий тимлида:</b> Мне очень близок твой бережный подход к данным - но я бы советовала пользоваться далее только очищенным датафреймом. В том числе и для измерения эффективности магазинов.\n",
    "\n",
    "Кстати, отличная работа с выбросами.\n",
    "</div>"
   ]
  },
  {
   "cell_type": "markdown",
   "metadata": {},
   "source": [
    "Далее рассмотрим датафрейм codes:"
   ]
  },
  {
   "cell_type": "code",
   "execution_count": 37,
   "metadata": {},
   "outputs": [
    {
     "data": {
      "text/html": [
       "<div>\n",
       "<style scoped>\n",
       "    .dataframe tbody tr th:only-of-type {\n",
       "        vertical-align: middle;\n",
       "    }\n",
       "\n",
       "    .dataframe tbody tr th {\n",
       "        vertical-align: top;\n",
       "    }\n",
       "\n",
       "    .dataframe thead th {\n",
       "        text-align: right;\n",
       "    }\n",
       "</style>\n",
       "<table border=\"1\" class=\"dataframe\">\n",
       "  <thead>\n",
       "    <tr style=\"text-align: right;\">\n",
       "      <th></th>\n",
       "      <th>product_id</th>\n",
       "      <th>price_per_one</th>\n",
       "    </tr>\n",
       "  </thead>\n",
       "  <tbody>\n",
       "    <tr>\n",
       "      <td>0</td>\n",
       "      <td>85123A</td>\n",
       "      <td>2.55</td>\n",
       "    </tr>\n",
       "    <tr>\n",
       "      <td>1</td>\n",
       "      <td>71053</td>\n",
       "      <td>3.39</td>\n",
       "    </tr>\n",
       "    <tr>\n",
       "      <td>2</td>\n",
       "      <td>84406B</td>\n",
       "      <td>2.75</td>\n",
       "    </tr>\n",
       "    <tr>\n",
       "      <td>3</td>\n",
       "      <td>84029G</td>\n",
       "      <td>3.39</td>\n",
       "    </tr>\n",
       "    <tr>\n",
       "      <td>4</td>\n",
       "      <td>84029E</td>\n",
       "      <td>3.39</td>\n",
       "    </tr>\n",
       "  </tbody>\n",
       "</table>\n",
       "</div>"
      ],
      "text/plain": [
       "  product_id  price_per_one\n",
       "0     85123A           2.55\n",
       "1      71053           3.39\n",
       "2     84406B           2.75\n",
       "3     84029G           3.39\n",
       "4     84029E           3.39"
      ]
     },
     "execution_count": 37,
     "metadata": {},
     "output_type": "execute_result"
    }
   ],
   "source": [
    "codes.head()"
   ]
  },
  {
   "cell_type": "code",
   "execution_count": 38,
   "metadata": {},
   "outputs": [
    {
     "data": {
      "text/html": [
       "<div>\n",
       "<style scoped>\n",
       "    .dataframe tbody tr th:only-of-type {\n",
       "        vertical-align: middle;\n",
       "    }\n",
       "\n",
       "    .dataframe tbody tr th {\n",
       "        vertical-align: top;\n",
       "    }\n",
       "\n",
       "    .dataframe thead th {\n",
       "        text-align: right;\n",
       "    }\n",
       "</style>\n",
       "<table border=\"1\" class=\"dataframe\">\n",
       "  <thead>\n",
       "    <tr style=\"text-align: right;\">\n",
       "      <th></th>\n",
       "      <th>price_per_one</th>\n",
       "    </tr>\n",
       "  </thead>\n",
       "  <tbody>\n",
       "    <tr>\n",
       "      <td>count</td>\n",
       "      <td>9969.00</td>\n",
       "    </tr>\n",
       "    <tr>\n",
       "      <td>mean</td>\n",
       "      <td>19.50</td>\n",
       "    </tr>\n",
       "    <tr>\n",
       "      <td>std</td>\n",
       "      <td>330.88</td>\n",
       "    </tr>\n",
       "    <tr>\n",
       "      <td>min</td>\n",
       "      <td>0.00</td>\n",
       "    </tr>\n",
       "    <tr>\n",
       "      <td>25%</td>\n",
       "      <td>1.25</td>\n",
       "    </tr>\n",
       "    <tr>\n",
       "      <td>50%</td>\n",
       "      <td>2.55</td>\n",
       "    </tr>\n",
       "    <tr>\n",
       "      <td>75%</td>\n",
       "      <td>5.51</td>\n",
       "    </tr>\n",
       "    <tr>\n",
       "      <td>max</td>\n",
       "      <td>16888.02</td>\n",
       "    </tr>\n",
       "  </tbody>\n",
       "</table>\n",
       "</div>"
      ],
      "text/plain": [
       "       price_per_one\n",
       "count        9969.00\n",
       "mean           19.50\n",
       "std           330.88\n",
       "min             0.00\n",
       "25%             1.25\n",
       "50%             2.55\n",
       "75%             5.51\n",
       "max         16888.02"
      ]
     },
     "execution_count": 38,
     "metadata": {},
     "output_type": "execute_result"
    }
   ],
   "source": [
    "codes.describe()"
   ]
  },
  {
   "cell_type": "code",
   "execution_count": 39,
   "metadata": {},
   "outputs": [
    {
     "data": {
      "image/png": "[encoded data removed]",
      "text/plain": [
       "<Figure size 1080x576 with 1 Axes>"
      ]
     },
     "metadata": {},
     "output_type": "display_data"
    }
   ],
   "source": [
    "ax = sns.boxplot(codes['price_per_one'])\n",
    "ax.set(xlim = (-5, 50))\n",
    "ax.set_title('Распределение цен на товары', fontsize = 16)\n",
    "plt.xlabel('Цена одной sku', fontsize = 14);"
   ]
  },
  {
   "cell_type": "markdown",
   "metadata": {},
   "source": [
    "Есть \"нулевые\" цены на товар. Рассмотрим подробнее:"
   ]
  },
  {
   "cell_type": "code",
   "execution_count": 40,
   "metadata": {
    "scrolled": true
   },
   "outputs": [
    {
     "data": {
      "text/plain": [
       "1.25      504\n",
       "0.85      493\n",
       "0.00      382\n",
       "2.51      371\n",
       "2.46      329\n",
       "         ... \n",
       "109.84      1\n",
       "12.99       1\n",
       "14.96       1\n",
       "950.99      1\n",
       "223.35      1\n",
       "Name: price_per_one, Length: 586, dtype: int64"
      ]
     },
     "execution_count": 40,
     "metadata": {},
     "output_type": "execute_result"
    }
   ],
   "source": [
    "codes['price_per_one'].value_counts()"
   ]
  },
  {
   "cell_type": "markdown",
   "metadata": {},
   "source": [
    "Много нулевых цен, возможно, это - цены по акции, или подарок в комплекте с другим товаром.\n",
    "Проверим соответствие кол-ва цен кол-ву товаров:"
   ]
  },
  {
   "cell_type": "code",
   "execution_count": 41,
   "metadata": {
    "scrolled": true
   },
   "outputs": [
    {
     "name": "stdout",
     "output_type": "stream",
     "text": [
      "Кол-во записей с ценами: 9969\n",
      "Кол-во уникальных товаров: 3159\n"
     ]
    }
   ],
   "source": [
    "print('Кол-во записей с ценами: {:}'.format(codes['price_per_one'].count()))\n",
    "print('Кол-во уникальных товаров: {:}'.format(codes['product_id'].nunique()))"
   ]
  },
  {
   "cell_type": "markdown",
   "metadata": {},
   "source": [
    "Видим, что для некоторых товаров существует не одна цена. Возьмем случайный 'product_id', посмотрим на список цен для него:"
   ]
  },
  {
   "cell_type": "code",
   "execution_count": 42,
   "metadata": {
    "scrolled": true
   },
   "outputs": [
    {
     "data": {
      "text/html": [
       "<div>\n",
       "<style scoped>\n",
       "    .dataframe tbody tr th:only-of-type {\n",
       "        vertical-align: middle;\n",
       "    }\n",
       "\n",
       "    .dataframe tbody tr th {\n",
       "        vertical-align: top;\n",
       "    }\n",
       "\n",
       "    .dataframe thead th {\n",
       "        text-align: right;\n",
       "    }\n",
       "</style>\n",
       "<table border=\"1\" class=\"dataframe\">\n",
       "  <thead>\n",
       "    <tr style=\"text-align: right;\">\n",
       "      <th></th>\n",
       "      <th>product_id</th>\n",
       "      <th>price_per_one</th>\n",
       "    </tr>\n",
       "  </thead>\n",
       "  <tbody>\n",
       "    <tr>\n",
       "      <td>32</td>\n",
       "      <td>21791</td>\n",
       "      <td>1.25</td>\n",
       "    </tr>\n",
       "    <tr>\n",
       "      <td>837</td>\n",
       "      <td>21791</td>\n",
       "      <td>2.51</td>\n",
       "    </tr>\n",
       "    <tr>\n",
       "      <td>2084</td>\n",
       "      <td>21791</td>\n",
       "      <td>1.06</td>\n",
       "    </tr>\n",
       "    <tr>\n",
       "      <td>5806</td>\n",
       "      <td>21791</td>\n",
       "      <td>0.00</td>\n",
       "    </tr>\n",
       "    <tr>\n",
       "      <td>7349</td>\n",
       "      <td>21791</td>\n",
       "      <td>2.46</td>\n",
       "    </tr>\n",
       "  </tbody>\n",
       "</table>\n",
       "</div>"
      ],
      "text/plain": [
       "     product_id  price_per_one\n",
       "32        21791           1.25\n",
       "837       21791           2.51\n",
       "2084      21791           1.06\n",
       "5806      21791           0.00\n",
       "7349      21791           2.46"
      ]
     },
     "execution_count": 42,
     "metadata": {},
     "output_type": "execute_result"
    }
   ],
   "source": [
    "codes.loc[codes['product_id'] == '21791']"
   ]
  },
  {
   "cell_type": "markdown",
   "metadata": {},
   "source": [
    "Так как нет связи между изменения цен на товары и датами, вижу единственный рабочий вариант - усреднить цену по каждому товару и использовать ее. Это несколько исказит результаты исследования, но это - оптимальный вариант."
   ]
  },
  {
   "cell_type": "code",
   "execution_count": 43,
   "metadata": {},
   "outputs": [
    {
     "data": {
      "text/html": [
       "<div>\n",
       "<style scoped>\n",
       "    .dataframe tbody tr th:only-of-type {\n",
       "        vertical-align: middle;\n",
       "    }\n",
       "\n",
       "    .dataframe tbody tr th {\n",
       "        vertical-align: top;\n",
       "    }\n",
       "\n",
       "    .dataframe thead th {\n",
       "        text-align: right;\n",
       "    }\n",
       "</style>\n",
       "<table border=\"1\" class=\"dataframe\">\n",
       "  <thead>\n",
       "    <tr style=\"text-align: right;\">\n",
       "      <th></th>\n",
       "      <th>product_id</th>\n",
       "      <th>mean_price</th>\n",
       "    </tr>\n",
       "  </thead>\n",
       "  <tbody>\n",
       "    <tr>\n",
       "      <td>0</td>\n",
       "      <td>10002</td>\n",
       "      <td>1.38</td>\n",
       "    </tr>\n",
       "    <tr>\n",
       "      <td>1</td>\n",
       "      <td>10080</td>\n",
       "      <td>0.85</td>\n",
       "    </tr>\n",
       "    <tr>\n",
       "      <td>2</td>\n",
       "      <td>10120</td>\n",
       "      <td>0.21</td>\n",
       "    </tr>\n",
       "    <tr>\n",
       "      <td>3</td>\n",
       "      <td>10123C</td>\n",
       "      <td>0.65</td>\n",
       "    </tr>\n",
       "    <tr>\n",
       "      <td>4</td>\n",
       "      <td>10124A</td>\n",
       "      <td>0.42</td>\n",
       "    </tr>\n",
       "  </tbody>\n",
       "</table>\n",
       "</div>"
      ],
      "text/plain": [
       "  product_id  mean_price\n",
       "0      10002        1.38\n",
       "1      10080        0.85\n",
       "2      10120        0.21\n",
       "3     10123C        0.65\n",
       "4     10124A        0.42"
      ]
     },
     "execution_count": 43,
     "metadata": {},
     "output_type": "execute_result"
    }
   ],
   "source": [
    "codes_mean = codes.groupby('product_id').agg(mean_price = ('price_per_one', 'mean')).reset_index()\n",
    "codes_mean.head()"
   ]
  },
  {
   "cell_type": "markdown",
   "metadata": {},
   "source": [
    "Также существуют выбросы - слишком высокие цены на товар. Максимальное значение - почти 17000 при среднем в 20. Посмотрим на товары с ценой выше 100 у.е.:"
   ]
  },
  {
   "cell_type": "code",
   "execution_count": 44,
   "metadata": {},
   "outputs": [
    {
     "data": {
      "text/html": [
       "<div>\n",
       "<style scoped>\n",
       "    .dataframe tbody tr th:only-of-type {\n",
       "        vertical-align: middle;\n",
       "    }\n",
       "\n",
       "    .dataframe tbody tr th {\n",
       "        vertical-align: top;\n",
       "    }\n",
       "\n",
       "    .dataframe thead th {\n",
       "        text-align: right;\n",
       "    }\n",
       "</style>\n",
       "<table border=\"1\" class=\"dataframe\">\n",
       "  <thead>\n",
       "    <tr style=\"text-align: right;\">\n",
       "      <th></th>\n",
       "      <th>product_id</th>\n",
       "      <th>mean_price</th>\n",
       "    </tr>\n",
       "  </thead>\n",
       "  <tbody>\n",
       "    <tr>\n",
       "      <td>1507</td>\n",
       "      <td>22655</td>\n",
       "      <td>228.50</td>\n",
       "    </tr>\n",
       "    <tr>\n",
       "      <td>1508</td>\n",
       "      <td>22656</td>\n",
       "      <td>150.00</td>\n",
       "    </tr>\n",
       "    <tr>\n",
       "      <td>1668</td>\n",
       "      <td>22823</td>\n",
       "      <td>117.50</td>\n",
       "    </tr>\n",
       "    <tr>\n",
       "      <td>1671</td>\n",
       "      <td>22826</td>\n",
       "      <td>175.00</td>\n",
       "    </tr>\n",
       "    <tr>\n",
       "      <td>1672</td>\n",
       "      <td>22827</td>\n",
       "      <td>155.00</td>\n",
       "    </tr>\n",
       "    <tr>\n",
       "      <td>1673</td>\n",
       "      <td>22828</td>\n",
       "      <td>155.00</td>\n",
       "    </tr>\n",
       "    <tr>\n",
       "      <td>3136</td>\n",
       "      <td>AMAZONFEE</td>\n",
       "      <td>9268.76</td>\n",
       "    </tr>\n",
       "    <tr>\n",
       "      <td>3137</td>\n",
       "      <td>BANK CHARGES</td>\n",
       "      <td>385.95</td>\n",
       "    </tr>\n",
       "    <tr>\n",
       "      <td>3150</td>\n",
       "      <td>DOT</td>\n",
       "      <td>278.73</td>\n",
       "    </tr>\n",
       "    <tr>\n",
       "      <td>3151</td>\n",
       "      <td>M</td>\n",
       "      <td>253.77</td>\n",
       "    </tr>\n",
       "  </tbody>\n",
       "</table>\n",
       "</div>"
      ],
      "text/plain": [
       "        product_id  mean_price\n",
       "1507         22655      228.50\n",
       "1508         22656      150.00\n",
       "1668         22823      117.50\n",
       "1671         22826      175.00\n",
       "1672         22827      155.00\n",
       "1673         22828      155.00\n",
       "3136     AMAZONFEE     9268.76\n",
       "3137  BANK CHARGES      385.95\n",
       "3150           DOT      278.73\n",
       "3151             M      253.77"
      ]
     },
     "execution_count": 44,
     "metadata": {},
     "output_type": "execute_result"
    }
   ],
   "source": [
    "codes_mean.loc[codes_mean['mean_price'] > 100]"
   ]
  },
  {
   "cell_type": "code",
   "execution_count": 45,
   "metadata": {},
   "outputs": [
    {
     "data": {
      "text/html": [
       "<div>\n",
       "<style scoped>\n",
       "    .dataframe tbody tr th:only-of-type {\n",
       "        vertical-align: middle;\n",
       "    }\n",
       "\n",
       "    .dataframe tbody tr th {\n",
       "        vertical-align: top;\n",
       "    }\n",
       "\n",
       "    .dataframe thead th {\n",
       "        text-align: right;\n",
       "    }\n",
       "</style>\n",
       "<table border=\"1\" class=\"dataframe\">\n",
       "  <thead>\n",
       "    <tr style=\"text-align: right;\">\n",
       "      <th></th>\n",
       "      <th>purchase_id</th>\n",
       "      <th>product_id</th>\n",
       "      <th>quantity</th>\n",
       "      <th>purchase_date</th>\n",
       "      <th>customer_id</th>\n",
       "      <th>shop_id</th>\n",
       "      <th>loyalty_program</th>\n",
       "      <th>date</th>\n",
       "    </tr>\n",
       "  </thead>\n",
       "  <tbody>\n",
       "    <tr>\n",
       "      <td>208</td>\n",
       "      <td>538153</td>\n",
       "      <td>DOT</td>\n",
       "      <td>0</td>\n",
       "      <td>2016-12-09 16:31:00</td>\n",
       "      <td>1</td>\n",
       "      <td>Shop 0</td>\n",
       "      <td>0</td>\n",
       "      <td>2016-12-09</td>\n",
       "    </tr>\n",
       "    <tr>\n",
       "      <td>1071</td>\n",
       "      <td>537643</td>\n",
       "      <td>DOT</td>\n",
       "      <td>0</td>\n",
       "      <td>2016-12-07 15:34:00</td>\n",
       "      <td>1</td>\n",
       "      <td>Shop 0</td>\n",
       "      <td>0</td>\n",
       "      <td>2016-12-07</td>\n",
       "    </tr>\n",
       "    <tr>\n",
       "      <td>1181</td>\n",
       "      <td>537652</td>\n",
       "      <td>AMAZONFEE</td>\n",
       "      <td>-2</td>\n",
       "      <td>2016-12-07 15:51:00</td>\n",
       "      <td>1</td>\n",
       "      <td>Shop 0</td>\n",
       "      <td>0</td>\n",
       "      <td>2016-12-07</td>\n",
       "    </tr>\n",
       "    <tr>\n",
       "      <td>1514</td>\n",
       "      <td>544575</td>\n",
       "      <td>BANK CHARGES</td>\n",
       "      <td>-2</td>\n",
       "      <td>2017-02-21 13:58:00</td>\n",
       "      <td>1</td>\n",
       "      <td>Shop 0</td>\n",
       "      <td>0</td>\n",
       "      <td>2017-02-21</td>\n",
       "    </tr>\n",
       "    <tr>\n",
       "      <td>1809</td>\n",
       "      <td>541830</td>\n",
       "      <td>DOT</td>\n",
       "      <td>0</td>\n",
       "      <td>2017-01-21 17:09:00</td>\n",
       "      <td>1</td>\n",
       "      <td>Shop 0</td>\n",
       "      <td>0</td>\n",
       "      <td>2017-01-21</td>\n",
       "    </tr>\n",
       "    <tr>\n",
       "      <td>2192</td>\n",
       "      <td>543201</td>\n",
       "      <td>DOT</td>\n",
       "      <td>0</td>\n",
       "      <td>2017-02-04 13:03:00</td>\n",
       "      <td>1</td>\n",
       "      <td>Shop 0</td>\n",
       "      <td>0</td>\n",
       "      <td>2017-02-04</td>\n",
       "    </tr>\n",
       "    <tr>\n",
       "      <td>2206</td>\n",
       "      <td>541496</td>\n",
       "      <td>DOT</td>\n",
       "      <td>0</td>\n",
       "      <td>2017-01-18 15:00:00</td>\n",
       "      <td>1</td>\n",
       "      <td>Shop 0</td>\n",
       "      <td>0</td>\n",
       "      <td>2017-01-18</td>\n",
       "    </tr>\n",
       "    <tr>\n",
       "      <td>2637</td>\n",
       "      <td>544589</td>\n",
       "      <td>AMAZONFEE</td>\n",
       "      <td>-2</td>\n",
       "      <td>2017-02-21 15:11:00</td>\n",
       "      <td>1</td>\n",
       "      <td>Shop 0</td>\n",
       "      <td>0</td>\n",
       "      <td>2017-02-21</td>\n",
       "    </tr>\n",
       "    <tr>\n",
       "      <td>2689</td>\n",
       "      <td>539737</td>\n",
       "      <td>DOT</td>\n",
       "      <td>0</td>\n",
       "      <td>2016-12-21 15:19:00</td>\n",
       "      <td>1</td>\n",
       "      <td>Shop 0</td>\n",
       "      <td>0</td>\n",
       "      <td>2016-12-21</td>\n",
       "    </tr>\n",
       "    <tr>\n",
       "      <td>2922</td>\n",
       "      <td>542664</td>\n",
       "      <td>DOT</td>\n",
       "      <td>0</td>\n",
       "      <td>2017-01-31 12:14:00</td>\n",
       "      <td>1</td>\n",
       "      <td>Shop 0</td>\n",
       "      <td>0</td>\n",
       "      <td>2017-01-31</td>\n",
       "    </tr>\n",
       "  </tbody>\n",
       "</table>\n",
       "</div>"
      ],
      "text/plain": [
       "      purchase_id    product_id  quantity       purchase_date  customer_id  \\\n",
       "208        538153           DOT         0 2016-12-09 16:31:00            1   \n",
       "1071       537643           DOT         0 2016-12-07 15:34:00            1   \n",
       "1181       537652     AMAZONFEE        -2 2016-12-07 15:51:00            1   \n",
       "1514       544575  BANK CHARGES        -2 2017-02-21 13:58:00            1   \n",
       "1809       541830           DOT         0 2017-01-21 17:09:00            1   \n",
       "2192       543201           DOT         0 2017-02-04 13:03:00            1   \n",
       "2206       541496           DOT         0 2017-01-18 15:00:00            1   \n",
       "2637       544589     AMAZONFEE        -2 2017-02-21 15:11:00            1   \n",
       "2689       539737           DOT         0 2016-12-21 15:19:00            1   \n",
       "2922       542664           DOT         0 2017-01-31 12:14:00            1   \n",
       "\n",
       "     shop_id  loyalty_program       date  \n",
       "208   Shop 0                0 2016-12-09  \n",
       "1071  Shop 0                0 2016-12-07  \n",
       "1181  Shop 0                0 2016-12-07  \n",
       "1514  Shop 0                0 2017-02-21  \n",
       "1809  Shop 0                0 2017-01-21  \n",
       "2192  Shop 0                0 2017-02-04  \n",
       "2206  Shop 0                0 2017-01-18  \n",
       "2637  Shop 0                0 2017-02-21  \n",
       "2689  Shop 0                0 2016-12-21  \n",
       "2922  Shop 0                0 2017-01-31  "
      ]
     },
     "execution_count": 45,
     "metadata": {},
     "output_type": "execute_result"
    }
   ],
   "source": [
    "retail.loc[retail['product_id'].isin(['AMAZONFEE', 'BANK CHARGES', 'DOT'])].head(10)"
   ]
  },
  {
   "cell_type": "markdown",
   "metadata": {},
   "source": [
    "Как видим, товары DOT в большинстве своем с нулевым кол-вом, манипуляции с ними мало что изменят. Выплаты Amazon (выдача, хранение товаров и прочее, похоже, что наш магазин сотрудничает с Amazon) я бы удалять не стал, обычно это - регулярные выплаты, и они должны вычитаться для расчета среднего чека и дохода. Аналогично и банковские сборы."
   ]
  },
  {
   "cell_type": "markdown",
   "metadata": {},
   "source": [
    "<div class=\"alert alert-success\">\n",
    "<b>Комментарий тимлида:</b> Очень подробный анализ.</div>"
   ]
  },
  {
   "cell_type": "markdown",
   "metadata": {},
   "source": [
    "#### Рассчитать выручку по магазинам, найти Топ 10 магазинов по выручке, построить графики <a id='step2.2'></a>"
   ]
  },
  {
   "cell_type": "markdown",
   "metadata": {},
   "source": [
    "Для начала объединим датафреймы retail и codes. Сразу добавим столбец с суммарной стоимостью покупки по каждому типу товаров:"
   ]
  },
  {
   "cell_type": "code",
   "execution_count": 46,
   "metadata": {},
   "outputs": [
    {
     "data": {
      "text/html": [
       "<div>\n",
       "<style scoped>\n",
       "    .dataframe tbody tr th:only-of-type {\n",
       "        vertical-align: middle;\n",
       "    }\n",
       "\n",
       "    .dataframe tbody tr th {\n",
       "        vertical-align: top;\n",
       "    }\n",
       "\n",
       "    .dataframe thead th {\n",
       "        text-align: right;\n",
       "    }\n",
       "</style>\n",
       "<table border=\"1\" class=\"dataframe\">\n",
       "  <thead>\n",
       "    <tr style=\"text-align: right;\">\n",
       "      <th></th>\n",
       "      <th>purchase_id</th>\n",
       "      <th>product_id</th>\n",
       "      <th>quantity</th>\n",
       "      <th>purchase_date</th>\n",
       "      <th>customer_id</th>\n",
       "      <th>shop_id</th>\n",
       "      <th>loyalty_program</th>\n",
       "      <th>date</th>\n",
       "      <th>mean_price</th>\n",
       "      <th>buy_sum</th>\n",
       "    </tr>\n",
       "  </thead>\n",
       "  <tbody>\n",
       "    <tr>\n",
       "      <td>0</td>\n",
       "      <td>538280</td>\n",
       "      <td>21873</td>\n",
       "      <td>11</td>\n",
       "      <td>2016-12-10 12:50:00</td>\n",
       "      <td>18427</td>\n",
       "      <td>Shop 0</td>\n",
       "      <td>0</td>\n",
       "      <td>2016-12-10</td>\n",
       "      <td>1.81</td>\n",
       "      <td>19.91</td>\n",
       "    </tr>\n",
       "    <tr>\n",
       "      <td>1</td>\n",
       "      <td>538862</td>\n",
       "      <td>22195</td>\n",
       "      <td>0</td>\n",
       "      <td>2016-12-14 14:11:00</td>\n",
       "      <td>22389</td>\n",
       "      <td>Shop 0</td>\n",
       "      <td>1</td>\n",
       "      <td>2016-12-14</td>\n",
       "      <td>2.77</td>\n",
       "      <td>0.00</td>\n",
       "    </tr>\n",
       "    <tr>\n",
       "      <td>2</td>\n",
       "      <td>538855</td>\n",
       "      <td>21239</td>\n",
       "      <td>7</td>\n",
       "      <td>2016-12-14 13:50:00</td>\n",
       "      <td>22182</td>\n",
       "      <td>Shop 0</td>\n",
       "      <td>1</td>\n",
       "      <td>2016-12-14</td>\n",
       "      <td>1.47</td>\n",
       "      <td>10.32</td>\n",
       "    </tr>\n",
       "    <tr>\n",
       "      <td>3</td>\n",
       "      <td>543543</td>\n",
       "      <td>22271</td>\n",
       "      <td>0</td>\n",
       "      <td>2017-02-09 15:33:00</td>\n",
       "      <td>23522</td>\n",
       "      <td>Shop 0</td>\n",
       "      <td>1</td>\n",
       "      <td>2017-02-09</td>\n",
       "      <td>4.30</td>\n",
       "      <td>0.00</td>\n",
       "    </tr>\n",
       "    <tr>\n",
       "      <td>4</td>\n",
       "      <td>543812</td>\n",
       "      <td>79321</td>\n",
       "      <td>0</td>\n",
       "      <td>2017-02-13 14:40:00</td>\n",
       "      <td>23151</td>\n",
       "      <td>Shop 0</td>\n",
       "      <td>1</td>\n",
       "      <td>2017-02-13</td>\n",
       "      <td>7.01</td>\n",
       "      <td>0.00</td>\n",
       "    </tr>\n",
       "  </tbody>\n",
       "</table>\n",
       "</div>"
      ],
      "text/plain": [
       "   purchase_id product_id  quantity       purchase_date  customer_id shop_id  \\\n",
       "0       538280      21873        11 2016-12-10 12:50:00        18427  Shop 0   \n",
       "1       538862      22195         0 2016-12-14 14:11:00        22389  Shop 0   \n",
       "2       538855      21239         7 2016-12-14 13:50:00        22182  Shop 0   \n",
       "3       543543      22271         0 2017-02-09 15:33:00        23522  Shop 0   \n",
       "4       543812      79321         0 2017-02-13 14:40:00        23151  Shop 0   \n",
       "\n",
       "   loyalty_program       date  mean_price  buy_sum  \n",
       "0                0 2016-12-10        1.81    19.91  \n",
       "1                1 2016-12-14        2.77     0.00  \n",
       "2                1 2016-12-14        1.47    10.32  \n",
       "3                1 2017-02-09        4.30     0.00  \n",
       "4                1 2017-02-13        7.01     0.00  "
      ]
     },
     "execution_count": 46,
     "metadata": {},
     "output_type": "execute_result"
    }
   ],
   "source": [
    "#объединим таблицы при помощи функции pd.merge() по столбцу 'product_id', сохраник все записи retail\n",
    "retail_data = pd.merge(retail, codes_mean, on = 'product_id', how = 'left')\n",
    "#добавим столбец суммы проданных товаров в пределах одной sku в чеке\n",
    "retail_data['buy_sum'] = retail_data['quantity'] * retail_data['mean_price']\n",
    "retail_data.head()"
   ]
  },
  {
   "cell_type": "markdown",
   "metadata": {},
   "source": [
    "Проверим длину получившейся таблицы:"
   ]
  },
  {
   "cell_type": "code",
   "execution_count": 47,
   "metadata": {},
   "outputs": [
    {
     "data": {
      "text/plain": [
       "(104302, 8)"
      ]
     },
     "metadata": {},
     "output_type": "display_data"
    },
    {
     "data": {
      "text/plain": [
       "(104302, 10)"
      ]
     },
     "metadata": {},
     "output_type": "display_data"
    }
   ],
   "source": [
    "#используем метод shape\n",
    "display(retail.shape)\n",
    "display(retail_data.shape)"
   ]
  },
  {
   "cell_type": "markdown",
   "metadata": {},
   "source": [
    "На первый взгляд, все верно.\n",
    "\n",
    "Получим сводную таблицу по магазинам с суммарной выручкой по каждому:"
   ]
  },
  {
   "cell_type": "code",
   "execution_count": 48,
   "metadata": {},
   "outputs": [
    {
     "data": {
      "text/html": [
       "<div>\n",
       "<style scoped>\n",
       "    .dataframe tbody tr th:only-of-type {\n",
       "        vertical-align: middle;\n",
       "    }\n",
       "\n",
       "    .dataframe tbody tr th {\n",
       "        vertical-align: top;\n",
       "    }\n",
       "\n",
       "    .dataframe thead th {\n",
       "        text-align: right;\n",
       "    }\n",
       "</style>\n",
       "<table border=\"1\" class=\"dataframe\">\n",
       "  <thead>\n",
       "    <tr style=\"text-align: right;\">\n",
       "      <th></th>\n",
       "      <th>shop_id</th>\n",
       "      <th>revenue</th>\n",
       "    </tr>\n",
       "  </thead>\n",
       "  <tbody>\n",
       "    <tr>\n",
       "      <td>0</td>\n",
       "      <td>Shop 0</td>\n",
       "      <td>1573475.31</td>\n",
       "    </tr>\n",
       "    <tr>\n",
       "      <td>1</td>\n",
       "      <td>Shop 3</td>\n",
       "      <td>103976.00</td>\n",
       "    </tr>\n",
       "    <tr>\n",
       "      <td>2</td>\n",
       "      <td>Shop 6</td>\n",
       "      <td>56535.83</td>\n",
       "    </tr>\n",
       "    <tr>\n",
       "      <td>3</td>\n",
       "      <td>Shop 4</td>\n",
       "      <td>51390.52</td>\n",
       "    </tr>\n",
       "    <tr>\n",
       "      <td>4</td>\n",
       "      <td>Shop 1</td>\n",
       "      <td>47599.85</td>\n",
       "    </tr>\n",
       "    <tr>\n",
       "      <td>5</td>\n",
       "      <td>Shop 2</td>\n",
       "      <td>40409.33</td>\n",
       "    </tr>\n",
       "    <tr>\n",
       "      <td>6</td>\n",
       "      <td>Shop 14</td>\n",
       "      <td>22796.61</td>\n",
       "    </tr>\n",
       "    <tr>\n",
       "      <td>7</td>\n",
       "      <td>Shop 8</td>\n",
       "      <td>16173.07</td>\n",
       "    </tr>\n",
       "    <tr>\n",
       "      <td>8</td>\n",
       "      <td>Shop 7</td>\n",
       "      <td>11115.45</td>\n",
       "    </tr>\n",
       "    <tr>\n",
       "      <td>9</td>\n",
       "      <td>Shop 19</td>\n",
       "      <td>10131.93</td>\n",
       "    </tr>\n",
       "  </tbody>\n",
       "</table>\n",
       "</div>"
      ],
      "text/plain": [
       "   shop_id    revenue\n",
       "0   Shop 0 1573475.31\n",
       "1   Shop 3  103976.00\n",
       "2   Shop 6   56535.83\n",
       "3   Shop 4   51390.52\n",
       "4   Shop 1   47599.85\n",
       "5   Shop 2   40409.33\n",
       "6  Shop 14   22796.61\n",
       "7   Shop 8   16173.07\n",
       "8   Shop 7   11115.45\n",
       "9  Shop 19   10131.93"
      ]
     },
     "execution_count": 48,
     "metadata": {},
     "output_type": "execute_result"
    }
   ],
   "source": [
    "#группировка методом groupby по id магазина\n",
    "revenue_grouped = retail_data.groupby('shop_id').agg(revenue = ('buy_sum', 'sum'))\n",
    "revenue_grouped = revenue_grouped.sort_values(by = 'revenue', ascending = False).round(2).head(10).reset_index()\n",
    "revenue_grouped"
   ]
  },
  {
   "cell_type": "markdown",
   "metadata": {},
   "source": [
    "Напишем функцию для построения столбчатых диаграмм:"
   ]
  },
  {
   "cell_type": "code",
   "execution_count": 49,
   "metadata": {},
   "outputs": [
    {
     "data": {
      "image/png": "[encoded data removed]",
      "text/plain": [
       "<Figure size 1080x576 with 1 Axes>"
      ]
     },
     "metadata": {},
     "output_type": "display_data"
    }
   ],
   "source": [
    "def barplots(data, x, y, title, xlabel, ylabel):\n",
    "    ''' Функция выводит столбчатый график библиотеки seaborn'''\n",
    "    ax = sns.barplot(data = data, x = x, y = y)\n",
    "    ax.set_title(title, fontsize = 16)\n",
    "    plt.xlabel(xlabel, fontsize = 14)\n",
    "    plt.ylabel(ylabel, fontsize = 14);\n",
    "\n",
    "#построим график для датафрейма revenue_grouped     \n",
    "barplots(revenue_grouped, 'shop_id', 'revenue', \n",
    "         'Топ 10 магазинов по суммарной выручке', 'Номер магазина', 'Выручка')"
   ]
  },
  {
   "cell_type": "markdown",
   "metadata": {},
   "source": [
    "Самый продающий магазин - Shop 0, видимо, самый первый магазин, флагман сети. Его выручка в 15 раз выше ближайшего преследователя. Также выделяется Shop 3, остальные - сильно отстающие."
   ]
  },
  {
   "cell_type": "markdown",
   "metadata": {},
   "source": [
    "<div class=\"alert alert-success\">\n",
    "<b>Комментарий тимлида:</b> Да уж, не самая стандартная картина. Но все верно расчитано.</div>"
   ]
  },
  {
   "cell_type": "markdown",
   "metadata": {},
   "source": [
    "#### Рассчитать средний чек по магазинам, найти Топ 10 магазинов по среднему чеку, построить графики <a id = 'step2.3'></a>"
   ]
  },
  {
   "cell_type": "markdown",
   "metadata": {},
   "source": [
    "Была мысль для расчета среднего чека отсеем возвраты и нулевые чеки из основного датафрейма. Но чек возврата - тоже чек, и прибыль магазина от таких чеков падает, это тоже нужно учесть."
   ]
  },
  {
   "cell_type": "markdown",
   "metadata": {},
   "source": [
    "Оставим только те магазины, в которых за все время выдано более 10 чеков. Это мало, по таким данным нежелательно делать какие-то выводы, но так их хотя бы 10 наберется."
   ]
  },
  {
   "cell_type": "code",
   "execution_count": 50,
   "metadata": {},
   "outputs": [
    {
     "data": {
      "text/html": [
       "<div>\n",
       "<style scoped>\n",
       "    .dataframe tbody tr th:only-of-type {\n",
       "        vertical-align: middle;\n",
       "    }\n",
       "\n",
       "    .dataframe tbody tr th {\n",
       "        vertical-align: top;\n",
       "    }\n",
       "\n",
       "    .dataframe thead th {\n",
       "        text-align: right;\n",
       "    }\n",
       "</style>\n",
       "<table border=\"1\" class=\"dataframe\">\n",
       "  <thead>\n",
       "    <tr style=\"text-align: right;\">\n",
       "      <th></th>\n",
       "      <th>shop_id</th>\n",
       "      <th>purchase_id</th>\n",
       "    </tr>\n",
       "  </thead>\n",
       "  <tbody>\n",
       "    <tr>\n",
       "      <td>0</td>\n",
       "      <td>Shop 0</td>\n",
       "      <td>4471</td>\n",
       "    </tr>\n",
       "    <tr>\n",
       "      <td>1</td>\n",
       "      <td>Shop 4</td>\n",
       "      <td>114</td>\n",
       "    </tr>\n",
       "    <tr>\n",
       "      <td>2</td>\n",
       "      <td>Shop 1</td>\n",
       "      <td>90</td>\n",
       "    </tr>\n",
       "    <tr>\n",
       "      <td>3</td>\n",
       "      <td>Shop 6</td>\n",
       "      <td>46</td>\n",
       "    </tr>\n",
       "    <tr>\n",
       "      <td>4</td>\n",
       "      <td>Shop 12</td>\n",
       "      <td>21</td>\n",
       "    </tr>\n",
       "    <tr>\n",
       "      <td>5</td>\n",
       "      <td>Shop 8</td>\n",
       "      <td>20</td>\n",
       "    </tr>\n",
       "    <tr>\n",
       "      <td>6</td>\n",
       "      <td>Shop 2</td>\n",
       "      <td>19</td>\n",
       "    </tr>\n",
       "    <tr>\n",
       "      <td>7</td>\n",
       "      <td>Shop 10</td>\n",
       "      <td>15</td>\n",
       "    </tr>\n",
       "    <tr>\n",
       "      <td>8</td>\n",
       "      <td>Shop 3</td>\n",
       "      <td>15</td>\n",
       "    </tr>\n",
       "    <tr>\n",
       "      <td>9</td>\n",
       "      <td>Shop 7</td>\n",
       "      <td>11</td>\n",
       "    </tr>\n",
       "  </tbody>\n",
       "</table>\n",
       "</div>"
      ],
      "text/plain": [
       "   shop_id  purchase_id\n",
       "0   Shop 0         4471\n",
       "1   Shop 4          114\n",
       "2   Shop 1           90\n",
       "3   Shop 6           46\n",
       "4  Shop 12           21\n",
       "5   Shop 8           20\n",
       "6   Shop 2           19\n",
       "7  Shop 10           15\n",
       "8   Shop 3           15\n",
       "9   Shop 7           11"
      ]
     },
     "execution_count": 50,
     "metadata": {},
     "output_type": "execute_result"
    }
   ],
   "source": [
    "#группировка методом groupby по id магазина\n",
    "bill_grouped = retail_data.groupby('shop_id').agg({'purchase_id':'nunique'}).reset_index()\n",
    "shop_list = bill_grouped.sort_values(by = 'purchase_id', ascending = False).reset_index(drop = True).head(10)\n",
    "shop_list"
   ]
  },
  {
   "cell_type": "markdown",
   "metadata": {},
   "source": [
    "Список id топ магазинов:"
   ]
  },
  {
   "cell_type": "code",
   "execution_count": 51,
   "metadata": {},
   "outputs": [
    {
     "data": {
      "text/plain": [
       "0     Shop 0\n",
       "2     Shop 1\n",
       "6     Shop 2\n",
       "8     Shop 3\n",
       "1     Shop 4\n",
       "3     Shop 6\n",
       "9     Shop 7\n",
       "5     Shop 8\n",
       "7    Shop 10\n",
       "4    Shop 12\n",
       "Name: shop_id, dtype: object"
      ]
     },
     "execution_count": 51,
     "metadata": {},
     "output_type": "execute_result"
    }
   ],
   "source": [
    "shop_list_filtered = shop_list['shop_id'].sort_values().reindex([0,2,6,8,1,3,9,5,7,4])\n",
    "shop_list_filtered"
   ]
  },
  {
   "cell_type": "markdown",
   "metadata": {},
   "source": [
    "Построим сводную таблицу среднего чека по магазинам сети. Получим выборку данных по магазинам из списка:"
   ]
  },
  {
   "cell_type": "code",
   "execution_count": 52,
   "metadata": {},
   "outputs": [
    {
     "data": {
      "text/html": [
       "<div>\n",
       "<style scoped>\n",
       "    .dataframe tbody tr th:only-of-type {\n",
       "        vertical-align: middle;\n",
       "    }\n",
       "\n",
       "    .dataframe tbody tr th {\n",
       "        vertical-align: top;\n",
       "    }\n",
       "\n",
       "    .dataframe thead th {\n",
       "        text-align: right;\n",
       "    }\n",
       "</style>\n",
       "<table border=\"1\" class=\"dataframe\">\n",
       "  <thead>\n",
       "    <tr style=\"text-align: right;\">\n",
       "      <th></th>\n",
       "      <th>purchase_id</th>\n",
       "      <th>product_id</th>\n",
       "      <th>quantity</th>\n",
       "      <th>purchase_date</th>\n",
       "      <th>customer_id</th>\n",
       "      <th>shop_id</th>\n",
       "      <th>loyalty_program</th>\n",
       "      <th>date</th>\n",
       "      <th>mean_price</th>\n",
       "      <th>buy_sum</th>\n",
       "    </tr>\n",
       "  </thead>\n",
       "  <tbody>\n",
       "    <tr>\n",
       "      <td>0</td>\n",
       "      <td>538280</td>\n",
       "      <td>21873</td>\n",
       "      <td>11</td>\n",
       "      <td>2016-12-10 12:50:00</td>\n",
       "      <td>18427</td>\n",
       "      <td>Shop 0</td>\n",
       "      <td>0</td>\n",
       "      <td>2016-12-10</td>\n",
       "      <td>1.81</td>\n",
       "      <td>19.91</td>\n",
       "    </tr>\n",
       "    <tr>\n",
       "      <td>1</td>\n",
       "      <td>538862</td>\n",
       "      <td>22195</td>\n",
       "      <td>0</td>\n",
       "      <td>2016-12-14 14:11:00</td>\n",
       "      <td>22389</td>\n",
       "      <td>Shop 0</td>\n",
       "      <td>1</td>\n",
       "      <td>2016-12-14</td>\n",
       "      <td>2.77</td>\n",
       "      <td>0.00</td>\n",
       "    </tr>\n",
       "    <tr>\n",
       "      <td>2</td>\n",
       "      <td>538855</td>\n",
       "      <td>21239</td>\n",
       "      <td>7</td>\n",
       "      <td>2016-12-14 13:50:00</td>\n",
       "      <td>22182</td>\n",
       "      <td>Shop 0</td>\n",
       "      <td>1</td>\n",
       "      <td>2016-12-14</td>\n",
       "      <td>1.47</td>\n",
       "      <td>10.32</td>\n",
       "    </tr>\n",
       "    <tr>\n",
       "      <td>3</td>\n",
       "      <td>543543</td>\n",
       "      <td>22271</td>\n",
       "      <td>0</td>\n",
       "      <td>2017-02-09 15:33:00</td>\n",
       "      <td>23522</td>\n",
       "      <td>Shop 0</td>\n",
       "      <td>1</td>\n",
       "      <td>2017-02-09</td>\n",
       "      <td>4.30</td>\n",
       "      <td>0.00</td>\n",
       "    </tr>\n",
       "    <tr>\n",
       "      <td>4</td>\n",
       "      <td>543812</td>\n",
       "      <td>79321</td>\n",
       "      <td>0</td>\n",
       "      <td>2017-02-13 14:40:00</td>\n",
       "      <td>23151</td>\n",
       "      <td>Shop 0</td>\n",
       "      <td>1</td>\n",
       "      <td>2017-02-13</td>\n",
       "      <td>7.01</td>\n",
       "      <td>0.00</td>\n",
       "    </tr>\n",
       "  </tbody>\n",
       "</table>\n",
       "</div>"
      ],
      "text/plain": [
       "   purchase_id product_id  quantity       purchase_date  customer_id shop_id  \\\n",
       "0       538280      21873        11 2016-12-10 12:50:00        18427  Shop 0   \n",
       "1       538862      22195         0 2016-12-14 14:11:00        22389  Shop 0   \n",
       "2       538855      21239         7 2016-12-14 13:50:00        22182  Shop 0   \n",
       "3       543543      22271         0 2017-02-09 15:33:00        23522  Shop 0   \n",
       "4       543812      79321         0 2017-02-13 14:40:00        23151  Shop 0   \n",
       "\n",
       "   loyalty_program       date  mean_price  buy_sum  \n",
       "0                0 2016-12-10        1.81    19.91  \n",
       "1                1 2016-12-14        2.77     0.00  \n",
       "2                1 2016-12-14        1.47    10.32  \n",
       "3                1 2017-02-09        4.30     0.00  \n",
       "4                1 2017-02-13        7.01     0.00  "
      ]
     },
     "execution_count": 52,
     "metadata": {},
     "output_type": "execute_result"
    }
   ],
   "source": [
    "#используем логическую индексацию loc\n",
    "bill_data_filtered = retail_data.loc[retail_data['shop_id'].isin(shop_list_filtered)]\n",
    "bill_data_filtered.head()"
   ]
  },
  {
   "cell_type": "markdown",
   "metadata": {},
   "source": [
    "Создадим сводную таблицу:"
   ]
  },
  {
   "cell_type": "code",
   "execution_count": 53,
   "metadata": {},
   "outputs": [
    {
     "data": {
      "text/html": [
       "<div>\n",
       "<style scoped>\n",
       "    .dataframe tbody tr th:only-of-type {\n",
       "        vertical-align: middle;\n",
       "    }\n",
       "\n",
       "    .dataframe tbody tr th {\n",
       "        vertical-align: top;\n",
       "    }\n",
       "\n",
       "    .dataframe thead th {\n",
       "        text-align: right;\n",
       "    }\n",
       "</style>\n",
       "<table border=\"1\" class=\"dataframe\">\n",
       "  <thead>\n",
       "    <tr style=\"text-align: right;\">\n",
       "      <th></th>\n",
       "      <th>shop_id</th>\n",
       "      <th>mean_bill</th>\n",
       "    </tr>\n",
       "  </thead>\n",
       "  <tbody>\n",
       "    <tr>\n",
       "      <td>0</td>\n",
       "      <td>Shop 3</td>\n",
       "      <td>6931.73</td>\n",
       "    </tr>\n",
       "    <tr>\n",
       "      <td>1</td>\n",
       "      <td>Shop 2</td>\n",
       "      <td>2126.81</td>\n",
       "    </tr>\n",
       "    <tr>\n",
       "      <td>2</td>\n",
       "      <td>Shop 6</td>\n",
       "      <td>1229.04</td>\n",
       "    </tr>\n",
       "    <tr>\n",
       "      <td>3</td>\n",
       "      <td>Shop 7</td>\n",
       "      <td>1010.50</td>\n",
       "    </tr>\n",
       "    <tr>\n",
       "      <td>4</td>\n",
       "      <td>Shop 8</td>\n",
       "      <td>808.65</td>\n",
       "    </tr>\n",
       "    <tr>\n",
       "      <td>5</td>\n",
       "      <td>Shop 10</td>\n",
       "      <td>655.09</td>\n",
       "    </tr>\n",
       "    <tr>\n",
       "      <td>6</td>\n",
       "      <td>Shop 1</td>\n",
       "      <td>528.89</td>\n",
       "    </tr>\n",
       "    <tr>\n",
       "      <td>7</td>\n",
       "      <td>Shop 4</td>\n",
       "      <td>450.79</td>\n",
       "    </tr>\n",
       "    <tr>\n",
       "      <td>8</td>\n",
       "      <td>Shop 0</td>\n",
       "      <td>351.93</td>\n",
       "    </tr>\n",
       "    <tr>\n",
       "      <td>9</td>\n",
       "      <td>Shop 12</td>\n",
       "      <td>322.64</td>\n",
       "    </tr>\n",
       "  </tbody>\n",
       "</table>\n",
       "</div>"
      ],
      "text/plain": [
       "   shop_id  mean_bill\n",
       "0   Shop 3    6931.73\n",
       "1   Shop 2    2126.81\n",
       "2   Shop 6    1229.04\n",
       "3   Shop 7    1010.50\n",
       "4   Shop 8     808.65\n",
       "5  Shop 10     655.09\n",
       "6   Shop 1     528.89\n",
       "7   Shop 4     450.79\n",
       "8   Shop 0     351.93\n",
       "9  Shop 12     322.64"
      ]
     },
     "execution_count": 53,
     "metadata": {},
     "output_type": "execute_result"
    }
   ],
   "source": [
    "#группировка методом groupby по id магазина\n",
    "mean_bills = (bill_data_filtered.groupby(['shop_id', 'purchase_id']).agg(bill = ('buy_sum', 'sum')).reset_index())\\\n",
    "    .groupby('shop_id').agg(mean_bill = ('bill', 'mean')).sort_values(by = 'mean_bill', ascending = False)\\\n",
    "    .head(10).reset_index()\n",
    "mean_bills"
   ]
  },
  {
   "cell_type": "code",
   "execution_count": 54,
   "metadata": {
    "scrolled": true
   },
   "outputs": [
    {
     "data": {
      "text/plain": [
       "15"
      ]
     },
     "execution_count": 54,
     "metadata": {},
     "output_type": "execute_result"
    }
   ],
   "source": [
    "bill_data_filtered.loc[bill_data_filtered['shop_id'] == 'Shop 3']['purchase_id'].nunique()"
   ]
  },
  {
   "cell_type": "markdown",
   "metadata": {},
   "source": [
    "Построим столбчатую диаграмму:"
   ]
  },
  {
   "cell_type": "code",
   "execution_count": 55,
   "metadata": {
    "scrolled": false
   },
   "outputs": [
    {
     "data": {
      "image/png": "[encoded data removed]",
      "text/plain": [
       "<Figure size 1080x576 with 1 Axes>"
      ]
     },
     "metadata": {},
     "output_type": "display_data"
    }
   ],
   "source": [
    "barplots(mean_bills, 'shop_id', 'mean_bill', \n",
    "         'Топ 10 магазинов по среднему чеку', 'Номер магазина', 'Средний чек')"
   ]
  },
  {
   "cell_type": "markdown",
   "metadata": {},
   "source": [
    "Самые дорогие средние покупки в 3 магазине. Shop 3, судя по всему, находится где-то в районе местной Рублевки. Флагманский Shop 0 с трудом попал в Топ 10, возможно, большой поток покупателей разных целей и доходов несколько усреднил средний чек магазина.\n",
    "\n",
    "Также стоит оценить динамику среднего чека по магазинам."
   ]
  },
  {
   "cell_type": "markdown",
   "metadata": {},
   "source": [
    "<div class=\"alert alert-success\">\n",
    "<b>Комментарий тимлида:</b> Интересные идеи.</div>"
   ]
  },
  {
   "cell_type": "markdown",
   "metadata": {},
   "source": [
    "Построим группировку по магазину и дате с накопительным средним:"
   ]
  },
  {
   "cell_type": "code",
   "execution_count": 56,
   "metadata": {},
   "outputs": [],
   "source": [
    "sum_bill = bill_data_filtered.groupby(['shop_id', 'date']).agg(bill_sum = ('buy_sum', 'sum'), \n",
    "                                                               bill_count = ('purchase_id', 'nunique')).reset_index()\n",
    "sum_bill['avg_bill'] = sum_bill['bill_sum'] / sum_bill['bill_count']\n",
    "\n",
    "#создадим пустой список\n",
    "dfs = []\n",
    "#для каждого магазина в списке найдем накопительное среднее\n",
    "for shop in sum_bill['shop_id'].unique():\n",
    "    dfs.extend(sum_bill.loc[sum_bill['shop_id'] == shop]['avg_bill'].expanding().mean())\n",
    "dfs = pd.DataFrame(dfs)"
   ]
  },
  {
   "cell_type": "markdown",
   "metadata": {},
   "source": [
    "Объединим группировку с полученным списком:"
   ]
  },
  {
   "cell_type": "code",
   "execution_count": 57,
   "metadata": {},
   "outputs": [
    {
     "data": {
      "text/html": [
       "<div>\n",
       "<style scoped>\n",
       "    .dataframe tbody tr th:only-of-type {\n",
       "        vertical-align: middle;\n",
       "    }\n",
       "\n",
       "    .dataframe tbody tr th {\n",
       "        vertical-align: top;\n",
       "    }\n",
       "\n",
       "    .dataframe thead th {\n",
       "        text-align: right;\n",
       "    }\n",
       "</style>\n",
       "<table border=\"1\" class=\"dataframe\">\n",
       "  <thead>\n",
       "    <tr style=\"text-align: right;\">\n",
       "      <th></th>\n",
       "      <th>shop_id</th>\n",
       "      <th>date</th>\n",
       "      <th>bill_sum</th>\n",
       "      <th>bill_count</th>\n",
       "      <th>avg_bill</th>\n",
       "      <th>exp_bill</th>\n",
       "    </tr>\n",
       "  </thead>\n",
       "  <tbody>\n",
       "    <tr>\n",
       "      <td>0</td>\n",
       "      <td>Shop 0</td>\n",
       "      <td>2016-12-01</td>\n",
       "      <td>62910.67</td>\n",
       "      <td>135</td>\n",
       "      <td>466.00</td>\n",
       "      <td>466.00</td>\n",
       "    </tr>\n",
       "    <tr>\n",
       "      <td>1</td>\n",
       "      <td>Shop 0</td>\n",
       "      <td>2016-12-02</td>\n",
       "      <td>30299.27</td>\n",
       "      <td>163</td>\n",
       "      <td>185.89</td>\n",
       "      <td>325.95</td>\n",
       "    </tr>\n",
       "    <tr>\n",
       "      <td>2</td>\n",
       "      <td>Shop 0</td>\n",
       "      <td>2016-12-03</td>\n",
       "      <td>30243.23</td>\n",
       "      <td>94</td>\n",
       "      <td>321.74</td>\n",
       "      <td>324.54</td>\n",
       "    </tr>\n",
       "    <tr>\n",
       "      <td>3</td>\n",
       "      <td>Shop 0</td>\n",
       "      <td>2016-12-05</td>\n",
       "      <td>40216.71</td>\n",
       "      <td>86</td>\n",
       "      <td>467.64</td>\n",
       "      <td>360.32</td>\n",
       "    </tr>\n",
       "    <tr>\n",
       "      <td>4</td>\n",
       "      <td>Shop 0</td>\n",
       "      <td>2016-12-06</td>\n",
       "      <td>48572.04</td>\n",
       "      <td>126</td>\n",
       "      <td>385.49</td>\n",
       "      <td>365.35</td>\n",
       "    </tr>\n",
       "    <tr>\n",
       "      <td>...</td>\n",
       "      <td>...</td>\n",
       "      <td>...</td>\n",
       "      <td>...</td>\n",
       "      <td>...</td>\n",
       "      <td>...</td>\n",
       "      <td>...</td>\n",
       "    </tr>\n",
       "    <tr>\n",
       "      <td>279</td>\n",
       "      <td>Shop 8</td>\n",
       "      <td>2017-02-01</td>\n",
       "      <td>341.47</td>\n",
       "      <td>1</td>\n",
       "      <td>341.47</td>\n",
       "      <td>751.98</td>\n",
       "    </tr>\n",
       "    <tr>\n",
       "      <td>280</td>\n",
       "      <td>Shop 8</td>\n",
       "      <td>2017-02-03</td>\n",
       "      <td>548.79</td>\n",
       "      <td>1</td>\n",
       "      <td>548.79</td>\n",
       "      <td>738.43</td>\n",
       "    </tr>\n",
       "    <tr>\n",
       "      <td>281</td>\n",
       "      <td>Shop 8</td>\n",
       "      <td>2017-02-09</td>\n",
       "      <td>804.17</td>\n",
       "      <td>1</td>\n",
       "      <td>804.17</td>\n",
       "      <td>742.54</td>\n",
       "    </tr>\n",
       "    <tr>\n",
       "      <td>282</td>\n",
       "      <td>Shop 8</td>\n",
       "      <td>2017-02-14</td>\n",
       "      <td>534.36</td>\n",
       "      <td>1</td>\n",
       "      <td>534.36</td>\n",
       "      <td>730.30</td>\n",
       "    </tr>\n",
       "    <tr>\n",
       "      <td>283</td>\n",
       "      <td>Shop 8</td>\n",
       "      <td>2017-02-18</td>\n",
       "      <td>-59.48</td>\n",
       "      <td>1</td>\n",
       "      <td>-59.48</td>\n",
       "      <td>686.42</td>\n",
       "    </tr>\n",
       "  </tbody>\n",
       "</table>\n",
       "<p>284 rows × 6 columns</p>\n",
       "</div>"
      ],
      "text/plain": [
       "    shop_id       date  bill_sum  bill_count  avg_bill  exp_bill\n",
       "0    Shop 0 2016-12-01  62910.67         135    466.00    466.00\n",
       "1    Shop 0 2016-12-02  30299.27         163    185.89    325.95\n",
       "2    Shop 0 2016-12-03  30243.23          94    321.74    324.54\n",
       "3    Shop 0 2016-12-05  40216.71          86    467.64    360.32\n",
       "4    Shop 0 2016-12-06  48572.04         126    385.49    365.35\n",
       "..      ...        ...       ...         ...       ...       ...\n",
       "279  Shop 8 2017-02-01    341.47           1    341.47    751.98\n",
       "280  Shop 8 2017-02-03    548.79           1    548.79    738.43\n",
       "281  Shop 8 2017-02-09    804.17           1    804.17    742.54\n",
       "282  Shop 8 2017-02-14    534.36           1    534.36    730.30\n",
       "283  Shop 8 2017-02-18    -59.48           1    -59.48    686.42\n",
       "\n",
       "[284 rows x 6 columns]"
      ]
     },
     "execution_count": 57,
     "metadata": {},
     "output_type": "execute_result"
    }
   ],
   "source": [
    "#используем метод merge\n",
    "sum_bill = sum_bill.merge(dfs, left_index = True, right_index = True)\n",
    "#переименуем столбцы\n",
    "sum_bill.columns = ['shop_id', 'date', 'bill_sum', 'bill_count', 'avg_bill', 'exp_bill']\n",
    "sum_bill"
   ]
  },
  {
   "cell_type": "markdown",
   "metadata": {},
   "source": [
    "Проверим правдоподобность на Shop 3 (самом дорогом по среднему чеку):"
   ]
  },
  {
   "cell_type": "code",
   "execution_count": 58,
   "metadata": {},
   "outputs": [
    {
     "data": {
      "text/html": [
       "<div>\n",
       "<style scoped>\n",
       "    .dataframe tbody tr th:only-of-type {\n",
       "        vertical-align: middle;\n",
       "    }\n",
       "\n",
       "    .dataframe tbody tr th {\n",
       "        vertical-align: top;\n",
       "    }\n",
       "\n",
       "    .dataframe thead th {\n",
       "        text-align: right;\n",
       "    }\n",
       "</style>\n",
       "<table border=\"1\" class=\"dataframe\">\n",
       "  <thead>\n",
       "    <tr style=\"text-align: right;\">\n",
       "      <th></th>\n",
       "      <th>shop_id</th>\n",
       "      <th>date</th>\n",
       "      <th>bill_sum</th>\n",
       "      <th>bill_count</th>\n",
       "      <th>avg_bill</th>\n",
       "      <th>exp_bill</th>\n",
       "    </tr>\n",
       "  </thead>\n",
       "  <tbody>\n",
       "    <tr>\n",
       "      <td>162</td>\n",
       "      <td>Shop 3</td>\n",
       "      <td>2016-12-01</td>\n",
       "      <td>274.71</td>\n",
       "      <td>1</td>\n",
       "      <td>274.71</td>\n",
       "      <td>274.71</td>\n",
       "    </tr>\n",
       "    <tr>\n",
       "      <td>163</td>\n",
       "      <td>Shop 3</td>\n",
       "      <td>2016-12-20</td>\n",
       "      <td>39.93</td>\n",
       "      <td>1</td>\n",
       "      <td>39.93</td>\n",
       "      <td>157.32</td>\n",
       "    </tr>\n",
       "    <tr>\n",
       "      <td>164</td>\n",
       "      <td>Shop 3</td>\n",
       "      <td>2016-12-21</td>\n",
       "      <td>18388.43</td>\n",
       "      <td>1</td>\n",
       "      <td>18388.43</td>\n",
       "      <td>6234.35</td>\n",
       "    </tr>\n",
       "    <tr>\n",
       "      <td>165</td>\n",
       "      <td>Shop 3</td>\n",
       "      <td>2017-01-14</td>\n",
       "      <td>18631.78</td>\n",
       "      <td>1</td>\n",
       "      <td>18631.78</td>\n",
       "      <td>9333.71</td>\n",
       "    </tr>\n",
       "    <tr>\n",
       "      <td>166</td>\n",
       "      <td>Shop 3</td>\n",
       "      <td>2017-01-19</td>\n",
       "      <td>13956.53</td>\n",
       "      <td>1</td>\n",
       "      <td>13956.53</td>\n",
       "      <td>10258.27</td>\n",
       "    </tr>\n",
       "    <tr>\n",
       "      <td>167</td>\n",
       "      <td>Shop 3</td>\n",
       "      <td>2017-01-20</td>\n",
       "      <td>520.52</td>\n",
       "      <td>1</td>\n",
       "      <td>520.52</td>\n",
       "      <td>8635.32</td>\n",
       "    </tr>\n",
       "    <tr>\n",
       "      <td>168</td>\n",
       "      <td>Shop 3</td>\n",
       "      <td>2017-01-21</td>\n",
       "      <td>13183.10</td>\n",
       "      <td>1</td>\n",
       "      <td>13183.10</td>\n",
       "      <td>9285.00</td>\n",
       "    </tr>\n",
       "    <tr>\n",
       "      <td>169</td>\n",
       "      <td>Shop 3</td>\n",
       "      <td>2017-01-31</td>\n",
       "      <td>173.77</td>\n",
       "      <td>1</td>\n",
       "      <td>173.77</td>\n",
       "      <td>8146.10</td>\n",
       "    </tr>\n",
       "    <tr>\n",
       "      <td>170</td>\n",
       "      <td>Shop 3</td>\n",
       "      <td>2017-02-01</td>\n",
       "      <td>228.12</td>\n",
       "      <td>1</td>\n",
       "      <td>228.12</td>\n",
       "      <td>7266.32</td>\n",
       "    </tr>\n",
       "    <tr>\n",
       "      <td>171</td>\n",
       "      <td>Shop 3</td>\n",
       "      <td>2017-02-03</td>\n",
       "      <td>-54.62</td>\n",
       "      <td>1</td>\n",
       "      <td>-54.62</td>\n",
       "      <td>6534.23</td>\n",
       "    </tr>\n",
       "    <tr>\n",
       "      <td>172</td>\n",
       "      <td>Shop 3</td>\n",
       "      <td>2017-02-08</td>\n",
       "      <td>2125.55</td>\n",
       "      <td>2</td>\n",
       "      <td>1062.78</td>\n",
       "      <td>6036.82</td>\n",
       "    </tr>\n",
       "    <tr>\n",
       "      <td>173</td>\n",
       "      <td>Shop 3</td>\n",
       "      <td>2017-02-21</td>\n",
       "      <td>30888.82</td>\n",
       "      <td>2</td>\n",
       "      <td>15444.41</td>\n",
       "      <td>6820.79</td>\n",
       "    </tr>\n",
       "    <tr>\n",
       "      <td>174</td>\n",
       "      <td>Shop 3</td>\n",
       "      <td>2017-02-22</td>\n",
       "      <td>5619.37</td>\n",
       "      <td>1</td>\n",
       "      <td>5619.37</td>\n",
       "      <td>6728.37</td>\n",
       "    </tr>\n",
       "  </tbody>\n",
       "</table>\n",
       "</div>"
      ],
      "text/plain": [
       "    shop_id       date  bill_sum  bill_count  avg_bill  exp_bill\n",
       "162  Shop 3 2016-12-01    274.71           1    274.71    274.71\n",
       "163  Shop 3 2016-12-20     39.93           1     39.93    157.32\n",
       "164  Shop 3 2016-12-21  18388.43           1  18388.43   6234.35\n",
       "165  Shop 3 2017-01-14  18631.78           1  18631.78   9333.71\n",
       "166  Shop 3 2017-01-19  13956.53           1  13956.53  10258.27\n",
       "167  Shop 3 2017-01-20    520.52           1    520.52   8635.32\n",
       "168  Shop 3 2017-01-21  13183.10           1  13183.10   9285.00\n",
       "169  Shop 3 2017-01-31    173.77           1    173.77   8146.10\n",
       "170  Shop 3 2017-02-01    228.12           1    228.12   7266.32\n",
       "171  Shop 3 2017-02-03    -54.62           1    -54.62   6534.23\n",
       "172  Shop 3 2017-02-08   2125.55           2   1062.78   6036.82\n",
       "173  Shop 3 2017-02-21  30888.82           2  15444.41   6820.79\n",
       "174  Shop 3 2017-02-22   5619.37           1   5619.37   6728.37"
      ]
     },
     "execution_count": 58,
     "metadata": {},
     "output_type": "execute_result"
    }
   ],
   "source": [
    "sum_bill.loc[sum_bill['shop_id'] == 'Shop 3']"
   ]
  },
  {
   "cell_type": "markdown",
   "metadata": {},
   "source": [
    "Построим линейный график изменения срднего чека во времени:"
   ]
  },
  {
   "cell_type": "code",
   "execution_count": 59,
   "metadata": {
    "scrolled": false
   },
   "outputs": [
    {
     "data": {
      "image/png": "[encoded data removed]",
      "text/plain": [
       "<Figure size 1080x576 with 1 Axes>"
      ]
     },
     "metadata": {},
     "output_type": "display_data"
    }
   ],
   "source": [
    "#линейный график из библиотеки seaborn\n",
    "ax = sns.lineplot(data = sum_bill, x = 'date', y = 'exp_bill', hue = 'shop_id', ci = None)\n",
    "ax.set_title('Изменение среднего чека во времени по магазинам сети', fontsize = 16)\n",
    "plt.xlabel('', fontsize = 14)\n",
    "plt.ylabel('Сумма среднего чека', fontsize = 14);"
   ]
  },
  {
   "cell_type": "markdown",
   "metadata": {},
   "source": [
    "Большинство магазинов показывают достаточно стабильный средний чек. Выделяются Shop 2,3,6, но кол-во покупок в них не так велико, возможно влияние экстремально высоких чеков."
   ]
  },
  {
   "cell_type": "markdown",
   "metadata": {},
   "source": [
    "#### Рассчитать среднее кол-во товаров (SKU) в чеке по магазинам, построить графики <a id='step2.4'></a>"
   ]
  },
  {
   "cell_type": "markdown",
   "metadata": {},
   "source": [
    "Аналогично предыдущим шагам, построим сводную таблицу. В зачет пойдут только магазины с 9+ покупками:"
   ]
  },
  {
   "cell_type": "code",
   "execution_count": 60,
   "metadata": {},
   "outputs": [
    {
     "data": {
      "text/html": [
       "<div>\n",
       "<style scoped>\n",
       "    .dataframe tbody tr th:only-of-type {\n",
       "        vertical-align: middle;\n",
       "    }\n",
       "\n",
       "    .dataframe tbody tr th {\n",
       "        vertical-align: top;\n",
       "    }\n",
       "\n",
       "    .dataframe thead th {\n",
       "        text-align: right;\n",
       "    }\n",
       "</style>\n",
       "<table border=\"1\" class=\"dataframe\">\n",
       "  <thead>\n",
       "    <tr style=\"text-align: right;\">\n",
       "      <th></th>\n",
       "      <th>shop_id</th>\n",
       "      <th>mean_sku</th>\n",
       "    </tr>\n",
       "  </thead>\n",
       "  <tbody>\n",
       "    <tr>\n",
       "      <td>0</td>\n",
       "      <td>Shop 3</td>\n",
       "      <td>32.80</td>\n",
       "    </tr>\n",
       "    <tr>\n",
       "      <td>1</td>\n",
       "      <td>Shop 7</td>\n",
       "      <td>28.36</td>\n",
       "    </tr>\n",
       "    <tr>\n",
       "      <td>2</td>\n",
       "      <td>Shop 8</td>\n",
       "      <td>28.00</td>\n",
       "    </tr>\n",
       "    <tr>\n",
       "      <td>3</td>\n",
       "      <td>Shop 6</td>\n",
       "      <td>22.39</td>\n",
       "    </tr>\n",
       "    <tr>\n",
       "      <td>4</td>\n",
       "      <td>Shop 0</td>\n",
       "      <td>21.55</td>\n",
       "    </tr>\n",
       "    <tr>\n",
       "      <td>5</td>\n",
       "      <td>Shop 10</td>\n",
       "      <td>19.93</td>\n",
       "    </tr>\n",
       "    <tr>\n",
       "      <td>6</td>\n",
       "      <td>Shop 1</td>\n",
       "      <td>17.11</td>\n",
       "    </tr>\n",
       "    <tr>\n",
       "      <td>7</td>\n",
       "      <td>Shop 4</td>\n",
       "      <td>15.25</td>\n",
       "    </tr>\n",
       "    <tr>\n",
       "      <td>8</td>\n",
       "      <td>Shop 2</td>\n",
       "      <td>13.26</td>\n",
       "    </tr>\n",
       "    <tr>\n",
       "      <td>9</td>\n",
       "      <td>Shop 12</td>\n",
       "      <td>13.24</td>\n",
       "    </tr>\n",
       "  </tbody>\n",
       "</table>\n",
       "</div>"
      ],
      "text/plain": [
       "   shop_id  mean_sku\n",
       "0   Shop 3     32.80\n",
       "1   Shop 7     28.36\n",
       "2   Shop 8     28.00\n",
       "3   Shop 6     22.39\n",
       "4   Shop 0     21.55\n",
       "5  Shop 10     19.93\n",
       "6   Shop 1     17.11\n",
       "7   Shop 4     15.25\n",
       "8   Shop 2     13.26\n",
       "9  Shop 12     13.24"
      ]
     },
     "execution_count": 60,
     "metadata": {},
     "output_type": "execute_result"
    }
   ],
   "source": [
    "#двойная группировка методом groupby по id магазина\n",
    "bills_count = (bill_data_filtered.groupby(['shop_id', 'purchase_id']).agg(sku = ('product_id', 'count')).reset_index())\\\n",
    "    .groupby('shop_id').agg(mean_sku = ('sku', 'mean')).sort_values(by = 'mean_sku', ascending = False)\\\n",
    "    .head(10).reset_index()\n",
    "bills_count"
   ]
  },
  {
   "cell_type": "code",
   "execution_count": 61,
   "metadata": {},
   "outputs": [
    {
     "data": {
      "image/png": "[encoded data removed]",
      "text/plain": [
       "<Figure size 1080x576 with 1 Axes>"
      ]
     },
     "metadata": {},
     "output_type": "display_data"
    }
   ],
   "source": [
    "barplots(bills_count, 'shop_id', 'mean_sku', \n",
    "         'Топ 10 магазинов по кол-ву товаров (SKU) в чеке', 'Номер магазина', 'Кол-во в SKU чеке')"
   ]
  },
  {
   "cell_type": "markdown",
   "metadata": {},
   "source": [
    "И снова в лидерах магазин номер 3. На данный момент это - самый эффективный магазин. Близки так же магазины 7 и 8."
   ]
  },
  {
   "cell_type": "markdown",
   "metadata": {},
   "source": [
    "#### Рассчитать среднее кол-во возвратов по магазинам, построить графики <a id='step2.5'></a>"
   ]
  },
  {
   "cell_type": "markdown",
   "metadata": {},
   "source": [
    "Создадим выборку с отрицательным кол-вом товара в чеке и сформируем сводную таблицу. За один возврат будем считать один чек с любым кол-вом возвратов."
   ]
  },
  {
   "cell_type": "code",
   "execution_count": 62,
   "metadata": {},
   "outputs": [
    {
     "name": "stdout",
     "output_type": "stream",
     "text": [
      "Кол-во возвратов: 979\n"
     ]
    }
   ],
   "source": [
    "return_data = retail_data.loc[retail_data['buy_sum'] < 0]\n",
    "print('Кол-во возвратов:', return_data['purchase_id'].nunique())"
   ]
  },
  {
   "cell_type": "markdown",
   "metadata": {},
   "source": [
    "Рассчитаем кол-во возвратов по магазинам:"
   ]
  },
  {
   "cell_type": "code",
   "execution_count": 63,
   "metadata": {},
   "outputs": [
    {
     "data": {
      "text/html": [
       "<div>\n",
       "<style scoped>\n",
       "    .dataframe tbody tr th:only-of-type {\n",
       "        vertical-align: middle;\n",
       "    }\n",
       "\n",
       "    .dataframe tbody tr th {\n",
       "        vertical-align: top;\n",
       "    }\n",
       "\n",
       "    .dataframe thead th {\n",
       "        text-align: right;\n",
       "    }\n",
       "</style>\n",
       "<table border=\"1\" class=\"dataframe\">\n",
       "  <thead>\n",
       "    <tr style=\"text-align: right;\">\n",
       "      <th></th>\n",
       "      <th>shop_id</th>\n",
       "      <th>count</th>\n",
       "    </tr>\n",
       "  </thead>\n",
       "  <tbody>\n",
       "    <tr>\n",
       "      <td>0</td>\n",
       "      <td>Shop 0</td>\n",
       "      <td>888</td>\n",
       "    </tr>\n",
       "    <tr>\n",
       "      <td>1</td>\n",
       "      <td>Shop 4</td>\n",
       "      <td>34</td>\n",
       "    </tr>\n",
       "    <tr>\n",
       "      <td>2</td>\n",
       "      <td>Shop 1</td>\n",
       "      <td>19</td>\n",
       "    </tr>\n",
       "    <tr>\n",
       "      <td>3</td>\n",
       "      <td>Shop 6</td>\n",
       "      <td>9</td>\n",
       "    </tr>\n",
       "    <tr>\n",
       "      <td>4</td>\n",
       "      <td>Shop 12</td>\n",
       "      <td>5</td>\n",
       "    </tr>\n",
       "  </tbody>\n",
       "</table>\n",
       "</div>"
      ],
      "text/plain": [
       "   shop_id  count\n",
       "0   Shop 0    888\n",
       "1   Shop 4     34\n",
       "2   Shop 1     19\n",
       "3   Shop 6      9\n",
       "4  Shop 12      5"
      ]
     },
     "execution_count": 63,
     "metadata": {},
     "output_type": "execute_result"
    }
   ],
   "source": [
    "mean_returns = return_data.groupby(['shop_id']).agg(count = ('purchase_id', 'nunique'))\\\n",
    "    .sort_values(by = 'count', ascending = False).reset_index()\n",
    "mean_returns.head()"
   ]
  },
  {
   "cell_type": "markdown",
   "metadata": {},
   "source": [
    "Абсолютное число возвратов не очень показательно, стоит рассчитать отношение возвратов к покупкам. Получим таблицу с покупками по магазинам:"
   ]
  },
  {
   "cell_type": "code",
   "execution_count": 64,
   "metadata": {},
   "outputs": [
    {
     "data": {
      "text/html": [
       "<div>\n",
       "<style scoped>\n",
       "    .dataframe tbody tr th:only-of-type {\n",
       "        vertical-align: middle;\n",
       "    }\n",
       "\n",
       "    .dataframe tbody tr th {\n",
       "        vertical-align: top;\n",
       "    }\n",
       "\n",
       "    .dataframe thead th {\n",
       "        text-align: right;\n",
       "    }\n",
       "</style>\n",
       "<table border=\"1\" class=\"dataframe\">\n",
       "  <thead>\n",
       "    <tr style=\"text-align: right;\">\n",
       "      <th></th>\n",
       "      <th>shop_id</th>\n",
       "      <th>count</th>\n",
       "    </tr>\n",
       "  </thead>\n",
       "  <tbody>\n",
       "    <tr>\n",
       "      <td>0</td>\n",
       "      <td>Shop 0</td>\n",
       "      <td>4471</td>\n",
       "    </tr>\n",
       "    <tr>\n",
       "      <td>1</td>\n",
       "      <td>Shop 4</td>\n",
       "      <td>114</td>\n",
       "    </tr>\n",
       "    <tr>\n",
       "      <td>2</td>\n",
       "      <td>Shop 1</td>\n",
       "      <td>90</td>\n",
       "    </tr>\n",
       "    <tr>\n",
       "      <td>3</td>\n",
       "      <td>Shop 6</td>\n",
       "      <td>46</td>\n",
       "    </tr>\n",
       "    <tr>\n",
       "      <td>4</td>\n",
       "      <td>Shop 12</td>\n",
       "      <td>21</td>\n",
       "    </tr>\n",
       "  </tbody>\n",
       "</table>\n",
       "</div>"
      ],
      "text/plain": [
       "   shop_id  count\n",
       "0   Shop 0   4471\n",
       "1   Shop 4    114\n",
       "2   Shop 1     90\n",
       "3   Shop 6     46\n",
       "4  Shop 12     21"
      ]
     },
     "execution_count": 64,
     "metadata": {},
     "output_type": "execute_result"
    }
   ],
   "source": [
    "mean_buys = retail_data.groupby(['shop_id']).agg(count = ('purchase_id', 'nunique'))\\\n",
    "    .sort_values(by = 'count', ascending = False).reset_index()\n",
    "mean_buys.head()"
   ]
  },
  {
   "cell_type": "markdown",
   "metadata": {},
   "source": [
    "Объединим полученные таблицы:"
   ]
  },
  {
   "cell_type": "code",
   "execution_count": 65,
   "metadata": {},
   "outputs": [
    {
     "data": {
      "text/html": [
       "<div>\n",
       "<style scoped>\n",
       "    .dataframe tbody tr th:only-of-type {\n",
       "        vertical-align: middle;\n",
       "    }\n",
       "\n",
       "    .dataframe tbody tr th {\n",
       "        vertical-align: top;\n",
       "    }\n",
       "\n",
       "    .dataframe thead th {\n",
       "        text-align: right;\n",
       "    }\n",
       "</style>\n",
       "<table border=\"1\" class=\"dataframe\">\n",
       "  <thead>\n",
       "    <tr style=\"text-align: right;\">\n",
       "      <th></th>\n",
       "      <th>index</th>\n",
       "      <th>shop_id</th>\n",
       "      <th>buys</th>\n",
       "      <th>returns</th>\n",
       "      <th>ratio, %</th>\n",
       "    </tr>\n",
       "  </thead>\n",
       "  <tbody>\n",
       "    <tr>\n",
       "      <td>0</td>\n",
       "      <td>21</td>\n",
       "      <td>Shop 23</td>\n",
       "      <td>2</td>\n",
       "      <td>1.00</td>\n",
       "      <td>50.00</td>\n",
       "    </tr>\n",
       "    <tr>\n",
       "      <td>1</td>\n",
       "      <td>10</td>\n",
       "      <td>Shop 11</td>\n",
       "      <td>10</td>\n",
       "      <td>4.00</td>\n",
       "      <td>40.00</td>\n",
       "    </tr>\n",
       "    <tr>\n",
       "      <td>2</td>\n",
       "      <td>20</td>\n",
       "      <td>Shop 21</td>\n",
       "      <td>3</td>\n",
       "      <td>1.00</td>\n",
       "      <td>33.33</td>\n",
       "    </tr>\n",
       "    <tr>\n",
       "      <td>3</td>\n",
       "      <td>1</td>\n",
       "      <td>Shop 4</td>\n",
       "      <td>114</td>\n",
       "      <td>34.00</td>\n",
       "      <td>29.82</td>\n",
       "    </tr>\n",
       "    <tr>\n",
       "      <td>4</td>\n",
       "      <td>12</td>\n",
       "      <td>Shop 19</td>\n",
       "      <td>7</td>\n",
       "      <td>2.00</td>\n",
       "      <td>28.57</td>\n",
       "    </tr>\n",
       "    <tr>\n",
       "      <td>5</td>\n",
       "      <td>17</td>\n",
       "      <td>Shop 16</td>\n",
       "      <td>4</td>\n",
       "      <td>1.00</td>\n",
       "      <td>25.00</td>\n",
       "    </tr>\n",
       "    <tr>\n",
       "      <td>6</td>\n",
       "      <td>16</td>\n",
       "      <td>Shop 20</td>\n",
       "      <td>4</td>\n",
       "      <td>1.00</td>\n",
       "      <td>25.00</td>\n",
       "    </tr>\n",
       "    <tr>\n",
       "      <td>7</td>\n",
       "      <td>4</td>\n",
       "      <td>Shop 12</td>\n",
       "      <td>21</td>\n",
       "      <td>5.00</td>\n",
       "      <td>23.81</td>\n",
       "    </tr>\n",
       "    <tr>\n",
       "      <td>8</td>\n",
       "      <td>2</td>\n",
       "      <td>Shop 1</td>\n",
       "      <td>90</td>\n",
       "      <td>19.00</td>\n",
       "      <td>21.11</td>\n",
       "    </tr>\n",
       "    <tr>\n",
       "      <td>9</td>\n",
       "      <td>5</td>\n",
       "      <td>Shop 8</td>\n",
       "      <td>20</td>\n",
       "      <td>4.00</td>\n",
       "      <td>20.00</td>\n",
       "    </tr>\n",
       "  </tbody>\n",
       "</table>\n",
       "</div>"
      ],
      "text/plain": [
       "   index  shop_id  buys  returns  ratio, %\n",
       "0     21  Shop 23     2     1.00     50.00\n",
       "1     10  Shop 11    10     4.00     40.00\n",
       "2     20  Shop 21     3     1.00     33.33\n",
       "3      1   Shop 4   114    34.00     29.82\n",
       "4     12  Shop 19     7     2.00     28.57\n",
       "5     17  Shop 16     4     1.00     25.00\n",
       "6     16  Shop 20     4     1.00     25.00\n",
       "7      4  Shop 12    21     5.00     23.81\n",
       "8      2   Shop 1    90    19.00     21.11\n",
       "9      5   Shop 8    20     4.00     20.00"
      ]
     },
     "execution_count": 65,
     "metadata": {},
     "output_type": "execute_result"
    }
   ],
   "source": [
    "#используем метод merge\n",
    "buy_return_merged = pd.merge(mean_buys, mean_returns, on = 'shop_id', how = 'left')\n",
    "buy_return_merged.columns = ['shop_id', 'buys', 'returns']\n",
    "#добавим столбец с отношением возвратов к продажам\n",
    "buy_return_merged['ratio, %'] = (buy_return_merged['returns'] / buy_return_merged['buys']) * 100\n",
    "buy_return_merged.sort_values(by = 'ratio, %', ascending = False, inplace = True)\n",
    "buy_return_merged.head(10).reset_index()"
   ]
  },
  {
   "cell_type": "markdown",
   "metadata": {},
   "source": [
    "Посмотрим на магазины с минимальным кол-вом покупок не менее 10:"
   ]
  },
  {
   "cell_type": "code",
   "execution_count": 66,
   "metadata": {},
   "outputs": [
    {
     "data": {
      "text/html": [
       "<div>\n",
       "<style scoped>\n",
       "    .dataframe tbody tr th:only-of-type {\n",
       "        vertical-align: middle;\n",
       "    }\n",
       "\n",
       "    .dataframe tbody tr th {\n",
       "        vertical-align: top;\n",
       "    }\n",
       "\n",
       "    .dataframe thead th {\n",
       "        text-align: right;\n",
       "    }\n",
       "</style>\n",
       "<table border=\"1\" class=\"dataframe\">\n",
       "  <thead>\n",
       "    <tr style=\"text-align: right;\">\n",
       "      <th></th>\n",
       "      <th>shop_id</th>\n",
       "      <th>buys</th>\n",
       "      <th>returns</th>\n",
       "      <th>ratio, %</th>\n",
       "    </tr>\n",
       "  </thead>\n",
       "  <tbody>\n",
       "    <tr>\n",
       "      <td>1</td>\n",
       "      <td>Shop 4</td>\n",
       "      <td>114</td>\n",
       "      <td>34.00</td>\n",
       "      <td>29.82</td>\n",
       "    </tr>\n",
       "    <tr>\n",
       "      <td>4</td>\n",
       "      <td>Shop 12</td>\n",
       "      <td>21</td>\n",
       "      <td>5.00</td>\n",
       "      <td>23.81</td>\n",
       "    </tr>\n",
       "    <tr>\n",
       "      <td>2</td>\n",
       "      <td>Shop 1</td>\n",
       "      <td>90</td>\n",
       "      <td>19.00</td>\n",
       "      <td>21.11</td>\n",
       "    </tr>\n",
       "    <tr>\n",
       "      <td>5</td>\n",
       "      <td>Shop 8</td>\n",
       "      <td>20</td>\n",
       "      <td>4.00</td>\n",
       "      <td>20.00</td>\n",
       "    </tr>\n",
       "    <tr>\n",
       "      <td>7</td>\n",
       "      <td>Shop 10</td>\n",
       "      <td>15</td>\n",
       "      <td>3.00</td>\n",
       "      <td>20.00</td>\n",
       "    </tr>\n",
       "    <tr>\n",
       "      <td>0</td>\n",
       "      <td>Shop 0</td>\n",
       "      <td>4471</td>\n",
       "      <td>888.00</td>\n",
       "      <td>19.86</td>\n",
       "    </tr>\n",
       "    <tr>\n",
       "      <td>3</td>\n",
       "      <td>Shop 6</td>\n",
       "      <td>46</td>\n",
       "      <td>9.00</td>\n",
       "      <td>19.57</td>\n",
       "    </tr>\n",
       "    <tr>\n",
       "      <td>8</td>\n",
       "      <td>Shop 3</td>\n",
       "      <td>15</td>\n",
       "      <td>2.00</td>\n",
       "      <td>13.33</td>\n",
       "    </tr>\n",
       "    <tr>\n",
       "      <td>6</td>\n",
       "      <td>Shop 2</td>\n",
       "      <td>19</td>\n",
       "      <td>2.00</td>\n",
       "      <td>10.53</td>\n",
       "    </tr>\n",
       "    <tr>\n",
       "      <td>9</td>\n",
       "      <td>Shop 7</td>\n",
       "      <td>11</td>\n",
       "      <td>1.00</td>\n",
       "      <td>9.09</td>\n",
       "    </tr>\n",
       "  </tbody>\n",
       "</table>\n",
       "</div>"
      ],
      "text/plain": [
       "   shop_id  buys  returns  ratio, %\n",
       "1   Shop 4   114    34.00     29.82\n",
       "4  Shop 12    21     5.00     23.81\n",
       "2   Shop 1    90    19.00     21.11\n",
       "5   Shop 8    20     4.00     20.00\n",
       "7  Shop 10    15     3.00     20.00\n",
       "0   Shop 0  4471   888.00     19.86\n",
       "3   Shop 6    46     9.00     19.57\n",
       "8   Shop 3    15     2.00     13.33\n",
       "6   Shop 2    19     2.00     10.53\n",
       "9   Shop 7    11     1.00      9.09"
      ]
     },
     "execution_count": 66,
     "metadata": {},
     "output_type": "execute_result"
    }
   ],
   "source": [
    "#выберем магазины только из нашего списка \n",
    "buy_return_merged = buy_return_merged.loc[buy_return_merged['shop_id'].isin(shop_list_filtered)]\n",
    "buy_return_merged"
   ]
  },
  {
   "cell_type": "markdown",
   "metadata": {},
   "source": [
    "Построим столбчатую диаграмму:"
   ]
  },
  {
   "cell_type": "code",
   "execution_count": 67,
   "metadata": {},
   "outputs": [
    {
     "data": {
      "image/png": "[encoded data removed]",
      "text/plain": [
       "<Figure size 1080x576 with 1 Axes>"
      ]
     },
     "metadata": {},
     "output_type": "display_data"
    }
   ],
   "source": [
    "barplots(buy_return_merged, 'shop_id', 'ratio, %', \n",
    "         'Возврат в магазинах из Топ 10, %', 'Номер магазина', '% возврата')"
   ]
  },
  {
   "cell_type": "markdown",
   "metadata": {},
   "source": [
    "Самый большой процент возврата в 4 магазине. Shop 3 и здесь в лидерах. Достаточно высокий коэффициент возврата и абсолютное число возвратов во флагманском магазине.\n",
    "\n",
    "В целом, в нашей сети довольно большой процент возврата для строительного магазина. Нужно тщательнее выбирать поставщиков и следить за качеством товара. Консультантам, в свою очередь, корректнее консультировать покупателей при выборе товара."
   ]
  },
  {
   "cell_type": "markdown",
   "metadata": {},
   "source": [
    "<div class=\"alert alert-success\">\n",
    "<b>Комментарий тимлида:</b> Странно, что 0-ой магазин делает так мало возвратов. Но все расчеты верны.</div>"
   ]
  },
  {
   "cell_type": "markdown",
   "metadata": {},
   "source": [
    "#### Общие выводы по ключевым показателям <a id = 'step2.6'></a>"
   ]
  },
  {
   "cell_type": "markdown",
   "metadata": {},
   "source": [
    "Были проведены исследования и построены графики по основным показателям эффективности магазинов розничной сети. Можно сделать следующие выводы:\n",
    "- В сети присутствует один флагманский магазин Shop 0, локомотив продаж. На его долю приходится львиная доля всех покупок (около 75%);\n",
    "- По большиству остальных показателей в лидерах Shop 3. Он обладает наивысшим средним чеком, динамикой роста среднего чека, самым большим кол-вом sku в чеке, низким процентом возврата. Я бы использовал эти преимущества и развивал этот магазин в будущем (расширение площади, увеличение ассортимента, различные акции);\n",
    "- Достаточно высокие показатели также показывает Shop 6 (по многим показателям третье место в сети);\n",
    "- В нашей сети довольно большой процент возврата для строительного магазина. Хорошо бы разобраться с причинами. Возможно, нужно тщательнее выбирать поставщиков и следить за качеством товара. Консультантам, в свою очередь, корректнее консультировать покупателей при выборе покупок."
   ]
  },
  {
   "cell_type": "markdown",
   "metadata": {},
   "source": [
    "<div class=\"alert alert-success\">\n",
    "<b>Комментарий тимлида:</b> Выводы обоснованы.</div>"
   ]
  },
  {
   "cell_type": "markdown",
   "metadata": {},
   "source": [
    "### Шаг 3. Проверка гипотез влияния участия в программе лояльности на ключевые показатели <a id='step3'></a>\n",
    "[К содержанию](#contents)\n"
   ]
  },
  {
   "cell_type": "markdown",
   "metadata": {},
   "source": [
    "В данном разделе будем проверять гипотезы как на очищенных данных, так и на \"грязных\". Присоединим к очищенному от выбросов датафрейму таблицу codes_filtered с усредненными ценами:"
   ]
  },
  {
   "cell_type": "markdown",
   "metadata": {},
   "source": [
    "<div class=\"alert alert-success\">\n",
    "<b>Комментарий тимлида:</b> Кстати, вот тут работа и с чистыми, и с грязными данными опрравдана.</div>"
   ]
  },
  {
   "cell_type": "code",
   "execution_count": 68,
   "metadata": {},
   "outputs": [
    {
     "data": {
      "text/html": [
       "<div>\n",
       "<style scoped>\n",
       "    .dataframe tbody tr th:only-of-type {\n",
       "        vertical-align: middle;\n",
       "    }\n",
       "\n",
       "    .dataframe tbody tr th {\n",
       "        vertical-align: top;\n",
       "    }\n",
       "\n",
       "    .dataframe thead th {\n",
       "        text-align: right;\n",
       "    }\n",
       "</style>\n",
       "<table border=\"1\" class=\"dataframe\">\n",
       "  <thead>\n",
       "    <tr style=\"text-align: right;\">\n",
       "      <th></th>\n",
       "      <th>purchase_id</th>\n",
       "      <th>product_id</th>\n",
       "      <th>quantity</th>\n",
       "      <th>purchase_date</th>\n",
       "      <th>customer_id</th>\n",
       "      <th>shop_id</th>\n",
       "      <th>loyalty_program</th>\n",
       "      <th>date</th>\n",
       "      <th>mean_price</th>\n",
       "      <th>buy_sum</th>\n",
       "    </tr>\n",
       "  </thead>\n",
       "  <tbody>\n",
       "    <tr>\n",
       "      <td>0</td>\n",
       "      <td>538280</td>\n",
       "      <td>21873</td>\n",
       "      <td>11</td>\n",
       "      <td>2016-12-10 12:50:00</td>\n",
       "      <td>18427</td>\n",
       "      <td>Shop 0</td>\n",
       "      <td>0</td>\n",
       "      <td>2016-12-10</td>\n",
       "      <td>1.81</td>\n",
       "      <td>19.91</td>\n",
       "    </tr>\n",
       "    <tr>\n",
       "      <td>1</td>\n",
       "      <td>538862</td>\n",
       "      <td>22195</td>\n",
       "      <td>0</td>\n",
       "      <td>2016-12-14 14:11:00</td>\n",
       "      <td>22389</td>\n",
       "      <td>Shop 0</td>\n",
       "      <td>1</td>\n",
       "      <td>2016-12-14</td>\n",
       "      <td>2.77</td>\n",
       "      <td>0.00</td>\n",
       "    </tr>\n",
       "    <tr>\n",
       "      <td>2</td>\n",
       "      <td>538855</td>\n",
       "      <td>21239</td>\n",
       "      <td>7</td>\n",
       "      <td>2016-12-14 13:50:00</td>\n",
       "      <td>22182</td>\n",
       "      <td>Shop 0</td>\n",
       "      <td>1</td>\n",
       "      <td>2016-12-14</td>\n",
       "      <td>1.47</td>\n",
       "      <td>10.32</td>\n",
       "    </tr>\n",
       "    <tr>\n",
       "      <td>3</td>\n",
       "      <td>543543</td>\n",
       "      <td>22271</td>\n",
       "      <td>0</td>\n",
       "      <td>2017-02-09 15:33:00</td>\n",
       "      <td>23522</td>\n",
       "      <td>Shop 0</td>\n",
       "      <td>1</td>\n",
       "      <td>2017-02-09</td>\n",
       "      <td>4.30</td>\n",
       "      <td>0.00</td>\n",
       "    </tr>\n",
       "    <tr>\n",
       "      <td>4</td>\n",
       "      <td>543812</td>\n",
       "      <td>79321</td>\n",
       "      <td>0</td>\n",
       "      <td>2017-02-13 14:40:00</td>\n",
       "      <td>23151</td>\n",
       "      <td>Shop 0</td>\n",
       "      <td>1</td>\n",
       "      <td>2017-02-13</td>\n",
       "      <td>7.01</td>\n",
       "      <td>0.00</td>\n",
       "    </tr>\n",
       "  </tbody>\n",
       "</table>\n",
       "</div>"
      ],
      "text/plain": [
       "   purchase_id product_id  quantity       purchase_date  customer_id shop_id  \\\n",
       "0       538280      21873        11 2016-12-10 12:50:00        18427  Shop 0   \n",
       "1       538862      22195         0 2016-12-14 14:11:00        22389  Shop 0   \n",
       "2       538855      21239         7 2016-12-14 13:50:00        22182  Shop 0   \n",
       "3       543543      22271         0 2017-02-09 15:33:00        23522  Shop 0   \n",
       "4       543812      79321         0 2017-02-13 14:40:00        23151  Shop 0   \n",
       "\n",
       "   loyalty_program       date  mean_price  buy_sum  \n",
       "0                0 2016-12-10        1.81    19.91  \n",
       "1                1 2016-12-14        2.77     0.00  \n",
       "2                1 2016-12-14        1.47    10.32  \n",
       "3                1 2017-02-09        4.30     0.00  \n",
       "4                1 2017-02-13        7.01     0.00  "
      ]
     },
     "metadata": {},
     "output_type": "display_data"
    },
    {
     "name": "stdout",
     "output_type": "stream",
     "text": [
      "Кол-во записей: 99630\n"
     ]
    }
   ],
   "source": [
    "#объединим таблицы методом merge\n",
    "retail_data_filtered = pd.merge(retail_filtered, codes_mean, on = 'product_id', how = 'left')\n",
    "retail_data_filtered['buy_sum'] = retail_data_filtered['quantity'] * retail_data_filtered['mean_price']\n",
    "display(retail_data_filtered.head())\n",
    "print('Кол-во записей: {}'.format(len(retail_data_filtered)))"
   ]
  },
  {
   "cell_type": "markdown",
   "metadata": {},
   "source": [
    "Посмотрим на датафрейм retail_data:"
   ]
  },
  {
   "cell_type": "code",
   "execution_count": 69,
   "metadata": {},
   "outputs": [
    {
     "data": {
      "text/html": [
       "<div>\n",
       "<style scoped>\n",
       "    .dataframe tbody tr th:only-of-type {\n",
       "        vertical-align: middle;\n",
       "    }\n",
       "\n",
       "    .dataframe tbody tr th {\n",
       "        vertical-align: top;\n",
       "    }\n",
       "\n",
       "    .dataframe thead th {\n",
       "        text-align: right;\n",
       "    }\n",
       "</style>\n",
       "<table border=\"1\" class=\"dataframe\">\n",
       "  <thead>\n",
       "    <tr style=\"text-align: right;\">\n",
       "      <th></th>\n",
       "      <th>purchase_id</th>\n",
       "      <th>product_id</th>\n",
       "      <th>quantity</th>\n",
       "      <th>purchase_date</th>\n",
       "      <th>customer_id</th>\n",
       "      <th>shop_id</th>\n",
       "      <th>loyalty_program</th>\n",
       "      <th>date</th>\n",
       "      <th>mean_price</th>\n",
       "      <th>buy_sum</th>\n",
       "    </tr>\n",
       "  </thead>\n",
       "  <tbody>\n",
       "    <tr>\n",
       "      <td>0</td>\n",
       "      <td>538280</td>\n",
       "      <td>21873</td>\n",
       "      <td>11</td>\n",
       "      <td>2016-12-10 12:50:00</td>\n",
       "      <td>18427</td>\n",
       "      <td>Shop 0</td>\n",
       "      <td>0</td>\n",
       "      <td>2016-12-10</td>\n",
       "      <td>1.81</td>\n",
       "      <td>19.91</td>\n",
       "    </tr>\n",
       "    <tr>\n",
       "      <td>1</td>\n",
       "      <td>538862</td>\n",
       "      <td>22195</td>\n",
       "      <td>0</td>\n",
       "      <td>2016-12-14 14:11:00</td>\n",
       "      <td>22389</td>\n",
       "      <td>Shop 0</td>\n",
       "      <td>1</td>\n",
       "      <td>2016-12-14</td>\n",
       "      <td>2.77</td>\n",
       "      <td>0.00</td>\n",
       "    </tr>\n",
       "    <tr>\n",
       "      <td>2</td>\n",
       "      <td>538855</td>\n",
       "      <td>21239</td>\n",
       "      <td>7</td>\n",
       "      <td>2016-12-14 13:50:00</td>\n",
       "      <td>22182</td>\n",
       "      <td>Shop 0</td>\n",
       "      <td>1</td>\n",
       "      <td>2016-12-14</td>\n",
       "      <td>1.47</td>\n",
       "      <td>10.32</td>\n",
       "    </tr>\n",
       "    <tr>\n",
       "      <td>3</td>\n",
       "      <td>543543</td>\n",
       "      <td>22271</td>\n",
       "      <td>0</td>\n",
       "      <td>2017-02-09 15:33:00</td>\n",
       "      <td>23522</td>\n",
       "      <td>Shop 0</td>\n",
       "      <td>1</td>\n",
       "      <td>2017-02-09</td>\n",
       "      <td>4.30</td>\n",
       "      <td>0.00</td>\n",
       "    </tr>\n",
       "    <tr>\n",
       "      <td>4</td>\n",
       "      <td>543812</td>\n",
       "      <td>79321</td>\n",
       "      <td>0</td>\n",
       "      <td>2017-02-13 14:40:00</td>\n",
       "      <td>23151</td>\n",
       "      <td>Shop 0</td>\n",
       "      <td>1</td>\n",
       "      <td>2017-02-13</td>\n",
       "      <td>7.01</td>\n",
       "      <td>0.00</td>\n",
       "    </tr>\n",
       "  </tbody>\n",
       "</table>\n",
       "</div>"
      ],
      "text/plain": [
       "   purchase_id product_id  quantity       purchase_date  customer_id shop_id  \\\n",
       "0       538280      21873        11 2016-12-10 12:50:00        18427  Shop 0   \n",
       "1       538862      22195         0 2016-12-14 14:11:00        22389  Shop 0   \n",
       "2       538855      21239         7 2016-12-14 13:50:00        22182  Shop 0   \n",
       "3       543543      22271         0 2017-02-09 15:33:00        23522  Shop 0   \n",
       "4       543812      79321         0 2017-02-13 14:40:00        23151  Shop 0   \n",
       "\n",
       "   loyalty_program       date  mean_price  buy_sum  \n",
       "0                0 2016-12-10        1.81    19.91  \n",
       "1                1 2016-12-14        2.77     0.00  \n",
       "2                1 2016-12-14        1.47    10.32  \n",
       "3                1 2017-02-09        4.30     0.00  \n",
       "4                1 2017-02-13        7.01     0.00  "
      ]
     },
     "metadata": {},
     "output_type": "display_data"
    },
    {
     "name": "stdout",
     "output_type": "stream",
     "text": [
      "Кол-во записей: 104302\n"
     ]
    }
   ],
   "source": [
    "display(retail_data.head())\n",
    "print('Кол-во записей: {}'.format(len(retail_data)))"
   ]
  },
  {
   "cell_type": "markdown",
   "metadata": {},
   "source": [
    "#### Разделить все магазины на две группы (по участию в программе лояльности) <a id = 'step3.1'></a>"
   ]
  },
  {
   "cell_type": "markdown",
   "metadata": {},
   "source": [
    "Для каждого набора данных создадим два датафрейма: с магазинами, участвующими в программе эффективности, и не входящими в нее:"
   ]
  },
  {
   "cell_type": "code",
   "execution_count": 70,
   "metadata": {},
   "outputs": [],
   "source": [
    "#используем срезы данных методом query\n",
    "retail_loyal = retail_data.query('loyalty_program == 1')\n",
    "retail_unloyal = retail_data.query('loyalty_program == 0')\n",
    "retail_filtered_loyal = retail_data_filtered.query('loyalty_program == 1')\n",
    "retail_filtered_unloyal = retail_data_filtered.query('loyalty_program == 0')\n",
    "#сформируем список полученных таблиц\n",
    "df_list = [retail_loyal, retail_unloyal, retail_filtered_loyal, retail_filtered_unloyal]"
   ]
  },
  {
   "cell_type": "markdown",
   "metadata": {},
   "source": [
    "Отобразим информацию о полученных датафреймах:"
   ]
  },
  {
   "cell_type": "code",
   "execution_count": 71,
   "metadata": {
    "scrolled": false
   },
   "outputs": [
    {
     "data": {
      "text/html": [
       "<div>\n",
       "<style scoped>\n",
       "    .dataframe tbody tr th:only-of-type {\n",
       "        vertical-align: middle;\n",
       "    }\n",
       "\n",
       "    .dataframe tbody tr th {\n",
       "        vertical-align: top;\n",
       "    }\n",
       "\n",
       "    .dataframe thead th {\n",
       "        text-align: right;\n",
       "    }\n",
       "</style>\n",
       "<table border=\"1\" class=\"dataframe\">\n",
       "  <thead>\n",
       "    <tr style=\"text-align: right;\">\n",
       "      <th></th>\n",
       "      <th>purchase_id</th>\n",
       "      <th>product_id</th>\n",
       "      <th>quantity</th>\n",
       "      <th>purchase_date</th>\n",
       "      <th>customer_id</th>\n",
       "      <th>shop_id</th>\n",
       "      <th>loyalty_program</th>\n",
       "      <th>date</th>\n",
       "      <th>mean_price</th>\n",
       "      <th>buy_sum</th>\n",
       "    </tr>\n",
       "  </thead>\n",
       "  <tbody>\n",
       "    <tr>\n",
       "      <td>1</td>\n",
       "      <td>538862</td>\n",
       "      <td>22195</td>\n",
       "      <td>0</td>\n",
       "      <td>2016-12-14 14:11:00</td>\n",
       "      <td>22389</td>\n",
       "      <td>Shop 0</td>\n",
       "      <td>1</td>\n",
       "      <td>2016-12-14</td>\n",
       "      <td>2.77</td>\n",
       "      <td>0.00</td>\n",
       "    </tr>\n",
       "    <tr>\n",
       "      <td>2</td>\n",
       "      <td>538855</td>\n",
       "      <td>21239</td>\n",
       "      <td>7</td>\n",
       "      <td>2016-12-14 13:50:00</td>\n",
       "      <td>22182</td>\n",
       "      <td>Shop 0</td>\n",
       "      <td>1</td>\n",
       "      <td>2016-12-14</td>\n",
       "      <td>1.47</td>\n",
       "      <td>10.32</td>\n",
       "    </tr>\n",
       "    <tr>\n",
       "      <td>3</td>\n",
       "      <td>543543</td>\n",
       "      <td>22271</td>\n",
       "      <td>0</td>\n",
       "      <td>2017-02-09 15:33:00</td>\n",
       "      <td>23522</td>\n",
       "      <td>Shop 0</td>\n",
       "      <td>1</td>\n",
       "      <td>2017-02-09</td>\n",
       "      <td>4.30</td>\n",
       "      <td>0.00</td>\n",
       "    </tr>\n",
       "    <tr>\n",
       "      <td>4</td>\n",
       "      <td>543812</td>\n",
       "      <td>79321</td>\n",
       "      <td>0</td>\n",
       "      <td>2017-02-13 14:40:00</td>\n",
       "      <td>23151</td>\n",
       "      <td>Shop 0</td>\n",
       "      <td>1</td>\n",
       "      <td>2017-02-13</td>\n",
       "      <td>7.01</td>\n",
       "      <td>0.00</td>\n",
       "    </tr>\n",
       "    <tr>\n",
       "      <td>5</td>\n",
       "      <td>538379</td>\n",
       "      <td>22965</td>\n",
       "      <td>0</td>\n",
       "      <td>2016-12-12 11:26:00</td>\n",
       "      <td>22805</td>\n",
       "      <td>Shop 0</td>\n",
       "      <td>1</td>\n",
       "      <td>2016-12-12</td>\n",
       "      <td>3.07</td>\n",
       "      <td>0.00</td>\n",
       "    </tr>\n",
       "  </tbody>\n",
       "</table>\n",
       "</div>"
      ],
      "text/plain": [
       "   purchase_id product_id  quantity       purchase_date  customer_id shop_id  \\\n",
       "1       538862      22195         0 2016-12-14 14:11:00        22389  Shop 0   \n",
       "2       538855      21239         7 2016-12-14 13:50:00        22182  Shop 0   \n",
       "3       543543      22271         0 2017-02-09 15:33:00        23522  Shop 0   \n",
       "4       543812      79321         0 2017-02-13 14:40:00        23151  Shop 0   \n",
       "5       538379      22965         0 2016-12-12 11:26:00        22805  Shop 0   \n",
       "\n",
       "   loyalty_program       date  mean_price  buy_sum  \n",
       "1                1 2016-12-14        2.77     0.00  \n",
       "2                1 2016-12-14        1.47    10.32  \n",
       "3                1 2017-02-09        4.30     0.00  \n",
       "4                1 2017-02-13        7.01     0.00  \n",
       "5                1 2016-12-12        3.07     0.00  "
      ]
     },
     "metadata": {},
     "output_type": "display_data"
    },
    {
     "name": "stdout",
     "output_type": "stream",
     "text": [
      "<class 'pandas.core.frame.DataFrame'>\n",
      "Int64Index: 23412 entries, 1 to 104299\n",
      "Data columns (total 10 columns):\n",
      "purchase_id        23412 non-null int64\n",
      "product_id         23412 non-null object\n",
      "quantity           23412 non-null int64\n",
      "purchase_date      23412 non-null datetime64[ns]\n",
      "customer_id        23412 non-null int64\n",
      "shop_id            23412 non-null object\n",
      "loyalty_program    23412 non-null int64\n",
      "date               23412 non-null datetime64[ns]\n",
      "mean_price         23412 non-null float64\n",
      "buy_sum            23412 non-null float64\n",
      "dtypes: datetime64[ns](2), float64(2), int64(4), object(2)\n",
      "memory usage: 2.0+ MB\n"
     ]
    },
    {
     "data": {
      "text/plain": [
       "None"
      ]
     },
     "metadata": {},
     "output_type": "display_data"
    },
    {
     "data": {
      "text/html": [
       "<div>\n",
       "<style scoped>\n",
       "    .dataframe tbody tr th:only-of-type {\n",
       "        vertical-align: middle;\n",
       "    }\n",
       "\n",
       "    .dataframe tbody tr th {\n",
       "        vertical-align: top;\n",
       "    }\n",
       "\n",
       "    .dataframe thead th {\n",
       "        text-align: right;\n",
       "    }\n",
       "</style>\n",
       "<table border=\"1\" class=\"dataframe\">\n",
       "  <thead>\n",
       "    <tr style=\"text-align: right;\">\n",
       "      <th></th>\n",
       "      <th>purchase_id</th>\n",
       "      <th>product_id</th>\n",
       "      <th>quantity</th>\n",
       "      <th>purchase_date</th>\n",
       "      <th>customer_id</th>\n",
       "      <th>shop_id</th>\n",
       "      <th>loyalty_program</th>\n",
       "      <th>date</th>\n",
       "      <th>mean_price</th>\n",
       "      <th>buy_sum</th>\n",
       "    </tr>\n",
       "  </thead>\n",
       "  <tbody>\n",
       "    <tr>\n",
       "      <td>0</td>\n",
       "      <td>538280</td>\n",
       "      <td>21873</td>\n",
       "      <td>11</td>\n",
       "      <td>2016-12-10 12:50:00</td>\n",
       "      <td>18427</td>\n",
       "      <td>Shop 0</td>\n",
       "      <td>0</td>\n",
       "      <td>2016-12-10</td>\n",
       "      <td>1.81</td>\n",
       "      <td>19.91</td>\n",
       "    </tr>\n",
       "    <tr>\n",
       "      <td>6</td>\n",
       "      <td>540468</td>\n",
       "      <td>22189</td>\n",
       "      <td>0</td>\n",
       "      <td>2017-01-07 13:55:00</td>\n",
       "      <td>1</td>\n",
       "      <td>Shop 0</td>\n",
       "      <td>0</td>\n",
       "      <td>2017-01-07</td>\n",
       "      <td>5.28</td>\n",
       "      <td>0.00</td>\n",
       "    </tr>\n",
       "    <tr>\n",
       "      <td>7</td>\n",
       "      <td>541424</td>\n",
       "      <td>79321</td>\n",
       "      <td>1</td>\n",
       "      <td>2017-01-17 17:57:00</td>\n",
       "      <td>1</td>\n",
       "      <td>Shop 0</td>\n",
       "      <td>0</td>\n",
       "      <td>2017-01-17</td>\n",
       "      <td>7.01</td>\n",
       "      <td>7.01</td>\n",
       "    </tr>\n",
       "    <tr>\n",
       "      <td>8</td>\n",
       "      <td>538883</td>\n",
       "      <td>22891</td>\n",
       "      <td>0</td>\n",
       "      <td>2016-12-14 15:56:00</td>\n",
       "      <td>1</td>\n",
       "      <td>Shop 0</td>\n",
       "      <td>0</td>\n",
       "      <td>2016-12-14</td>\n",
       "      <td>6.19</td>\n",
       "      <td>0.00</td>\n",
       "    </tr>\n",
       "    <tr>\n",
       "      <td>11</td>\n",
       "      <td>541696</td>\n",
       "      <td>22197</td>\n",
       "      <td>4</td>\n",
       "      <td>2017-01-20 18:08:00</td>\n",
       "      <td>1</td>\n",
       "      <td>Shop 0</td>\n",
       "      <td>0</td>\n",
       "      <td>2017-01-20</td>\n",
       "      <td>1.21</td>\n",
       "      <td>4.86</td>\n",
       "    </tr>\n",
       "  </tbody>\n",
       "</table>\n",
       "</div>"
      ],
      "text/plain": [
       "    purchase_id product_id  quantity       purchase_date  customer_id shop_id  \\\n",
       "0        538280      21873        11 2016-12-10 12:50:00        18427  Shop 0   \n",
       "6        540468      22189         0 2017-01-07 13:55:00            1  Shop 0   \n",
       "7        541424      79321         1 2017-01-17 17:57:00            1  Shop 0   \n",
       "8        538883      22891         0 2016-12-14 15:56:00            1  Shop 0   \n",
       "11       541696      22197         4 2017-01-20 18:08:00            1  Shop 0   \n",
       "\n",
       "    loyalty_program       date  mean_price  buy_sum  \n",
       "0                 0 2016-12-10        1.81    19.91  \n",
       "6                 0 2017-01-07        5.28     0.00  \n",
       "7                 0 2017-01-17        7.01     7.01  \n",
       "8                 0 2016-12-14        6.19     0.00  \n",
       "11                0 2017-01-20        1.21     4.86  "
      ]
     },
     "metadata": {},
     "output_type": "display_data"
    },
    {
     "name": "stdout",
     "output_type": "stream",
     "text": [
      "<class 'pandas.core.frame.DataFrame'>\n",
      "Int64Index: 80890 entries, 0 to 104301\n",
      "Data columns (total 10 columns):\n",
      "purchase_id        80890 non-null int64\n",
      "product_id         80890 non-null object\n",
      "quantity           80890 non-null int64\n",
      "purchase_date      80890 non-null datetime64[ns]\n",
      "customer_id        80890 non-null int64\n",
      "shop_id            80890 non-null object\n",
      "loyalty_program    80890 non-null int64\n",
      "date               80890 non-null datetime64[ns]\n",
      "mean_price         80890 non-null float64\n",
      "buy_sum            80890 non-null float64\n",
      "dtypes: datetime64[ns](2), float64(2), int64(4), object(2)\n",
      "memory usage: 6.8+ MB\n"
     ]
    },
    {
     "data": {
      "text/plain": [
       "None"
      ]
     },
     "metadata": {},
     "output_type": "display_data"
    },
    {
     "data": {
      "text/html": [
       "<div>\n",
       "<style scoped>\n",
       "    .dataframe tbody tr th:only-of-type {\n",
       "        vertical-align: middle;\n",
       "    }\n",
       "\n",
       "    .dataframe tbody tr th {\n",
       "        vertical-align: top;\n",
       "    }\n",
       "\n",
       "    .dataframe thead th {\n",
       "        text-align: right;\n",
       "    }\n",
       "</style>\n",
       "<table border=\"1\" class=\"dataframe\">\n",
       "  <thead>\n",
       "    <tr style=\"text-align: right;\">\n",
       "      <th></th>\n",
       "      <th>purchase_id</th>\n",
       "      <th>product_id</th>\n",
       "      <th>quantity</th>\n",
       "      <th>purchase_date</th>\n",
       "      <th>customer_id</th>\n",
       "      <th>shop_id</th>\n",
       "      <th>loyalty_program</th>\n",
       "      <th>date</th>\n",
       "      <th>mean_price</th>\n",
       "      <th>buy_sum</th>\n",
       "    </tr>\n",
       "  </thead>\n",
       "  <tbody>\n",
       "    <tr>\n",
       "      <td>1</td>\n",
       "      <td>538862</td>\n",
       "      <td>22195</td>\n",
       "      <td>0</td>\n",
       "      <td>2016-12-14 14:11:00</td>\n",
       "      <td>22389</td>\n",
       "      <td>Shop 0</td>\n",
       "      <td>1</td>\n",
       "      <td>2016-12-14</td>\n",
       "      <td>2.77</td>\n",
       "      <td>0.00</td>\n",
       "    </tr>\n",
       "    <tr>\n",
       "      <td>2</td>\n",
       "      <td>538855</td>\n",
       "      <td>21239</td>\n",
       "      <td>7</td>\n",
       "      <td>2016-12-14 13:50:00</td>\n",
       "      <td>22182</td>\n",
       "      <td>Shop 0</td>\n",
       "      <td>1</td>\n",
       "      <td>2016-12-14</td>\n",
       "      <td>1.47</td>\n",
       "      <td>10.32</td>\n",
       "    </tr>\n",
       "    <tr>\n",
       "      <td>3</td>\n",
       "      <td>543543</td>\n",
       "      <td>22271</td>\n",
       "      <td>0</td>\n",
       "      <td>2017-02-09 15:33:00</td>\n",
       "      <td>23522</td>\n",
       "      <td>Shop 0</td>\n",
       "      <td>1</td>\n",
       "      <td>2017-02-09</td>\n",
       "      <td>4.30</td>\n",
       "      <td>0.00</td>\n",
       "    </tr>\n",
       "    <tr>\n",
       "      <td>4</td>\n",
       "      <td>543812</td>\n",
       "      <td>79321</td>\n",
       "      <td>0</td>\n",
       "      <td>2017-02-13 14:40:00</td>\n",
       "      <td>23151</td>\n",
       "      <td>Shop 0</td>\n",
       "      <td>1</td>\n",
       "      <td>2017-02-13</td>\n",
       "      <td>7.01</td>\n",
       "      <td>0.00</td>\n",
       "    </tr>\n",
       "    <tr>\n",
       "      <td>5</td>\n",
       "      <td>538379</td>\n",
       "      <td>22965</td>\n",
       "      <td>0</td>\n",
       "      <td>2016-12-12 11:26:00</td>\n",
       "      <td>22805</td>\n",
       "      <td>Shop 0</td>\n",
       "      <td>1</td>\n",
       "      <td>2016-12-12</td>\n",
       "      <td>3.07</td>\n",
       "      <td>0.00</td>\n",
       "    </tr>\n",
       "  </tbody>\n",
       "</table>\n",
       "</div>"
      ],
      "text/plain": [
       "   purchase_id product_id  quantity       purchase_date  customer_id shop_id  \\\n",
       "1       538862      22195         0 2016-12-14 14:11:00        22389  Shop 0   \n",
       "2       538855      21239         7 2016-12-14 13:50:00        22182  Shop 0   \n",
       "3       543543      22271         0 2017-02-09 15:33:00        23522  Shop 0   \n",
       "4       543812      79321         0 2017-02-13 14:40:00        23151  Shop 0   \n",
       "5       538379      22965         0 2016-12-12 11:26:00        22805  Shop 0   \n",
       "\n",
       "   loyalty_program       date  mean_price  buy_sum  \n",
       "1                1 2016-12-14        2.77     0.00  \n",
       "2                1 2016-12-14        1.47    10.32  \n",
       "3                1 2017-02-09        4.30     0.00  \n",
       "4                1 2017-02-13        7.01     0.00  \n",
       "5                1 2016-12-12        3.07     0.00  "
      ]
     },
     "metadata": {},
     "output_type": "display_data"
    },
    {
     "name": "stdout",
     "output_type": "stream",
     "text": [
      "<class 'pandas.core.frame.DataFrame'>\n",
      "Int64Index: 22263 entries, 1 to 99627\n",
      "Data columns (total 10 columns):\n",
      "purchase_id        22263 non-null int64\n",
      "product_id         22263 non-null object\n",
      "quantity           22263 non-null int64\n",
      "purchase_date      22263 non-null datetime64[ns]\n",
      "customer_id        22263 non-null int64\n",
      "shop_id            22263 non-null object\n",
      "loyalty_program    22263 non-null int64\n",
      "date               22263 non-null datetime64[ns]\n",
      "mean_price         22263 non-null float64\n",
      "buy_sum            22263 non-null float64\n",
      "dtypes: datetime64[ns](2), float64(2), int64(4), object(2)\n",
      "memory usage: 1.9+ MB\n"
     ]
    },
    {
     "data": {
      "text/plain": [
       "None"
      ]
     },
     "metadata": {},
     "output_type": "display_data"
    },
    {
     "data": {
      "text/html": [
       "<div>\n",
       "<style scoped>\n",
       "    .dataframe tbody tr th:only-of-type {\n",
       "        vertical-align: middle;\n",
       "    }\n",
       "\n",
       "    .dataframe tbody tr th {\n",
       "        vertical-align: top;\n",
       "    }\n",
       "\n",
       "    .dataframe thead th {\n",
       "        text-align: right;\n",
       "    }\n",
       "</style>\n",
       "<table border=\"1\" class=\"dataframe\">\n",
       "  <thead>\n",
       "    <tr style=\"text-align: right;\">\n",
       "      <th></th>\n",
       "      <th>purchase_id</th>\n",
       "      <th>product_id</th>\n",
       "      <th>quantity</th>\n",
       "      <th>purchase_date</th>\n",
       "      <th>customer_id</th>\n",
       "      <th>shop_id</th>\n",
       "      <th>loyalty_program</th>\n",
       "      <th>date</th>\n",
       "      <th>mean_price</th>\n",
       "      <th>buy_sum</th>\n",
       "    </tr>\n",
       "  </thead>\n",
       "  <tbody>\n",
       "    <tr>\n",
       "      <td>0</td>\n",
       "      <td>538280</td>\n",
       "      <td>21873</td>\n",
       "      <td>11</td>\n",
       "      <td>2016-12-10 12:50:00</td>\n",
       "      <td>18427</td>\n",
       "      <td>Shop 0</td>\n",
       "      <td>0</td>\n",
       "      <td>2016-12-10</td>\n",
       "      <td>1.81</td>\n",
       "      <td>19.91</td>\n",
       "    </tr>\n",
       "    <tr>\n",
       "      <td>6</td>\n",
       "      <td>540468</td>\n",
       "      <td>22189</td>\n",
       "      <td>0</td>\n",
       "      <td>2017-01-07 13:55:00</td>\n",
       "      <td>1</td>\n",
       "      <td>Shop 0</td>\n",
       "      <td>0</td>\n",
       "      <td>2017-01-07</td>\n",
       "      <td>5.28</td>\n",
       "      <td>0.00</td>\n",
       "    </tr>\n",
       "    <tr>\n",
       "      <td>7</td>\n",
       "      <td>541424</td>\n",
       "      <td>79321</td>\n",
       "      <td>1</td>\n",
       "      <td>2017-01-17 17:57:00</td>\n",
       "      <td>1</td>\n",
       "      <td>Shop 0</td>\n",
       "      <td>0</td>\n",
       "      <td>2017-01-17</td>\n",
       "      <td>7.01</td>\n",
       "      <td>7.01</td>\n",
       "    </tr>\n",
       "    <tr>\n",
       "      <td>8</td>\n",
       "      <td>538883</td>\n",
       "      <td>22891</td>\n",
       "      <td>0</td>\n",
       "      <td>2016-12-14 15:56:00</td>\n",
       "      <td>1</td>\n",
       "      <td>Shop 0</td>\n",
       "      <td>0</td>\n",
       "      <td>2016-12-14</td>\n",
       "      <td>6.19</td>\n",
       "      <td>0.00</td>\n",
       "    </tr>\n",
       "    <tr>\n",
       "      <td>11</td>\n",
       "      <td>541696</td>\n",
       "      <td>22197</td>\n",
       "      <td>4</td>\n",
       "      <td>2017-01-20 18:08:00</td>\n",
       "      <td>1</td>\n",
       "      <td>Shop 0</td>\n",
       "      <td>0</td>\n",
       "      <td>2017-01-20</td>\n",
       "      <td>1.21</td>\n",
       "      <td>4.86</td>\n",
       "    </tr>\n",
       "  </tbody>\n",
       "</table>\n",
       "</div>"
      ],
      "text/plain": [
       "    purchase_id product_id  quantity       purchase_date  customer_id shop_id  \\\n",
       "0        538280      21873        11 2016-12-10 12:50:00        18427  Shop 0   \n",
       "6        540468      22189         0 2017-01-07 13:55:00            1  Shop 0   \n",
       "7        541424      79321         1 2017-01-17 17:57:00            1  Shop 0   \n",
       "8        538883      22891         0 2016-12-14 15:56:00            1  Shop 0   \n",
       "11       541696      22197         4 2017-01-20 18:08:00            1  Shop 0   \n",
       "\n",
       "    loyalty_program       date  mean_price  buy_sum  \n",
       "0                 0 2016-12-10        1.81    19.91  \n",
       "6                 0 2017-01-07        5.28     0.00  \n",
       "7                 0 2017-01-17        7.01     7.01  \n",
       "8                 0 2016-12-14        6.19     0.00  \n",
       "11                0 2017-01-20        1.21     4.86  "
      ]
     },
     "metadata": {},
     "output_type": "display_data"
    },
    {
     "name": "stdout",
     "output_type": "stream",
     "text": [
      "<class 'pandas.core.frame.DataFrame'>\n",
      "Int64Index: 77367 entries, 0 to 99629\n",
      "Data columns (total 10 columns):\n",
      "purchase_id        77367 non-null int64\n",
      "product_id         77367 non-null object\n",
      "quantity           77367 non-null int64\n",
      "purchase_date      77367 non-null datetime64[ns]\n",
      "customer_id        77367 non-null int64\n",
      "shop_id            77367 non-null object\n",
      "loyalty_program    77367 non-null int64\n",
      "date               77367 non-null datetime64[ns]\n",
      "mean_price         77367 non-null float64\n",
      "buy_sum            77367 non-null float64\n",
      "dtypes: datetime64[ns](2), float64(2), int64(4), object(2)\n",
      "memory usage: 6.5+ MB\n"
     ]
    },
    {
     "data": {
      "text/plain": [
       "None"
      ]
     },
     "metadata": {},
     "output_type": "display_data"
    }
   ],
   "source": [
    "for df in df_list:\n",
    "    display(df.head())\n",
    "    display(df.info())"
   ]
  },
  {
   "cell_type": "markdown",
   "metadata": {},
   "source": [
    "Записей с участием в программе лояльности немногим больше 20%. Размеры выборок для тестов будут сильно отличаться. Это нежелательно, но выбора нет."
   ]
  },
  {
   "cell_type": "markdown",
   "metadata": {},
   "source": [
    "#### Определить, есть ли различие в среднем чеке для каждой группы <a id = 'step3.2'></a>"
   ]
  },
  {
   "cell_type": "markdown",
   "metadata": {},
   "source": [
    "Найдем значения чеков для всех датафреймов:"
   ]
  },
  {
   "cell_type": "code",
   "execution_count": 72,
   "metadata": {},
   "outputs": [
    {
     "data": {
      "text/plain": [
       "purchase_id\n",
       "536365   184.47\n",
       "536366    20.40\n",
       "536372    20.40\n",
       "536373   384.53\n",
       "536375   384.53\n",
       "Name: buy_sum, dtype: float64"
      ]
     },
     "execution_count": 72,
     "metadata": {},
     "output_type": "execute_result"
    }
   ],
   "source": [
    "loyal_bill = retail_loyal.groupby('purchase_id')['buy_sum'].sum()\n",
    "unloyal_bill = retail_unloyal.groupby('purchase_id')['buy_sum'].sum()\n",
    "loyal_filtered_bill = retail_filtered_loyal.groupby('purchase_id')['buy_sum'].sum()\n",
    "unloyal_filtered_bill = retail_filtered_unloyal.groupby('purchase_id')['buy_sum'].sum()\n",
    "#проверим на одном из полученных списков\n",
    "loyal_bill.head()"
   ]
  },
  {
   "cell_type": "markdown",
   "metadata": {},
   "source": [
    "Для выбора статистического критерия проверим выборки на нормальность распределения. Напишем функцию для проверки четырех выборок:"
   ]
  },
  {
   "cell_type": "code",
   "execution_count": 73,
   "metadata": {},
   "outputs": [],
   "source": [
    "def normal(norm_list):\n",
    "    alpha = round(1 - (1 - 0.05)**(1/4), 3)\n",
    "    for name in norm_list:\n",
    "        normaltest = st.normaltest(name)\n",
    "        print('p-значение: {:.3f}'.format(normaltest.pvalue))\n",
    "        if (normaltest.pvalue < alpha):\n",
    "            print(colored('Выборку нельзя считать нормально распределенной.', 'green'))\n",
    "        else:\n",
    "            print(colored('Выборку можно считать нормально распределенной.', 'red'))"
   ]
  },
  {
   "cell_type": "code",
   "execution_count": 74,
   "metadata": {},
   "outputs": [
    {
     "name": "stdout",
     "output_type": "stream",
     "text": [
      "p-значение: 0.000\n",
      "\u001b[32mВыборку нельзя считать нормально распределенной.\u001b[0m\n",
      "p-значение: 0.000\n",
      "\u001b[32mВыборку нельзя считать нормально распределенной.\u001b[0m\n",
      "p-значение: 0.000\n",
      "\u001b[32mВыборку нельзя считать нормально распределенной.\u001b[0m\n",
      "p-значение: 0.000\n",
      "\u001b[32mВыборку нельзя считать нормально распределенной.\u001b[0m\n"
     ]
    }
   ],
   "source": [
    "#список исследуемых выборок\n",
    "bill_list = [loyal_bill, unloyal_bill, loyal_filtered_bill, unloyal_filtered_bill]\n",
    "normal(bill_list)"
   ]
  },
  {
   "cell_type": "markdown",
   "metadata": {},
   "source": [
    "Так как выборки величины чеков не обладают нормальным распределением, применять тест Стьюдента не рекомендуется, для проверки равенства средних чеков применим ранговый тест Уилкоксона-Манна-Уитни, что снизит влияние выбросов."
   ]
  },
  {
   "cell_type": "markdown",
   "metadata": {},
   "source": [
    "Рассчитаем поправку Шидака для множественных сравнений, кол-во одновременно проводимых тестов - 2."
   ]
  },
  {
   "cell_type": "code",
   "execution_count": 75,
   "metadata": {},
   "outputs": [
    {
     "data": {
      "text/plain": [
       "0.025"
      ]
     },
     "execution_count": 75,
     "metadata": {},
     "output_type": "execute_result"
    }
   ],
   "source": [
    "alpha_shd = round(1 - (1 - 0.05)**(1/2), 3)\n",
    "alpha_shd"
   ]
  },
  {
   "cell_type": "markdown",
   "metadata": {},
   "source": [
    "<div class=\"alert alert-success\">\n",
    "<b>Комментарий тимлида:</b> Ого! Вот с 2 тестами уже можно смело брать что попроще - того же Бонфирони, результат тот же. </div>"
   ]
  },
  {
   "cell_type": "markdown",
   "metadata": {},
   "source": [
    "<div class=\"alert alert-warning\">\n",
    "<b>Комментарий тимлида v2:</b> На самом деле нормлаьность данных имеет значение на выборках до 30 наблюдений. Но тем не менее это уже научный подход.\n",
    "\n",
    "</div>"
   ]
  },
  {
   "cell_type": "markdown",
   "metadata": {},
   "source": [
    "Сформируем гипотезы:\n",
    "\n",
    "<i> \n",
    "- Гипотеза Н0 -  Средние чеки магазинов участвующих в программе лояльности, и не участвующих в ней, не различаются. <br>\n",
    "- Альтернативная гипотеза Н1 - Средние чеки магазинов участвующих в программе лояльности, и не участвующих в ней, различны."
   ]
  },
  {
   "cell_type": "markdown",
   "metadata": {},
   "source": [
    "Напишем функцию для проведения теста Манна-Уитни:"
   ]
  },
  {
   "cell_type": "code",
   "execution_count": 76,
   "metadata": {},
   "outputs": [],
   "source": [
    "def mw(loyal, unloyal, filt_loyal, filt_unloyal):\n",
    "    \n",
    "    ''' Функция для сравнения средних методом  Манна-Уитни '''\n",
    "    \n",
    "    alpha = alpha_shd # критический уровень статистической значимости\n",
    "                # если p-value окажется меньше него - отвергнем гипотезу\n",
    "        \n",
    "    results = st.mannwhitneyu(loyal, unloyal)\n",
    "    \n",
    "    results_filt = st.mannwhitneyu(filt_loyal, filt_unloyal)\n",
    "    \n",
    "    print('p-значение: {:.3f}'.format(results.pvalue))\n",
    "    if (results.pvalue < alpha):\n",
    "        print(colored('Средние значения выборок по участию в программе лояльности различаются,\\\n",
    " мы смогли отвергнуть нулевую гипотезу.', 'green'))\n",
    "    else:\n",
    "        print(colored('Средние значения выборок по участию в программе лояльности не различаются,\\\n",
    " мы не смогли отвергнуть нулевую гипотезу.', 'red'))\n",
    "        \n",
    "    print('p-значение filtered: {:.3f}'.format(results_filt.pvalue))\n",
    "    if (results_filt.pvalue < alpha):\n",
    "        print(colored('Средние значения выборок по участию в программе лояльности различаются,\\\n",
    " мы смогли отвергнуть нулевую гипотезу.', 'green'))\n",
    "    else:\n",
    "        print(colored('Средние значения выборок по участию в программе лояльности не различаются,\\\n",
    " мы не смогли отвергнуть нулевую гипотезу.', 'red'))"
   ]
  },
  {
   "cell_type": "markdown",
   "metadata": {},
   "source": [
    "Проведем тесты на наших выборках:"
   ]
  },
  {
   "cell_type": "code",
   "execution_count": 77,
   "metadata": {},
   "outputs": [
    {
     "name": "stdout",
     "output_type": "stream",
     "text": [
      "p-значение: 0.000\n",
      "\u001b[32mСредние значения выборок по участию в программе лояльности различаются, мы смогли отвергнуть нулевую гипотезу.\u001b[0m\n",
      "p-значение filtered: 0.021\n",
      "\u001b[32mСредние значения выборок по участию в программе лояльности различаются, мы смогли отвергнуть нулевую гипотезу.\u001b[0m\n"
     ]
    }
   ],
   "source": [
    "mw(loyal_bill, unloyal_bill, loyal_filtered_bill, unloyal_filtered_bill)"
   ]
  },
  {
   "cell_type": "markdown",
   "metadata": {},
   "source": [
    "Проверим на вычисленных средних значениях. Изначальные данные:"
   ]
  },
  {
   "cell_type": "code",
   "execution_count": 78,
   "metadata": {},
   "outputs": [
    {
     "data": {
      "text/html": [
       "<div>\n",
       "<style scoped>\n",
       "    .dataframe tbody tr th:only-of-type {\n",
       "        vertical-align: middle;\n",
       "    }\n",
       "\n",
       "    .dataframe tbody tr th {\n",
       "        vertical-align: top;\n",
       "    }\n",
       "\n",
       "    .dataframe thead th {\n",
       "        text-align: right;\n",
       "    }\n",
       "</style>\n",
       "<table border=\"1\" class=\"dataframe\">\n",
       "  <thead>\n",
       "    <tr style=\"text-align: right;\">\n",
       "      <th></th>\n",
       "      <th>loyalty_program</th>\n",
       "      <th>mean_bill</th>\n",
       "    </tr>\n",
       "  </thead>\n",
       "  <tbody>\n",
       "    <tr>\n",
       "      <td>0</td>\n",
       "      <td>0</td>\n",
       "      <td>387.61</td>\n",
       "    </tr>\n",
       "    <tr>\n",
       "      <td>1</td>\n",
       "      <td>1</td>\n",
       "      <td>462.85</td>\n",
       "    </tr>\n",
       "  </tbody>\n",
       "</table>\n",
       "</div>"
      ],
      "text/plain": [
       "   loyalty_program  mean_bill\n",
       "0                0     387.61\n",
       "1                1     462.85"
      ]
     },
     "execution_count": 78,
     "metadata": {},
     "output_type": "execute_result"
    }
   ],
   "source": [
    "(retail_data.groupby(['purchase_id', 'loyalty_program']).agg({'buy_sum': 'sum'}).reset_index())\\\n",
    "    .groupby('loyalty_program').agg(mean_bill = ('buy_sum', 'mean')).reset_index()"
   ]
  },
  {
   "cell_type": "markdown",
   "metadata": {},
   "source": [
    "Очищенные данные:"
   ]
  },
  {
   "cell_type": "code",
   "execution_count": 79,
   "metadata": {},
   "outputs": [
    {
     "data": {
      "text/html": [
       "<div>\n",
       "<style scoped>\n",
       "    .dataframe tbody tr th:only-of-type {\n",
       "        vertical-align: middle;\n",
       "    }\n",
       "\n",
       "    .dataframe tbody tr th {\n",
       "        vertical-align: top;\n",
       "    }\n",
       "\n",
       "    .dataframe thead th {\n",
       "        text-align: right;\n",
       "    }\n",
       "</style>\n",
       "<table border=\"1\" class=\"dataframe\">\n",
       "  <thead>\n",
       "    <tr style=\"text-align: right;\">\n",
       "      <th></th>\n",
       "      <th>loyalty_program</th>\n",
       "      <th>mean_bill</th>\n",
       "    </tr>\n",
       "  </thead>\n",
       "  <tbody>\n",
       "    <tr>\n",
       "      <td>0</td>\n",
       "      <td>0</td>\n",
       "      <td>232.96</td>\n",
       "    </tr>\n",
       "    <tr>\n",
       "      <td>1</td>\n",
       "      <td>1</td>\n",
       "      <td>263.38</td>\n",
       "    </tr>\n",
       "  </tbody>\n",
       "</table>\n",
       "</div>"
      ],
      "text/plain": [
       "   loyalty_program  mean_bill\n",
       "0                0     232.96\n",
       "1                1     263.38"
      ]
     },
     "execution_count": 79,
     "metadata": {},
     "output_type": "execute_result"
    }
   ],
   "source": [
    "(retail_data_filtered.groupby(['purchase_id', 'loyalty_program']).agg({'buy_sum': 'sum'}).reset_index())\\\n",
    "    .groupby('loyalty_program').agg(mean_bill = ('buy_sum', 'mean')).reset_index()"
   ]
  },
  {
   "cell_type": "markdown",
   "metadata": {},
   "source": [
    "Судя по полученным средним значениям, средний чек у участников программы лояльности выше, тест подтверждает это различие."
   ]
  },
  {
   "cell_type": "markdown",
   "metadata": {},
   "source": [
    "#### Определить, есть ли различие в кол-ве SKU в чеке для каждой группы <a id ='step3.3'></a>"
   ]
  },
  {
   "cell_type": "markdown",
   "metadata": {},
   "source": [
    "Сгруппируем данные по среднему кол-ву наименований товара в чеке по магазинам:"
   ]
  },
  {
   "cell_type": "code",
   "execution_count": 80,
   "metadata": {},
   "outputs": [
    {
     "data": {
      "text/plain": [
       "purchase_id\n",
       "536365     7\n",
       "536366     2\n",
       "536372     2\n",
       "536373    16\n",
       "536375    16\n",
       "Name: product_id, dtype: int64"
      ]
     },
     "execution_count": 80,
     "metadata": {},
     "output_type": "execute_result"
    }
   ],
   "source": [
    "loyal_sku = retail_loyal.groupby('purchase_id')['product_id'].count()\n",
    "unloyal_sku = retail_unloyal.groupby('purchase_id')['product_id'].count()\n",
    "loyal_filtered_sku = retail_filtered_loyal.groupby('purchase_id')['product_id'].count()\n",
    "unloyal_filtered_sku = retail_filtered_unloyal.groupby('purchase_id')['product_id'].count()\n",
    "#проверим результат на одном из списков\n",
    "loyal_sku.head()"
   ]
  },
  {
   "cell_type": "markdown",
   "metadata": {},
   "source": [
    "Проверим выборки на нормальность распределения:"
   ]
  },
  {
   "cell_type": "code",
   "execution_count": 81,
   "metadata": {},
   "outputs": [
    {
     "name": "stdout",
     "output_type": "stream",
     "text": [
      "p-значение: 0.000\n",
      "\u001b[32mВыборку нельзя считать нормально распределенной.\u001b[0m\n",
      "p-значение: 0.000\n",
      "\u001b[32mВыборку нельзя считать нормально распределенной.\u001b[0m\n",
      "p-значение: 0.000\n",
      "\u001b[32mВыборку нельзя считать нормально распределенной.\u001b[0m\n",
      "p-значение: 0.000\n",
      "\u001b[32mВыборку нельзя считать нормально распределенной.\u001b[0m\n"
     ]
    }
   ],
   "source": [
    "sku_list = [loyal_sku, unloyal_sku, loyal_filtered_sku, unloyal_filtered_sku]\n",
    "normal(sku_list)"
   ]
  },
  {
   "cell_type": "markdown",
   "metadata": {},
   "source": [
    "Судя по тесту, у нас недостаточно оснований считать выборки нормально распределенными. Целеобразно провести Проведем тест Манна-Уитни:"
   ]
  },
  {
   "cell_type": "markdown",
   "metadata": {},
   "source": [
    "<div class=\"alert alert-danger\">\n",
    "<b>Комментарий тимлида:</b> Тут также нужно объяснение твоего выбора статистического критерия. </div>"
   ]
  },
  {
   "cell_type": "markdown",
   "metadata": {},
   "source": [
    "<div class=\"alert alert-info\">\n",
    "<b>Комментарий студента:</b> И в первом тесте нужно, везде изменил. </div>"
   ]
  },
  {
   "cell_type": "markdown",
   "metadata": {},
   "source": [
    "<div class=\"alert alert-success\">\n",
    "<b>Комментарий тимлида v2:</b> Вижу.\n",
    "\n",
    "</div>"
   ]
  },
  {
   "cell_type": "code",
   "execution_count": 82,
   "metadata": {},
   "outputs": [
    {
     "name": "stdout",
     "output_type": "stream",
     "text": [
      "p-значение: 0.000\n",
      "\u001b[32mСредние значения выборок по участию в программе лояльности различаются, мы смогли отвергнуть нулевую гипотезу.\u001b[0m\n",
      "p-значение filtered: 0.000\n",
      "\u001b[32mСредние значения выборок по участию в программе лояльности различаются, мы смогли отвергнуть нулевую гипотезу.\u001b[0m\n"
     ]
    }
   ],
   "source": [
    "mw(loyal_sku, unloyal_sku, loyal_filtered_sku, unloyal_filtered_sku)"
   ]
  },
  {
   "cell_type": "markdown",
   "metadata": {},
   "source": [
    "Для проверки можно попробовать провести тест Стьюдента и сравнить результаты:"
   ]
  },
  {
   "cell_type": "markdown",
   "metadata": {},
   "source": [
    "Сначала проверим различны ли дисперсии выборок, чтобы понять, взяты ли они из одинаковых по параметрам совокупностей. Для этого напишем функцию:"
   ]
  },
  {
   "cell_type": "code",
   "execution_count": 83,
   "metadata": {},
   "outputs": [],
   "source": [
    "def levene(loyal, unloyal, filt_loyal, filt_unloyal):\n",
    "    \n",
    "    ''' Функция для сравнения дисперский выборок '''\n",
    "    \n",
    "    alpha = alpha_shd # критический уровень статзначимости,если p-value < alpha - отвергнем гипотезу\n",
    "    results = st.levene(loyal, unloyal)\n",
    "    results_filt = st.levene(filt_loyal, filt_unloyal)\n",
    "    \n",
    "    print('p-значение: {:.3f}'.format(results.pvalue))\n",
    "    if (results.pvalue < alpha):\n",
    "        print(colored('Дисперсии выборок различаются, мы смогли отвергнуть нулевую гипотезу.', 'green'))\n",
    "    else:\n",
    "        print(colored('Дисперсии выборок не различаются, мы не смогли отвергнуть нулевую гипотезу.', 'red'))\n",
    "        \n",
    "    print('p-значение filtered: {:.3f}'.format(results_filt.pvalue))\n",
    "    if (results_filt.pvalue < alpha):\n",
    "        print(colored('Дисперсии выборок различаются, мы смогли отвергнуть нулевую гипотезу.', 'green'))\n",
    "    else:\n",
    "        print(colored('Дисперсии выборок не различаются, мы не смогли отвергнуть нулевую гипотезу.', 'red'))"
   ]
  },
  {
   "cell_type": "markdown",
   "metadata": {},
   "source": [
    "Проведем тест Левена для группировок среднего чека. Сформируем гипотезы:\n",
    "<i>\n",
    "- Гипотеза Н0 - Дисперсии чеков магазинов участвующих в программе лояльности, и не участвующих в ней, не различаются. <br>\n",
    "- Альтернативная гипотеза Н1 - Дисперсии чеков магазинов участвующих в программе лояльности, и не участвующих в ней, различны."
   ]
  },
  {
   "cell_type": "code",
   "execution_count": 84,
   "metadata": {},
   "outputs": [
    {
     "name": "stdout",
     "output_type": "stream",
     "text": [
      "p-значение: 0.000\n",
      "\u001b[32mДисперсии выборок различаются, мы смогли отвергнуть нулевую гипотезу.\u001b[0m\n",
      "p-значение filtered: 0.000\n",
      "\u001b[32mДисперсии выборок различаются, мы смогли отвергнуть нулевую гипотезу.\u001b[0m\n"
     ]
    }
   ],
   "source": [
    "levene(loyal_sku, unloyal_sku, loyal_filtered_sku, unloyal_filtered_sku)"
   ]
  },
  {
   "cell_type": "markdown",
   "metadata": {},
   "source": [
    "Дисперсии можем считать различными, проведем ttest. Сформируем гипотезы:\n",
    "<i> \n",
    "- Гипотеза Н0 -  Средние кол-во sku в чеках магазинов, участвующих в программе лояльности, и не участвующих в ней, не различаются. <br>\n",
    "- Альтернативная гипотеза Н1 - Средние кол-во sku в чеках магазинов, участвующих в программе лояльности, и не участвующих в ней, различны."
   ]
  },
  {
   "cell_type": "markdown",
   "metadata": {},
   "source": [
    "Напишем функцию для проведения множественных t-тестов:"
   ]
  },
  {
   "cell_type": "code",
   "execution_count": 85,
   "metadata": {},
   "outputs": [],
   "source": [
    "def ttests(loyal, unloyal, filt_loyal, filt_unloyal, equal, equal_filt):\n",
    "    \n",
    "    ''' Функция для сравнения средних методом t-теста '''\n",
    "    \n",
    "    alpha = alpha_shd # критический уровень статистической значимости\n",
    "                # если p-value окажется меньше него - отвергнем гипотезу\n",
    "        \n",
    "    results = st.ttest_ind(loyal, unloyal, equal_var = equal)\n",
    "    \n",
    "    results_filt = st.ttest_ind(filt_loyal, filt_unloyal, equal_var = equal_filt)\n",
    "    \n",
    "    print('p-значение: {:.3f}'.format(results.pvalue))\n",
    "    if (results.pvalue < alpha):\n",
    "        print(colored('Средние значения выборок по участию в программе лояльности различаются,\\\n",
    " мы смогли отвергнуть нулевую гипотезу.', 'green'))\n",
    "    else:\n",
    "        print(colored('Средние значения выборок по участию в программе лояльности не различаются,\\\n",
    " мы не смогли отвергнуть нулевую гипотезу.', 'red'))\n",
    "        \n",
    "    print('p-значение filtered: {:.3f}'.format(results_filt.pvalue))\n",
    "    if (results_filt.pvalue < alpha):\n",
    "        print(colored('Средние значения выборок по участию в программе лояльности различаются,\\\n",
    " мы смогли отвергнуть нулевую гипотезу.', 'green'))\n",
    "    else:\n",
    "        print(colored('Средние значения выборок по участию в программе лояльности не различаются,\\\n",
    " мы не смогли отвергнуть нулевую гипотезу.', 'red'))"
   ]
  },
  {
   "cell_type": "markdown",
   "metadata": {},
   "source": [
    "Проведем t-тест на наших выборках:"
   ]
  },
  {
   "cell_type": "code",
   "execution_count": 86,
   "metadata": {
    "scrolled": true
   },
   "outputs": [
    {
     "name": "stdout",
     "output_type": "stream",
     "text": [
      "p-значение: 0.000\n",
      "\u001b[32mСредние значения выборок по участию в программе лояльности различаются, мы смогли отвергнуть нулевую гипотезу.\u001b[0m\n",
      "p-значение filtered: 0.000\n",
      "\u001b[32mСредние значения выборок по участию в программе лояльности различаются, мы смогли отвергнуть нулевую гипотезу.\u001b[0m\n"
     ]
    }
   ],
   "source": [
    "ttests(loyal_sku, unloyal_sku, loyal_filtered_sku, unloyal_filtered_sku, False, False)"
   ]
  },
  {
   "cell_type": "markdown",
   "metadata": {},
   "source": [
    "Тест говорит о различии среднего кол-ва sku в чеках. Причем как по первоначальным данным, так и по очищенным. Результаты тестов по различным критериям сходятся. Проверим, в какую сторону, вычислим средние значения по выборкам. Для \"грязных\" данных:"
   ]
  },
  {
   "cell_type": "code",
   "execution_count": 87,
   "metadata": {},
   "outputs": [
    {
     "data": {
      "text/html": [
       "<div>\n",
       "<style scoped>\n",
       "    .dataframe tbody tr th:only-of-type {\n",
       "        vertical-align: middle;\n",
       "    }\n",
       "\n",
       "    .dataframe tbody tr th {\n",
       "        vertical-align: top;\n",
       "    }\n",
       "\n",
       "    .dataframe thead th {\n",
       "        text-align: right;\n",
       "    }\n",
       "</style>\n",
       "<table border=\"1\" class=\"dataframe\">\n",
       "  <thead>\n",
       "    <tr style=\"text-align: right;\">\n",
       "      <th></th>\n",
       "      <th>loyalty_program</th>\n",
       "      <th>sku_count</th>\n",
       "    </tr>\n",
       "  </thead>\n",
       "  <tbody>\n",
       "    <tr>\n",
       "      <td>0</td>\n",
       "      <td>0</td>\n",
       "      <td>22.79</td>\n",
       "    </tr>\n",
       "    <tr>\n",
       "      <td>1</td>\n",
       "      <td>1</td>\n",
       "      <td>17.42</td>\n",
       "    </tr>\n",
       "  </tbody>\n",
       "</table>\n",
       "</div>"
      ],
      "text/plain": [
       "   loyalty_program  sku_count\n",
       "0                0      22.79\n",
       "1                1      17.42"
      ]
     },
     "execution_count": 87,
     "metadata": {},
     "output_type": "execute_result"
    }
   ],
   "source": [
    "(retail_data.groupby(['purchase_id', 'loyalty_program']).agg({'product_id': 'count'}).reset_index())\\\n",
    "    .groupby('loyalty_program').agg(sku_count = ('product_id', 'mean')).reset_index()"
   ]
  },
  {
   "cell_type": "markdown",
   "metadata": {},
   "source": [
    "Для очищенных данных:"
   ]
  },
  {
   "cell_type": "code",
   "execution_count": 88,
   "metadata": {},
   "outputs": [
    {
     "data": {
      "text/html": [
       "<div>\n",
       "<style scoped>\n",
       "    .dataframe tbody tr th:only-of-type {\n",
       "        vertical-align: middle;\n",
       "    }\n",
       "\n",
       "    .dataframe tbody tr th {\n",
       "        vertical-align: top;\n",
       "    }\n",
       "\n",
       "    .dataframe thead th {\n",
       "        text-align: right;\n",
       "    }\n",
       "</style>\n",
       "<table border=\"1\" class=\"dataframe\">\n",
       "  <thead>\n",
       "    <tr style=\"text-align: right;\">\n",
       "      <th></th>\n",
       "      <th>loyalty_program</th>\n",
       "      <th>sku_count</th>\n",
       "    </tr>\n",
       "  </thead>\n",
       "  <tbody>\n",
       "    <tr>\n",
       "      <td>0</td>\n",
       "      <td>0</td>\n",
       "      <td>23.97</td>\n",
       "    </tr>\n",
       "    <tr>\n",
       "      <td>1</td>\n",
       "      <td>1</td>\n",
       "      <td>17.57</td>\n",
       "    </tr>\n",
       "  </tbody>\n",
       "</table>\n",
       "</div>"
      ],
      "text/plain": [
       "   loyalty_program  sku_count\n",
       "0                0      23.97\n",
       "1                1      17.57"
      ]
     },
     "execution_count": 88,
     "metadata": {},
     "output_type": "execute_result"
    }
   ],
   "source": [
    "(retail_data_filtered.groupby(['purchase_id', 'loyalty_program']).agg({'product_id': 'count'}).reset_index())\\\n",
    "    .groupby('loyalty_program').agg(sku_count = ('product_id', 'mean')).reset_index()"
   ]
  },
  {
   "cell_type": "markdown",
   "metadata": {},
   "source": [
    "Действительно, кол-во товаров в чеках достаточно сильно отличается. Неожиданно то, что для участников программы лояльности это кол-во ниже. По данному критерию программу эффективности можно считать неэффективной."
   ]
  },
  {
   "cell_type": "markdown",
   "metadata": {},
   "source": [
    "#### Определить, есть ли различие в среднем кол-ве покупок для групп <a id='step3.4'></a>"
   ]
  },
  {
   "cell_type": "markdown",
   "metadata": {},
   "source": [
    "Сгруппируем данные по среднему кол-ву покупок в чеке по магазинам, удалим пользователя с id = 1:"
   ]
  },
  {
   "cell_type": "code",
   "execution_count": 89,
   "metadata": {},
   "outputs": [
    {
     "data": {
      "text/plain": [
       "customer_id\n",
       "22005    2\n",
       "22006    2\n",
       "22011    1\n",
       "22012    3\n",
       "22018    1\n",
       "Name: purchase_id, dtype: int64"
      ]
     },
     "execution_count": 89,
     "metadata": {},
     "output_type": "execute_result"
    }
   ],
   "source": [
    "loyal_buys = retail_loyal.query('customer_id != 1').groupby('customer_id')['purchase_id'].nunique()\n",
    "unloyal_buys = retail_unloyal.query('customer_id != 1').groupby('customer_id')['purchase_id'].nunique()\n",
    "loyal_filtered_buys = retail_filtered_loyal.query('customer_id != 1').groupby('customer_id')['purchase_id'].nunique()\n",
    "unloyal_filtered_buys = retail_filtered_unloyal.query('customer_id != 1').groupby('customer_id')['purchase_id'].nunique()\n",
    "#проверис результат на одном из списков\n",
    "loyal_buys.head()"
   ]
  },
  {
   "cell_type": "markdown",
   "metadata": {},
   "source": [
    "Аналогично проведем тестирование выборок на нормальность распределения:"
   ]
  },
  {
   "cell_type": "code",
   "execution_count": 90,
   "metadata": {},
   "outputs": [
    {
     "name": "stdout",
     "output_type": "stream",
     "text": [
      "p-значение: 0.000\n",
      "\u001b[32mВыборку нельзя считать нормально распределенной.\u001b[0m\n",
      "p-значение: 0.000\n",
      "\u001b[32mВыборку нельзя считать нормально распределенной.\u001b[0m\n",
      "p-значение: 0.000\n",
      "\u001b[32mВыборку нельзя считать нормально распределенной.\u001b[0m\n",
      "p-значение: 0.000\n",
      "\u001b[32mВыборку нельзя считать нормально распределенной.\u001b[0m\n"
     ]
    }
   ],
   "source": [
    "buy_list = [loyal_buys, unloyal_buys, loyal_filtered_buys, unloyal_filtered_buys]\n",
    "normal(buy_list)"
   ]
  },
  {
   "cell_type": "markdown",
   "metadata": {},
   "source": [
    "Все так же нет оснований считать наши выборки нормального распределенными. Отдадим приоритет критерию Манна-Уитни, но проведем также и t-тест Стьюдента:"
   ]
  },
  {
   "cell_type": "code",
   "execution_count": 91,
   "metadata": {},
   "outputs": [
    {
     "name": "stdout",
     "output_type": "stream",
     "text": [
      "p-значение: 0.178\n",
      "\u001b[31mСредние значения выборок по участию в программе лояльности не различаются, мы не смогли отвергнуть нулевую гипотезу.\u001b[0m\n",
      "p-значение filtered: 0.217\n",
      "\u001b[31mСредние значения выборок по участию в программе лояльности не различаются, мы не смогли отвергнуть нулевую гипотезу.\u001b[0m\n"
     ]
    }
   ],
   "source": [
    "mw(loyal_buys, unloyal_buys, loyal_filtered_buys, unloyal_filtered_buys)"
   ]
  },
  {
   "cell_type": "markdown",
   "metadata": {},
   "source": [
    "Проведем тест Левена для группировок кол-ва sku. Сформируем гипотезы:\n",
    "<i>\n",
    "- Гипотеза Н0 - Дисперсии кол-ва покупок на одного покупателя для магазинов участвующих в программе лояльности, и не участвующих в ней, не различаются. <br>\n",
    "- Альтернативная гипотеза Н1 - Дисперсии кол-ва покупок на одного покупателя для магазинов участвующих в программе лояльности, и не участвующих в ней, различны."
   ]
  },
  {
   "cell_type": "code",
   "execution_count": 92,
   "metadata": {},
   "outputs": [
    {
     "name": "stdout",
     "output_type": "stream",
     "text": [
      "p-значение: 0.419\n",
      "\u001b[31mДисперсии выборок не различаются, мы не смогли отвергнуть нулевую гипотезу.\u001b[0m\n",
      "p-значение filtered: 0.418\n",
      "\u001b[31mДисперсии выборок не различаются, мы не смогли отвергнуть нулевую гипотезу.\u001b[0m\n"
     ]
    }
   ],
   "source": [
    "levene(loyal_buys, unloyal_buys, loyal_filtered_buys, unloyal_filtered_buys)"
   ]
  },
  {
   "cell_type": "markdown",
   "metadata": {},
   "source": [
    "Можно считать, что выборки взяты из одинаковых по параметрам совокупностей, проведем ttest. Сформируем гипотезы:\n",
    "<i> \n",
    "- Гипотеза Н0 -  Среднее кол-во покупок на одного покупателя в магазинах, участвующих в программе лояльности, и не участвующих в ней, не различаются. <br>\n",
    "- Альтернативная гипотеза Н1 - Среднее кол-во покупок на одного покупателя в магазинах, участвующих в программе лояльности, и не участвующих в ней, различны."
   ]
  },
  {
   "cell_type": "code",
   "execution_count": 93,
   "metadata": {},
   "outputs": [
    {
     "name": "stdout",
     "output_type": "stream",
     "text": [
      "p-значение: 0.419\n",
      "\u001b[31mСредние значения выборок по участию в программе лояльности не различаются, мы не смогли отвергнуть нулевую гипотезу.\u001b[0m\n",
      "p-значение filtered: 0.418\n",
      "\u001b[31mСредние значения выборок по участию в программе лояльности не различаются, мы не смогли отвергнуть нулевую гипотезу.\u001b[0m\n"
     ]
    }
   ],
   "source": [
    "ttests(loyal_buys, unloyal_buys, loyal_filtered_buys, unloyal_filtered_buys, True, True)"
   ]
  },
  {
   "cell_type": "markdown",
   "metadata": {},
   "source": [
    "Результаты обоих тестов говорят о том, что различие в среднем кол-ве покупок на покупателя нельзя считать статистически значимым. Проверим на средних значениях:"
   ]
  },
  {
   "cell_type": "code",
   "execution_count": 94,
   "metadata": {},
   "outputs": [
    {
     "data": {
      "text/html": [
       "<div>\n",
       "<style scoped>\n",
       "    .dataframe tbody tr th:only-of-type {\n",
       "        vertical-align: middle;\n",
       "    }\n",
       "\n",
       "    .dataframe tbody tr th {\n",
       "        vertical-align: top;\n",
       "    }\n",
       "\n",
       "    .dataframe thead th {\n",
       "        text-align: right;\n",
       "    }\n",
       "</style>\n",
       "<table border=\"1\" class=\"dataframe\">\n",
       "  <thead>\n",
       "    <tr style=\"text-align: right;\">\n",
       "      <th></th>\n",
       "      <th>loyalty_program</th>\n",
       "      <th>mean_buys</th>\n",
       "    </tr>\n",
       "  </thead>\n",
       "  <tbody>\n",
       "    <tr>\n",
       "      <td>0</td>\n",
       "      <td>0</td>\n",
       "      <td>2.41</td>\n",
       "    </tr>\n",
       "    <tr>\n",
       "      <td>1</td>\n",
       "      <td>1</td>\n",
       "      <td>2.29</td>\n",
       "    </tr>\n",
       "  </tbody>\n",
       "</table>\n",
       "</div>"
      ],
      "text/plain": [
       "   loyalty_program  mean_buys\n",
       "0                0       2.41\n",
       "1                1       2.29"
      ]
     },
     "execution_count": 94,
     "metadata": {},
     "output_type": "execute_result"
    }
   ],
   "source": [
    "(retail_data.query('customer_id != 1').groupby(['customer_id', 'loyalty_program']).agg({'purchase_id': 'nunique'})\\\n",
    " .reset_index()).groupby('loyalty_program').agg(mean_buys = ('purchase_id', 'mean')).reset_index()"
   ]
  },
  {
   "cell_type": "code",
   "execution_count": 95,
   "metadata": {},
   "outputs": [
    {
     "data": {
      "text/html": [
       "<div>\n",
       "<style scoped>\n",
       "    .dataframe tbody tr th:only-of-type {\n",
       "        vertical-align: middle;\n",
       "    }\n",
       "\n",
       "    .dataframe tbody tr th {\n",
       "        vertical-align: top;\n",
       "    }\n",
       "\n",
       "    .dataframe thead th {\n",
       "        text-align: right;\n",
       "    }\n",
       "</style>\n",
       "<table border=\"1\" class=\"dataframe\">\n",
       "  <thead>\n",
       "    <tr style=\"text-align: right;\">\n",
       "      <th></th>\n",
       "      <th>loyalty_program</th>\n",
       "      <th>mean_buys</th>\n",
       "    </tr>\n",
       "  </thead>\n",
       "  <tbody>\n",
       "    <tr>\n",
       "      <td>0</td>\n",
       "      <td>0</td>\n",
       "      <td>2.34</td>\n",
       "    </tr>\n",
       "    <tr>\n",
       "      <td>1</td>\n",
       "      <td>1</td>\n",
       "      <td>2.22</td>\n",
       "    </tr>\n",
       "  </tbody>\n",
       "</table>\n",
       "</div>"
      ],
      "text/plain": [
       "   loyalty_program  mean_buys\n",
       "0                0       2.34\n",
       "1                1       2.22"
      ]
     },
     "execution_count": 95,
     "metadata": {},
     "output_type": "execute_result"
    }
   ],
   "source": [
    "(retail_data_filtered.query('customer_id != 1').groupby(['customer_id', 'loyalty_program']).agg({'purchase_id': 'nunique'})\\\n",
    " .reset_index()).groupby('loyalty_program').agg(mean_buys = ('purchase_id', 'mean')).reset_index()"
   ]
  },
  {
   "cell_type": "markdown",
   "metadata": {},
   "source": [
    "Действительно, разница минимальная. Кол-во покупок для участников программы лояльности даже ниже."
   ]
  },
  {
   "cell_type": "markdown",
   "metadata": {},
   "source": [
    "#### Сделать выводы: как программа лояльности влияет на эффективность магазинов <a id='step3.5'></a>"
   ]
  },
  {
   "cell_type": "markdown",
   "metadata": {},
   "source": [
    "Проведенные тесты показали, что программа лояльности могла бы быть более эфективной.\n",
    "- абсолютный показатель среднего чека для группы лояльности выше, чем для пользователей, не входящих в нее. Тест Манна-Уитни подтверждает, что различия статистически значимы;\n",
    "- Кол-во sku в чеке для участников программы лояльности заметно ниже, чем для обычных покупателей;\n",
    "- Среднее кол-во покупок для обеих групп примерно равно\n",
    "\n",
    "По основному проверенному критерию, среднему чеку, программа лояльности показывает некоторую эффективность. Но, в целом, можно сказать, что программу эффективности неплохо бы было доработать, изменить ее условия, бонусы и скидки для ее участников."
   ]
  },
  {
   "cell_type": "markdown",
   "metadata": {},
   "source": [
    "<div class=\"alert alert-success\">\n",
    "<b>Комментарий тимлида:</b> Ты очень осторожно высказался о программе лояльности - и это правильно. Действительно, мы не исследовали все вомзожные параметры ее работы - например, частоту покупок и срок \"жизни\" покупателя. </div>"
   ]
  },
  {
   "cell_type": "markdown",
   "metadata": {},
   "source": [
    "### Шаг 4. Общие выводы по работе <a id='step4'></a>\n",
    "[К содержанию](#contents)"
   ]
  },
  {
   "cell_type": "markdown",
   "metadata": {},
   "source": [
    "- <b>В</b> первой части работы были загружены исходные датафреймы, заменены названия признаков, удалены пропуски и дубликаты. Где необходимо, изменен тип данных на корректный. Добавлены признаки (дата покупки).\n",
    "- <b>В</b> исследовательской части проведена работа с выбросами. Удалены выбросы в признаке 'quantity' (кол-во товара одной sku в чеке). В датафрейме с ценами codes для каждой sku была найдена усредненная цена.\n",
    "- <b>П</b>роведены исследования по выявлению лучших магазинов по ключевым показателям эффективности. Особенно выделяются два магазина: флагманский Shop 0 с самой большой выручкой, которая составляет более 75% от выручки всей сети, и Shop 3 - лидер по показателям среднего чека, кол-ва sku в чеке и низким процентом возврата. Следует обратить внимание на этот магазин для дальнейшего развития. Также неплохо выглядит Shop 6.\n",
    "- <b>В</b> нашей сети высокий процент возврата. Это требует углубленного исследования. Возможно, стоит тщательнее выбирать поставщиков и следить за качеством товара. Консультантам, в свою очередь, корректнее консультировать покупателей при выборе товара.\n",
    "- <b>П</b>роведены тесты влияния эффективности программы лояльности. Проведенные тесты показали, что программа лояльности могла бы быть более эффективной.\n",
    "    * абсолютный показатель среднего чека для группы лояльности выше, чем для пользователей, не входящих в нее. Тест Манна-Уитни подтверждает, что различия статистически значимы;\n",
    "    * Кол-во sku в чеке для участников программы лояльности заметно ниже, чем для обычных покупателей;\n",
    "    * Среднее кол-во покупок для обеих групп примерно равно. В целом, можно сказать, что программу эффективности неплохо бы было доработать, изменить ее условия, бонусы и скидки для ее участников.\n",
    "- <b>В</b> качестве основной метрики для измерения эффективности магазинов предлагаю использовать средний чек. В качестве дополнительной - кол-во sku в чеке. Это наиболее явные и не сильно зависящие от размера магазина и объема продаж метрики. Измерение по объему выручки для нашей сети с сильно различающимся по размерам (как видно по исходным данным) магазинами, малоинформативно. "
   ]
  },
  {
   "cell_type": "markdown",
   "metadata": {},
   "source": [
    "<div class=\"alert alert-danger\">\n",
    "<b>Комментарий тимлида:</b> В выводе отсутсвует главное - как стоит дальше измерять эффективность магазинов? Какой метрикой? </div>"
   ]
  },
  {
   "cell_type": "markdown",
   "metadata": {},
   "source": [
    "<div class=\"alert alert-success\">\n",
    "<b>Комментарий тимлида v2:</b> Хороший выбор метрик.\n",
    "\n",
    "</div>"
   ]
  },
  {
   "cell_type": "markdown",
   "metadata": {},
   "source": [
    "<div class=\"alert alert-success\">\n",
    "<b>Комментарий тимлида:</b> Очень хорошая работа. Внимательность и бережность к данным, проверка предположений на данных, отличное знание статистики, верные выводы. Осталось прояснить 2 момента:\n",
    "\n",
    "* Объяснить выбор статистического критерия.\n",
    "* Указать, какой же метрикой нужно измерять эффективность магазинов.\n",
    "\n",
    "</div>"
   ]
  },
  {
   "cell_type": "markdown",
   "metadata": {},
   "source": [
    "<div class=\"alert alert-info\">\n",
    "<b>Комментарий студента:</b> Исправил, добавил ссылки на презентацию и дашборд в начале работы. </div>"
   ]
  },
  {
   "cell_type": "code",
   "execution_count": null,
   "metadata": {},
   "outputs": [],
   "source": []
  }
 ],
 "metadata": {
  "kernelspec": {
   "display_name": "Python 3",
   "language": "python",
   "name": "python3"
  },
  "language_info": {
   "codemirror_mode": {
    "name": "ipython",
    "version": 3
   },
   "file_extension": ".py",
   "mimetype": "text/x-python",
   "name": "python",
   "nbconvert_exporter": "python",
   "pygments_lexer": "ipython3",
   "version": "3.7.6"
  }
 },
 "nbformat": 4,
 "nbformat_minor": 4
}
