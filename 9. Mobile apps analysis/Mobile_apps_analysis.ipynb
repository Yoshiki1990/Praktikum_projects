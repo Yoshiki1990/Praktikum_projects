{
 "cells": [
  {
   "cell_type": "markdown",
   "metadata": {},
   "source": [
    "<font color=\"green\">Комментарий ревьюера v.2</font>\n",
    "\n",
    "Доброго времени суток, Денис!\n",
    "\n",
    "Проверил. Поздравляю! Ты отработал по полной программе. Исправленный проект выглядит еще лучше! \n",
    "\n",
    "Ниже ты найдешь мои пояснения и ответы на вопросы с пометкой v.2\n",
    "\n",
    "В конце будет итоговое заключение по критическим замечаниям. Сразу скажу, ты справился!\n",
    "\n",
    "Мне было приятно видеть твое старание. Все очень хорошо. Но мне кажется, что ты способен на большее!!!"
   ]
  },
  {
   "cell_type": "markdown",
   "metadata": {},
   "source": [
    "<font color=\"green\">Комментарий ревьюера</font>\n",
    "\n",
    "Здравствуй, Денис!\n",
    "\n",
    "Меня зовут Александр Каськов.\n",
    "\n",
    "Предлагаю общение на \"ты\".\n",
    "\n",
    "У тебя - хорошая работа. Видно, что ты ищешь нестандартные, изящные решения, и тебе это удается!\n",
    "\n",
    "Ты отлично усвоил материал прошлых спринтов. Давай шаг за шагом пройдем по твоей работе и посмотрим, что  поулчилось.\n",
    "\n",
    "Для удобства я оставил комментарии. Они будут в отдельных ячейках Markdown с заголовком «Комментарий ревьюера». Постарайся учесть эти комментарии для дальнейших проектов.\n",
    "\n",
    "Пожалуйста, не удаляй комментарии.\n",
    "\n",
    "Я буду красить комментарии цветом:\n",
    "\n",
    "---\n",
    "\n",
    "<div class=\"alert alert-block alert-danger\">\n",
    "    \n",
    "\n",
    "### Комментарий от ревьюера\n",
    "\n",
    "Такой комментарий нужно исправить обязательно, он критически влияет на удачное выполнение проекта.\n",
    "</div>\n",
    "    \n",
    "---\n",
    "\n",
    "<div class=\"alert alert-block alert-warning\">\n",
    "    \n",
    "\n",
    "### Комментарий от ревьюера\n",
    "\n",
    "\n",
    "Такой комментарий является рекомендацией или советом. Можешь использовать их на своё усмотрение.\n",
    "</div>\n",
    "\n",
    "---\n",
    "\n",
    "<div class=\"alert alert-block alert-success\">\n",
    "    \n",
    "\n",
    "### Комментарий от ревьюера\n",
    "\n",
    "Такой комментарий  говорит о том, что было сделано что-то качественное и правильное =)\n",
    "</div>\n",
    "\n",
    "---\n",
    "Свои комментарии и вопросы, предлагаю выделять цветом: \n",
    "\n",
    "<font color=\"blue\">Вопрос или комментарий по ревью</font>\n",
    "\n",
    "Как мы увидим далее, цвет помогает улучшить восприятие результатов.\n",
    "\n",
    "\n",
    "\n",
    " В заключении я оставляю сводный коментарий с указанием версии ревью (v.1, v.2 etc)."
   ]
  },
  {
   "cell_type": "markdown",
   "metadata": {},
   "source": [
    "---\n",
    "\n",
    "<div class=\"alert alert-block alert-info\">\n",
    "    \n",
    "\n",
    "### Комментарий от студента\n",
    "\n",
    "\n",
    "Приветствую, Александр. Спасибо за полезные комментарии, узнал много нового)\n",
    "</div>\n",
    "\n",
    "---"
   ]
  },
  {
   "cell_type": "markdown",
   "metadata": {},
   "source": [
    "### Описание проекта\n",
    "\n",
    "Мы работаем в стартапе, который продаёт продукты питания. Нужно разобраться, как ведут себя пользователи нашего мобильного приложения."
   ]
  },
  {
   "cell_type": "markdown",
   "metadata": {},
   "source": [
    "### Содержание <a id='contents'></a>\n",
    "\n",
    "1. [Шаг 1. Откройте файл с данными и изучите общую информацию](#step1)\n",
    "2. [Шаг 2. Подготовка данных](#step2)\n",
    "3. [Шаг 3. Изучите и проверьте данные](#step3)\n",
    "    * [Расчет кол-ва событий в логе](#step3.1)\n",
    "    * [Расчет кол-ва пользователей в логе](#step3.2)\n",
    "    * [Кол-во событий в среднем на пользователя](#step3.3)\n",
    "    * [Период исследования. Данными за какой период времени вы располагаете на самом деле?](#step3.4)\n",
    "    * [Много ли событий и пользователей вы потеряли, отбросив старые данные? ](#step3.5)\n",
    "    * [Проверьте, что у вас есть пользователи из всех трёх экспериментальных групп.](#step3.6)<br>\n",
    "    <br>\n",
    "4. [Шаг 4. Изучите воронку событий](#step4)\n",
    "    * [Посмотрите, какие события есть в логах, как часто они встречаются. Отсортируйте события по частоте. Посчитайте, сколько пользователей совершали каждое из этих событий. Отсортируйте события по числу пользователей. Посчитайте долю пользователей, которые хоть раз совершали событие.](#step4.1)\n",
    "    * [Предположите, в каком порядке происходят события. Все ли они выстраиваются в последовательную цепочку? Их не нужно учитывать при расчёте воронки.](#step4.3)\n",
    "    * [По воронке событий посчитайте, какая доля пользователей проходит на следующий шаг воронки (от числа пользователей на предыдущем)](#step4.4)\n",
    "    * [На каком шаге теряете больше всего пользователей?](#step4.5)\n",
    "    * [Какая доля пользователей доходит от первого события до оплаты?](#step4.6)<br>\n",
    "    <br>\n",
    "5. [Шаг 5. Изучите результаты эксперимента](#step5)\n",
    "    * [Сколько пользователей в каждой экспериментальной группе?](#step5.1)\n",
    "    * [Есть 2 контрольные группы для А/А-эксперимента, чтобы проверить корректность всех механизмов и расчётов. Проверьте, находят ли статистические критерии разницу между выборками 246 и 247](#step5.2)\n",
    "    * [Аналогично поступите с группой с изменённым шрифтом. Сравните результаты с каждой из контрольных групп в отдельности по каждому событию. Сравните результаты с объединённой контрольной группой](#step5.3)\n",
    "    * [Какой уровень значимости вы выбрали при проверке статистических гипотез выше? Посчитайте, сколько проверок статистических гипотез вы сделали](#step5.4)"
   ]
  },
  {
   "cell_type": "markdown",
   "metadata": {},
   "source": [
    "---\n",
    "\n",
    "<div class=\"alert alert-block alert-success\">\n",
    "    \n",
    "\n",
    "### Комментарий от ревьюера\n",
    "\n",
    "Использование ссылок для навигации - хороший тон!\n",
    "    \n",
    "</div>\n",
    "\n",
    "---"
   ]
  },
  {
   "cell_type": "markdown",
   "metadata": {},
   "source": [
    "### Шаг 1. Откройте файл с данными и изучите общую информацию <a id='step1'></a>\n",
    "[К содержанию](#contents)"
   ]
  },
  {
   "cell_type": "code",
   "execution_count": 29,
   "metadata": {},
   "outputs": [
    {
     "name": "stdout",
     "output_type": "stream",
     "text": [
      "Requirement already up-to-date: kaleido in c:\\users\\dyach\\anaconda3\\lib\\site-packages (0.1.0.post1)\n"
     ]
    }
   ],
   "source": [
    "! pip install -U kaleido"
   ]
  },
  {
   "cell_type": "code",
   "execution_count": 30,
   "metadata": {
    "ExecuteTime": {
     "end_time": "2020-11-01T05:42:06.312557Z",
     "start_time": "2020-11-01T05:42:06.251689Z"
    }
   },
   "outputs": [],
   "source": [
    "import pandas as pd\n",
    "import numpy as np\n",
    "import matplotlib.pyplot as plt\n",
    "import seaborn as sns\n",
    "sns.set(rc={'figure.figsize':(15, 8)}) #seaborn импортировал и применил для придания схожего внешнего вида графикам,\n",
    "                                        #построенным в matplotlib и plotly\n",
    "from plotly import graph_objects as go\n",
    "import plotly.io as pio\n",
    "pio.templates.default = \"seaborn\"\n",
    "pio.renderers.default = 'png'\n",
    "import warnings\n",
    "warnings.filterwarnings('ignore')\n",
    "import math as mth\n",
    "from scipy import stats as st\n",
    "from termcolor import colored\n",
    "from statsmodels.sandbox.stats.multicomp import multipletests\n",
    "\n",
    "import os\n",
    "\n",
    "if not os.path.exists(\"images\"):\n",
    "    os.mkdir(\"images\")\n"
   ]
  },
  {
   "cell_type": "markdown",
   "metadata": {},
   "source": [
    "---\n",
    "\n",
    "<div class=\"alert alert-block alert-warning\">\n",
    "    \n",
    "\n",
    "### Комментарий от ревьюера\n",
    "\n",
    "\n",
    "Много лишних модулей, они не мешают, но зачем?\n",
    "    \n",
    "</div>\n",
    "\n",
    "---"
   ]
  },
  {
   "cell_type": "markdown",
   "metadata": {},
   "source": [
    "---\n",
    "\n",
    "<div class=\"alert alert-block alert-info\">\n",
    "    \n",
    "\n",
    "### Комментарий от студента\n",
    "\n",
    "\n",
    "Да, хорошее замечание. Я их изначально использовал, но потом некоторые перестал, а убрать забыл.\n",
    "    \n",
    "</div>\n",
    "\n",
    "---"
   ]
  },
  {
   "cell_type": "code",
   "execution_count": 31,
   "metadata": {
    "ExecuteTime": {
     "end_time": "2020-11-01T05:42:06.614467Z",
     "start_time": "2020-11-01T05:42:06.317070Z"
    }
   },
   "outputs": [
    {
     "data": {
      "text/html": [
       "<div>\n",
       "<style scoped>\n",
       "    .dataframe tbody tr th:only-of-type {\n",
       "        vertical-align: middle;\n",
       "    }\n",
       "\n",
       "    .dataframe tbody tr th {\n",
       "        vertical-align: top;\n",
       "    }\n",
       "\n",
       "    .dataframe thead th {\n",
       "        text-align: right;\n",
       "    }\n",
       "</style>\n",
       "<table border=\"1\" class=\"dataframe\">\n",
       "  <thead>\n",
       "    <tr style=\"text-align: right;\">\n",
       "      <th></th>\n",
       "      <th>EventName</th>\n",
       "      <th>DeviceIDHash</th>\n",
       "      <th>EventTimestamp</th>\n",
       "      <th>ExpId</th>\n",
       "    </tr>\n",
       "  </thead>\n",
       "  <tbody>\n",
       "    <tr>\n",
       "      <th>0</th>\n",
       "      <td>MainScreenAppear</td>\n",
       "      <td>4575588528974610257</td>\n",
       "      <td>1564029816</td>\n",
       "      <td>246</td>\n",
       "    </tr>\n",
       "    <tr>\n",
       "      <th>1</th>\n",
       "      <td>MainScreenAppear</td>\n",
       "      <td>7416695313311560658</td>\n",
       "      <td>1564053102</td>\n",
       "      <td>246</td>\n",
       "    </tr>\n",
       "    <tr>\n",
       "      <th>2</th>\n",
       "      <td>PaymentScreenSuccessful</td>\n",
       "      <td>3518123091307005509</td>\n",
       "      <td>1564054127</td>\n",
       "      <td>248</td>\n",
       "    </tr>\n",
       "    <tr>\n",
       "      <th>3</th>\n",
       "      <td>CartScreenAppear</td>\n",
       "      <td>3518123091307005509</td>\n",
       "      <td>1564054127</td>\n",
       "      <td>248</td>\n",
       "    </tr>\n",
       "    <tr>\n",
       "      <th>4</th>\n",
       "      <td>PaymentScreenSuccessful</td>\n",
       "      <td>6217807653094995999</td>\n",
       "      <td>1564055322</td>\n",
       "      <td>248</td>\n",
       "    </tr>\n",
       "  </tbody>\n",
       "</table>\n",
       "</div>"
      ],
      "text/plain": [
       "                 EventName         DeviceIDHash  EventTimestamp  ExpId\n",
       "0         MainScreenAppear  4575588528974610257      1564029816    246\n",
       "1         MainScreenAppear  7416695313311560658      1564053102    246\n",
       "2  PaymentScreenSuccessful  3518123091307005509      1564054127    248\n",
       "3         CartScreenAppear  3518123091307005509      1564054127    248\n",
       "4  PaymentScreenSuccessful  6217807653094995999      1564055322    248"
      ]
     },
     "execution_count": 31,
     "metadata": {},
     "output_type": "execute_result"
    }
   ],
   "source": [
    "#загрузим данные, запишем их в датафрейм logs, в качестве разделителя укажем '\\t'\n",
    "logs = pd.read_csv('logs_exp.csv', sep = '\\t')\n",
    "logs.head()"
   ]
  },
  {
   "cell_type": "markdown",
   "metadata": {},
   "source": [
    "В логах содержатся:\n",
    "- EventName — название события;\n",
    "- DeviceIDHash — уникальный идентификатор пользователя;\n",
    "- EventTimestamp — время события;\n",
    "- ExpId — номер эксперимента: 246 и 247 — контрольные группы, а 248 — экспериментальная."
   ]
  },
  {
   "cell_type": "markdown",
   "metadata": {},
   "source": [
    "---\n",
    "\n",
    "<div class=\"alert alert-block alert-danger\">\n",
    "    \n",
    "\n",
    "### Комментарий от ревьюера\n",
    "\n",
    "Вывод датафрейма должен быть компактным, человек в срденем воспринимает не больше 7 объектов одновременно.\n",
    "\n",
    "См. [магическое число Миллера.](https://ru.wikipedia.org/wiki/%D0%9C%D0%B0%D0%B3%D0%B8%D1%87%D0%B5%D1%81%D0%BA%D0%BE%D0%B5_%D1%87%D0%B8%D1%81%D0%BB%D0%BE_%D1%81%D0%B5%D0%BC%D1%8C_%D0%BF%D0%BB%D1%8E%D1%81-%D0%BC%D0%B8%D0%BD%D1%83%D1%81_%D0%B4%D0%B2%D0%B0)\n",
    "    \n",
    "Исправь вывод этой и последующих таблиц на 5 строк. \n",
    "    \n",
    "</div>\n",
    "    \n",
    "---"
   ]
  },
  {
   "cell_type": "markdown",
   "metadata": {},
   "source": [
    "---\n",
    "\n",
    "<div class=\"alert alert-block alert-info\">\n",
    "    \n",
    "Исправил. Но разве не удобно сразу посмотреть 5 первых и 5 последних строк?\n",
    "    \n",
    "</div>\n",
    "    \n",
    "---"
   ]
  },
  {
   "cell_type": "markdown",
   "metadata": {},
   "source": [
    "---\n",
    "\n",
    "<div class=\"alert alert-block alert-success\">\n",
    "    \n",
    "\n",
    "### Комментарий от ревьюера v.2\n",
    "\n",
    "Данные не всегда будут сгруппированы, нам нужно получить общее представление.\n",
    "    \n",
    "</div>\n",
    "\n",
    "---"
   ]
  },
  {
   "cell_type": "markdown",
   "metadata": {},
   "source": [
    "### Шаг 2. Подготовка данных <a id='step2'></a>\n",
    "[К содержанию](#contents)"
   ]
  },
  {
   "cell_type": "markdown",
   "metadata": {},
   "source": [
    "Заменим названия столбцов на удобные для работы:"
   ]
  },
  {
   "cell_type": "code",
   "execution_count": 32,
   "metadata": {
    "ExecuteTime": {
     "end_time": "2020-11-01T05:42:06.628241Z",
     "start_time": "2020-11-01T05:42:06.618903Z"
    }
   },
   "outputs": [
    {
     "data": {
      "text/plain": [
       "Index(['event', 'device_id', 'timestamp', 'group'], dtype='object')"
      ]
     },
     "execution_count": 32,
     "metadata": {},
     "output_type": "execute_result"
    }
   ],
   "source": [
    "logs.columns = ['event', 'device_id', 'timestamp', 'group']\n",
    "logs.columns"
   ]
  },
  {
   "cell_type": "markdown",
   "metadata": {},
   "source": [
    "Изучим общую информацию о полученном датафрейме:"
   ]
  },
  {
   "cell_type": "code",
   "execution_count": 33,
   "metadata": {
    "ExecuteTime": {
     "end_time": "2020-11-01T05:42:06.669992Z",
     "start_time": "2020-11-01T05:42:06.632388Z"
    }
   },
   "outputs": [
    {
     "name": "stdout",
     "output_type": "stream",
     "text": [
      "<class 'pandas.core.frame.DataFrame'>\n",
      "RangeIndex: 244126 entries, 0 to 244125\n",
      "Data columns (total 4 columns):\n",
      " #   Column     Non-Null Count   Dtype \n",
      "---  ------     --------------   ----- \n",
      " 0   event      244126 non-null  object\n",
      " 1   device_id  244126 non-null  int64 \n",
      " 2   timestamp  244126 non-null  int64 \n",
      " 3   group      244126 non-null  int64 \n",
      "dtypes: int64(3), object(1)\n",
      "memory usage: 7.5+ MB\n"
     ]
    }
   ],
   "source": [
    "#используем метод info\n",
    "logs.info()"
   ]
  },
  {
   "cell_type": "markdown",
   "metadata": {},
   "source": [
    "Пропусков не замечено, значит, наш трекинг данных работает надлежащим образом. Формат времени некорректен (скорее всего он указан в формате Unix time), в дальнейшем переведем егов стандартный datetime.\n",
    "Проверим на дубликаты:"
   ]
  },
  {
   "cell_type": "code",
   "execution_count": 34,
   "metadata": {
    "ExecuteTime": {
     "end_time": "2020-11-01T05:42:06.824240Z",
     "start_time": "2020-11-01T05:42:06.673396Z"
    },
    "scrolled": false
   },
   "outputs": [
    {
     "data": {
      "text/plain": [
       "413"
      ]
     },
     "execution_count": 34,
     "metadata": {},
     "output_type": "execute_result"
    }
   ],
   "source": [
    "logs.duplicated().sum()"
   ]
  },
  {
   "cell_type": "markdown",
   "metadata": {},
   "source": [
    "---\n",
    "\n",
    "<div class=\"alert alert-block alert-danger\">\n",
    "    \n",
    "\n",
    "### Комментарий от ревьюера\n",
    "\n",
    "Да, ты верно нашел число дубликатов и вывел датафрейм. Но это лишняя информация, она отвлекает. \n",
    "    \n",
    "Надо убрать вывод датафрейма, оставив только число дубликатов. \n",
    "\n",
    "    \n",
    "</div>\n",
    "    \n",
    "---"
   ]
  },
  {
   "cell_type": "markdown",
   "metadata": {},
   "source": [
    "---\n",
    "\n",
    "<div class=\"alert alert-block alert-info\">\n",
    "    \n",
    "Исправил.\n",
    "\n",
    "    \n",
    "</div>\n",
    "    \n",
    "---"
   ]
  },
  {
   "cell_type": "markdown",
   "metadata": {},
   "source": [
    "---\n",
    "\n",
    "<div class=\"alert alert-block alert-success\">\n",
    "    \n",
    "\n",
    "### Комментарий от ревьюера v.2\n",
    "\n",
    "Отлично!\n",
    "    \n",
    "</div>\n",
    "\n",
    "---"
   ]
  },
  {
   "cell_type": "markdown",
   "metadata": {},
   "source": [
    "Найдено 413 дубликатов. Будем считать дубликаты сбоем в системе трекинга, удалим их."
   ]
  },
  {
   "cell_type": "code",
   "execution_count": 35,
   "metadata": {
    "ExecuteTime": {
     "end_time": "2020-11-01T05:42:06.975234Z",
     "start_time": "2020-11-01T05:42:06.827631Z"
    },
    "scrolled": true
   },
   "outputs": [
    {
     "data": {
      "text/html": [
       "<div>\n",
       "<style scoped>\n",
       "    .dataframe tbody tr th:only-of-type {\n",
       "        vertical-align: middle;\n",
       "    }\n",
       "\n",
       "    .dataframe tbody tr th {\n",
       "        vertical-align: top;\n",
       "    }\n",
       "\n",
       "    .dataframe thead th {\n",
       "        text-align: right;\n",
       "    }\n",
       "</style>\n",
       "<table border=\"1\" class=\"dataframe\">\n",
       "  <thead>\n",
       "    <tr style=\"text-align: right;\">\n",
       "      <th></th>\n",
       "      <th>event</th>\n",
       "      <th>device_id</th>\n",
       "      <th>timestamp</th>\n",
       "      <th>group</th>\n",
       "    </tr>\n",
       "  </thead>\n",
       "  <tbody>\n",
       "    <tr>\n",
       "      <th>0</th>\n",
       "      <td>MainScreenAppear</td>\n",
       "      <td>4575588528974610257</td>\n",
       "      <td>1564029816</td>\n",
       "      <td>246</td>\n",
       "    </tr>\n",
       "    <tr>\n",
       "      <th>1</th>\n",
       "      <td>MainScreenAppear</td>\n",
       "      <td>7416695313311560658</td>\n",
       "      <td>1564053102</td>\n",
       "      <td>246</td>\n",
       "    </tr>\n",
       "    <tr>\n",
       "      <th>2</th>\n",
       "      <td>PaymentScreenSuccessful</td>\n",
       "      <td>3518123091307005509</td>\n",
       "      <td>1564054127</td>\n",
       "      <td>248</td>\n",
       "    </tr>\n",
       "    <tr>\n",
       "      <th>3</th>\n",
       "      <td>CartScreenAppear</td>\n",
       "      <td>3518123091307005509</td>\n",
       "      <td>1564054127</td>\n",
       "      <td>248</td>\n",
       "    </tr>\n",
       "    <tr>\n",
       "      <th>4</th>\n",
       "      <td>PaymentScreenSuccessful</td>\n",
       "      <td>6217807653094995999</td>\n",
       "      <td>1564055322</td>\n",
       "      <td>248</td>\n",
       "    </tr>\n",
       "  </tbody>\n",
       "</table>\n",
       "</div>"
      ],
      "text/plain": [
       "                     event            device_id   timestamp  group\n",
       "0         MainScreenAppear  4575588528974610257  1564029816    246\n",
       "1         MainScreenAppear  7416695313311560658  1564053102    246\n",
       "2  PaymentScreenSuccessful  3518123091307005509  1564054127    248\n",
       "3         CartScreenAppear  3518123091307005509  1564054127    248\n",
       "4  PaymentScreenSuccessful  6217807653094995999  1564055322    248"
      ]
     },
     "execution_count": 35,
     "metadata": {},
     "output_type": "execute_result"
    }
   ],
   "source": [
    "logs = logs.drop_duplicates().reset_index(drop=True)\n",
    "logs.head()"
   ]
  },
  {
   "cell_type": "markdown",
   "metadata": {},
   "source": [
    "Время ивентов, записанное в формате Unix, переведем в стандарнтый формат времени, добавим столбцы с датой и временем и отдельно с датой."
   ]
  },
  {
   "cell_type": "code",
   "execution_count": 36,
   "metadata": {
    "ExecuteTime": {
     "end_time": "2020-11-01T05:42:07.055346Z",
     "start_time": "2020-11-01T05:42:06.985916Z"
    }
   },
   "outputs": [
    {
     "data": {
      "text/html": [
       "<div>\n",
       "<style scoped>\n",
       "    .dataframe tbody tr th:only-of-type {\n",
       "        vertical-align: middle;\n",
       "    }\n",
       "\n",
       "    .dataframe tbody tr th {\n",
       "        vertical-align: top;\n",
       "    }\n",
       "\n",
       "    .dataframe thead th {\n",
       "        text-align: right;\n",
       "    }\n",
       "</style>\n",
       "<table border=\"1\" class=\"dataframe\">\n",
       "  <thead>\n",
       "    <tr style=\"text-align: right;\">\n",
       "      <th></th>\n",
       "      <th>event</th>\n",
       "      <th>device_id</th>\n",
       "      <th>timestamp</th>\n",
       "      <th>group</th>\n",
       "      <th>time</th>\n",
       "      <th>date</th>\n",
       "    </tr>\n",
       "  </thead>\n",
       "  <tbody>\n",
       "    <tr>\n",
       "      <th>0</th>\n",
       "      <td>MainScreenAppear</td>\n",
       "      <td>4575588528974610257</td>\n",
       "      <td>1564029816</td>\n",
       "      <td>246</td>\n",
       "      <td>2019-07-25 04:43:36</td>\n",
       "      <td>2019-07-25</td>\n",
       "    </tr>\n",
       "    <tr>\n",
       "      <th>1</th>\n",
       "      <td>MainScreenAppear</td>\n",
       "      <td>7416695313311560658</td>\n",
       "      <td>1564053102</td>\n",
       "      <td>246</td>\n",
       "      <td>2019-07-25 11:11:42</td>\n",
       "      <td>2019-07-25</td>\n",
       "    </tr>\n",
       "    <tr>\n",
       "      <th>2</th>\n",
       "      <td>PaymentScreenSuccessful</td>\n",
       "      <td>3518123091307005509</td>\n",
       "      <td>1564054127</td>\n",
       "      <td>248</td>\n",
       "      <td>2019-07-25 11:28:47</td>\n",
       "      <td>2019-07-25</td>\n",
       "    </tr>\n",
       "    <tr>\n",
       "      <th>3</th>\n",
       "      <td>CartScreenAppear</td>\n",
       "      <td>3518123091307005509</td>\n",
       "      <td>1564054127</td>\n",
       "      <td>248</td>\n",
       "      <td>2019-07-25 11:28:47</td>\n",
       "      <td>2019-07-25</td>\n",
       "    </tr>\n",
       "    <tr>\n",
       "      <th>4</th>\n",
       "      <td>PaymentScreenSuccessful</td>\n",
       "      <td>6217807653094995999</td>\n",
       "      <td>1564055322</td>\n",
       "      <td>248</td>\n",
       "      <td>2019-07-25 11:48:42</td>\n",
       "      <td>2019-07-25</td>\n",
       "    </tr>\n",
       "  </tbody>\n",
       "</table>\n",
       "</div>"
      ],
      "text/plain": [
       "                     event            device_id   timestamp  group  \\\n",
       "0         MainScreenAppear  4575588528974610257  1564029816    246   \n",
       "1         MainScreenAppear  7416695313311560658  1564053102    246   \n",
       "2  PaymentScreenSuccessful  3518123091307005509  1564054127    248   \n",
       "3         CartScreenAppear  3518123091307005509  1564054127    248   \n",
       "4  PaymentScreenSuccessful  6217807653094995999  1564055322    248   \n",
       "\n",
       "                 time       date  \n",
       "0 2019-07-25 04:43:36 2019-07-25  \n",
       "1 2019-07-25 11:11:42 2019-07-25  \n",
       "2 2019-07-25 11:28:47 2019-07-25  \n",
       "3 2019-07-25 11:28:47 2019-07-25  \n",
       "4 2019-07-25 11:48:42 2019-07-25  "
      ]
     },
     "execution_count": 36,
     "metadata": {},
     "output_type": "execute_result"
    }
   ],
   "source": [
    "#используем функцию pandas to_datetime\n",
    "logs['time'] = pd.to_datetime(logs['timestamp'], unit='s')\n",
    "logs['date'] = logs['time'].astype('datetime64[D]')\n",
    "logs.head()"
   ]
  },
  {
   "cell_type": "markdown",
   "metadata": {},
   "source": [
    "### Вывод\n",
    "\n",
    "Был проведен импорт необходимых библиотек и настроек, записан исходный датасет в датафрейм logs. Полученный датафрейм проверен на пропуски в данных и дубликаты. Найденые дубликаты признаны ошибкой системой трекинга и удалены. Для большего удобства работы столбцы датафрейма были переименованы. <br>\n",
    "Добавлены столбцы с датой и временем ивентов."
   ]
  },
  {
   "cell_type": "markdown",
   "metadata": {},
   "source": [
    "---\n",
    "\n",
    "<div class=\"alert alert-block alert-success\">\n",
    "    \n",
    "\n",
    "### Комментарий от ревьюера\n",
    "\n",
    "Выводы верные. Использование head сократило вывод таблиц.\n",
    "    \n",
    "</div>\n",
    "\n",
    "---"
   ]
  },
  {
   "cell_type": "markdown",
   "metadata": {},
   "source": [
    "### Шаг 3. Изучите и проверьте данные <a id='step3'></a>\n",
    "[К содержанию](#contents)"
   ]
  },
  {
   "cell_type": "markdown",
   "metadata": {},
   "source": [
    "#### Расчет кол-ва событий в логе <a id='step3.1'></a>\n"
   ]
  },
  {
   "cell_type": "code",
   "execution_count": 37,
   "metadata": {
    "ExecuteTime": {
     "end_time": "2020-11-01T05:42:07.108024Z",
     "start_time": "2020-11-01T05:42:07.059911Z"
    }
   },
   "outputs": [
    {
     "name": "stdout",
     "output_type": "stream",
     "text": [
      "Кол-во событий в логах: 243713, типов событий 5\n"
     ]
    }
   ],
   "source": [
    "print('Кол-во событий в логах: {}, типов событий {}'.format(len(logs['event']),(len(logs['event'].value_counts()))))"
   ]
  },
  {
   "cell_type": "markdown",
   "metadata": {},
   "source": [
    "#### Расчет кол-ва пользователей в логе <a id='step3.2'></a>"
   ]
  },
  {
   "cell_type": "code",
   "execution_count": 38,
   "metadata": {
    "ExecuteTime": {
     "end_time": "2020-11-01T05:42:07.129984Z",
     "start_time": "2020-11-01T05:42:07.118679Z"
    }
   },
   "outputs": [
    {
     "name": "stdout",
     "output_type": "stream",
     "text": [
      "Кол-во пользователей в логах: 7551\n"
     ]
    }
   ],
   "source": [
    "print('Кол-во пользователей в логах: {}'.format(logs['device_id'].nunique()))"
   ]
  },
  {
   "cell_type": "markdown",
   "metadata": {},
   "source": [
    "#### Кол-во событий в среднем на пользователя <a id='step3.3'></a>"
   ]
  },
  {
   "cell_type": "code",
   "execution_count": 39,
   "metadata": {
    "ExecuteTime": {
     "end_time": "2020-11-01T05:42:07.154395Z",
     "start_time": "2020-11-01T05:42:07.139363Z"
    }
   },
   "outputs": [
    {
     "name": "stdout",
     "output_type": "stream",
     "text": [
      "Кол-во событий в среднем на пользователя: 32\n"
     ]
    }
   ],
   "source": [
    "print('Кол-во событий в среднем на пользователя: {}'.format(int(len(logs['event']) / \n",
    "                                                             logs['device_id'].nunique())))"
   ]
  },
  {
   "cell_type": "markdown",
   "metadata": {},
   "source": [
    "---\n",
    "\n",
    "<div class=\"alert alert-block alert-success\">\n",
    "\n",
    "### Комментарий от ревьюера\n",
    "\n",
    "Замечаний нет, с этой частью ты прекрасно справился!\n",
    "    \n",
    "</div>\n",
    "\n",
    "---"
   ]
  },
  {
   "cell_type": "markdown",
   "metadata": {},
   "source": [
    "#### Период исследования. Найдите максимальную и минимальную дату. Данными за какой период времени вы располагаете на самом деле? <a id='step3.4'></a>"
   ]
  },
  {
   "cell_type": "markdown",
   "metadata": {},
   "source": [
    "Найдем максимальную и минимальную даты и дельту времени:"
   ]
  },
  {
   "cell_type": "code",
   "execution_count": 40,
   "metadata": {
    "ExecuteTime": {
     "end_time": "2020-11-01T05:42:07.176606Z",
     "start_time": "2020-11-01T05:42:07.158234Z"
    }
   },
   "outputs": [
    {
     "data": {
      "text/plain": [
       "Timestamp('2019-07-25 00:00:00')"
      ]
     },
     "metadata": {},
     "output_type": "display_data"
    },
    {
     "data": {
      "text/plain": [
       "Timestamp('2019-08-07 00:00:00')"
      ]
     },
     "metadata": {},
     "output_type": "display_data"
    }
   ],
   "source": [
    "display(logs['date'].min(), logs['date'].max())"
   ]
  },
  {
   "cell_type": "code",
   "execution_count": 41,
   "metadata": {
    "ExecuteTime": {
     "end_time": "2020-11-01T05:42:07.201109Z",
     "start_time": "2020-11-01T05:42:07.180045Z"
    }
   },
   "outputs": [
    {
     "data": {
      "text/plain": [
       "Timedelta('13 days 16:31:41')"
      ]
     },
     "execution_count": 41,
     "metadata": {},
     "output_type": "execute_result"
    }
   ],
   "source": [
    "delta_time = pd.to_timedelta(logs['time'].max() - logs['time'].min(), unit='s')\n",
    "delta_time"
   ]
  },
  {
   "cell_type": "markdown",
   "metadata": {},
   "source": [
    "Построим гистограмму по датам:"
   ]
  },
  {
   "cell_type": "code",
   "execution_count": 42,
   "metadata": {
    "ExecuteTime": {
     "end_time": "2020-11-01T05:42:08.064485Z",
     "start_time": "2020-11-01T05:42:07.204410Z"
    },
    "scrolled": false
   },
   "outputs": [
    {
     "data": {
      "image/png": "[encoded data removed]",
      "text/plain": [
       "<Figure size 1080x576 with 1 Axes>"
      ]
     },
     "metadata": {},
     "output_type": "display_data"
    }
   ],
   "source": [
    "#гистограмма с кол-вом корзин, равным кол-ву дней, умноженным на 4\n",
    "plt.hist(logs['time'], bins = 56)\n",
    "plt.ylabel('Кол-во событий')\n",
    "plt.xlabel('Дата')\n",
    "plt.title('Распределение кол-ва событий по датам')\n",
    "#поворот подписей оси х на 45 градусов\n",
    "plt.xticks(rotation = 45);"
   ]
  },
  {
   "cell_type": "markdown",
   "metadata": {},
   "source": [
    "---\n",
    "\n",
    "<div class=\"alert alert-block alert-warning\">\n",
    "    \n",
    "\n",
    "### Комментарий от ревьюера\n",
    "\n",
    "\n",
    "Все верно.\n",
    "    \n",
    "Рекомендую подписывать названия графиков, если потребуется делать презентацию, то тебе не надо будет дописывать код.\n",
    "\n",
    "Подумай на досуге вот над чем, мы берем данные для анализа за 1 августа, но на графике видно, что число событий начинает увеличиваться с конца 31 июля,возможно тест начался немного раньше. Как это можно проверить и обосновать?\n",
    "    \n",
    "\n",
    "</div>\n",
    "\n",
    "---"
   ]
  },
  {
   "cell_type": "markdown",
   "metadata": {},
   "source": [
    "---\n",
    "\n",
    "<div class=\"alert alert-block alert-info\">\n",
    "    \n",
    "\n",
    "### Комментарий от студента\n",
    "\n",
    "\n",
    "Возможно, тест запускают немного раньше, чтобы проверить, работает ли он, как распределяются группы, равномерны ли они. Можем посмотреть, как события распределились по группам, но такая выборка слишком мала для каких-то выводов.\n",
    "\n",
    "</div>\n",
    "\n",
    "---"
   ]
  },
  {
   "cell_type": "code",
   "execution_count": 43,
   "metadata": {},
   "outputs": [
    {
     "data": {
      "text/html": [
       "<div>\n",
       "<style scoped>\n",
       "    .dataframe tbody tr th:only-of-type {\n",
       "        vertical-align: middle;\n",
       "    }\n",
       "\n",
       "    .dataframe tbody tr th {\n",
       "        vertical-align: top;\n",
       "    }\n",
       "\n",
       "    .dataframe thead th {\n",
       "        text-align: right;\n",
       "    }\n",
       "</style>\n",
       "<table border=\"1\" class=\"dataframe\">\n",
       "  <thead>\n",
       "    <tr style=\"text-align: right;\">\n",
       "      <th></th>\n",
       "      <th></th>\n",
       "      <th>device_id</th>\n",
       "    </tr>\n",
       "    <tr>\n",
       "      <th>event</th>\n",
       "      <th>group</th>\n",
       "      <th></th>\n",
       "    </tr>\n",
       "  </thead>\n",
       "  <tbody>\n",
       "    <tr>\n",
       "      <th rowspan=\"3\" valign=\"top\">CartScreenAppear</th>\n",
       "      <th>246</th>\n",
       "      <td>12</td>\n",
       "    </tr>\n",
       "    <tr>\n",
       "      <th>247</th>\n",
       "      <td>16</td>\n",
       "    </tr>\n",
       "    <tr>\n",
       "      <th>248</th>\n",
       "      <td>21</td>\n",
       "    </tr>\n",
       "    <tr>\n",
       "      <th rowspan=\"3\" valign=\"top\">MainScreenAppear</th>\n",
       "      <th>246</th>\n",
       "      <td>99</td>\n",
       "    </tr>\n",
       "    <tr>\n",
       "      <th>247</th>\n",
       "      <td>86</td>\n",
       "    </tr>\n",
       "    <tr>\n",
       "      <th>248</th>\n",
       "      <td>94</td>\n",
       "    </tr>\n",
       "    <tr>\n",
       "      <th rowspan=\"3\" valign=\"top\">OffersScreenAppear</th>\n",
       "      <th>246</th>\n",
       "      <td>9</td>\n",
       "    </tr>\n",
       "    <tr>\n",
       "      <th>247</th>\n",
       "      <td>23</td>\n",
       "    </tr>\n",
       "    <tr>\n",
       "      <th>248</th>\n",
       "      <td>19</td>\n",
       "    </tr>\n",
       "    <tr>\n",
       "      <th rowspan=\"3\" valign=\"top\">PaymentScreenSuccessful</th>\n",
       "      <th>246</th>\n",
       "      <td>9</td>\n",
       "    </tr>\n",
       "    <tr>\n",
       "      <th>247</th>\n",
       "      <td>13</td>\n",
       "    </tr>\n",
       "    <tr>\n",
       "      <th>248</th>\n",
       "      <td>11</td>\n",
       "    </tr>\n",
       "  </tbody>\n",
       "</table>\n",
       "</div>"
      ],
      "text/plain": [
       "                               device_id\n",
       "event                   group           \n",
       "CartScreenAppear        246           12\n",
       "                        247           16\n",
       "                        248           21\n",
       "MainScreenAppear        246           99\n",
       "                        247           86\n",
       "                        248           94\n",
       "OffersScreenAppear      246            9\n",
       "                        247           23\n",
       "                        248           19\n",
       "PaymentScreenSuccessful 246            9\n",
       "                        247           13\n",
       "                        248           11"
      ]
     },
     "execution_count": 43,
     "metadata": {},
     "output_type": "execute_result"
    }
   ],
   "source": [
    "logs.query('date == \"2019-07-30\"').groupby(['event', 'group']).agg({'device_id':'count'})"
   ]
  },
  {
   "cell_type": "markdown",
   "metadata": {},
   "source": [
    "Примем за \"чистые\" данные логи с 01.08.2019г.:"
   ]
  },
  {
   "cell_type": "code",
   "execution_count": 44,
   "metadata": {
    "ExecuteTime": {
     "end_time": "2020-11-01T05:42:08.150278Z",
     "start_time": "2020-11-01T05:42:08.067778Z"
    }
   },
   "outputs": [
    {
     "data": {
      "text/html": [
       "<div>\n",
       "<style scoped>\n",
       "    .dataframe tbody tr th:only-of-type {\n",
       "        vertical-align: middle;\n",
       "    }\n",
       "\n",
       "    .dataframe tbody tr th {\n",
       "        vertical-align: top;\n",
       "    }\n",
       "\n",
       "    .dataframe thead th {\n",
       "        text-align: right;\n",
       "    }\n",
       "</style>\n",
       "<table border=\"1\" class=\"dataframe\">\n",
       "  <thead>\n",
       "    <tr style=\"text-align: right;\">\n",
       "      <th></th>\n",
       "      <th>event</th>\n",
       "      <th>device_id</th>\n",
       "      <th>timestamp</th>\n",
       "      <th>group</th>\n",
       "      <th>time</th>\n",
       "      <th>date</th>\n",
       "    </tr>\n",
       "  </thead>\n",
       "  <tbody>\n",
       "    <tr>\n",
       "      <th>2826</th>\n",
       "      <td>Tutorial</td>\n",
       "      <td>3737462046622621720</td>\n",
       "      <td>1564618048</td>\n",
       "      <td>246</td>\n",
       "      <td>2019-08-01 00:07:28</td>\n",
       "      <td>2019-08-01</td>\n",
       "    </tr>\n",
       "    <tr>\n",
       "      <th>2827</th>\n",
       "      <td>MainScreenAppear</td>\n",
       "      <td>3737462046622621720</td>\n",
       "      <td>1564618080</td>\n",
       "      <td>246</td>\n",
       "      <td>2019-08-01 00:08:00</td>\n",
       "      <td>2019-08-01</td>\n",
       "    </tr>\n",
       "    <tr>\n",
       "      <th>2828</th>\n",
       "      <td>MainScreenAppear</td>\n",
       "      <td>3737462046622621720</td>\n",
       "      <td>1564618135</td>\n",
       "      <td>246</td>\n",
       "      <td>2019-08-01 00:08:55</td>\n",
       "      <td>2019-08-01</td>\n",
       "    </tr>\n",
       "    <tr>\n",
       "      <th>2829</th>\n",
       "      <td>OffersScreenAppear</td>\n",
       "      <td>3737462046622621720</td>\n",
       "      <td>1564618138</td>\n",
       "      <td>246</td>\n",
       "      <td>2019-08-01 00:08:58</td>\n",
       "      <td>2019-08-01</td>\n",
       "    </tr>\n",
       "    <tr>\n",
       "      <th>2830</th>\n",
       "      <td>MainScreenAppear</td>\n",
       "      <td>1433840883824088890</td>\n",
       "      <td>1564618139</td>\n",
       "      <td>247</td>\n",
       "      <td>2019-08-01 00:08:59</td>\n",
       "      <td>2019-08-01</td>\n",
       "    </tr>\n",
       "    <tr>\n",
       "      <th>...</th>\n",
       "      <td>...</td>\n",
       "      <td>...</td>\n",
       "      <td>...</td>\n",
       "      <td>...</td>\n",
       "      <td>...</td>\n",
       "      <td>...</td>\n",
       "    </tr>\n",
       "    <tr>\n",
       "      <th>243708</th>\n",
       "      <td>MainScreenAppear</td>\n",
       "      <td>4599628364049201812</td>\n",
       "      <td>1565212345</td>\n",
       "      <td>247</td>\n",
       "      <td>2019-08-07 21:12:25</td>\n",
       "      <td>2019-08-07</td>\n",
       "    </tr>\n",
       "    <tr>\n",
       "      <th>243709</th>\n",
       "      <td>MainScreenAppear</td>\n",
       "      <td>5849806612437486590</td>\n",
       "      <td>1565212439</td>\n",
       "      <td>246</td>\n",
       "      <td>2019-08-07 21:13:59</td>\n",
       "      <td>2019-08-07</td>\n",
       "    </tr>\n",
       "    <tr>\n",
       "      <th>243710</th>\n",
       "      <td>MainScreenAppear</td>\n",
       "      <td>5746969938801999050</td>\n",
       "      <td>1565212483</td>\n",
       "      <td>246</td>\n",
       "      <td>2019-08-07 21:14:43</td>\n",
       "      <td>2019-08-07</td>\n",
       "    </tr>\n",
       "    <tr>\n",
       "      <th>243711</th>\n",
       "      <td>MainScreenAppear</td>\n",
       "      <td>5746969938801999050</td>\n",
       "      <td>1565212498</td>\n",
       "      <td>246</td>\n",
       "      <td>2019-08-07 21:14:58</td>\n",
       "      <td>2019-08-07</td>\n",
       "    </tr>\n",
       "    <tr>\n",
       "      <th>243712</th>\n",
       "      <td>OffersScreenAppear</td>\n",
       "      <td>5746969938801999050</td>\n",
       "      <td>1565212517</td>\n",
       "      <td>246</td>\n",
       "      <td>2019-08-07 21:15:17</td>\n",
       "      <td>2019-08-07</td>\n",
       "    </tr>\n",
       "  </tbody>\n",
       "</table>\n",
       "<p>240887 rows × 6 columns</p>\n",
       "</div>"
      ],
      "text/plain": [
       "                     event            device_id   timestamp  group  \\\n",
       "2826              Tutorial  3737462046622621720  1564618048    246   \n",
       "2827      MainScreenAppear  3737462046622621720  1564618080    246   \n",
       "2828      MainScreenAppear  3737462046622621720  1564618135    246   \n",
       "2829    OffersScreenAppear  3737462046622621720  1564618138    246   \n",
       "2830      MainScreenAppear  1433840883824088890  1564618139    247   \n",
       "...                    ...                  ...         ...    ...   \n",
       "243708    MainScreenAppear  4599628364049201812  1565212345    247   \n",
       "243709    MainScreenAppear  5849806612437486590  1565212439    246   \n",
       "243710    MainScreenAppear  5746969938801999050  1565212483    246   \n",
       "243711    MainScreenAppear  5746969938801999050  1565212498    246   \n",
       "243712  OffersScreenAppear  5746969938801999050  1565212517    246   \n",
       "\n",
       "                      time       date  \n",
       "2826   2019-08-01 00:07:28 2019-08-01  \n",
       "2827   2019-08-01 00:08:00 2019-08-01  \n",
       "2828   2019-08-01 00:08:55 2019-08-01  \n",
       "2829   2019-08-01 00:08:58 2019-08-01  \n",
       "2830   2019-08-01 00:08:59 2019-08-01  \n",
       "...                    ...        ...  \n",
       "243708 2019-08-07 21:12:25 2019-08-07  \n",
       "243709 2019-08-07 21:13:59 2019-08-07  \n",
       "243710 2019-08-07 21:14:43 2019-08-07  \n",
       "243711 2019-08-07 21:14:58 2019-08-07  \n",
       "243712 2019-08-07 21:15:17 2019-08-07  \n",
       "\n",
       "[240887 rows x 6 columns]"
      ]
     },
     "execution_count": 44,
     "metadata": {},
     "output_type": "execute_result"
    }
   ],
   "source": [
    "logs_clean = logs.query('date > \"2019-07-31\"')\n",
    "logs_clean"
   ]
  },
  {
   "cell_type": "markdown",
   "metadata": {},
   "source": [
    "#### Много ли событий и пользователей вы потеряли, отбросив старые данные? <a id='step3.5'></a>"
   ]
  },
  {
   "cell_type": "markdown",
   "metadata": {},
   "source": [
    "Найдем кол-во потерянных событий и их процент:"
   ]
  },
  {
   "cell_type": "code",
   "execution_count": 45,
   "metadata": {
    "ExecuteTime": {
     "end_time": "2020-11-01T05:42:08.174760Z",
     "start_time": "2020-11-01T05:42:08.155383Z"
    }
   },
   "outputs": [
    {
     "name": "stdout",
     "output_type": "stream",
     "text": [
      "Кол-во потерянных событий: 2826\n",
      "Процент потерянных событий: 1.16% \n"
     ]
    }
   ],
   "source": [
    "print('Кол-во потерянных событий: {}'.format(len(logs['event']) - len(logs_clean['event'])))\n",
    "print('Процент потерянных событий: {:.2%} '.format((len(logs['event']) - len(logs_clean['event'])) / \n",
    "                                                                                 len(logs['event'])))"
   ]
  },
  {
   "cell_type": "markdown",
   "metadata": {},
   "source": [
    "Найдем кол-во потерянных пользователей и их процент:"
   ]
  },
  {
   "cell_type": "code",
   "execution_count": 46,
   "metadata": {
    "ExecuteTime": {
     "end_time": "2020-11-01T05:42:08.209562Z",
     "start_time": "2020-11-01T05:42:08.179658Z"
    }
   },
   "outputs": [
    {
     "name": "stdout",
     "output_type": "stream",
     "text": [
      "Кол-во потерянных пользователей: 17\n",
      "Процент потерянных пользователей: 0.23% \n"
     ]
    }
   ],
   "source": [
    "print('Кол-во потерянных пользователей: {}'.format(logs['device_id'].nunique() - logs_clean['device_id'].nunique()))\n",
    "print('Процент потерянных пользователей: {:.2%} '.format((logs['device_id'].nunique() - logs_clean['device_id'].nunique()) / \n",
    "                                                   logs['device_id'].nunique()))"
   ]
  },
  {
   "cell_type": "markdown",
   "metadata": {},
   "source": [
    "Не такой большой процент, можем им пренебречь.\n",
    "\n",
    "#### Проверьте, что у вас есть пользователи из всех трёх экспериментальных групп. <a id='step3.6'></a>"
   ]
  },
  {
   "cell_type": "code",
   "execution_count": 47,
   "metadata": {
    "ExecuteTime": {
     "end_time": "2020-11-01T05:42:08.350664Z",
     "start_time": "2020-11-01T05:42:08.214422Z"
    }
   },
   "outputs": [
    {
     "data": {
      "text/plain": [
       "group\n",
       "246    2484\n",
       "247    2513\n",
       "248    2537\n",
       "Name: device_id, dtype: int64"
      ]
     },
     "execution_count": 47,
     "metadata": {},
     "output_type": "execute_result"
    }
   ],
   "source": [
    "#сводная таблица кол-ва уникальных польователей по группам\n",
    "logs_clean.groupby('group')['device_id'].nunique()"
   ]
  },
  {
   "cell_type": "markdown",
   "metadata": {},
   "source": [
    "Во всех трех группах близкое кол-во пользователей, можно продолжать исследование."
   ]
  },
  {
   "cell_type": "markdown",
   "metadata": {},
   "source": [
    "### Вывод\n",
    "\n",
    "Были рассчитаны кол-во пользователей и событий в логах, проверено, все ли группы пользователей присутствуют в логах.<br>\n",
    "Отброшены данные за период времени до 01.08.2019г. Кол-во потерянных событий (~0.2%) и пользователей (около 1%) позволяет это сделать."
   ]
  },
  {
   "cell_type": "markdown",
   "metadata": {},
   "source": [
    "---\n",
    "\n",
    "<div class=\"alert alert-block alert-success\">\n",
    "\n",
    "### Комментарий от ревьюера\n",
    "\n",
    "Здесь все правильно!\n",
    "    \n",
    "</div>\n",
    "\n",
    "---"
   ]
  },
  {
   "cell_type": "markdown",
   "metadata": {},
   "source": [
    "### Шаг 4. Изучите воронку событий <a id='step4'></a>\n",
    "[К содержанию](#contents)"
   ]
  },
  {
   "cell_type": "markdown",
   "metadata": {},
   "source": [
    "#### Посмотрите, какие события есть в логах, как часто они встречаются. Отсортируйте события по частоте. Посчитайте, сколько пользователей совершали каждое из этих событий. Отсортируйте события по числу пользователей. Посчитайте долю пользователей, которые хоть раз совершали событие.<a id='step4.1'></a>"
   ]
  },
  {
   "cell_type": "code",
   "execution_count": 48,
   "metadata": {
    "ExecuteTime": {
     "end_time": "2020-11-01T05:42:08.632319Z",
     "start_time": "2020-11-01T05:42:08.354394Z"
    }
   },
   "outputs": [
    {
     "data": {
      "text/html": [
       "<div>\n",
       "<style scoped>\n",
       "    .dataframe tbody tr th:only-of-type {\n",
       "        vertical-align: middle;\n",
       "    }\n",
       "\n",
       "    .dataframe tbody tr th {\n",
       "        vertical-align: top;\n",
       "    }\n",
       "\n",
       "    .dataframe thead th {\n",
       "        text-align: right;\n",
       "    }\n",
       "</style>\n",
       "<table border=\"1\" class=\"dataframe\">\n",
       "  <thead>\n",
       "    <tr style=\"text-align: right;\">\n",
       "      <th></th>\n",
       "      <th>event_type</th>\n",
       "      <th>event_count</th>\n",
       "      <th>users</th>\n",
       "      <th>percent, %</th>\n",
       "    </tr>\n",
       "  </thead>\n",
       "  <tbody>\n",
       "    <tr>\n",
       "      <th>0</th>\n",
       "      <td>MainScreenAppear</td>\n",
       "      <td>117328</td>\n",
       "      <td>7419</td>\n",
       "      <td>98.5</td>\n",
       "    </tr>\n",
       "    <tr>\n",
       "      <th>1</th>\n",
       "      <td>OffersScreenAppear</td>\n",
       "      <td>46333</td>\n",
       "      <td>4593</td>\n",
       "      <td>61.0</td>\n",
       "    </tr>\n",
       "    <tr>\n",
       "      <th>2</th>\n",
       "      <td>CartScreenAppear</td>\n",
       "      <td>42303</td>\n",
       "      <td>3734</td>\n",
       "      <td>49.6</td>\n",
       "    </tr>\n",
       "    <tr>\n",
       "      <th>3</th>\n",
       "      <td>PaymentScreenSuccessful</td>\n",
       "      <td>33918</td>\n",
       "      <td>3539</td>\n",
       "      <td>47.0</td>\n",
       "    </tr>\n",
       "    <tr>\n",
       "      <th>4</th>\n",
       "      <td>Tutorial</td>\n",
       "      <td>1005</td>\n",
       "      <td>840</td>\n",
       "      <td>11.1</td>\n",
       "    </tr>\n",
       "  </tbody>\n",
       "</table>\n",
       "</div>"
      ],
      "text/plain": [
       "                event_type  event_count  users  percent, %\n",
       "0         MainScreenAppear       117328   7419        98.5\n",
       "1       OffersScreenAppear        46333   4593        61.0\n",
       "2         CartScreenAppear        42303   3734        49.6\n",
       "3  PaymentScreenSuccessful        33918   3539        47.0\n",
       "4                 Tutorial         1005    840        11.1"
      ]
     },
     "execution_count": 48,
     "metadata": {},
     "output_type": "execute_result"
    }
   ],
   "source": [
    "events = logs_clean.groupby('event').agg({'time':'count', 'device_id':'nunique'}\n",
    "                                        ).sort_values(by = 'device_id', ascending = False).reset_index()\n",
    "events.columns = ['event_type', 'event_count', 'users']\n",
    "#добавим столбец с процентом пользователей на данном шаге\n",
    "events['percent, %'] = ((events['users'] / logs_clean['device_id'].nunique()) * 100).round(1)\n",
    "events"
   ]
  },
  {
   "cell_type": "markdown",
   "metadata": {},
   "source": [
    "Можно отсортировать только по кол-ву пользователей или по кол-ву событий, в данном случае они совпадают."
   ]
  },
  {
   "cell_type": "markdown",
   "metadata": {},
   "source": [
    "#### Предположите, в каком порядке происходят события. Все ли они выстраиваются в последовательную цепочку? Их не нужно учитывать при расчёте воронки. <a id='step4.3'></a>"
   ]
  },
  {
   "cell_type": "markdown",
   "metadata": {},
   "source": [
    "Последовательность событий, полученная в ходе сортировки кажется верной, с другой стороны, Tutorial (инструкцию, или, в данном случае, вводный курс) можно отбросить, так как это необязательная часть, которая не влияет на кол-во пользователей на следующем шаге (если он существует)."
   ]
  },
  {
   "cell_type": "code",
   "execution_count": 49,
   "metadata": {
    "ExecuteTime": {
     "end_time": "2020-11-01T05:42:08.654447Z",
     "start_time": "2020-11-01T05:42:08.636932Z"
    },
    "scrolled": true
   },
   "outputs": [
    {
     "data": {
      "text/html": [
       "<div>\n",
       "<style scoped>\n",
       "    .dataframe tbody tr th:only-of-type {\n",
       "        vertical-align: middle;\n",
       "    }\n",
       "\n",
       "    .dataframe tbody tr th {\n",
       "        vertical-align: top;\n",
       "    }\n",
       "\n",
       "    .dataframe thead th {\n",
       "        text-align: right;\n",
       "    }\n",
       "</style>\n",
       "<table border=\"1\" class=\"dataframe\">\n",
       "  <thead>\n",
       "    <tr style=\"text-align: right;\">\n",
       "      <th></th>\n",
       "      <th>event_type</th>\n",
       "      <th>event_count</th>\n",
       "      <th>users</th>\n",
       "      <th>percent, %</th>\n",
       "    </tr>\n",
       "  </thead>\n",
       "  <tbody>\n",
       "    <tr>\n",
       "      <th>0</th>\n",
       "      <td>MainScreenAppear</td>\n",
       "      <td>117328</td>\n",
       "      <td>7419</td>\n",
       "      <td>98.5</td>\n",
       "    </tr>\n",
       "    <tr>\n",
       "      <th>1</th>\n",
       "      <td>OffersScreenAppear</td>\n",
       "      <td>46333</td>\n",
       "      <td>4593</td>\n",
       "      <td>61.0</td>\n",
       "    </tr>\n",
       "    <tr>\n",
       "      <th>2</th>\n",
       "      <td>CartScreenAppear</td>\n",
       "      <td>42303</td>\n",
       "      <td>3734</td>\n",
       "      <td>49.6</td>\n",
       "    </tr>\n",
       "    <tr>\n",
       "      <th>3</th>\n",
       "      <td>PaymentScreenSuccessful</td>\n",
       "      <td>33918</td>\n",
       "      <td>3539</td>\n",
       "      <td>47.0</td>\n",
       "    </tr>\n",
       "  </tbody>\n",
       "</table>\n",
       "</div>"
      ],
      "text/plain": [
       "                event_type  event_count  users  percent, %\n",
       "0         MainScreenAppear       117328   7419        98.5\n",
       "1       OffersScreenAppear        46333   4593        61.0\n",
       "2         CartScreenAppear        42303   3734        49.6\n",
       "3  PaymentScreenSuccessful        33918   3539        47.0"
      ]
     },
     "execution_count": 49,
     "metadata": {},
     "output_type": "execute_result"
    }
   ],
   "source": [
    "funnel = events[0:4]\n",
    "funnel"
   ]
  },
  {
   "cell_type": "markdown",
   "metadata": {},
   "source": [
    "Построим в данные столбец с процентным отношением пользователей на шаге к предыдщему шагу:"
   ]
  },
  {
   "cell_type": "code",
   "execution_count": 50,
   "metadata": {
    "ExecuteTime": {
     "end_time": "2020-11-01T05:42:08.700539Z",
     "start_time": "2020-11-01T05:42:08.658089Z"
    },
    "scrolled": false
   },
   "outputs": [
    {
     "data": {
      "text/html": [
       "<div>\n",
       "<style scoped>\n",
       "    .dataframe tbody tr th:only-of-type {\n",
       "        vertical-align: middle;\n",
       "    }\n",
       "\n",
       "    .dataframe tbody tr th {\n",
       "        vertical-align: top;\n",
       "    }\n",
       "\n",
       "    .dataframe thead th {\n",
       "        text-align: right;\n",
       "    }\n",
       "</style>\n",
       "<table border=\"1\" class=\"dataframe\">\n",
       "  <thead>\n",
       "    <tr style=\"text-align: right;\">\n",
       "      <th></th>\n",
       "      <th>event_type</th>\n",
       "      <th>event_count</th>\n",
       "      <th>users</th>\n",
       "      <th>percent, %</th>\n",
       "      <th>prev_percent, %</th>\n",
       "    </tr>\n",
       "  </thead>\n",
       "  <tbody>\n",
       "    <tr>\n",
       "      <th>0</th>\n",
       "      <td>MainScreenAppear</td>\n",
       "      <td>117328</td>\n",
       "      <td>7419</td>\n",
       "      <td>98.5</td>\n",
       "      <td>NaN</td>\n",
       "    </tr>\n",
       "    <tr>\n",
       "      <th>1</th>\n",
       "      <td>OffersScreenAppear</td>\n",
       "      <td>46333</td>\n",
       "      <td>4593</td>\n",
       "      <td>61.0</td>\n",
       "      <td>61.9</td>\n",
       "    </tr>\n",
       "    <tr>\n",
       "      <th>2</th>\n",
       "      <td>CartScreenAppear</td>\n",
       "      <td>42303</td>\n",
       "      <td>3734</td>\n",
       "      <td>49.6</td>\n",
       "      <td>81.3</td>\n",
       "    </tr>\n",
       "    <tr>\n",
       "      <th>3</th>\n",
       "      <td>PaymentScreenSuccessful</td>\n",
       "      <td>33918</td>\n",
       "      <td>3539</td>\n",
       "      <td>47.0</td>\n",
       "      <td>94.8</td>\n",
       "    </tr>\n",
       "  </tbody>\n",
       "</table>\n",
       "</div>"
      ],
      "text/plain": [
       "                event_type  event_count  users  percent, %  prev_percent, %\n",
       "0         MainScreenAppear       117328   7419        98.5              NaN\n",
       "1       OffersScreenAppear        46333   4593        61.0             61.9\n",
       "2         CartScreenAppear        42303   3734        49.6             81.3\n",
       "3  PaymentScreenSuccessful        33918   3539        47.0             94.8"
      ]
     },
     "execution_count": 50,
     "metadata": {},
     "output_type": "execute_result"
    }
   ],
   "source": [
    "funnel['prev_percent, %'] = ((funnel['users'] / funnel['users'].shift(1))*100).round(1)\n",
    "funnel"
   ]
  },
  {
   "cell_type": "markdown",
   "metadata": {},
   "source": [
    "Процент пользователей, перешедших с шага \"Корзина\" на \"Успешную оплату\" достаточно высок, похоже, удобство платежей на высоком уровне. "
   ]
  },
  {
   "cell_type": "markdown",
   "metadata": {},
   "source": [
    "---\n",
    "\n",
    "<div class=\"alert alert-block alert-warning\">\n",
    "    \n",
    "\n",
    "### Комментарий от ревьюера\n",
    "\n",
    "\n",
    "Все верно.\n",
    "    \n",
    "Почитай про функцию [shift](https://stackoverflow.com/questions/10982089/how-to-shift-a-column-in-pandas-dataframe), может быть ты уйдешь от цикла и сократишь время вычислений.\n",
    "\n",
    "Для удаления предупреждений используй:\n",
    "\n",
    "import warnings\n",
    "    \n",
    "warnings.filterwarnings('ignore')\n",
    "\n",
    "</div>\n",
    "\n",
    "---\n",
    "\n",
    "\n",
    "\n"
   ]
  },
  {
   "cell_type": "markdown",
   "metadata": {},
   "source": [
    "---\n",
    "\n",
    "<div class=\"alert alert-block alert-info\">\n",
    "    \n",
    "\n",
    "### Комментарий от студента\n",
    "\n",
    "\n",
    "Спасибо, полезная функция.\n",
    "\n",
    "</div>\n",
    "\n",
    "---"
   ]
  },
  {
   "cell_type": "markdown",
   "metadata": {},
   "source": [
    "---\n",
    "\n",
    "<div class=\"alert alert-block alert-success\">\n",
    "    \n",
    "\n",
    "### Комментарий от ревьюера v.2\n",
    "\n",
    "Я рад, что тебе понравилось!\n",
    "    \n",
    "</div>\n",
    "\n",
    "---"
   ]
  },
  {
   "cell_type": "markdown",
   "metadata": {},
   "source": [
    "#### По воронке событий посчитайте, какая доля пользователей проходит на следующий шаг воронки (от числа пользователей на предыдущем) <a id='step4.4'></a>"
   ]
  },
  {
   "cell_type": "code",
   "execution_count": 73,
   "metadata": {
    "ExecuteTime": {
     "end_time": "2020-11-01T05:42:08.974402Z",
     "start_time": "2020-11-01T05:42:08.705183Z"
    },
    "scrolled": false
   },
   "outputs": [
    {
     "data": {
      "image/png": "[encoded data removed]"
     },
     "metadata": {},
     "output_type": "display_data"
    }
   ],
   "source": [
    "#построим воронку при помощи библиотеки Plotly\n",
    "fig = go.Figure()\n",
    "fig = go.Figure(go.Funnel(\n",
    "    y = funnel['event_type'],\n",
    "    x = funnel['users'],\n",
    "    #отобразим процент пользователей на каждом шаге (от первоначального числа и о предыдущих шагов)\n",
    "    textinfo = 'value + percent previous + percent initial'),\n",
    "                layout = go.Layout(title = go.layout.Title(text = 'Воронка событий по логам')))\n",
    "fig.show('png');"
   ]
  },
  {
   "cell_type": "markdown",
   "metadata": {},
   "source": [
    "---\n",
    "\n",
    "<div class=\"alert alert-block alert-success\">\n",
    "    \n",
    "\n",
    "### Комментарий от ревьюера\n",
    "\n",
    "Отличная визуализация и ... фантастическая конверсия!) Все верно!\n",
    "</div>\n",
    "\n",
    "---"
   ]
  },
  {
   "cell_type": "markdown",
   "metadata": {},
   "source": [
    "#### На каком шаге теряете больше всего пользователей? <a id='step4.5'></a>"
   ]
  },
  {
   "cell_type": "markdown",
   "metadata": {},
   "source": [
    "Больше всего пользователей потеряно на главном экране (MainScreenAppear). Возможно, он недостаточно хорошо проработан и информативен, либо пользователи понимают, что им неинтересен наш продукт."
   ]
  },
  {
   "cell_type": "markdown",
   "metadata": {},
   "source": [
    "#### Какая доля пользователей доходит от первого события до оплаты? <a id='step4.6'></a>"
   ]
  },
  {
   "cell_type": "markdown",
   "metadata": {},
   "source": [
    "До оплаты доходит 48% пользователей, достаточно высокое значение."
   ]
  },
  {
   "cell_type": "markdown",
   "metadata": {},
   "source": [
    "### Вывод\n",
    "\n",
    "Последовательность событий, полученная в ходе сортировки кажется верной, событие Tutorial принято решение отбросить, как не имеющее ценных результатов для исследования. <br>\n",
    "Процент пользователей, переходящих на новый шаг каждый раз высок, видимо, или продукт столь хорош, или интерфейс приложения удачен. Процент пользователей, перешедших с шага \"Корзина\" на \"Успешную оплату\" достаточно высок, похоже, удоство платежей на высоком уровне. <br>\n",
    "До оплаты доходит практически половина пользователей, это очень хороший результат."
   ]
  },
  {
   "cell_type": "markdown",
   "metadata": {},
   "source": [
    "---\n",
    "\n",
    "<div class=\"alert alert-block alert-success\">\n",
    "    \n",
    "\n",
    "### Комментарий от ревьюера\n",
    "\n",
    "Выводы правильные, лаконичные!\n",
    "    \n",
    "</div>\n",
    "\n",
    "---"
   ]
  },
  {
   "cell_type": "markdown",
   "metadata": {},
   "source": [
    "### Шаг 5. Изучите результаты эксперимента <a id='step5'></a>\n",
    "[К содержанию](#contents)"
   ]
  },
  {
   "cell_type": "markdown",
   "metadata": {},
   "source": [
    "#### Сколько пользователей в каждой экспериментальной группе? <a id='step5.1'></a>\n",
    "\n",
    "Сгруппируем данные по группам исследования, найдем кол-во уникальных пользователей для каждой группы и процент кол-ва пользователей каждой группы от максимального."
   ]
  },
  {
   "cell_type": "code",
   "execution_count": 52,
   "metadata": {
    "ExecuteTime": {
     "end_time": "2020-11-01T05:42:09.192102Z",
     "start_time": "2020-11-01T05:42:08.977480Z"
    }
   },
   "outputs": [
    {
     "data": {
      "text/html": [
       "<div>\n",
       "<style scoped>\n",
       "    .dataframe tbody tr th:only-of-type {\n",
       "        vertical-align: middle;\n",
       "    }\n",
       "\n",
       "    .dataframe tbody tr th {\n",
       "        vertical-align: top;\n",
       "    }\n",
       "\n",
       "    .dataframe thead th {\n",
       "        text-align: right;\n",
       "    }\n",
       "</style>\n",
       "<table border=\"1\" class=\"dataframe\">\n",
       "  <thead>\n",
       "    <tr style=\"text-align: right;\">\n",
       "      <th></th>\n",
       "      <th>device_id</th>\n",
       "      <th>ratio</th>\n",
       "    </tr>\n",
       "    <tr>\n",
       "      <th>group</th>\n",
       "      <th></th>\n",
       "      <th></th>\n",
       "    </tr>\n",
       "  </thead>\n",
       "  <tbody>\n",
       "    <tr>\n",
       "      <th>246</th>\n",
       "      <td>2484.0</td>\n",
       "      <td>0.98</td>\n",
       "    </tr>\n",
       "    <tr>\n",
       "      <th>247</th>\n",
       "      <td>2513.0</td>\n",
       "      <td>0.99</td>\n",
       "    </tr>\n",
       "    <tr>\n",
       "      <th>248</th>\n",
       "      <td>2537.0</td>\n",
       "      <td>1.00</td>\n",
       "    </tr>\n",
       "    <tr>\n",
       "      <th>246+247</th>\n",
       "      <td>4997.0</td>\n",
       "      <td>NaN</td>\n",
       "    </tr>\n",
       "  </tbody>\n",
       "</table>\n",
       "</div>"
      ],
      "text/plain": [
       "         device_id  ratio\n",
       "group                    \n",
       "246         2484.0   0.98\n",
       "247         2513.0   0.99\n",
       "248         2537.0   1.00\n",
       "246+247     4997.0    NaN"
      ]
     },
     "execution_count": 52,
     "metadata": {},
     "output_type": "execute_result"
    }
   ],
   "source": [
    "users_grouped = pd.DataFrame(logs_clean.groupby('group')['device_id'].nunique())\n",
    "users_grouped['ratio'] = (users_grouped['device_id'] / users_grouped['device_id'].max()).round(2)\n",
    "users_grouped.loc['246+247'] = [users_grouped.loc[246, 'device_id'] + users_grouped.loc[247, 'device_id'], np.nan]\n",
    "users_grouped"
   ]
  },
  {
   "cell_type": "markdown",
   "metadata": {},
   "source": [
    "Самая большая группа - 248 (экспериментальная). Разница размеров групп не превышает 1%."
   ]
  },
  {
   "cell_type": "markdown",
   "metadata": {},
   "source": [
    "#### Есть 2 контрольные группы для А/А-эксперимента, чтобы проверить корректность всех механизмов и расчётов. Проверьте, находят ли статистические критерии разницу между выборками 246 и 247 <a id='step5.2'></a>"
   ]
  },
  {
   "cell_type": "markdown",
   "metadata": {},
   "source": [
    "Критерии успешного A/A-теста:\n",
    "- Количество пользователей в различных группах различается не более, чем на 1% (данный факт проверен);\n",
    "- Для всех групп фиксируют и отправляют в системы аналитики данные об одном и том же;\n",
    "- Различие ключевых метрик по группам не превышает 1% и не имеет статистической значимости;\n",
    "- Попавший в одну из групп посетитель остаётся в этой группе до конца теста. Если пользователь видит разные версии исследуемой страницы в ходе одного исследования, неизвестно, какая именно повлияла на его решения.\n",
    "\n",
    "Сформируем срезы данных для каждой группы:"
   ]
  },
  {
   "cell_type": "code",
   "execution_count": 53,
   "metadata": {},
   "outputs": [
    {
     "data": {
      "text/html": [
       "<div>\n",
       "<style scoped>\n",
       "    .dataframe tbody tr th:only-of-type {\n",
       "        vertical-align: middle;\n",
       "    }\n",
       "\n",
       "    .dataframe tbody tr th {\n",
       "        vertical-align: top;\n",
       "    }\n",
       "\n",
       "    .dataframe thead th {\n",
       "        text-align: right;\n",
       "    }\n",
       "</style>\n",
       "<table border=\"1\" class=\"dataframe\">\n",
       "  <thead>\n",
       "    <tr style=\"text-align: right;\">\n",
       "      <th></th>\n",
       "      <th>event</th>\n",
       "      <th>device_id</th>\n",
       "      <th>timestamp</th>\n",
       "      <th>group</th>\n",
       "      <th>time</th>\n",
       "      <th>date</th>\n",
       "    </tr>\n",
       "  </thead>\n",
       "  <tbody>\n",
       "    <tr>\n",
       "      <th>2826</th>\n",
       "      <td>Tutorial</td>\n",
       "      <td>3737462046622621720</td>\n",
       "      <td>1564618048</td>\n",
       "      <td>246</td>\n",
       "      <td>2019-08-01 00:07:28</td>\n",
       "      <td>2019-08-01</td>\n",
       "    </tr>\n",
       "    <tr>\n",
       "      <th>2827</th>\n",
       "      <td>MainScreenAppear</td>\n",
       "      <td>3737462046622621720</td>\n",
       "      <td>1564618080</td>\n",
       "      <td>246</td>\n",
       "      <td>2019-08-01 00:08:00</td>\n",
       "      <td>2019-08-01</td>\n",
       "    </tr>\n",
       "    <tr>\n",
       "      <th>2828</th>\n",
       "      <td>MainScreenAppear</td>\n",
       "      <td>3737462046622621720</td>\n",
       "      <td>1564618135</td>\n",
       "      <td>246</td>\n",
       "      <td>2019-08-01 00:08:55</td>\n",
       "      <td>2019-08-01</td>\n",
       "    </tr>\n",
       "    <tr>\n",
       "      <th>2829</th>\n",
       "      <td>OffersScreenAppear</td>\n",
       "      <td>3737462046622621720</td>\n",
       "      <td>1564618138</td>\n",
       "      <td>246</td>\n",
       "      <td>2019-08-01 00:08:58</td>\n",
       "      <td>2019-08-01</td>\n",
       "    </tr>\n",
       "    <tr>\n",
       "      <th>2830</th>\n",
       "      <td>MainScreenAppear</td>\n",
       "      <td>1433840883824088890</td>\n",
       "      <td>1564618139</td>\n",
       "      <td>247</td>\n",
       "      <td>2019-08-01 00:08:59</td>\n",
       "      <td>2019-08-01</td>\n",
       "    </tr>\n",
       "  </tbody>\n",
       "</table>\n",
       "</div>"
      ],
      "text/plain": [
       "                   event            device_id   timestamp  group  \\\n",
       "2826            Tutorial  3737462046622621720  1564618048    246   \n",
       "2827    MainScreenAppear  3737462046622621720  1564618080    246   \n",
       "2828    MainScreenAppear  3737462046622621720  1564618135    246   \n",
       "2829  OffersScreenAppear  3737462046622621720  1564618138    246   \n",
       "2830    MainScreenAppear  1433840883824088890  1564618139    247   \n",
       "\n",
       "                    time       date  \n",
       "2826 2019-08-01 00:07:28 2019-08-01  \n",
       "2827 2019-08-01 00:08:00 2019-08-01  \n",
       "2828 2019-08-01 00:08:55 2019-08-01  \n",
       "2829 2019-08-01 00:08:58 2019-08-01  \n",
       "2830 2019-08-01 00:08:59 2019-08-01  "
      ]
     },
     "execution_count": 53,
     "metadata": {},
     "output_type": "execute_result"
    }
   ],
   "source": [
    "logs_clean.head()"
   ]
  },
  {
   "cell_type": "code",
   "execution_count": 54,
   "metadata": {},
   "outputs": [
    {
     "data": {
      "text/html": [
       "<div>\n",
       "<style scoped>\n",
       "    .dataframe tbody tr th:only-of-type {\n",
       "        vertical-align: middle;\n",
       "    }\n",
       "\n",
       "    .dataframe tbody tr th {\n",
       "        vertical-align: top;\n",
       "    }\n",
       "\n",
       "    .dataframe thead th {\n",
       "        text-align: right;\n",
       "    }\n",
       "</style>\n",
       "<table border=\"1\" class=\"dataframe\">\n",
       "  <thead>\n",
       "    <tr style=\"text-align: right;\">\n",
       "      <th></th>\n",
       "      <th>event</th>\n",
       "      <th>device_id</th>\n",
       "      <th>timestamp</th>\n",
       "      <th>group</th>\n",
       "      <th>time</th>\n",
       "      <th>date</th>\n",
       "    </tr>\n",
       "  </thead>\n",
       "  <tbody>\n",
       "    <tr>\n",
       "      <th>2827</th>\n",
       "      <td>MainScreenAppear</td>\n",
       "      <td>3737462046622621720</td>\n",
       "      <td>1564618080</td>\n",
       "      <td>246</td>\n",
       "      <td>2019-08-01 00:08:00</td>\n",
       "      <td>2019-08-01</td>\n",
       "    </tr>\n",
       "    <tr>\n",
       "      <th>2828</th>\n",
       "      <td>MainScreenAppear</td>\n",
       "      <td>3737462046622621720</td>\n",
       "      <td>1564618135</td>\n",
       "      <td>246</td>\n",
       "      <td>2019-08-01 00:08:55</td>\n",
       "      <td>2019-08-01</td>\n",
       "    </tr>\n",
       "    <tr>\n",
       "      <th>2829</th>\n",
       "      <td>OffersScreenAppear</td>\n",
       "      <td>3737462046622621720</td>\n",
       "      <td>1564618138</td>\n",
       "      <td>246</td>\n",
       "      <td>2019-08-01 00:08:58</td>\n",
       "      <td>2019-08-01</td>\n",
       "    </tr>\n",
       "    <tr>\n",
       "      <th>2830</th>\n",
       "      <td>MainScreenAppear</td>\n",
       "      <td>1433840883824088890</td>\n",
       "      <td>1564618139</td>\n",
       "      <td>247</td>\n",
       "      <td>2019-08-01 00:08:59</td>\n",
       "      <td>2019-08-01</td>\n",
       "    </tr>\n",
       "    <tr>\n",
       "      <th>2831</th>\n",
       "      <td>MainScreenAppear</td>\n",
       "      <td>4899590676214355127</td>\n",
       "      <td>1564618215</td>\n",
       "      <td>247</td>\n",
       "      <td>2019-08-01 00:10:15</td>\n",
       "      <td>2019-08-01</td>\n",
       "    </tr>\n",
       "  </tbody>\n",
       "</table>\n",
       "</div>"
      ],
      "text/plain": [
       "                   event            device_id   timestamp  group  \\\n",
       "2827    MainScreenAppear  3737462046622621720  1564618080    246   \n",
       "2828    MainScreenAppear  3737462046622621720  1564618135    246   \n",
       "2829  OffersScreenAppear  3737462046622621720  1564618138    246   \n",
       "2830    MainScreenAppear  1433840883824088890  1564618139    247   \n",
       "2831    MainScreenAppear  4899590676214355127  1564618215    247   \n",
       "\n",
       "                    time       date  \n",
       "2827 2019-08-01 00:08:00 2019-08-01  \n",
       "2828 2019-08-01 00:08:55 2019-08-01  \n",
       "2829 2019-08-01 00:08:58 2019-08-01  \n",
       "2830 2019-08-01 00:08:59 2019-08-01  \n",
       "2831 2019-08-01 00:10:15 2019-08-01  "
      ]
     },
     "execution_count": 54,
     "metadata": {},
     "output_type": "execute_result"
    }
   ],
   "source": [
    "logs_clean_fin = logs_clean.query('event != \"Tutorial\"')\n",
    "logs_clean_fin.head()"
   ]
  },
  {
   "cell_type": "markdown",
   "metadata": {},
   "source": [
    "---\n",
    "\n",
    "<div class=\"alert alert-block alert-warning\">\n",
    "    \n",
    "\n",
    "### Комментарий от ревьюера\n",
    "\n",
    "Последний пункт вывода верен, но не очевиден: данные для сравнения находятся в разных частях тетради. Лучше проводить явную проверку или представлять исходные данные для удобства.\n",
    "\n",
    "</div>\n",
    "\n",
    "---"
   ]
  },
  {
   "cell_type": "code",
   "execution_count": 55,
   "metadata": {
    "ExecuteTime": {
     "end_time": "2020-11-01T05:42:09.345493Z",
     "start_time": "2020-11-01T05:42:09.200896Z"
    }
   },
   "outputs": [],
   "source": [
    "#используем логическую индексацию\n",
    "gr_246 = logs_clean_fin[(logs_clean['group'] == 246)]\n",
    "gr_247 = logs_clean_fin[(logs_clean['group'] == 247)]\n",
    "gr_248 = logs_clean_fin[(logs_clean['group'] == 248)]"
   ]
  },
  {
   "cell_type": "markdown",
   "metadata": {},
   "source": [
    "---\n",
    "\n",
    "<div class=\"alert alert-block alert-warning\">\n",
    "    \n",
    "\n",
    "### Комментарий от ревьюера\n",
    "\n",
    "\n",
    "Если сразу обрезать 'Tutorial' в logs_clean, то можно сократить условие для среза. Дальше 'Tuturial'  не нужен.\n",
    "</div>\n",
    "\n",
    "---"
   ]
  },
  {
   "cell_type": "markdown",
   "metadata": {},
   "source": [
    "---\n",
    "\n",
    "<div class=\"alert alert-block alert-info\">\n",
    "    \n",
    "\n",
    "### Комментарий от студента\n",
    "\n",
    "\n",
    "Так и сделал, спасибо.\n",
    "</div>\n",
    "\n",
    "---"
   ]
  },
  {
   "cell_type": "markdown",
   "metadata": {},
   "source": [
    "Проверим результат на одной из групп:"
   ]
  },
  {
   "cell_type": "code",
   "execution_count": 56,
   "metadata": {
    "ExecuteTime": {
     "end_time": "2020-11-01T05:42:09.377815Z",
     "start_time": "2020-11-01T05:42:09.348958Z"
    }
   },
   "outputs": [
    {
     "data": {
      "text/html": [
       "<div>\n",
       "<style scoped>\n",
       "    .dataframe tbody tr th:only-of-type {\n",
       "        vertical-align: middle;\n",
       "    }\n",
       "\n",
       "    .dataframe tbody tr th {\n",
       "        vertical-align: top;\n",
       "    }\n",
       "\n",
       "    .dataframe thead th {\n",
       "        text-align: right;\n",
       "    }\n",
       "</style>\n",
       "<table border=\"1\" class=\"dataframe\">\n",
       "  <thead>\n",
       "    <tr style=\"text-align: right;\">\n",
       "      <th></th>\n",
       "      <th>event</th>\n",
       "      <th>device_id</th>\n",
       "      <th>timestamp</th>\n",
       "      <th>group</th>\n",
       "      <th>time</th>\n",
       "      <th>date</th>\n",
       "    </tr>\n",
       "  </thead>\n",
       "  <tbody>\n",
       "    <tr>\n",
       "      <th>2842</th>\n",
       "      <td>MainScreenAppear</td>\n",
       "      <td>4613461174774205834</td>\n",
       "      <td>1564618471</td>\n",
       "      <td>248</td>\n",
       "      <td>2019-08-01 00:14:31</td>\n",
       "      <td>2019-08-01</td>\n",
       "    </tr>\n",
       "    <tr>\n",
       "      <th>2843</th>\n",
       "      <td>MainScreenAppear</td>\n",
       "      <td>4613461174774205834</td>\n",
       "      <td>1564618474</td>\n",
       "      <td>248</td>\n",
       "      <td>2019-08-01 00:14:34</td>\n",
       "      <td>2019-08-01</td>\n",
       "    </tr>\n",
       "    <tr>\n",
       "      <th>2844</th>\n",
       "      <td>CartScreenAppear</td>\n",
       "      <td>4613461174774205834</td>\n",
       "      <td>1564618474</td>\n",
       "      <td>248</td>\n",
       "      <td>2019-08-01 00:14:34</td>\n",
       "      <td>2019-08-01</td>\n",
       "    </tr>\n",
       "    <tr>\n",
       "      <th>2845</th>\n",
       "      <td>PaymentScreenSuccessful</td>\n",
       "      <td>4613461174774205834</td>\n",
       "      <td>1564618483</td>\n",
       "      <td>248</td>\n",
       "      <td>2019-08-01 00:14:43</td>\n",
       "      <td>2019-08-01</td>\n",
       "    </tr>\n",
       "    <tr>\n",
       "      <th>2846</th>\n",
       "      <td>OffersScreenAppear</td>\n",
       "      <td>4613461174774205834</td>\n",
       "      <td>1564618491</td>\n",
       "      <td>248</td>\n",
       "      <td>2019-08-01 00:14:51</td>\n",
       "      <td>2019-08-01</td>\n",
       "    </tr>\n",
       "  </tbody>\n",
       "</table>\n",
       "</div>"
      ],
      "text/plain": [
       "                        event            device_id   timestamp  group  \\\n",
       "2842         MainScreenAppear  4613461174774205834  1564618471    248   \n",
       "2843         MainScreenAppear  4613461174774205834  1564618474    248   \n",
       "2844         CartScreenAppear  4613461174774205834  1564618474    248   \n",
       "2845  PaymentScreenSuccessful  4613461174774205834  1564618483    248   \n",
       "2846       OffersScreenAppear  4613461174774205834  1564618491    248   \n",
       "\n",
       "                    time       date  \n",
       "2842 2019-08-01 00:14:31 2019-08-01  \n",
       "2843 2019-08-01 00:14:34 2019-08-01  \n",
       "2844 2019-08-01 00:14:34 2019-08-01  \n",
       "2845 2019-08-01 00:14:43 2019-08-01  \n",
       "2846 2019-08-01 00:14:51 2019-08-01  "
      ]
     },
     "execution_count": 56,
     "metadata": {},
     "output_type": "execute_result"
    }
   ],
   "source": [
    "gr_248.head()"
   ]
  },
  {
   "cell_type": "markdown",
   "metadata": {},
   "source": [
    "Получим сводные таблицы событий и кол-ва пользователей по каждой из воронок:"
   ]
  },
  {
   "cell_type": "code",
   "execution_count": 57,
   "metadata": {
    "ExecuteTime": {
     "end_time": "2020-11-01T05:42:09.538154Z",
     "start_time": "2020-11-01T05:42:09.381261Z"
    }
   },
   "outputs": [
    {
     "data": {
      "text/html": [
       "<div>\n",
       "<style scoped>\n",
       "    .dataframe tbody tr th:only-of-type {\n",
       "        vertical-align: middle;\n",
       "    }\n",
       "\n",
       "    .dataframe tbody tr th {\n",
       "        vertical-align: top;\n",
       "    }\n",
       "\n",
       "    .dataframe thead th {\n",
       "        text-align: right;\n",
       "    }\n",
       "</style>\n",
       "<table border=\"1\" class=\"dataframe\">\n",
       "  <thead>\n",
       "    <tr style=\"text-align: right;\">\n",
       "      <th></th>\n",
       "      <th>event</th>\n",
       "      <th>total_users</th>\n",
       "    </tr>\n",
       "  </thead>\n",
       "  <tbody>\n",
       "    <tr>\n",
       "      <th>0</th>\n",
       "      <td>CartScreenAppear</td>\n",
       "      <td>1230</td>\n",
       "    </tr>\n",
       "    <tr>\n",
       "      <th>1</th>\n",
       "      <td>MainScreenAppear</td>\n",
       "      <td>2493</td>\n",
       "    </tr>\n",
       "    <tr>\n",
       "      <th>2</th>\n",
       "      <td>OffersScreenAppear</td>\n",
       "      <td>1531</td>\n",
       "    </tr>\n",
       "    <tr>\n",
       "      <th>3</th>\n",
       "      <td>PaymentScreenSuccessful</td>\n",
       "      <td>1181</td>\n",
       "    </tr>\n",
       "  </tbody>\n",
       "</table>\n",
       "</div>"
      ],
      "text/plain": [
       "                     event  total_users\n",
       "0         CartScreenAppear         1230\n",
       "1         MainScreenAppear         2493\n",
       "2       OffersScreenAppear         1531\n",
       "3  PaymentScreenSuccessful         1181"
      ]
     },
     "execution_count": 57,
     "metadata": {},
     "output_type": "execute_result"
    }
   ],
   "source": [
    "funnel_246 = gr_248.groupby('event').agg({'device_id':'nunique'}).reset_index().rename(\n",
    "    columns = {'device_id': 'total_users'})\n",
    "funnel_247 = gr_248.groupby('event').agg({'device_id':'nunique'}).reset_index().rename(\n",
    "    columns = {'device_id': 'total_users'})\n",
    "funnel_248 = gr_248.groupby('event').agg({'device_id':'nunique'}).reset_index().rename(\n",
    "    columns = {'device_id': 'total_users'})\n",
    "#проверим одну из воронок\n",
    "funnel_248"
   ]
  },
  {
   "cell_type": "markdown",
   "metadata": {},
   "source": [
    "Создадим общую таблицу по всем группам, добавим туда объединенную контрольную группы (246+247):"
   ]
  },
  {
   "cell_type": "code",
   "execution_count": 58,
   "metadata": {
    "ExecuteTime": {
     "end_time": "2020-11-01T05:42:09.878659Z",
     "start_time": "2020-11-01T05:42:09.541174Z"
    },
    "scrolled": true
   },
   "outputs": [
    {
     "data": {
      "text/html": [
       "<div>\n",
       "<style scoped>\n",
       "    .dataframe tbody tr th:only-of-type {\n",
       "        vertical-align: middle;\n",
       "    }\n",
       "\n",
       "    .dataframe tbody tr th {\n",
       "        vertical-align: top;\n",
       "    }\n",
       "\n",
       "    .dataframe thead th {\n",
       "        text-align: right;\n",
       "    }\n",
       "</style>\n",
       "<table border=\"1\" class=\"dataframe\">\n",
       "  <thead>\n",
       "    <tr style=\"text-align: right;\">\n",
       "      <th>group</th>\n",
       "      <th>246</th>\n",
       "      <th>247</th>\n",
       "      <th>248</th>\n",
       "      <th>246+247</th>\n",
       "    </tr>\n",
       "    <tr>\n",
       "      <th>event</th>\n",
       "      <th></th>\n",
       "      <th></th>\n",
       "      <th></th>\n",
       "      <th></th>\n",
       "    </tr>\n",
       "  </thead>\n",
       "  <tbody>\n",
       "    <tr>\n",
       "      <th>MainScreenAppear</th>\n",
       "      <td>2450</td>\n",
       "      <td>2476</td>\n",
       "      <td>2493</td>\n",
       "      <td>4926</td>\n",
       "    </tr>\n",
       "    <tr>\n",
       "      <th>OffersScreenAppear</th>\n",
       "      <td>1542</td>\n",
       "      <td>1520</td>\n",
       "      <td>1531</td>\n",
       "      <td>3062</td>\n",
       "    </tr>\n",
       "    <tr>\n",
       "      <th>CartScreenAppear</th>\n",
       "      <td>1266</td>\n",
       "      <td>1238</td>\n",
       "      <td>1230</td>\n",
       "      <td>2504</td>\n",
       "    </tr>\n",
       "    <tr>\n",
       "      <th>PaymentScreenSuccessful</th>\n",
       "      <td>1200</td>\n",
       "      <td>1158</td>\n",
       "      <td>1181</td>\n",
       "      <td>2358</td>\n",
       "    </tr>\n",
       "  </tbody>\n",
       "</table>\n",
       "</div>"
      ],
      "text/plain": [
       "group                     246   247   248  246+247\n",
       "event                                             \n",
       "MainScreenAppear         2450  2476  2493     4926\n",
       "OffersScreenAppear       1542  1520  1531     3062\n",
       "CartScreenAppear         1266  1238  1230     2504\n",
       "PaymentScreenSuccessful  1200  1158  1181     2358"
      ]
     },
     "execution_count": 58,
     "metadata": {},
     "output_type": "execute_result"
    }
   ],
   "source": [
    "funels_grouped = logs_clean_fin.pivot_table(index = 'event', columns = 'group', values = 'device_id', aggfunc = 'nunique')\\\n",
    "                       .sort_values(246,ascending=False)\n",
    "funels_grouped['246+247'] = funels_grouped[246] + funels_grouped[247]\n",
    "funels_grouped"
   ]
  },
  {
   "cell_type": "markdown",
   "metadata": {},
   "source": [
    "Напишем функцию для проведения z-теста:"
   ]
  },
  {
   "cell_type": "code",
   "execution_count": 59,
   "metadata": {
    "ExecuteTime": {
     "end_time": "2020-11-01T05:42:09.891964Z",
     "start_time": "2020-11-01T05:42:09.881984Z"
    }
   },
   "outputs": [],
   "source": [
    "def z(group1, group2, event, alpha): \n",
    "    p1_event = funels_grouped.loc[event, group1]\n",
    "    p2_event = funels_grouped.loc[event, group2] \n",
    "    p1_overall = users_grouped.loc[group1, 'device_id'] \n",
    "    p2_overall = users_grouped.loc[group2, 'device_id'] \n",
    "    p1 = p1_event / p1_overall \n",
    "    p2 = p2_event / p2_overall \n",
    "    diff = p1 - p2\n",
    "    p_combined = (p1_event + p2_event) / (p1_overall + p2_overall) \n",
    "    z_value = diff / mth.sqrt(p_combined * (1 - p_combined) * (1 / p1_overall + 1 / p2_overall))\n",
    "    distr = st.norm(0, 1)\n",
    "    p_value = (1 - distr.cdf(abs(z_value))) * 2\n",
    "    print('Проверка групп {} и {}, событие: {}, p-value: {p_value:.2f}'.format(group1, group2, event, p_value = p_value))\n",
    "    if (p_value < alpha):\n",
    "        print(colored('Отвергаем нулевую гипотезу, есть основания считать доли различающимися', 'green'))\n",
    "    else:\n",
    "        print(colored('Не получилось отвергнуть нулевую гипотезу, нет оснований считать доли различающимися', 'red'))\n",
    "    print()"
   ]
  },
  {
   "cell_type": "code",
   "execution_count": 60,
   "metadata": {},
   "outputs": [
    {
     "data": {
      "text/html": [
       "<div>\n",
       "<style scoped>\n",
       "    .dataframe tbody tr th:only-of-type {\n",
       "        vertical-align: middle;\n",
       "    }\n",
       "\n",
       "    .dataframe tbody tr th {\n",
       "        vertical-align: top;\n",
       "    }\n",
       "\n",
       "    .dataframe thead th {\n",
       "        text-align: right;\n",
       "    }\n",
       "</style>\n",
       "<table border=\"1\" class=\"dataframe\">\n",
       "  <thead>\n",
       "    <tr style=\"text-align: right;\">\n",
       "      <th></th>\n",
       "      <th>device_id</th>\n",
       "      <th>ratio</th>\n",
       "    </tr>\n",
       "    <tr>\n",
       "      <th>group</th>\n",
       "      <th></th>\n",
       "      <th></th>\n",
       "    </tr>\n",
       "  </thead>\n",
       "  <tbody>\n",
       "    <tr>\n",
       "      <th>246</th>\n",
       "      <td>2484.0</td>\n",
       "      <td>0.98</td>\n",
       "    </tr>\n",
       "    <tr>\n",
       "      <th>247</th>\n",
       "      <td>2513.0</td>\n",
       "      <td>0.99</td>\n",
       "    </tr>\n",
       "    <tr>\n",
       "      <th>248</th>\n",
       "      <td>2537.0</td>\n",
       "      <td>1.00</td>\n",
       "    </tr>\n",
       "    <tr>\n",
       "      <th>246+247</th>\n",
       "      <td>4997.0</td>\n",
       "      <td>NaN</td>\n",
       "    </tr>\n",
       "  </tbody>\n",
       "</table>\n",
       "</div>"
      ],
      "text/plain": [
       "         device_id  ratio\n",
       "group                    \n",
       "246         2484.0   0.98\n",
       "247         2513.0   0.99\n",
       "248         2537.0   1.00\n",
       "246+247     4997.0    NaN"
      ]
     },
     "execution_count": 60,
     "metadata": {},
     "output_type": "execute_result"
    }
   ],
   "source": [
    "users_grouped"
   ]
  },
  {
   "cell_type": "markdown",
   "metadata": {},
   "source": [
    "За нулевую гипотезу H0 примем:\n",
    "- Доли пользователей групп, совершивших событие, равны\n",
    "\n",
    "Соответственно, альтернативная гипотеза H1:\n",
    "- Доли пользователей групп, совершивших событие, различаются"
   ]
  },
  {
   "cell_type": "markdown",
   "metadata": {},
   "source": [
    "---\n",
    "\n",
    "<div class=\"alert alert-block alert-success\">\n",
    "    \n",
    "\n",
    "### Комментарий от ревьюера\n",
    "\n",
    "Обязательно формулируем нулевую и альтерантивную гипотезы! Верно!\n",
    "    \n",
    "Функция для z-критерия - лучший вариант решения(но есть и другие ;)).\n",
    "    \n",
    "</div>\n",
    "\n",
    "---"
   ]
  },
  {
   "cell_type": "markdown",
   "metadata": {},
   "source": [
    "---\n",
    "\n",
    "<div class=\"alert alert-block alert-info\">\n",
    "    \n",
    "\n",
    "### Комментарий от студента\n",
    "\n",
    "Изначально я хотел использовать ANOVA для этого теста, но с его помощью нельзя определить между каким из групп будет статистически значимое различие, поэтому отказался от этого. Ну, это вообще, если все правильно понял)\n",
    "    \n",
    "</div>\n",
    "\n",
    "---"
   ]
  },
  {
   "cell_type": "markdown",
   "metadata": {},
   "source": [
    "---\n",
    "\n",
    "<div class=\"alert alert-block alert-success\">\n",
    "    \n",
    "\n",
    "### Комментарий от ревьюера v.2\n",
    "\n",
    "Используй принцип: от простого к сложному. Так сэкономишь время. Можешь поискать пакеты для z-статистики.\n",
    "   \n",
    "    \n",
    "</div>\n",
    "\n",
    "---"
   ]
  },
  {
   "cell_type": "markdown",
   "metadata": {},
   "source": [
    "Для коррекции результатов теста используем метод Шидака:"
   ]
  },
  {
   "cell_type": "code",
   "execution_count": 61,
   "metadata": {
    "ExecuteTime": {
     "end_time": "2020-11-01T05:42:09.920558Z",
     "start_time": "2020-11-01T05:42:09.914002Z"
    }
   },
   "outputs": [
    {
     "data": {
      "text/plain": [
       "0.013"
      ]
     },
     "execution_count": 61,
     "metadata": {},
     "output_type": "execute_result"
    }
   ],
   "source": [
    "pair_number = len(funels_grouped.index)\n",
    "alpha_shd = round(1 - (1 - 0.05)**(1/pair_number), 3)\n",
    "alpha_shd"
   ]
  },
  {
   "cell_type": "code",
   "execution_count": 62,
   "metadata": {
    "ExecuteTime": {
     "end_time": "2020-11-01T05:42:09.911762Z",
     "start_time": "2020-11-01T05:42:09.894893Z"
    },
    "scrolled": true
   },
   "outputs": [
    {
     "name": "stdout",
     "output_type": "stream",
     "text": [
      "Проверка групп 246 и 247, событие: MainScreenAppear, p-value: 0.76\n",
      "\u001b[31mНе получилось отвергнуть нулевую гипотезу, нет оснований считать доли различающимися\u001b[0m\n",
      "\n",
      "Проверка групп 246 и 247, событие: OffersScreenAppear, p-value: 0.25\n",
      "\u001b[31mНе получилось отвергнуть нулевую гипотезу, нет оснований считать доли различающимися\u001b[0m\n",
      "\n",
      "Проверка групп 246 и 247, событие: CartScreenAppear, p-value: 0.23\n",
      "\u001b[31mНе получилось отвергнуть нулевую гипотезу, нет оснований считать доли различающимися\u001b[0m\n",
      "\n",
      "Проверка групп 246 и 247, событие: PaymentScreenSuccessful, p-value: 0.11\n",
      "\u001b[31mНе получилось отвергнуть нулевую гипотезу, нет оснований считать доли различающимися\u001b[0m\n",
      "\n"
     ]
    }
   ],
   "source": [
    "n_tests = 0\n",
    "for event in funels_grouped.index:\n",
    "    z(246, 247, event, alpha_shd)\n",
    "    n_tests += 1\n",
    "    "
   ]
  },
  {
   "cell_type": "markdown",
   "metadata": {},
   "source": [
    "---\n",
    "\n",
    "<div class=\"alert alert-block alert-danger\">\n",
    "    \n",
    "\n",
    "### Комментарий от ревьюера\n",
    "\n",
    "Тут нужна поправка для множественных сравнений.\n",
    "    \n",
    "</div>\n",
    "    \n",
    "---"
   ]
  },
  {
   "cell_type": "markdown",
   "metadata": {},
   "source": [
    "---\n",
    "\n",
    "<div class=\"alert alert-block alert-info\">\n",
    "    \n",
    "\n",
    "### Комментарий от студента\n",
    "\n",
    "Добавил.\n",
    "    \n",
    "</div>\n",
    "    \n",
    "---"
   ]
  },
  {
   "cell_type": "markdown",
   "metadata": {},
   "source": [
    "---\n",
    "\n",
    "<div class=\"alert alert-block alert-success\">\n",
    "    \n",
    "\n",
    "### Комментарий от ревьюера v.2\n",
    "\n",
    "Отлично!)\n",
    "    \n",
    "</div>\n",
    "\n",
    "---"
   ]
  },
  {
   "cell_type": "markdown",
   "metadata": {},
   "source": [
    "#### Аналогично поступите с группой с изменённым шрифтом. Сравните результаты с каждой из контрольных групп в отдельности по каждому событию. Сравните результаты с объединённой контрольной группой. Какие выводы из эксперимента можно сделать? <a id='step5.3'></a>"
   ]
  },
  {
   "cell_type": "markdown",
   "metadata": {},
   "source": [
    "Для коррекции результатов теста используем метод Шидака:"
   ]
  },
  {
   "cell_type": "code",
   "execution_count": 63,
   "metadata": {
    "ExecuteTime": {
     "end_time": "2020-11-01T05:42:09.920558Z",
     "start_time": "2020-11-01T05:42:09.914002Z"
    }
   },
   "outputs": [
    {
     "data": {
      "text/plain": [
       "0.006"
      ]
     },
     "execution_count": 63,
     "metadata": {},
     "output_type": "execute_result"
    }
   ],
   "source": [
    "pair_number_1 = (len(funels_grouped.columns) - 2) * len(funels_grouped.index)\n",
    "alpha_shd_1 = round(1 - (1 - 0.05)**(1/pair_number_1), 3)\n",
    "alpha_shd_1"
   ]
  },
  {
   "cell_type": "markdown",
   "metadata": {},
   "source": [
    "---\n",
    "\n",
    "<div class=\"alert alert-block alert-success\">\n",
    "    \n",
    "\n",
    "### Комментарий от ревьюера\n",
    "Молодец, что используешь поправку для множественных сравнений!\n",
    "    \n",
    "</div>\n",
    "\n",
    "---"
   ]
  },
  {
   "cell_type": "markdown",
   "metadata": {},
   "source": [
    "Проведем множественную проверку гипотез для экспериментальной и контрольных групп.\n",
    "\n",
    "За нулевую гипотезу H0 примем:\n",
    "- Доли пользователей групп, совершивших событие, равны\n",
    "\n",
    "Соответственно, альтернативная гипотеза H1:\n",
    "- Доли пользователей групп, совершивших событие, различаются"
   ]
  },
  {
   "cell_type": "code",
   "execution_count": 64,
   "metadata": {
    "ExecuteTime": {
     "end_time": "2020-11-01T05:42:09.952799Z",
     "start_time": "2020-11-01T05:42:09.922953Z"
    },
    "scrolled": false
   },
   "outputs": [
    {
     "name": "stdout",
     "output_type": "stream",
     "text": [
      "Проверка групп 248 и 246, событие: MainScreenAppear, p-value: 0.29\n",
      "\u001b[31mНе получилось отвергнуть нулевую гипотезу, нет оснований считать доли различающимися\u001b[0m\n",
      "\n",
      "\n",
      "Проверка групп 248 и 247, событие: MainScreenAppear, p-value: 0.46\n",
      "\u001b[31mНе получилось отвергнуть нулевую гипотезу, нет оснований считать доли различающимися\u001b[0m\n",
      "\n",
      "\n",
      "Проверка групп 248 и 246, событие: OffersScreenAppear, p-value: 0.21\n",
      "\u001b[31mНе получилось отвергнуть нулевую гипотезу, нет оснований считать доли различающимися\u001b[0m\n",
      "\n",
      "\n",
      "Проверка групп 248 и 247, событие: OffersScreenAppear, p-value: 0.92\n",
      "\u001b[31mНе получилось отвергнуть нулевую гипотезу, нет оснований считать доли различающимися\u001b[0m\n",
      "\n",
      "\n",
      "Проверка групп 248 и 246, событие: CartScreenAppear, p-value: 0.08\n",
      "\u001b[31mНе получилось отвергнуть нулевую гипотезу, нет оснований считать доли различающимися\u001b[0m\n",
      "\n",
      "\n",
      "Проверка групп 248 и 247, событие: CartScreenAppear, p-value: 0.58\n",
      "\u001b[31mНе получилось отвергнуть нулевую гипотезу, нет оснований считать доли различающимися\u001b[0m\n",
      "\n",
      "\n",
      "Проверка групп 248 и 246, событие: PaymentScreenSuccessful, p-value: 0.21\n",
      "\u001b[31mНе получилось отвергнуть нулевую гипотезу, нет оснований считать доли различающимися\u001b[0m\n",
      "\n",
      "\n",
      "Проверка групп 248 и 247, событие: PaymentScreenSuccessful, p-value: 0.74\n",
      "\u001b[31mНе получилось отвергнуть нулевую гипотезу, нет оснований считать доли различающимися\u001b[0m\n",
      "\n",
      "\n"
     ]
    }
   ],
   "source": [
    "n1_tests = 0\n",
    "for event in funels_grouped.index:\n",
    "    for group in funels_grouped.columns:\n",
    "        if group != 248 and group != '246+247':\n",
    "            z(248, group, event, alpha_shd_1)\n",
    "            n1_tests += 1\n",
    "            print()"
   ]
  },
  {
   "cell_type": "markdown",
   "metadata": {},
   "source": [
    "Теперь проведем тест для экспериментальной и объединенной контрольной группы, вычислим статистическую значимость с учетом поправки:"
   ]
  },
  {
   "cell_type": "code",
   "execution_count": 65,
   "metadata": {},
   "outputs": [
    {
     "data": {
      "text/plain": [
       "0.013"
      ]
     },
     "execution_count": 65,
     "metadata": {},
     "output_type": "execute_result"
    }
   ],
   "source": [
    "pair_number_2 = len(funels_grouped.index)\n",
    "alpha_shd_2 = round(1 - (1 - 0.05)**(1/pair_number_2), 3)\n",
    "alpha_shd_2"
   ]
  },
  {
   "cell_type": "markdown",
   "metadata": {},
   "source": [
    "Проведем тест:"
   ]
  },
  {
   "cell_type": "code",
   "execution_count": 66,
   "metadata": {},
   "outputs": [
    {
     "name": "stdout",
     "output_type": "stream",
     "text": [
      "Проверка групп 248 и 246+247, событие: MainScreenAppear, p-value: 0.29\n",
      "\u001b[31mНе получилось отвергнуть нулевую гипотезу, нет оснований считать доли различающимися\u001b[0m\n",
      "\n",
      "\n",
      "Проверка групп 248 и 246+247, событие: OffersScreenAppear, p-value: 0.43\n",
      "\u001b[31mНе получилось отвергнуть нулевую гипотезу, нет оснований считать доли различающимися\u001b[0m\n",
      "\n",
      "\n",
      "Проверка групп 248 и 246+247, событие: CartScreenAppear, p-value: 0.18\n",
      "\u001b[31mНе получилось отвергнуть нулевую гипотезу, нет оснований считать доли различающимися\u001b[0m\n",
      "\n",
      "\n",
      "Проверка групп 248 и 246+247, событие: PaymentScreenSuccessful, p-value: 0.60\n",
      "\u001b[31mНе получилось отвергнуть нулевую гипотезу, нет оснований считать доли различающимися\u001b[0m\n",
      "\n",
      "\n"
     ]
    }
   ],
   "source": [
    "n2_tests = 0\n",
    "for event in funels_grouped.index:\n",
    "    z(248, '246+247', event, alpha_shd_2)\n",
    "    n2_tests += 1\n",
    "    print()"
   ]
  },
  {
   "cell_type": "markdown",
   "metadata": {},
   "source": [
    "---\n",
    "\n",
    "<div class=\"alert alert-block alert-danger\">\n",
    "    \n",
    "\n",
    "### Комментарий от ревьюера\n",
    "\n",
    "Сравнение объединенной группы с 248 надо проводить отдельно, так как в этом случае возможно расчитать корректную поправку для множественных сравнений (сейчас ты несколько раз учитывашь одни и те же данные в раздельных и объединенной группах).\n",
    "\n",
    "- Рассчитай поправку для сравнения отдельных групп и проведи сравнение.\n",
    "- Рассчитай поправку для сравнения объединенной группы и проведи сравнение.\n",
    "\n",
    "</div>\n",
    "\n",
    "---"
   ]
  },
  {
   "cell_type": "markdown",
   "metadata": {},
   "source": [
    "Полученные p-value по всем тестам выше принятого уровня значимости. В принципе, даже по сводной таблице групп и пользователей по событиям, это было наглядно видно.\n",
    "\n",
    "По итогам тестирования, сделаем вывод, что предложенные изменения (внедрение новых шрифтов) можно признать нецелесообразными и не приносящими ожидаемый результат."
   ]
  },
  {
   "cell_type": "markdown",
   "metadata": {},
   "source": [
    "#### Какой уровень значимости вы выбрали при проверке статистических гипотез выше? Посчитайте, сколько проверок статистических гипотез вы сделали <a id='step5.4'></a>"
   ]
  },
  {
   "cell_type": "markdown",
   "metadata": {},
   "source": [
    "Изначально уровень значимости был принят за наиболее часто используемый (0.05). При проведении множественного сравнения гипотез на предыдущем шаге была использован метод Шидака, изменивший уровень значимости и вероятность появления ошибки 1го рода.\n",
    "\n",
    "Кол-во проведенных тестов было записано в переменные n_tests:"
   ]
  },
  {
   "cell_type": "code",
   "execution_count": 67,
   "metadata": {
    "ExecuteTime": {
     "end_time": "2020-11-01T05:42:09.959759Z",
     "start_time": "2020-11-01T05:42:09.955316Z"
    }
   },
   "outputs": [
    {
     "name": "stdout",
     "output_type": "stream",
     "text": [
      "Кол-во А/А тестов: 4\n",
      "Кол-во А/В тестов экспериментальной и констрольных групп: 8\n",
      "Кол-во А/В тестов экспериментальной и объединенной групп: 4\n",
      "Общее кол-во проведенных тестов: 16\n"
     ]
    }
   ],
   "source": [
    "print('Кол-во А/А тестов: {}' .format(n_tests))\n",
    "print('Кол-во А/В тестов экспериментальной и констрольных групп: {}' .format(n1_tests))\n",
    "print('Кол-во А/В тестов экспериментальной и объединенной групп: {}' .format(n2_tests))\n",
    "print('Общее кол-во проведенных тестов: {}' .format(n_tests + n1_tests + n2_tests))"
   ]
  },
  {
   "cell_type": "markdown",
   "metadata": {},
   "source": [
    "Дополнительно проведем тест сравнения отдельных групп с уровнем значимости равным 0.1:\n",
    "\n",
    "Проведем множественную проверку гипотез для экспериментальной и контрольных групп.\n",
    "\n",
    "За нулевую гипотезу H0 примем:\n",
    "- Доли пользователей групп, совершивших событие, равны\n",
    "\n",
    "Соответственно, альтернативная гипотеза H1:\n",
    "- Доли пользователей групп, совершивших событие, различаются"
   ]
  },
  {
   "cell_type": "code",
   "execution_count": 68,
   "metadata": {
    "ExecuteTime": {
     "end_time": "2020-11-01T05:42:09.952799Z",
     "start_time": "2020-11-01T05:42:09.922953Z"
    },
    "scrolled": false
   },
   "outputs": [
    {
     "name": "stdout",
     "output_type": "stream",
     "text": [
      "Проверка групп 248 и 246, событие: MainScreenAppear, p-value: 0.29\n",
      "\u001b[31mНе получилось отвергнуть нулевую гипотезу, нет оснований считать доли различающимися\u001b[0m\n",
      "\n",
      "\n",
      "Проверка групп 248 и 247, событие: MainScreenAppear, p-value: 0.46\n",
      "\u001b[31mНе получилось отвергнуть нулевую гипотезу, нет оснований считать доли различающимися\u001b[0m\n",
      "\n",
      "\n",
      "Проверка групп 248 и 246, событие: OffersScreenAppear, p-value: 0.21\n",
      "\u001b[31mНе получилось отвергнуть нулевую гипотезу, нет оснований считать доли различающимися\u001b[0m\n",
      "\n",
      "\n",
      "Проверка групп 248 и 247, событие: OffersScreenAppear, p-value: 0.92\n",
      "\u001b[31mНе получилось отвергнуть нулевую гипотезу, нет оснований считать доли различающимися\u001b[0m\n",
      "\n",
      "\n",
      "Проверка групп 248 и 246, событие: CartScreenAppear, p-value: 0.08\n",
      "\u001b[32mОтвергаем нулевую гипотезу, есть основания считать доли различающимися\u001b[0m\n",
      "\n",
      "\n",
      "Проверка групп 248 и 247, событие: CartScreenAppear, p-value: 0.58\n",
      "\u001b[31mНе получилось отвергнуть нулевую гипотезу, нет оснований считать доли различающимися\u001b[0m\n",
      "\n",
      "\n",
      "Проверка групп 248 и 246, событие: PaymentScreenSuccessful, p-value: 0.21\n",
      "\u001b[31mНе получилось отвергнуть нулевую гипотезу, нет оснований считать доли различающимися\u001b[0m\n",
      "\n",
      "\n",
      "Проверка групп 248 и 247, событие: PaymentScreenSuccessful, p-value: 0.74\n",
      "\u001b[31mНе получилось отвергнуть нулевую гипотезу, нет оснований считать доли различающимися\u001b[0m\n",
      "\n",
      "\n"
     ]
    }
   ],
   "source": [
    "for event in funels_grouped.index:\n",
    "    for group in funels_grouped.columns:\n",
    "        if group != 248 and group != '246+247':\n",
    "            z(248, group, event, 0.1)\n",
    "            print()"
   ]
  },
  {
   "cell_type": "markdown",
   "metadata": {},
   "source": [
    "В данном тесте мы получили статистические значимые различия в проверке групп 248 и 246, т.к. тест двухсторонний, проверим в какую сторону они возможны:"
   ]
  },
  {
   "cell_type": "code",
   "execution_count": 69,
   "metadata": {},
   "outputs": [
    {
     "data": {
      "text/plain": [
       "0.5096618357487923"
      ]
     },
     "metadata": {},
     "output_type": "display_data"
    },
    {
     "data": {
      "text/plain": [
       "0.48482459597950334"
      ]
     },
     "metadata": {},
     "output_type": "display_data"
    }
   ],
   "source": [
    "display(funels_grouped.loc['CartScreenAppear', 246] / users_grouped.loc[246, 'device_id'] )\n",
    "display(funels_grouped.loc['CartScreenAppear', 248] / users_grouped.loc[248, 'device_id'])"
   ]
  },
  {
   "cell_type": "markdown",
   "metadata": {},
   "source": [
    "Вероятность получения ошибки первого рода составляет:"
   ]
  },
  {
   "cell_type": "code",
   "execution_count": 70,
   "metadata": {},
   "outputs": [
    {
     "name": "stdout",
     "output_type": "stream",
     "text": [
      "Вероятность ошибки первого рода: 57.0 %\n"
     ]
    }
   ],
   "source": [
    "print('Вероятность ошибки первого рода:', round((1 - (1 - 0.1)**8)*100, 1), '%')"
   ]
  },
  {
   "cell_type": "markdown",
   "metadata": {},
   "source": [
    "Вероятность ошибки слишком высока, чтобы применять данный тест со столько высоким уровнем статистической значимости и без поправок. <br>\n",
    "Кроме того, расчеты показывают, что внедрение новых шрифтов даже уменьшило процент пользователей, совершивших данное событие. Предложенные изменения можно признать нецелесообразными."
   ]
  },
  {
   "cell_type": "markdown",
   "metadata": {},
   "source": [
    "---\n",
    "\n",
    "<div class=\"alert alert-block alert-danger\">\n",
    "    \n",
    "\n",
    "### Комментарий от ревьюера\n",
    "\n",
    "По условию задачи необходимо провести множественные сравнения с уровнем значимости 0.1 и сравнить предыдущими результатами. Что можно сказать о различиях в результатах с разным уровнем значимости? \n",
    "Ответ на этот вопрос важен для понимания ошибок 1-го и 2-го рода.\n",
    "    \n",
    "</div>\n",
    "    \n",
    "---\n"
   ]
  },
  {
   "cell_type": "markdown",
   "metadata": {},
   "source": [
    "---\n",
    "\n",
    "<div class=\"alert alert-block alert-info\">\n",
    "    \n",
    "\n",
    "### Комментарий от студента\n",
    "\n",
    "Я провел тест, но разве есть смысл проводить тест с более высоким уровнем значимости, если мы не получили статистически значимых различий при alpha = 0.05? Мы бы получили различия в одном тесте, если не использовать поправку на множественные сравнения, но при использовании поправки результаты не изменятся. Поэтому тест провел без поправки.\n",
    "    \n",
    "</div>\n",
    "    \n",
    "---\n"
   ]
  },
  {
   "cell_type": "markdown",
   "metadata": {},
   "source": [
    "---\n",
    "\n",
    "<div class=\"alert alert-block alert-success\">\n",
    "    \n",
    "\n",
    "### Комментарий от ревьюера v.2\n",
    "Выбор более высокого уровня значимости необходим  для того, чтобы визуализировать ошибку первого рода в этом задании. Здесь поправка не нужна.\n",
    "    \n",
    "</div>\n",
    "\n",
    "---"
   ]
  },
  {
   "cell_type": "markdown",
   "metadata": {},
   "source": [
    "---\n",
    "\n",
    "<div class=\"alert alert-block alert-warning\">\n",
    "    \n",
    "\n",
    "### Комментарий от ревьюера\n",
    "\n",
    "\n",
    "Функция print() может гораздо больше. Например, раскрашивать разными цветами текст в зависимости от результатов тестирования.\n",
    "    \n",
    "Об этом ты можешь прочитать [здесь](https://pythonchik.ru/osnovy/funkciya-print).\n",
    "    \n",
    "\n",
    "</div>\n",
    "\n",
    "---"
   ]
  },
  {
   "cell_type": "markdown",
   "metadata": {},
   "source": [
    "### Вывод\n",
    "\n",
    "Были проведены проверки гипотез о равенстве долей на различных шагах (событиях) оформления покупки в мобильном приложении нашего магазина для разных групп (контрольных и экспериментальной). <br>\n",
    "Сначала было проведено сравнение численности этих групп, различия не превысили 1%, что допустимо.\n",
    "\n",
    "Были проведены z-тесты. Группы А1 и А2 не показали значимых различий. Можно быть достаточно уверенными в точности проведенного тестирования.\n",
    "Проведенные тестирования А1/B, А2/B и (A1+A2)/B не показали статистически значимой разницы между группами пользователей. Для множественного сравнения была использована поправка по Методу Шидака.\n",
    "\n",
    "Дополнительно проведены тесты сравнения отдельных групп с уровнем значимости равным 0.1 и без применения корректировки уровня значимости. Вероятность ошибки первого рода в таком случае составляет высокие 57%. Были получены статистически значимые различия в долях групп, при этом пропорции этих групп изменились в меньшую сторону, что не позволяет признать результат эксперимента успешным. \n",
    "\n",
    "По итогам тестирования, сделаем вывод, что предложенные изменения (внедрение новых шрифтов) можно признать нецелесообразными и не приносящими ожидаемый результат."
   ]
  },
  {
   "cell_type": "markdown",
   "metadata": {},
   "source": [
    "---\n",
    "\n",
    "<div class=\"alert alert-block alert-danger\">\n",
    "    \n",
    "\n",
    "### Комментарий от ревьюера v.1\n",
    "\n",
    "Отмечаю твою работу в лучшую сторону, но есть моменты, которые необходимо исправить:\n",
    "    \n",
    "- Используй head, tail или simple  для вывода части таблицы.\n",
    "- Удали вывод дубликатов, оставив только число.\n",
    "- Рассчитай поправку для множественных сравнений для A/A теста.\n",
    "- Рассчитай поправку для сравнения отдельных групп и проведи сравнение.\n",
    "- Рассчитай поправку для сравнения объединенной группы и проведи сравнение.\n",
    "- Проведи сравнения отдельных групп при уровне значимости 0.1. Что можно сказать о причинах различия результатов при разных уровнях значимости?\n",
    "- Дополни итоговые выводы.\n",
    "    \n",
    "    \n",
    "Ожидаю твою работу с исправлениями.\n",
    "  \n",
    "    \n",
    "</div>\n",
    "    \n",
    "---"
   ]
  },
  {
   "cell_type": "markdown",
   "metadata": {},
   "source": [
    "---\n",
    "\n",
    "<div class=\"alert alert-block alert-success\">\n",
    "    \n",
    "\n",
    "\n",
    "### Комментарий от ревьюера v.2\n",
    "\n",
    "Молодец, что полностью проработал мои комментарии!\n",
    "    \n",
    "- Используй head, tail или simple  для вывода части таблицы - *выполнено!*\n",
    "- Удали вывод дубликатов, оставив только число - *выполнено!*\n",
    "- Рассчитай поправку для множественных сравнений для A/A теста - *выполнено!*\n",
    "- Рассчитай поправку для сравнения отдельных групп и проведи сравнение - *выполнено!*\n",
    "- Рассчитай поправку для сравнения объединенной группы и проведи сравнение - *выполнено!*\n",
    "- Проведи сравнения отдельных групп при уровне значимости 0.1. Что можно сказать о причинах различия результатов при разных уровнях значимости? - *выполнено!*\n",
    "- Дополни итоговые выводы - *выполнено!*\n",
    "    \n",
    "    \n",
    "### Проект принят!\n",
    "    \n",
    "</div>\n",
    "\n",
    "---"
   ]
  },
  {
   "cell_type": "code",
   "execution_count": null,
   "metadata": {},
   "outputs": [],
   "source": []
  }
 ],
 "metadata": {
  "kernelspec": {
   "display_name": "Python 3",
   "language": "python",
   "name": "python3"
  },
  "language_info": {
   "codemirror_mode": {
    "name": "ipython",
    "version": 3
   },
   "file_extension": ".py",
   "mimetype": "text/x-python",
   "name": "python",
   "nbconvert_exporter": "python",
   "pygments_lexer": "ipython3",
   "version": "3.7.6"
  }
 },
 "nbformat": 4,
 "nbformat_minor": 2
}
